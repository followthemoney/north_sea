{
 "cells": [
  {
   "cell_type": "code",
   "execution_count": 76,
   "id": "356120c5-70b6-4258-b232-4e86b88076d8",
   "metadata": {
    "tags": []
   },
   "outputs": [
    {
     "name": "stdout",
     "output_type": "stream",
     "text": [
      "The autoreload extension is already loaded. To reload it, use:\n",
      "  %reload_ext autoreload\n"
     ]
    }
   ],
   "source": [
    "import geopandas as gpd\n",
    "import pandas as pd\n",
    "import numpy as np\n",
    "\n",
    "import src.infrastructure as infra\n",
    "from src.companies import get_licence_and_company\n",
    "from src.geo_utils import write_to_geojson\n",
    "\n",
    "# Turn on autoload for debugging\n",
    "%load_ext autoreload\n",
    "%autoreload 2"
   ]
  },
  {
   "cell_type": "markdown",
   "id": "b015bd97-1c3f-4e2f-9b42-a0d6cfedaf66",
   "metadata": {},
   "source": [
    "The goal of this notebook is to create a cleaned dataset with oil and gas platforms and their infraatructure. The output should be several geojson files for use in Flourish or other visualization tools, although you could also use the visualisation capabilities of geopandas or fiona, holoview or some other module to visualise the data in this notebook. This modules are included in this docker image.\n",
    "\n",
    "For platforms there multiple datasets:\n",
    "1. EMODnet - contains all platforms, alsow wit decommissioned ones, but is not fully up to date. \n",
    "2. National datasets, that have a very different structure, but has been normalised by me earlier, except for wellbores. This dataset is the most current one.\n",
    "\n",
    "Data should be current up to 2023-03-01.\n",
    "\n",
    "Some warnings:\n",
    "- Altough the data is from official sources, it's quite messy and the datasets contain different kinds of data. Some normalization was necessary so I had to make some choices. These choices are made explicit in the code.\n",
    "- The company data (operators, licence holders) have been normalized as well, where different sources were used, like the national gas and oil agencies, but also manually linking daughter and parent companies, using company registries and news articles. That process might lead to some errors, so if you use this data, you might need to check, for instance at [Mapstand](https://app.mapstand.com/). Up until now, I haven't found any mismatches with the data from Mapstand (we largely use the same sources), but just be careful. "
   ]
  },
  {
   "cell_type": "markdown",
   "id": "657ce871-682a-441e-b4ce-3466a4a59bb1",
   "metadata": {},
   "source": [
    "## Overviews\n",
    "\n",
    "We probably need some overviews of infrastructure, like all platforms, pipelines, structures, cables, etc. If you want to import just one of more countries, change 'all' to an iso-2-alpha country code (list, so comma separated)."
   ]
  },
  {
   "cell_type": "code",
   "execution_count": 37,
   "id": "c2e6acac-3337-44f1-8e24-269ce48259ed",
   "metadata": {
    "tags": []
   },
   "outputs": [
    {
     "name": "stdout",
     "output_type": "stream",
     "text": [
      "Imported 746 rows from no: no_facility\n",
      "Imported 252 rows from nl: nl_facility\n",
      "Imported 23337 rows from uk: uk_infrastructure_points\n",
      "Imported 0 rows from be: int_platforms\n",
      "Imported 67 rows from dk: int_platforms\n",
      "Imported 2 rows from de: int_platforms\n"
     ]
    }
   ],
   "source": [
    "platforms = infra.get_platforms(['all'], eez=True, only_platforms=False)"
   ]
  },
  {
   "cell_type": "code",
   "execution_count": 3,
   "id": "7b62eddc-5979-4eab-8555-94edd91258c8",
   "metadata": {
    "tags": []
   },
   "outputs": [
    {
     "data": {
      "text/plain": [
       "23499"
      ]
     },
     "execution_count": 3,
     "metadata": {},
     "output_type": "execute_result"
    }
   ],
   "source": [
    "infrastructure = platforms[platforms.type_normalised != 'Platform'].copy()\n",
    "len(infrastructure)"
   ]
  },
  {
   "cell_type": "code",
   "execution_count": 4,
   "id": "aa750cd1-fbdd-44db-a715-fb8ff61bf823",
   "metadata": {
    "tags": []
   },
   "outputs": [
    {
     "data": {
      "text/plain": [
       "701"
      ]
     },
     "execution_count": 4,
     "metadata": {},
     "output_type": "execute_result"
    }
   ],
   "source": [
    "platforms = platforms[platforms.type_normalised == 'Platform'].drop_duplicates(subset='infra_name').copy()\n",
    "len(platforms)"
   ]
  },
  {
   "cell_type": "code",
   "execution_count": 6,
   "id": "e3afbb99-0828-4b38-97b9-cf4076aa8b43",
   "metadata": {
    "tags": []
   },
   "outputs": [
    {
     "name": "stdout",
     "output_type": "stream",
     "text": [
      "Imported 64 rows from no: no_pipeline_thin\n",
      "Imported 492 rows from nl: nl_pipelines\n",
      "Imported 3368 rows from uk: uk_pipelines_linear\n",
      "Imported 0 rows from be: int_pipelines\n",
      "Imported 1 rows from dk: int_pipelines\n",
      "Imported 0 rows from de: int_pipelines\n"
     ]
    }
   ],
   "source": [
    "pipes = infra.get_pipelines(['all'], eez=True)"
   ]
  },
  {
   "cell_type": "code",
   "execution_count": 7,
   "id": "80f1dbb6-5ba0-456c-a724-8f3664397417",
   "metadata": {
    "tags": []
   },
   "outputs": [
    {
     "name": "stdout",
     "output_type": "stream",
     "text": [
      "Imported 8840 rows from no: no_wellbore\n",
      "Imported 2381 rows from nl: nl_wellbores\n",
      "Imported 16188 rows from uk: uk_wells\n",
      "Imported 0 rows from be: int_wellbores\n",
      "Imported 706 rows from dk: int_wellbores\n",
      "Imported 248 rows from de: int_wellbores\n"
     ]
    }
   ],
   "source": [
    "wellbores = infra.get_wellbores(['all'], eez=True)"
   ]
  },
  {
   "cell_type": "code",
   "execution_count": 8,
   "id": "f2b40f93-dd1e-473a-ac50-6ce14b0641ac",
   "metadata": {
    "tags": []
   },
   "outputs": [],
   "source": [
    "# Geopandas doesn't like datetimes, so let's convert it to string.\n",
    "\n",
    "wellbores[['start_date', 'end_date']] = wellbores[['start_date', 'end_date']].astype(str)"
   ]
  },
  {
   "cell_type": "markdown",
   "id": "5ba2164c-d41b-4642-82b0-e6ac531353ac",
   "metadata": {},
   "source": [
    "### Add ownership data from licences"
   ]
  },
  {
   "cell_type": "markdown",
   "id": "6de44cfc-ed1b-40a7-844a-994dc46f168a",
   "metadata": {},
   "source": [
    "All infrastructure are part of a licence area. It might be useful to see who owns the licence there. There are some caveats though:\n",
    "1. We don't in what measure licence holders are responsble for all infrastructure in their areas. Maybe there is (defunct) infrastructure for which other parties are responsible. \n",
    "2. This data doesn't contain share sizes of different companies holding a licence together. That data is available for the UK and Norway on their national portals, but not for the Netherlands. "
   ]
  },
  {
   "cell_type": "code",
   "execution_count": 40,
   "id": "68b8a1f0-30bd-46e7-a06e-6068084388a5",
   "metadata": {
    "tags": []
   },
   "outputs": [
    {
     "name": "stdout",
     "output_type": "stream",
     "text": [
      "Merged 24153, but could not merge 3855 because of missing company names\n"
     ]
    }
   ],
   "source": [
    "platforms_com = get_licence_and_company(platforms)"
   ]
  },
  {
   "cell_type": "code",
   "execution_count": 41,
   "id": "d758ed55-d0b2-4d1c-98cb-744cceb4e763",
   "metadata": {
    "tags": []
   },
   "outputs": [
    {
     "name": "stdout",
     "output_type": "stream",
     "text": [
      "Merged 23448, but could not merge 3700 because of missing company names\n"
     ]
    }
   ],
   "source": [
    "platform_infra_com = get_licence_and_company(infrastructure)"
   ]
  },
  {
   "cell_type": "code",
   "execution_count": 42,
   "id": "e39b840d-cb02-46c1-95e6-abc7adc4df74",
   "metadata": {
    "tags": []
   },
   "outputs": [
    {
     "name": "stdout",
     "output_type": "stream",
     "text": [
      "Merged 3604, but could not merge 398 because of missing company names\n"
     ]
    }
   ],
   "source": [
    "pipes_infra_com = get_licence_and_company(pipes)"
   ]
  },
  {
   "cell_type": "code",
   "execution_count": 43,
   "id": "04c43902-c728-4bb0-b937-923a8f5d4283",
   "metadata": {
    "tags": []
   },
   "outputs": [
    {
     "name": "stdout",
     "output_type": "stream",
     "text": [
      "Merged 24609, but could not merge 5716 because of missing company names\n"
     ]
    }
   ],
   "source": [
    "wellbores_infra_com = get_licence_and_company(wellbores)"
   ]
  },
  {
   "cell_type": "code",
   "execution_count": 18,
   "id": "6ab07d89-2c84-448d-9f8e-e1a0fa323ddf",
   "metadata": {
    "tags": []
   },
   "outputs": [],
   "source": [
    "# Write to csv file\n",
    "\n",
    "platforms.to_csv('../../data/infrastructure/csv/platforms_companies.csv', index=False)\n",
    "platform_infra.to_csv('../../data/infrastructure/csv/infra_companies.csv', index=False)\n",
    "pipes_infra.to_csv('../../data/infrastructure/csv/pipes_companies.csv', index=False)\n",
    "wellbores_infra.to_csv('../../data/infrastructure/csv/wellbores_companies.csv', index=False)"
   ]
  },
  {
   "cell_type": "markdown",
   "id": "df653e2f-0962-4932-9988-a7b20940b771",
   "metadata": {},
   "source": [
    "### Add radius to platforms"
   ]
  },
  {
   "cell_type": "markdown",
   "id": "c10240b7-5392-4131-9267-8ca339398441",
   "metadata": {},
   "source": [
    "For visualisation purposes we want to focus what is directly under or near platforms. So we need to create a radius around the platforms perform a spatial clip "
   ]
  },
  {
   "cell_type": "code",
   "execution_count": 44,
   "id": "67c835a4-9c3f-4075-8c5a-14d2b51d63f4",
   "metadata": {
    "tags": []
   },
   "outputs": [],
   "source": [
    "# Create radius geometry\n",
    "\n",
    "platforms['radius'] = platforms.geometry.buffer(500)\n",
    "\n",
    "# Write radius to file\n",
    "\n",
    "radius = platforms.drop('geometry', axis=1)\n",
    "radius = radius.set_geometry('radius')\n",
    "radius = radius.to_crs(4326)\n",
    "#radius[['owner_name_normalised', 'owner_name', 'owner_country']] = radius[['owner_name_normalised', 'owner_name', 'owner_country']].astype(str)\n",
    "#radius.to_file('../data/visuals/radius.geojson', driver='GeoJSON')"
   ]
  },
  {
   "cell_type": "markdown",
   "id": "04cedc6c-d6fb-4d23-b201-6d4eef42afcb",
   "metadata": {},
   "source": [
    "### Clip and write to file"
   ]
  },
  {
   "cell_type": "code",
   "execution_count": 45,
   "id": "e66f03ca-58d7-49c9-b00b-98f84fec4827",
   "metadata": {
    "tags": []
   },
   "outputs": [],
   "source": [
    "# Clip infrastructure and pipeline datasets\n",
    "\n",
    "platform_infra = gpd.clip(infrastructure, platforms['radius'])\n",
    "pipes_infra = gpd.clip(pipes, platforms['radius'])\n",
    "wellbores_infra = gpd.clip(wellbores, platforms['radius'])\n",
    "#infra_total_infra = gpd.clip(infra_total, platforms['radius'])"
   ]
  },
  {
   "cell_type": "code",
   "execution_count": 113,
   "id": "3439c652-d3c5-47b6-9cf9-defb1aaf30b1",
   "metadata": {
    "tags": []
   },
   "outputs": [],
   "source": [
    "# Write to geojson\n",
    "\n",
    "dfs = [platforms_com, platform_infra_com, pipes_infra_com, wellbores_infra_com]\n",
    "names = ['platforms', 'infrastructure', 'pipes', 'wellbores']\n",
    "\n",
    "for df, name in zip(dfs, names):\n",
    "    write_to_geojson(df, name)\n"
   ]
  }
 ],
 "metadata": {
  "kernelspec": {
   "display_name": "Python 3 (ipykernel)",
   "language": "python",
   "name": "python3"
  },
  "language_info": {
   "codemirror_mode": {
    "name": "ipython",
    "version": 3
   },
   "file_extension": ".py",
   "mimetype": "text/x-python",
   "name": "python",
   "nbconvert_exporter": "python",
   "pygments_lexer": "ipython3",
   "version": "3.10.10"
  }
 },
 "nbformat": 4,
 "nbformat_minor": 5
}
