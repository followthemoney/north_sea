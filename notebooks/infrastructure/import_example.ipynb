{
 "cells": [
  {
   "cell_type": "code",
   "execution_count": 2,
   "id": "63779c49-f61d-41ec-abf9-7b95e37ede77",
   "metadata": {
    "tags": []
   },
   "outputs": [],
   "source": [
    "# Turn on autoload for debugging\n",
    "%load_ext autoreload\n",
    "%autoreload 2"
   ]
  },
  {
   "cell_type": "code",
   "execution_count": 62,
   "id": "8f00ab03-2a0c-4cf1-a878-eff95b8e52c9",
   "metadata": {
    "tags": []
   },
   "outputs": [],
   "source": [
    "from dateutil.relativedelta import relativedelta\n",
    "import datetime\n",
    "from owslib.wfs import WebFeatureService\n",
    "import logging\n",
    "import geopandas as gpd\n",
    "import pandas as pd\n",
    "from dotenv import load_dotenv\n",
    "import os\n",
    "import glob\n",
    "import zipfile, io\n",
    "import fiona\n",
    "import json\n",
    "import requests\n",
    "\n",
    "from src.utils import check_countries\n",
    "import src.geo_utils as geo\n",
    "import src.data_import as imp"
   ]
  },
  {
   "cell_type": "code",
   "execution_count": 87,
   "id": "36bf427a-7e08-41cc-809a-511a2e5643a0",
   "metadata": {
    "tags": []
   },
   "outputs": [],
   "source": [
    "load_dotenv('/home/jovyan/work/.env')\n",
    "os.environ['PROJ_LIB'] = '/opt/conda/share/proj'\n",
    "PATH_RAW = '../../data/temp/'\n",
    "log = logging.getLogger(__name__)\n"
   ]
  },
  {
   "cell_type": "code",
   "execution_count": 84,
   "id": "d9f184d3-1e18-43f0-a8fc-64bdce6d6142",
   "metadata": {
    "tags": []
   },
   "outputs": [],
   "source": [
    "with open('../../config/sources.json') as f:\n",
    "    sources = json.load(f)"
   ]
  },
  {
   "cell_type": "code",
   "execution_count": 17,
   "id": "c861acee-8d97-4941-a864-0a4d8d64dff8",
   "metadata": {
    "tags": []
   },
   "outputs": [],
   "source": [
    "zipfiles = [file for file in sources if 'zip' in file.get('filetype')]"
   ]
  },
  {
   "cell_type": "code",
   "execution_count": 44,
   "id": "c99a6265-6f91-4de7-97af-595f73ccf171",
   "metadata": {
    "tags": []
   },
   "outputs": [],
   "source": [
    "def create_nl_zipfiles(zipfiles):\n",
    "    \n",
    "    today = datetime.date.today() - relativedelta(months=1) #(uncomment if current month hasn't been uploaded yet\n",
    "    year = today.year\n",
    "    month_name = today.strftime('%b').lower()\n",
    "    month_number = today.strftime('%m')\n",
    "    \n",
    "    nl_files = [file.get('url') for file in zipfiles if 'nl' in file.get('countries')]\n",
    "\n",
    "    nl_dict = dict()\n",
    "    # This is a bit of a hack. Would prefer to use f-strings\n",
    "    for name, file in zip(nl_names, nl_files):\n",
    "        file = file.replace('{year}', str(year)).replace('{month_number}', str(month_number)).replace('{month_name}', month_name)\n",
    "        update = {name:file}\n",
    "        nl_dict.update(update)\n",
    "    \n",
    "    return dict(nl_dict)"
   ]
  },
  {
   "cell_type": "code",
   "execution_count": 94,
   "id": "62af651a-d8b1-42bb-90c0-1ccd412c0404",
   "metadata": {
    "tags": []
   },
   "outputs": [],
   "source": [
    "def download_zipfiles(countries, zipfiles):\n",
    "    '''Downloads zipfiles\n",
    "    Parameters:\n",
    "    -----------\n",
    "    countries : list\n",
    "        List of countries'''\n",
    "    \n",
    "    for country in check_countries(countries):\n",
    "        log.info(f'working on {country}')\n",
    "        if country not in ['nl', 'uk', 'no']: # change this if zipfiles for other countries are available\n",
    "            raise ValueError(f'No zipfiles available for {country}, please use function download_wfs')\n",
    "        \n",
    "        elif country in ['uk', 'no']:\n",
    "            urls = [file.get('url') for file in zipfiles if country in file.get('countries')]\n",
    "\n",
    "        elif country in ['nl']:\n",
    "            urls = [value for value in create_nl_zipfiles(zipfiles).values()]\n",
    "            \n",
    "        path = f'{PATH_RAW}{country}/'\n",
    "\n",
    "        if not os.path.exists(path):\n",
    "            os.makedirs(path)\n",
    "\n",
    "        for url in urls:\n",
    "            r = requests.get(url)\n",
    "            z = zipfile.ZipFile(io.BytesIO(r.content))\n",
    "            z.extractall(path)\n",
    "        \n",
    "        # Write files to geopackage, this is not necessary per se, but makes life a little bit easier later on\n",
    "        if country in ['nl', 'uk']:\n",
    "            for file in glob.glob(f'{path}/*.shp'):\n",
    "                if country == 'uk':\n",
    "                    name = os.path.basename(file)[5:-9].lower()\n",
    "                elif country == 'nl':\n",
    "                    name = os.path.basename(file)[14:-8].lower()\n",
    "                \n",
    "                gdf = gpd.read_file(file)\n",
    "                gdf = gdf[~gdf.geometry.isna()]\n",
    "                \n",
    "                geo.gdf_to_geopackage(gdf, country, name, path)\n",
    "                log.info(f'wrote {country} to geopackage')\n",
    "        "
   ]
  },
  {
   "cell_type": "code",
   "execution_count": 95,
   "id": "360a2a97-4d3f-4776-862a-08922cc74d40",
   "metadata": {
    "tags": []
   },
   "outputs": [
    {
     "ename": "CPLE_AppDefinedError",
     "evalue": "b'failed to prepare SQL: SELECT \"fid\", ST_MinX(\"geom\"), ST_MaxX(\"geom\"), ST_MinY(\"geom\"), ST_MaxY(\"geom\") FROM \"offshore_fielddets_\" WHERE \"geom\" NOT NULL AND NOT ST_IsEmpty(\"geom\"): no such table: offshore_fielddets_'",
     "output_type": "error",
     "traceback": [
      "\u001b[0;31m---------------------------------------------------------------------------\u001b[0m",
      "\u001b[0;31mRuntimeError\u001b[0m                              Traceback (most recent call last)",
      "File \u001b[0;32m/opt/conda/lib/python3.10/site-packages/geopandas/io/file.py:568\u001b[0m, in \u001b[0;36m_to_file_fiona\u001b[0;34m(df, filename, driver, schema, crs, mode, **kwargs)\u001b[0m\n\u001b[1;32m    565\u001b[0m \u001b[38;5;28;01mwith\u001b[39;00m fiona\u001b[38;5;241m.\u001b[39mopen(\n\u001b[1;32m    566\u001b[0m     filename, mode\u001b[38;5;241m=\u001b[39mmode, driver\u001b[38;5;241m=\u001b[39mdriver, crs_wkt\u001b[38;5;241m=\u001b[39mcrs_wkt, schema\u001b[38;5;241m=\u001b[39mschema, \u001b[38;5;241m*\u001b[39m\u001b[38;5;241m*\u001b[39mkwargs\n\u001b[1;32m    567\u001b[0m ) \u001b[38;5;28;01mas\u001b[39;00m colxn:\n\u001b[0;32m--> 568\u001b[0m     \u001b[43mcolxn\u001b[49m\u001b[38;5;241;43m.\u001b[39;49m\u001b[43mwriterecords\u001b[49m\u001b[43m(\u001b[49m\u001b[43mdf\u001b[49m\u001b[38;5;241;43m.\u001b[39;49m\u001b[43miterfeatures\u001b[49m\u001b[43m(\u001b[49m\u001b[43m)\u001b[49m\u001b[43m)\u001b[49m\n",
      "File \u001b[0;32m/opt/conda/lib/python3.10/site-packages/fiona/collection.py:558\u001b[0m, in \u001b[0;36mCollection.writerecords\u001b[0;34m(self, records)\u001b[0m\n\u001b[1;32m    557\u001b[0m     \u001b[38;5;28;01mraise\u001b[39;00m \u001b[38;5;167;01mOSError\u001b[39;00m(\u001b[38;5;124m\"\u001b[39m\u001b[38;5;124mcollection not open for writing\u001b[39m\u001b[38;5;124m\"\u001b[39m)\n\u001b[0;32m--> 558\u001b[0m \u001b[38;5;28;43mself\u001b[39;49m\u001b[38;5;241;43m.\u001b[39;49m\u001b[43msession\u001b[49m\u001b[38;5;241;43m.\u001b[39;49m\u001b[43mwriterecs\u001b[49m\u001b[43m(\u001b[49m\u001b[43mrecords\u001b[49m\u001b[43m,\u001b[49m\u001b[43m \u001b[49m\u001b[38;5;28;43mself\u001b[39;49m\u001b[43m)\u001b[49m\n\u001b[1;32m    559\u001b[0m \u001b[38;5;28mself\u001b[39m\u001b[38;5;241m.\u001b[39m_len \u001b[38;5;241m=\u001b[39m \u001b[38;5;28mself\u001b[39m\u001b[38;5;241m.\u001b[39msession\u001b[38;5;241m.\u001b[39mget_length()\n",
      "File \u001b[0;32mfiona/ogrext.pyx:1414\u001b[0m, in \u001b[0;36mfiona.ogrext.WritingSession.writerecs\u001b[0;34m()\u001b[0m\n",
      "\u001b[0;31mRuntimeError\u001b[0m: GDAL Error: sqlite3_exec(CREATE TABLE \"offshore_fielddets_\" ( \"fid\" INTEGER PRIMARY KEY AUTOINCREMENT NOT NULL, \"geom\" GEOMETRY, \"OBJECTID\" INTEGER, \"FIELDNAME\" TEXT, \"Shape_STAr\" REAL, \"Shape_STLe\" REAL, \"ID\" REAL, \"CLUSTERNAM\" REAL, \"CLUSTERNO\" REAL, \"STATUS\" REAL, \"WEBLINK\" REAL, \"CREATED_US\" TEXT, \"CREATED_DA\" TEXT, \"LAST_EDITE\" TEXT, \"LAST_EDI00\" TEXT, \"FIELDTYPE\" REAL, \"NAME_SHORT\" REAL, \"DISC_DATE\" REAL, \"DISC_WELL\" REAL, \"STAT_CODE\" REAL, \"PROD_DATE\" REAL, \"DEPTH_M\" REAL, \"DET_STATUS\" REAL, \"ORIG_OP\" REAL, \"ORIG_LIC\" REAL, \"CURR_OPER\" REAL, \"START_DATE\" REAL, \"END_DATE\" REAL, \"FIELDDATA\" REAL, \"ORIG_LIC_2\" REAL, \"ORIG_LIC_3\" REAL, \"ORIG_LIC_4\" REAL, \"ORIG_LIC_5\" REAL, \"OGA_COP\" REAL, \"CURR_LIC\" REAL, \"EQUITY\" REAL, \"CURR_LIC_2\" REAL, \"EQUITY2\" REAL, \"CURR_LIC_3\" REAL, \"EQUITY3\" REAL, \"CURR_LIC_4\" REAL, \"EQUITY4\" REAL, \"CURR_LIC_5\" REAL, \"EQUITY5\" REAL, \"CURR_LIC_6\" REAL, \"EQUITY6\" REAL, \"CURR_LIC_7\" REAL, \"EQUITY7\" REAL, \"CURR_LIC_8\" REAL, \"EQUITY8\" REAL, \"CURR_LIC_9\" REAL, \"EQUITY9\" REAL, \"CURR_LIC_1\" REAL, \"EQUITY10\" REAL, \"SHAPE_STAr\" REAL, \"SHAPE_STLe\" REAL, \"LICGEOE_ID\" REAL, \"BLOCK\" REAL, \"REASON\" REAL, \"MOD_NOTE\" REAL, \"NOTE\" REAL, \"STOIIP_MMB\" REAL, \"MONFLAG\" REAL, \"WELLREGNO\" REAL, \"DISC_CODE\" REAL, \"DISC_NAME\" REAL, \"UD_MONTAGE\" REAL, \"HC_TYPE\" REAL, \"DOWNLOAD_A\" REAL, \"SIZE_\" REAL, \"FIELD_NO\" TEXT, \"STARTDATE\" REAL, \"ENDDATE\" REAL, \"QUAD_NO\" REAL, \"PDF_MAP\" REAL, \"CRS_ZONE\" REAL)) failed: duplicate column name: SHAPE_STAr. Failed to write record: <fiona.model.Feature object at 0xffff4fb20d30>",
      "\nDuring handling of the above exception, another exception occurred:\n",
      "\u001b[0;31mCPLE_AppDefinedError\u001b[0m                      Traceback (most recent call last)",
      "File \u001b[0;32mfiona/_err.pyx:198\u001b[0m, in \u001b[0;36mfiona._err.GDALErrCtxManager.__exit__\u001b[0;34m()\u001b[0m\n",
      "\u001b[0;31mCPLE_AppDefinedError\u001b[0m: b'failed to prepare SQL: SELECT \"fid\", ST_MinX(\"geom\"), ST_MaxX(\"geom\"), ST_MinY(\"geom\"), ST_MaxY(\"geom\") FROM \"offshore_fielddets_\" WHERE \"geom\" NOT NULL AND NOT ST_IsEmpty(\"geom\"): no such table: offshore_fielddets_'"
     ]
    },
    {
     "name": "stderr",
     "output_type": "stream",
     "text": [
      "Exception ignored in: 'fiona.ogrext.gdal_flush_cache'\n",
      "Traceback (most recent call last):\n",
      "  File \"fiona/_err.pyx\", line 198, in fiona._err.GDALErrCtxManager.__exit__\n",
      "fiona._err.CPLE_AppDefinedError: b'failed to prepare SQL: SELECT \"fid\", ST_MinX(\"geom\"), ST_MaxX(\"geom\"), ST_MinY(\"geom\"), ST_MaxY(\"geom\") FROM \"offshore_fielddets_\" WHERE \"geom\" NOT NULL AND NOT ST_IsEmpty(\"geom\"): no such table: offshore_fielddets_'\n"
     ]
    },
    {
     "ename": "RuntimeError",
     "evalue": "GDAL Error: sqlite3_exec(CREATE TABLE \"offshore_fielddets_\" ( \"fid\" INTEGER PRIMARY KEY AUTOINCREMENT NOT NULL, \"geom\" GEOMETRY, \"OBJECTID\" INTEGER, \"FIELDNAME\" TEXT, \"Shape_STAr\" REAL, \"Shape_STLe\" REAL, \"ID\" REAL, \"CLUSTERNAM\" REAL, \"CLUSTERNO\" REAL, \"STATUS\" REAL, \"WEBLINK\" REAL, \"CREATED_US\" TEXT, \"CREATED_DA\" TEXT, \"LAST_EDITE\" TEXT, \"LAST_EDI00\" TEXT, \"FIELDTYPE\" REAL, \"NAME_SHORT\" REAL, \"DISC_DATE\" REAL, \"DISC_WELL\" REAL, \"STAT_CODE\" REAL, \"PROD_DATE\" REAL, \"DEPTH_M\" REAL, \"DET_STATUS\" REAL, \"ORIG_OP\" REAL, \"ORIG_LIC\" REAL, \"CURR_OPER\" REAL, \"START_DATE\" REAL, \"END_DATE\" REAL, \"FIELDDATA\" REAL, \"ORIG_LIC_2\" REAL, \"ORIG_LIC_3\" REAL, \"ORIG_LIC_4\" REAL, \"ORIG_LIC_5\" REAL, \"OGA_COP\" REAL, \"CURR_LIC\" REAL, \"EQUITY\" REAL, \"CURR_LIC_2\" REAL, \"EQUITY2\" REAL, \"CURR_LIC_3\" REAL, \"EQUITY3\" REAL, \"CURR_LIC_4\" REAL, \"EQUITY4\" REAL, \"CURR_LIC_5\" REAL, \"EQUITY5\" REAL, \"CURR_LIC_6\" REAL, \"EQUITY6\" REAL, \"CURR_LIC_7\" REAL, \"EQUITY7\" REAL, \"CURR_LIC_8\" REAL, \"EQUITY8\" REAL, \"CURR_LIC_9\" REAL, \"EQUITY9\" REAL, \"CURR_LIC_1\" REAL, \"EQUITY10\" REAL, \"SHAPE_STAr\" REAL, \"SHAPE_STLe\" REAL, \"LICGEOE_ID\" REAL, \"BLOCK\" REAL, \"REASON\" REAL, \"MOD_NOTE\" REAL, \"NOTE\" REAL, \"STOIIP_MMB\" REAL, \"MONFLAG\" REAL, \"WELLREGNO\" REAL, \"DISC_CODE\" REAL, \"DISC_NAME\" REAL, \"UD_MONTAGE\" REAL, \"HC_TYPE\" REAL, \"DOWNLOAD_A\" REAL, \"SIZE_\" REAL, \"FIELD_NO\" TEXT, \"STARTDATE\" REAL, \"ENDDATE\" REAL, \"QUAD_NO\" REAL, \"PDF_MAP\" REAL, \"CRS_ZONE\" REAL)) failed: duplicate column name: SHAPE_STAr. Failed to write record: <fiona.model.Feature object at 0xffff4fb20d30>",
     "output_type": "error",
     "traceback": [
      "\u001b[0;31m---------------------------------------------------------------------------\u001b[0m",
      "\u001b[0;31mRuntimeError\u001b[0m                              Traceback (most recent call last)",
      "Cell \u001b[0;32mIn[95], line 1\u001b[0m\n\u001b[0;32m----> 1\u001b[0m \u001b[43mdownload_zipfiles\u001b[49m\u001b[43m(\u001b[49m\u001b[43m[\u001b[49m\u001b[38;5;124;43m'\u001b[39;49m\u001b[38;5;124;43mnl\u001b[39;49m\u001b[38;5;124;43m'\u001b[39;49m\u001b[43m,\u001b[49m\u001b[43m \u001b[49m\u001b[38;5;124;43m'\u001b[39;49m\u001b[38;5;124;43mno\u001b[39;49m\u001b[38;5;124;43m'\u001b[39;49m\u001b[43m,\u001b[49m\u001b[43m \u001b[49m\u001b[38;5;124;43m'\u001b[39;49m\u001b[38;5;124;43muk\u001b[39;49m\u001b[38;5;124;43m'\u001b[39;49m\u001b[43m]\u001b[49m\u001b[43m,\u001b[49m\u001b[43m \u001b[49m\u001b[43mzipfiles\u001b[49m\u001b[43m)\u001b[49m\n",
      "Cell \u001b[0;32mIn[94], line 40\u001b[0m, in \u001b[0;36mdownload_zipfiles\u001b[0;34m(countries, zipfiles)\u001b[0m\n\u001b[1;32m     37\u001b[0m gdf \u001b[38;5;241m=\u001b[39m gpd\u001b[38;5;241m.\u001b[39mread_file(file)\n\u001b[1;32m     38\u001b[0m gdf \u001b[38;5;241m=\u001b[39m gdf[\u001b[38;5;241m~\u001b[39mgdf\u001b[38;5;241m.\u001b[39mgeometry\u001b[38;5;241m.\u001b[39misna()]\n\u001b[0;32m---> 40\u001b[0m \u001b[43mgeo\u001b[49m\u001b[38;5;241;43m.\u001b[39;49m\u001b[43mgdf_to_geopackage\u001b[49m\u001b[43m(\u001b[49m\u001b[43mgdf\u001b[49m\u001b[43m,\u001b[49m\u001b[43m \u001b[49m\u001b[43mcountry\u001b[49m\u001b[43m,\u001b[49m\u001b[43m \u001b[49m\u001b[43mname\u001b[49m\u001b[43m,\u001b[49m\u001b[43m \u001b[49m\u001b[43mpath\u001b[49m\u001b[43m)\u001b[49m\n\u001b[1;32m     41\u001b[0m log\u001b[38;5;241m.\u001b[39minfo(\u001b[38;5;124mf\u001b[39m\u001b[38;5;124m'\u001b[39m\u001b[38;5;124mwrote \u001b[39m\u001b[38;5;132;01m{\u001b[39;00mcountry\u001b[38;5;132;01m}\u001b[39;00m\u001b[38;5;124m to geopackage\u001b[39m\u001b[38;5;124m'\u001b[39m)\n",
      "File \u001b[0;32m~/work/src/geo_utils.py:109\u001b[0m, in \u001b[0;36mgdf_to_geopackage\u001b[0;34m(gdf, country, name, path)\u001b[0m\n\u001b[1;32m    106\u001b[0m     os\u001b[38;5;241m.\u001b[39mmakedirs(path)\n\u001b[1;32m    108\u001b[0m \u001b[38;5;28;01mif\u001b[39;00m \u001b[38;5;28mlen\u001b[39m(gdf) \u001b[38;5;241m>\u001b[39m \u001b[38;5;241m0\u001b[39m:\n\u001b[0;32m--> 109\u001b[0m     \u001b[43mgdf\u001b[49m\u001b[38;5;241;43m.\u001b[39;49m\u001b[43mto_file\u001b[49m\u001b[43m(\u001b[49m\u001b[38;5;124;43mf\u001b[39;49m\u001b[38;5;124;43m'\u001b[39;49m\u001b[38;5;132;43;01m{\u001b[39;49;00m\u001b[43mpath\u001b[49m\u001b[38;5;132;43;01m}\u001b[39;49;00m\u001b[38;5;132;43;01m{\u001b[39;49;00m\u001b[43mcountry\u001b[49m\u001b[38;5;132;43;01m}\u001b[39;49;00m\u001b[38;5;124;43m_geopackage.gpkg\u001b[39;49m\u001b[38;5;124;43m'\u001b[39;49m\u001b[43m,\u001b[49m\u001b[43m \u001b[49m\u001b[43mlayer\u001b[49m\u001b[38;5;241;43m=\u001b[39;49m\u001b[43mname\u001b[49m\u001b[43m,\u001b[49m\u001b[43m \u001b[49m\u001b[43mdriver\u001b[49m\u001b[38;5;241;43m=\u001b[39;49m\u001b[38;5;124;43m'\u001b[39;49m\u001b[38;5;124;43mGPKG\u001b[39;49m\u001b[38;5;124;43m'\u001b[39;49m\u001b[43m)\u001b[49m\n\u001b[1;32m    111\u001b[0m \u001b[38;5;28;01mreturn\u001b[39;00m log\u001b[38;5;241m.\u001b[39minfo(\u001b[38;5;124mf\u001b[39m\u001b[38;5;124m'\u001b[39m\u001b[38;5;124mexported \u001b[39m\u001b[38;5;132;01m{\u001b[39;00mcountry\u001b[38;5;132;01m}\u001b[39;00m\u001b[38;5;124m -- \u001b[39m\u001b[38;5;132;01m{\u001b[39;00mname\u001b[38;5;132;01m}\u001b[39;00m\u001b[38;5;124m -- to: \u001b[39m\u001b[38;5;132;01m{\u001b[39;00mpath\u001b[38;5;132;01m}\u001b[39;00m\u001b[38;5;124m'\u001b[39m)\n",
      "File \u001b[0;32m/opt/conda/lib/python3.10/site-packages/geopandas/geodataframe.py:1263\u001b[0m, in \u001b[0;36mGeoDataFrame.to_file\u001b[0;34m(self, filename, driver, schema, index, **kwargs)\u001b[0m\n\u001b[1;32m   1172\u001b[0m \u001b[38;5;250m\u001b[39m\u001b[38;5;124;03m\"\"\"Write the ``GeoDataFrame`` to a file.\u001b[39;00m\n\u001b[1;32m   1173\u001b[0m \n\u001b[1;32m   1174\u001b[0m \u001b[38;5;124;03mBy default, an ESRI shapefile is written, but any OGR data source\u001b[39;00m\n\u001b[0;32m   (...)\u001b[0m\n\u001b[1;32m   1259\u001b[0m \n\u001b[1;32m   1260\u001b[0m \u001b[38;5;124;03m\"\"\"\u001b[39;00m\n\u001b[1;32m   1261\u001b[0m \u001b[38;5;28;01mfrom\u001b[39;00m \u001b[38;5;21;01mgeopandas\u001b[39;00m\u001b[38;5;21;01m.\u001b[39;00m\u001b[38;5;21;01mio\u001b[39;00m\u001b[38;5;21;01m.\u001b[39;00m\u001b[38;5;21;01mfile\u001b[39;00m \u001b[38;5;28;01mimport\u001b[39;00m _to_file\n\u001b[0;32m-> 1263\u001b[0m \u001b[43m_to_file\u001b[49m\u001b[43m(\u001b[49m\u001b[38;5;28;43mself\u001b[39;49m\u001b[43m,\u001b[49m\u001b[43m \u001b[49m\u001b[43mfilename\u001b[49m\u001b[43m,\u001b[49m\u001b[43m \u001b[49m\u001b[43mdriver\u001b[49m\u001b[43m,\u001b[49m\u001b[43m \u001b[49m\u001b[43mschema\u001b[49m\u001b[43m,\u001b[49m\u001b[43m \u001b[49m\u001b[43mindex\u001b[49m\u001b[43m,\u001b[49m\u001b[43m \u001b[49m\u001b[38;5;241;43m*\u001b[39;49m\u001b[38;5;241;43m*\u001b[39;49m\u001b[43mkwargs\u001b[49m\u001b[43m)\u001b[49m\n",
      "File \u001b[0;32m/opt/conda/lib/python3.10/site-packages/geopandas/io/file.py:539\u001b[0m, in \u001b[0;36m_to_file\u001b[0;34m(df, filename, driver, schema, index, mode, crs, engine, **kwargs)\u001b[0m\n\u001b[1;32m    536\u001b[0m     \u001b[38;5;28;01mraise\u001b[39;00m \u001b[38;5;167;01mValueError\u001b[39;00m(\u001b[38;5;124mf\u001b[39m\u001b[38;5;124m\"\u001b[39m\u001b[38;5;124m'\u001b[39m\u001b[38;5;124mmode\u001b[39m\u001b[38;5;124m'\u001b[39m\u001b[38;5;124m should be one of \u001b[39m\u001b[38;5;124m'\u001b[39m\u001b[38;5;124mw\u001b[39m\u001b[38;5;124m'\u001b[39m\u001b[38;5;124m or \u001b[39m\u001b[38;5;124m'\u001b[39m\u001b[38;5;124ma\u001b[39m\u001b[38;5;124m'\u001b[39m\u001b[38;5;124m, got \u001b[39m\u001b[38;5;124m'\u001b[39m\u001b[38;5;132;01m{\u001b[39;00mmode\u001b[38;5;132;01m}\u001b[39;00m\u001b[38;5;124m'\u001b[39m\u001b[38;5;124m instead\u001b[39m\u001b[38;5;124m\"\u001b[39m)\n\u001b[1;32m    538\u001b[0m \u001b[38;5;28;01mif\u001b[39;00m engine \u001b[38;5;241m==\u001b[39m \u001b[38;5;124m\"\u001b[39m\u001b[38;5;124mfiona\u001b[39m\u001b[38;5;124m\"\u001b[39m:\n\u001b[0;32m--> 539\u001b[0m     \u001b[43m_to_file_fiona\u001b[49m\u001b[43m(\u001b[49m\u001b[43mdf\u001b[49m\u001b[43m,\u001b[49m\u001b[43m \u001b[49m\u001b[43mfilename\u001b[49m\u001b[43m,\u001b[49m\u001b[43m \u001b[49m\u001b[43mdriver\u001b[49m\u001b[43m,\u001b[49m\u001b[43m \u001b[49m\u001b[43mschema\u001b[49m\u001b[43m,\u001b[49m\u001b[43m \u001b[49m\u001b[43mcrs\u001b[49m\u001b[43m,\u001b[49m\u001b[43m \u001b[49m\u001b[43mmode\u001b[49m\u001b[43m,\u001b[49m\u001b[43m \u001b[49m\u001b[38;5;241;43m*\u001b[39;49m\u001b[38;5;241;43m*\u001b[39;49m\u001b[43mkwargs\u001b[49m\u001b[43m)\u001b[49m\n\u001b[1;32m    540\u001b[0m \u001b[38;5;28;01melif\u001b[39;00m engine \u001b[38;5;241m==\u001b[39m \u001b[38;5;124m\"\u001b[39m\u001b[38;5;124mpyogrio\u001b[39m\u001b[38;5;124m\"\u001b[39m:\n\u001b[1;32m    541\u001b[0m     _to_file_pyogrio(df, filename, driver, schema, crs, mode, \u001b[38;5;241m*\u001b[39m\u001b[38;5;241m*\u001b[39mkwargs)\n",
      "File \u001b[0;32m/opt/conda/lib/python3.10/site-packages/geopandas/io/file.py:568\u001b[0m, in \u001b[0;36m_to_file_fiona\u001b[0;34m(df, filename, driver, schema, crs, mode, **kwargs)\u001b[0m\n\u001b[1;32m    564\u001b[0m     crs_wkt \u001b[38;5;241m=\u001b[39m crs\u001b[38;5;241m.\u001b[39mto_wkt(\u001b[38;5;124m\"\u001b[39m\u001b[38;5;124mWKT1_GDAL\u001b[39m\u001b[38;5;124m\"\u001b[39m)\n\u001b[1;32m    565\u001b[0m \u001b[38;5;28;01mwith\u001b[39;00m fiona\u001b[38;5;241m.\u001b[39mopen(\n\u001b[1;32m    566\u001b[0m     filename, mode\u001b[38;5;241m=\u001b[39mmode, driver\u001b[38;5;241m=\u001b[39mdriver, crs_wkt\u001b[38;5;241m=\u001b[39mcrs_wkt, schema\u001b[38;5;241m=\u001b[39mschema, \u001b[38;5;241m*\u001b[39m\u001b[38;5;241m*\u001b[39mkwargs\n\u001b[1;32m    567\u001b[0m ) \u001b[38;5;28;01mas\u001b[39;00m colxn:\n\u001b[0;32m--> 568\u001b[0m     \u001b[43mcolxn\u001b[49m\u001b[38;5;241;43m.\u001b[39;49m\u001b[43mwriterecords\u001b[49m\u001b[43m(\u001b[49m\u001b[43mdf\u001b[49m\u001b[38;5;241;43m.\u001b[39;49m\u001b[43miterfeatures\u001b[49m\u001b[43m(\u001b[49m\u001b[43m)\u001b[49m\u001b[43m)\u001b[49m\n",
      "File \u001b[0;32m/opt/conda/lib/python3.10/site-packages/fiona/collection.py:558\u001b[0m, in \u001b[0;36mCollection.writerecords\u001b[0;34m(self, records)\u001b[0m\n\u001b[1;32m    556\u001b[0m \u001b[38;5;28;01mif\u001b[39;00m \u001b[38;5;28mself\u001b[39m\u001b[38;5;241m.\u001b[39mmode \u001b[38;5;129;01mnot\u001b[39;00m \u001b[38;5;129;01min\u001b[39;00m (\u001b[38;5;124m\"\u001b[39m\u001b[38;5;124ma\u001b[39m\u001b[38;5;124m\"\u001b[39m, \u001b[38;5;124m\"\u001b[39m\u001b[38;5;124mw\u001b[39m\u001b[38;5;124m\"\u001b[39m):\n\u001b[1;32m    557\u001b[0m     \u001b[38;5;28;01mraise\u001b[39;00m \u001b[38;5;167;01mOSError\u001b[39;00m(\u001b[38;5;124m\"\u001b[39m\u001b[38;5;124mcollection not open for writing\u001b[39m\u001b[38;5;124m\"\u001b[39m)\n\u001b[0;32m--> 558\u001b[0m \u001b[38;5;28;43mself\u001b[39;49m\u001b[38;5;241;43m.\u001b[39;49m\u001b[43msession\u001b[49m\u001b[38;5;241;43m.\u001b[39;49m\u001b[43mwriterecs\u001b[49m\u001b[43m(\u001b[49m\u001b[43mrecords\u001b[49m\u001b[43m,\u001b[49m\u001b[43m \u001b[49m\u001b[38;5;28;43mself\u001b[39;49m\u001b[43m)\u001b[49m\n\u001b[1;32m    559\u001b[0m \u001b[38;5;28mself\u001b[39m\u001b[38;5;241m.\u001b[39m_len \u001b[38;5;241m=\u001b[39m \u001b[38;5;28mself\u001b[39m\u001b[38;5;241m.\u001b[39msession\u001b[38;5;241m.\u001b[39mget_length()\n\u001b[1;32m    560\u001b[0m \u001b[38;5;28mself\u001b[39m\u001b[38;5;241m.\u001b[39m_bounds \u001b[38;5;241m=\u001b[39m \u001b[38;5;28;01mNone\u001b[39;00m\n",
      "File \u001b[0;32mfiona/ogrext.pyx:1414\u001b[0m, in \u001b[0;36mfiona.ogrext.WritingSession.writerecs\u001b[0;34m()\u001b[0m\n",
      "\u001b[0;31mRuntimeError\u001b[0m: GDAL Error: sqlite3_exec(CREATE TABLE \"offshore_fielddets_\" ( \"fid\" INTEGER PRIMARY KEY AUTOINCREMENT NOT NULL, \"geom\" GEOMETRY, \"OBJECTID\" INTEGER, \"FIELDNAME\" TEXT, \"Shape_STAr\" REAL, \"Shape_STLe\" REAL, \"ID\" REAL, \"CLUSTERNAM\" REAL, \"CLUSTERNO\" REAL, \"STATUS\" REAL, \"WEBLINK\" REAL, \"CREATED_US\" TEXT, \"CREATED_DA\" TEXT, \"LAST_EDITE\" TEXT, \"LAST_EDI00\" TEXT, \"FIELDTYPE\" REAL, \"NAME_SHORT\" REAL, \"DISC_DATE\" REAL, \"DISC_WELL\" REAL, \"STAT_CODE\" REAL, \"PROD_DATE\" REAL, \"DEPTH_M\" REAL, \"DET_STATUS\" REAL, \"ORIG_OP\" REAL, \"ORIG_LIC\" REAL, \"CURR_OPER\" REAL, \"START_DATE\" REAL, \"END_DATE\" REAL, \"FIELDDATA\" REAL, \"ORIG_LIC_2\" REAL, \"ORIG_LIC_3\" REAL, \"ORIG_LIC_4\" REAL, \"ORIG_LIC_5\" REAL, \"OGA_COP\" REAL, \"CURR_LIC\" REAL, \"EQUITY\" REAL, \"CURR_LIC_2\" REAL, \"EQUITY2\" REAL, \"CURR_LIC_3\" REAL, \"EQUITY3\" REAL, \"CURR_LIC_4\" REAL, \"EQUITY4\" REAL, \"CURR_LIC_5\" REAL, \"EQUITY5\" REAL, \"CURR_LIC_6\" REAL, \"EQUITY6\" REAL, \"CURR_LIC_7\" REAL, \"EQUITY7\" REAL, \"CURR_LIC_8\" REAL, \"EQUITY8\" REAL, \"CURR_LIC_9\" REAL, \"EQUITY9\" REAL, \"CURR_LIC_1\" REAL, \"EQUITY10\" REAL, \"SHAPE_STAr\" REAL, \"SHAPE_STLe\" REAL, \"LICGEOE_ID\" REAL, \"BLOCK\" REAL, \"REASON\" REAL, \"MOD_NOTE\" REAL, \"NOTE\" REAL, \"STOIIP_MMB\" REAL, \"MONFLAG\" REAL, \"WELLREGNO\" REAL, \"DISC_CODE\" REAL, \"DISC_NAME\" REAL, \"UD_MONTAGE\" REAL, \"HC_TYPE\" REAL, \"DOWNLOAD_A\" REAL, \"SIZE_\" REAL, \"FIELD_NO\" TEXT, \"STARTDATE\" REAL, \"ENDDATE\" REAL, \"QUAD_NO\" REAL, \"PDF_MAP\" REAL, \"CRS_ZONE\" REAL)) failed: duplicate column name: SHAPE_STAr. Failed to write record: <fiona.model.Feature object at 0xffff4fb20d30>"
     ]
    }
   ],
   "source": [
    "download_zipfiles(['nl', 'no', 'uk'], zipfiles)"
   ]
  },
  {
   "cell_type": "code",
   "execution_count": null,
   "id": "373f9d92-246e-4d75-abc2-9f048080da3b",
   "metadata": {},
   "outputs": [],
   "source": []
  }
 ],
 "metadata": {
  "kernelspec": {
   "display_name": "Python 3 (ipykernel)",
   "language": "python",
   "name": "python3"
  },
  "language_info": {
   "codemirror_mode": {
    "name": "ipython",
    "version": 3
   },
   "file_extension": ".py",
   "mimetype": "text/x-python",
   "name": "python",
   "nbconvert_exporter": "python",
   "pygments_lexer": "ipython3",
   "version": "3.11.4"
  }
 },
 "nbformat": 4,
 "nbformat_minor": 5
}
