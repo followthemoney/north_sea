{
 "cells": [
  {
   "cell_type": "markdown",
   "id": "bb2a70f6-3a99-40cc-b390-577b78feaeba",
   "metadata": {},
   "source": [
    "# North Sea Wind Farms"
   ]
  },
  {
   "cell_type": "markdown",
   "id": "0e88dfc8-a5c0-446c-a232-d1e10d84d84d",
   "metadata": {},
   "source": [
    "## Goal\n",
    "\n",
    "The goal of this notebook is to collect (spatial) data and generate statistics on wind farms in the North Sea. We want information on:\n",
    "1. Spatial status and changes\n",
    "2. Temporal changes\n",
    "3. Technical specifics on turbines (power, infrastructure incl. cabels, materials, supply chain)\n",
    "5. Ownership\n",
    "6. End-users"
   ]
  },
  {
   "cell_type": "markdown",
   "id": "676af659-74ae-4d39-a41a-a9592d0eb163",
   "metadata": {},
   "source": [
    "## Data sources\n",
    "\n",
    "### Location and ownership\n",
    "1. Global Offshore Wind Farm Database And Intelligence, 4COffshore ([source](https://www.4coffshore.com/windfarms/)). Holds information on location, ownership and production of wind farms. Is a commercial provider. Some data seem a bit messy (e.g. the categorisation into sea areas is not consistent. \n",
    "2. Wind Europe Public database ([source](https://windeurope.org/intelligence-platform/product/european-offshore-wind-farms-map-public/)). Holds information on location and ownership. Is a lobby organisation. Dataset is probably not complete. \n",
    "3. EMODnet Wind Turbines ([source](https://emodnet.ec.europa.eu/geonetwork/emodnet/eng/catalog.search#/search?any=EMODnet%20Human%20Activities,%20Wind%20Farms)). Norway data is lacking. Data is current and has been extensively verified up until January 1st this year, so this is a very useful resource.\n",
    "4. Crown Estate offshore wind farm onwership tables ([source](https://www.thecrownestate.co.uk/en-gb/what-we-do/on-the-seabed/energy/offshore-wind-farm-ownership/#OFTOownership)). More data available at the Crown Estate open data portal ([source](https://opendata-thecrownestate.opendata.arcgis.com/search?groupIds=f0d0ec92da76434d9e91f2e4dcb3a99f)). And here for Scotland ([source](https://crown-estate-scotland-spatial-hub-coregis.hub.arcgis.com/search?tags=offshore%20wind)). Official UK registries. Data quality is presumed to be good.\n",
    "5. NVE data from Norway ([source](https://nedlasting.nve.no/gis/)). Offical Norwegian registry. Data quality is presumed to be good.\n",
    "6. Netherlands wind turbines from RIVM ([source](https://data.rivm.nl/meta/srv/dut/catalog.search#/search?resultType=details&sortBy=relevance&fast=index&_content_type=json&from=1&to=20&any=Windturbines%20-%20vermogen)). Data quality is good. Is point data instead of polygons. Info on individual turbines (height, power, location).\n",
    "7. Denmark\n",
    "8. Germany\n",
    "9. Belgium\n",
    "\n",
    "### Tenders and supply chain\n",
    "1. Bloomberg Terminal (at office of FTM): contains information on the supply chain of wind turbine manufacturers. Some data might be outdated. \n",
    "2. Aleph (FTM data repository) contains all European Tenders"
   ]
  },
  {
   "cell_type": "code",
   "execution_count": null,
   "id": "91d6ff4a-ee6f-47e5-92fc-0c0d13b29c28",
   "metadata": {
    "tags": []
   },
   "outputs": [],
   "source": [
    "import pandas as pd\n",
    "import geopandas as gpd\n",
    "import ast"
   ]
  },
  {
   "cell_type": "code",
   "execution_count": null,
   "id": "75dd7c7a-581e-43e4-ae9e-3f583eab7513",
   "metadata": {
    "tags": []
   },
   "outputs": [],
   "source": [
    "PATH_DATA = '../../data/renewables/'"
   ]
  },
  {
   "cell_type": "markdown",
   "id": "b5ed6740-8ae2-4ad2-ae51-a93ecf61cbd7",
   "metadata": {
    "tags": []
   },
   "source": [
    "#### 4COffshore\n",
    "\n",
    "The latitude is given, but the longitude is not. We therefore might need to link the data on project names"
   ]
  },
  {
   "cell_type": "code",
   "execution_count": null,
   "id": "3e365d1b-d71b-4a9d-95d9-54af3b7140b8",
   "metadata": {
    "tags": []
   },
   "outputs": [],
   "source": [
    "# Import 4COffshore\n",
    "\n",
    "_4c = pd.read_csv(f'{PATH_DATA}4c_offshore_freemium_windfarms.csv')\n",
    "\n",
    "# Filter out North Sea Countries\n",
    "\n",
    "_4c = _4c[_4c.country_filter.isin(['netherlands', 'norway', 'united-kingdom', 'germany', 'denmark', 'belgium'])].copy()\n",
    "\n",
    "# Rename columns\n",
    "\n",
    "new_cols = {'country_filter': 'country',\n",
    "            'owners': 'owner',\n",
    "            'windfarm_capacity': 'power_mw',\n",
    "            'development_status': 'status'}\n",
    "\n",
    "_4c = _4c.rename(columns=new_cols)\n",
    "\n",
    "# Clean latitude column\n",
    "\n",
    "_4c.latitude = _4c.latitude.str.replace('°', '', regex=False)\n",
    "\n",
    "# Clean power_mw column\n",
    "\n",
    "_4c.power_mw = _4c.power_mw.str.replace(' MW', '').astype(float)\n",
    "            \n",
    "# Select relevant columns\n",
    "\n",
    "_4c = _4c[['name', 'other_names', 'country', 'owner', 'developers', 'status', 'power_mw', 'category_round', 'main_url', 'comments', 'turbine_model', 'foundation_type', 'latitude']].copy()\n",
    "\n",
    "# Clean owners to proper list\n",
    "\n",
    "_4c[['developers', 'owner']] = _4c[['developers', 'owner']].applymap(lambda x: ast.literal_eval(x))\n",
    "\n",
    "# Get list of project names for comparison\n",
    "\n",
    "_4c_names = list(set(_4c.name.str.lower()))\n",
    "len(_4c)"
   ]
  },
  {
   "cell_type": "markdown",
   "id": "5c802c2a-e055-4069-9277-6f36aca23490",
   "metadata": {},
   "source": [
    "#### Wind Europe\n",
    "\n",
    "The dataset contains coordinates, so we can perform a spatial join to link the data to the polygons of EMODNet. But let's also get the project names to see if we can match some of the data from 4COffshore. There might be some wind farms outside of the North Sea, but we can use a spatial mask to filter these out."
   ]
  },
  {
   "cell_type": "code",
   "execution_count": null,
   "id": "40d2fe13-859b-4322-b607-106ef2634b8e",
   "metadata": {
    "tags": []
   },
   "outputs": [],
   "source": [
    "# Import Wind Europe\n",
    "\n",
    "weurope = pd.read_csv(f'{PATH_DATA}windeurope.csv', sep=';')\n",
    "\n",
    "# Clean columns\n",
    "\n",
    "weurope.columns = weurope.columns.str.lower().str.replace(' ', '_', regex=False)\n",
    "\n",
    "# Drop some columns\n",
    "\n",
    "weurope = weurope.drop([col for col in weurope.columns if '(group)' in col], axis=1)\n",
    "\n",
    "# Rename columns\n",
    "\n",
    "new_cols = {'project_name': 'name',\n",
    "            'total_project_capacity': 'power_mw',\n",
    "            'to_show_turbine_manufacturer': 'turbine_manufacturer',\n",
    "            'commissioning_date': 'year',\n",
    "            'gis_latitude': 'latitude',\n",
    "            'gis_longitude': 'longitude',\n",
    "            'number_of_turbines': 'n_turbines'}\n",
    "\n",
    "weurope = weurope.rename(columns=new_cols)\n",
    "\n",
    "# Select relevant columns\n",
    "\n",
    "weurope = weurope[['name', 'status', 'power_mw', 'year', 'year_awarded', 'foundation_type', 'owner', 'turbine_manufacturer', 'latitude', 'longitude']].copy()\n",
    "\n",
    "# Get list of project names for comparison\n",
    "\n",
    "weurope_names = list(set(weurope['name'].str.lower()))\n",
    "len(weurope_names)"
   ]
  },
  {
   "cell_type": "markdown",
   "id": "02507f42-d7b5-4cbd-87f7-804ae0400f3d",
   "metadata": {},
   "source": [
    "#### EMODnet\n",
    "\n",
    "This data is the basis of our efforts, because it's very current and reliable. "
   ]
  },
  {
   "cell_type": "code",
   "execution_count": null,
   "id": "64810a40-d015-435e-8504-c7473246d475",
   "metadata": {
    "tags": []
   },
   "outputs": [],
   "source": [
    "# Import EMODnet\n",
    "\n",
    "emod = gpd.read_file(f'{PATH_DATA}EMODnet_HA_WindFarms_20221219/EMODnet_HA_WindFarms_pg_20221219.shp')# Filter out North Sea countries\n",
    "\n",
    "# Filter North Sea countries\n",
    "\n",
    "emod = emod[emod.COUNTRY.isin(['Denmark', 'United Kingdom', 'Netherlands', 'Germany', 'Belgium'])].copy()\n",
    "\n",
    "# Column names to lowercase\n",
    "\n",
    "emod.columns = emod.columns.str.lower()\n",
    "\n",
    "# Select relevant columns\n",
    "\n",
    "emod = emod[['country', 'name', 'n_turbines', 'power_mw', 'status', 'year', 'geometry']].copy().reset_index().drop('index', axis=1)\n",
    "\n",
    "# Get list of project names for comparison\n",
    "\n",
    "emod_names = list(set(emod.name.str.lower()))\n",
    "len(emod_names)"
   ]
  },
  {
   "cell_type": "markdown",
   "id": "0d1d3601-1c8b-4714-bf2b-8f796efc9b7b",
   "metadata": {
    "tags": []
   },
   "source": [
    "#### NVE Norwegian data\n",
    "\n",
    "There are two slightly different datasets available:\n",
    "1. From the NVE map interface (norwegian_wind_farms.geojson). This is the most elaborate one and also contains ownership information. \n",
    "2. Also from the NVE but from the open data service. This has fewer data fields, but contain 4 more records."
   ]
  },
  {
   "cell_type": "code",
   "execution_count": null,
   "id": "b684f71f-2388-4644-afbc-fdfdb3667190",
   "metadata": {},
   "outputs": [],
   "source": [
    "nve = gpd.read_file(f'{PATH_DATA}norwegian_wind_farms.geojson')\n",
    "nve2 = gpd.read_file(f'{PATH_DATA}NVE_60751B14_1686171454912_10368/NVEData/Vindkraft_VindkraftanleggOmr.geojson')"
   ]
  }
 ],
 "metadata": {
  "kernelspec": {
   "display_name": "Python 3 (ipykernel)",
   "language": "python",
   "name": "python3"
  },
  "language_info": {
   "codemirror_mode": {
    "name": "ipython",
    "version": 3
   },
   "file_extension": ".py",
   "mimetype": "text/x-python",
   "name": "python",
   "nbconvert_exporter": "python",
   "pygments_lexer": "ipython3",
   "version": "3.10.10"
  }
 },
 "nbformat": 4,
 "nbformat_minor": 5
}
