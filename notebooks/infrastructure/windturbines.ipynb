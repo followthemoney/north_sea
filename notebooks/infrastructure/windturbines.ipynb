{
 "cells": [
  {
   "cell_type": "code",
   "execution_count": 1,
   "id": "cd322adf-9cd1-439e-8540-f099e8e34e0e",
   "metadata": {
    "tags": []
   },
   "outputs": [],
   "source": [
    "%load_ext autoreload\n",
    "%autoreload 2"
   ]
  },
  {
   "cell_type": "markdown",
   "id": "bb2a70f6-3a99-40cc-b390-577b78feaeba",
   "metadata": {},
   "source": [
    "# North Sea Wind Farms"
   ]
  },
  {
   "cell_type": "markdown",
   "id": "0e88dfc8-a5c0-446c-a232-d1e10d84d84d",
   "metadata": {},
   "source": [
    "## Goal\n",
    "\n",
    "The goal of this notebook is to collect (spatial) data and generate statistics on wind farms in the North Sea. We want information on:\n",
    "1. Spatial status and changes\n",
    "2. Temporal changes\n",
    "3. Technical specifics on turbines (power, infrastructure incl. cabels, materials, supply chain)\n",
    "5. Ownership\n",
    "6. End-users"
   ]
  },
  {
   "cell_type": "markdown",
   "id": "676af659-74ae-4d39-a41a-a9592d0eb163",
   "metadata": {},
   "source": [
    "## Data sources\n",
    "\n",
    "### Location and ownership\n",
    "\n",
    "1. MapStand: installed and planned windfarms (wfs)\n",
    "2. Global Offshore Wind Farm Database And Intelligence, 4COffshore ([source](https://www.4coffshore.com/windfarms/)). Holds information on location, ownership and production of wind farms. Is a commercial provider. Some data seem a bit messy (e.g. the categorisation into sea areas is not consistent. \n",
    "3. Wind Europe Public database ([source](https://windeurope.org/intelligence-platform/product/european-offshore-wind-farms-map-public/)). Holds information on location and ownership. Is a lobby organisation. Dataset is probably not complete. \n",
    "4. EMODnet Wind Turbines ([source](https://emodnet.ec.europa.eu/geonetwork/emodnet/eng/catalog.search#/search?any=EMODnet%20Human%20Activities,%20Wind%20Farms)). Norway data is lacking. Data is current and has been extensively verified up until January 1st this year, so this is a very useful resource.\n",
    "5. Crown Estate offshore wind farm onwership tables ([source](https://www.thecrownestate.co.uk/en-gb/what-we-do/on-the-seabed/energy/offshore-wind-farm-ownership/#OFTOownership)). More data available at the Crown Estate open data portal ([source](https://opendata-thecrownestate.opendata.arcgis.com/search?groupIds=f0d0ec92da76434d9e91f2e4dcb3a99f)). And here for Scotland ([source](https://crown-estate-scotland-spatial-hub-coregis.hub.arcgis.com/search?tags=offshore%20wind)). Official UK registries. Data quality is presumed to be good.\n",
    "6. NVE data from Norway ([source](https://nedlasting.nve.no/gis/)). Offical Norwegian registry. Data quality is presumed to be good.\n",
    "7. Netherlands wind turbines from RIVM ([source](https://data.rivm.nl/meta/srv/dut/catalog.search#/search?resultType=details&sortBy=relevance&fast=index&_content_type=json&from=1&to=20&any=Windturbines%20-%20vermogen)). Data quality is good. Is point data instead of polygons. Info on individual turbines (height, power, location).\n",
    "8. Denmark\n",
    "9. Germany\n",
    "10. Belgium\n",
    "\n",
    "### Tenders and supply chain\n",
    "1. Bloomberg Terminal (at office of FTM): contains information on the supply chain of wind turbine manufacturers. Some data might be outdated. \n",
    "2. Aleph (FTM data repository) contains all European Tenders"
   ]
  },
  {
   "cell_type": "code",
   "execution_count": 12,
   "id": "91d6ff4a-ee6f-47e5-92fc-0c0d13b29c28",
   "metadata": {
    "tags": []
   },
   "outputs": [
    {
     "data": {
      "text/plain": [
       "True"
      ]
     },
     "execution_count": 12,
     "metadata": {},
     "output_type": "execute_result"
    }
   ],
   "source": [
    "import pandas as pd\n",
    "import geopandas as gpd\n",
    "from requests import Request\n",
    "import ast\n",
    "import yaml\n",
    "from owslib.wfs import WebFeatureService \n",
    "from dotenv import load_dotenv\n",
    "import os\n",
    "\n",
    "pd.options.display.max_columns = 50\n",
    "load_dotenv('../../.env')"
   ]
  },
  {
   "cell_type": "code",
   "execution_count": 5,
   "id": "75dd7c7a-581e-43e4-ae9e-3f583eab7513",
   "metadata": {
    "tags": []
   },
   "outputs": [],
   "source": [
    "# Set path\n",
    "\n",
    "PATH_DATA = '../../drive/energy/renewables/'\n",
    "\n",
    "# Get API_KEY\n",
    "\n",
    "API_KEY = os.environ.get('MAPSTAND_API_KEY')\n",
    "\n",
    "# Import config\n",
    "\n",
    "with open('../../config/ontology.yaml') as yaml_file:\n",
    "    config = yaml.safe_load(yaml_file)\n",
    "\n",
    "cols_clean = config.get('infra_columns').get('wind')\n",
    "values_clean = config.get('infra_values').get('wind')"
   ]
  },
  {
   "cell_type": "markdown",
   "id": "db8844aa-95fd-4837-967d-fc7dcd39d84d",
   "metadata": {},
   "source": [
    "#### MapStand\n",
    "\n",
    "The data from MapStand is probably sufficient."
   ]
  },
  {
   "cell_type": "code",
   "execution_count": 9,
   "id": "4c0fb5b3-9dcd-49d3-be36-b0ac6b2516e3",
   "metadata": {},
   "outputs": [],
   "source": [
    "url = f'https://hub.mapstand.com/gs/ows?VERSION=1.3.0&apikey={API_KEY}'\n",
    "wfs = WebFeatureService(url)"
   ]
  },
  {
   "cell_type": "code",
   "execution_count": 19,
   "id": "43f42e5c-9aec-4757-a7fb-0b4751f39ac2",
   "metadata": {},
   "outputs": [],
   "source": [
    "layers = ['mps:powerplant_windfarm_planned', 'mps:powerplant_windfarm_installed']\n",
    "dfs = []\n",
    "\n",
    "for layer in layers:\n",
    "    \n",
    "    params = dict(service='WFS', version=\"1.3.0\", request='GetFeature',\n",
    "          typeName=layer, outputFormat='json')\n",
    "    \n",
    "    wfs_request_url = Request('GET', url, params=params).prepare().url\n",
    "    \n",
    "    df = gpd.read_file(wfs_request_url)\n",
    "    df['dataset'] = layer.replace('mps:powerplant_windfarm_', '')\n",
    "    dfs.append(df)\n",
    "\n",
    "df = pd.concat(dfs)"
   ]
  },
  {
   "cell_type": "code",
   "execution_count": 31,
   "id": "0a46e8f5-21a0-4019-94a9-fc5e0110402f",
   "metadata": {},
   "outputs": [],
   "source": [
    "df.to_csv('../../drive/energy/renewables/mapstand_windfarms.csv', index=False)"
   ]
  },
  {
   "cell_type": "code",
   "execution_count": 22,
   "id": "583302bd-69a4-46fa-8ab8-30769db75aa0",
   "metadata": {},
   "outputs": [
    {
     "data": {
      "text/plain": [
       "408"
      ]
     },
     "execution_count": 22,
     "metadata": {},
     "output_type": "execute_result"
    }
   ],
   "source": [
    "# clean dataset\n",
    "\n",
    "countries = ['Netherlands', 'United Kingdom', 'Belgium', 'Norway', 'Denmark', 'Germany']\n",
    "\n",
    "ns = df[(df.admin_area_name.isin(countries)) & (df.mps_est_shore_status == 'OFFSHORE')].copy()\n",
    "len(ns)"
   ]
  },
  {
   "cell_type": "code",
   "execution_count": 29,
   "id": "f5d34cba-1771-4664-8fbd-c84ef09dcf17",
   "metadata": {},
   "outputs": [
    {
     "data": {
      "text/plain": [
       "Index(['id', 'admin_area_name', 'attribution', 'capacity_mw', 'coast_distance',\n",
       "       'description', 'installation_year', 'mps_created_time',\n",
       "       'mps_datasource_tags', 'mps_est_area_sqkm', 'mps_est_coast_distance_km',\n",
       "       'mps_est_elevation_max_m', 'mps_est_elevation_min_m',\n",
       "       'mps_est_shore_status', 'mps_project_tag', 'mps_uuid', 'name',\n",
       "       'number_generators', 'operator', 'operator_group', 'owner',\n",
       "       'owner_group', 'round_name', 'status', 'updt', 'windfarm_type',\n",
       "       'geometry', 'dataset', 'closure_year', 'decommissioning_year'],\n",
       "      dtype='object')"
      ]
     },
     "execution_count": 29,
     "metadata": {},
     "output_type": "execute_result"
    }
   ],
   "source": [
    "ns.columns"
   ]
  },
  {
   "cell_type": "code",
   "execution_count": 30,
   "id": "6a586a7e-af8a-43ed-be3d-0b449bcb7dcb",
   "metadata": {},
   "outputs": [
    {
     "data": {
      "text/plain": [
       "admin_area_name\n",
       "Belgium             2320.00\n",
       "Denmark            20628.44\n",
       "Germany            59564.22\n",
       "Netherlands         7404.40\n",
       "Norway             14547.80\n",
       "United Kingdom    101298.90\n",
       "Name: capacity_mw, dtype: float64"
      ]
     },
     "execution_count": 30,
     "metadata": {},
     "output_type": "execute_result"
    }
   ],
   "source": [
    "ns.groupby('admin_area_name').capacity_mw.sum()"
   ]
  },
  {
   "cell_type": "markdown",
   "id": "b5ed6740-8ae2-4ad2-ae51-a93ecf61cbd7",
   "metadata": {
    "tags": []
   },
   "source": [
    "#### 4COffshore\n",
    "\n",
    "The latitude is given, but the longitude is not. We therefore might need to link the data on project names"
   ]
  },
  {
   "cell_type": "code",
   "execution_count": 4,
   "id": "3e365d1b-d71b-4a9d-95d9-54af3b7140b8",
   "metadata": {
    "tags": []
   },
   "outputs": [
    {
     "data": {
      "text/plain": [
       "772"
      ]
     },
     "execution_count": 4,
     "metadata": {},
     "output_type": "execute_result"
    }
   ],
   "source": [
    "# Import 4COffshore\n",
    "\n",
    "fourc = pd.read_csv(f'{PATH_DATA}4c_offshore_freemium_windfarms.csv')\n",
    "\n",
    "# Filter out North Sea Countries\n",
    "\n",
    "fourc = fourc[fourc.country_filter.isin(['netherlands', 'norway', 'united-kingdom', 'germany', 'denmark', 'belgium'])].copy()\n",
    "\n",
    "# Rename columns\n",
    "\n",
    "fourc = fourc.rename(columns=cols_clean)\n",
    "\n",
    "# Clean latitude column\n",
    "\n",
    "fourc.latitude = fourc.latitude.str.replace('°', '', regex=False)\n",
    "\n",
    "# Clean power_mw column\n",
    "\n",
    "fourc.power_mw = fourc.power_mw.str.replace(' MW', '').astype(float)\n",
    "            \n",
    "# Select relevant columns\n",
    "\n",
    "fourc = fourc[['name', 'other_names', 'country', 'owner', 'developers', 'status', 'power_mw', 'category_round', 'main_url', 'comments', 'turbine_model', 'foundation_type', 'latitude']].copy()\n",
    "\n",
    "# Clean owners to proper list\n",
    "\n",
    "fourc[['developers', 'owner']] = fourc[['developers', 'owner']].applymap(lambda x: ast.literal_eval(x))\n",
    "\n",
    "# Get list of project names for comparison\n",
    "\n",
    "fourc_names = list(set(fourc.name.str.lower()))\n",
    "len(fourc)"
   ]
  },
  {
   "cell_type": "markdown",
   "id": "5c802c2a-e055-4069-9277-6f36aca23490",
   "metadata": {},
   "source": [
    "#### Wind Europe\n",
    "\n",
    "The dataset contains coordinates, so we can perform a spatial join to link the data to the polygons of EMODNet. But let's also get the project names to see if we can match some of the data from 4COffshore. There might be some wind farms outside of the North Sea, but we can use a spatial mask to filter these out."
   ]
  },
  {
   "cell_type": "code",
   "execution_count": 5,
   "id": "40d2fe13-859b-4322-b607-106ef2634b8e",
   "metadata": {
    "tags": []
   },
   "outputs": [
    {
     "data": {
      "text/plain": [
       "138"
      ]
     },
     "execution_count": 5,
     "metadata": {},
     "output_type": "execute_result"
    }
   ],
   "source": [
    "# Import Wind Europe\n",
    "\n",
    "weurope = pd.read_csv(f'{PATH_DATA}windeurope.csv', sep=';')\n",
    "\n",
    "# Clean columns\n",
    "\n",
    "weurope.columns = weurope.columns.str.lower().str.replace(' ', '_', regex=False)\n",
    "\n",
    "# Drop some columns\n",
    "\n",
    "weurope = weurope.drop([col for col in weurope.columns if '(group)' in col], axis=1)\n",
    "\n",
    "# Rename columns\n",
    "\n",
    "weurope = weurope.rename(columns=cols_clean)\n",
    "\n",
    "# Select relevant columns\n",
    "\n",
    "weurope = weurope[['name', 'status', 'power_mw', 'year', 'year_awarded', 'foundation_type', 'owner', 'turbine_manufacturer', 'latitude', 'longitude']].copy()\n",
    "\n",
    "# Get list of project names for comparison\n",
    "\n",
    "weurope_names = list(set(weurope['name'].str.lower()))\n",
    "len(weurope_names)"
   ]
  },
  {
   "cell_type": "markdown",
   "id": "02507f42-d7b5-4cbd-87f7-804ae0400f3d",
   "metadata": {},
   "source": [
    "#### EMODnet\n",
    "\n",
    "This data is the basis of our efforts, because it's very current and reliable. "
   ]
  },
  {
   "cell_type": "code",
   "execution_count": 6,
   "id": "64810a40-d015-435e-8504-c7473246d475",
   "metadata": {
    "tags": []
   },
   "outputs": [
    {
     "name": "stderr",
     "output_type": "stream",
     "text": [
      "ERROR 1: PROJ: proj_create_from_database: Open of /opt/conda/share/proj failed\n"
     ]
    },
    {
     "data": {
      "text/plain": [
       "322"
      ]
     },
     "execution_count": 6,
     "metadata": {},
     "output_type": "execute_result"
    }
   ],
   "source": [
    "# Import EMODnet\n",
    "\n",
    "emod = gpd.read_file(f'{PATH_DATA}EMODnet_HA_WindFarms_20221219/EMODnet_HA_WindFarms_pg_20221219.shp')# Filter out North Sea countries\n",
    "\n",
    "# Filter North Sea countries\n",
    "\n",
    "emod = emod[emod.COUNTRY.isin(['Denmark', 'United Kingdom', 'Netherlands', 'Germany', 'Belgium'])].copy()\n",
    "\n",
    "# Column names to lowercase\n",
    "\n",
    "emod.columns = emod.columns.str.lower()\n",
    "\n",
    "# Select relevant columns\n",
    "\n",
    "emod = emod[['country', 'name', 'n_turbines', 'power_mw', 'status', 'year', 'geometry']].copy().reset_index().drop('index', axis=1)\n",
    "\n",
    "# Get list of project names for comparison\n",
    "\n",
    "emod_names = list(set(emod.name.str.lower()))\n",
    "len(emod_names)"
   ]
  },
  {
   "cell_type": "code",
   "execution_count": 9,
   "id": "4d002134-dd6c-46fe-acba-9f87c4605b0f",
   "metadata": {},
   "outputs": [],
   "source": [
    "emod.to_csv(PATH_DATA + 'emod.csv', index=True, sep=',')"
   ]
  },
  {
   "cell_type": "markdown",
   "id": "0d1d3601-1c8b-4714-bf2b-8f796efc9b7b",
   "metadata": {
    "tags": []
   },
   "source": [
    "#### NVE Norwegian data\n",
    "\n",
    "There are two slightly different datasets available:\n",
    "1. From the NVE map interface (norwegian_wind_farms.geojson). This is the most elaborate one and also contains ownership information. \n",
    "2. Also from the NVE but from the open data service. This has fewer data fields, but contain 4 more records."
   ]
  },
  {
   "cell_type": "code",
   "execution_count": 7,
   "id": "b684f71f-2388-4644-afbc-fdfdb3667190",
   "metadata": {
    "tags": []
   },
   "outputs": [
    {
     "data": {
      "text/plain": [
       "32"
      ]
     },
     "execution_count": 7,
     "metadata": {},
     "output_type": "execute_result"
    }
   ],
   "source": [
    "nve = gpd.read_file(f'{PATH_DATA}norwegian_wind_farms.geojson')\n",
    "\n",
    "# Clean columns and values\n",
    "\n",
    "nve = nve.rename(columns=cols_clean)\n",
    "nve = nve[nve.name.str.contains('offshore')==True]\n",
    "nve.status = nve.status.replace(values_clean, regex=False)\n",
    "nve.phase = nve.phase.replace(values_clean, regex=False)\n",
    "\n",
    "# Select relevant columns\n",
    "\n",
    "nve = nve[[col for col in nve.columns if col.islower()]].drop(['datafangstdato', 'malemetode', 'noyaktighet'], axis=1).copy()\n",
    "len(nve)"
   ]
  },
  {
   "cell_type": "code",
   "execution_count": 10,
   "id": "a47b0308-0169-48be-970c-506278de93f4",
   "metadata": {},
   "outputs": [],
   "source": [
    "nve.to_csv(PATH_DATA + 'nve.csv', index=True, sep=',')"
   ]
  },
  {
   "cell_type": "code",
   "execution_count": 12,
   "id": "b1cda73a-9ccf-4ec9-b206-b704cb962e64",
   "metadata": {
    "tags": []
   },
   "outputs": [],
   "source": [
    "fourc.to_csv(PATH_DATA + '4coffshore.csv', sep=',')\n",
    "weurope.to_csv(PATH_DATA + 'windeurope.csv', sep=',')"
   ]
  },
  {
   "cell_type": "code",
   "execution_count": 12,
   "id": "540cb828-f70c-45de-b9ef-89d2f82c4f4d",
   "metadata": {
    "tags": []
   },
   "outputs": [
    {
     "data": {
      "text/html": [
       "<div>\n",
       "<style scoped>\n",
       "    .dataframe tbody tr th:only-of-type {\n",
       "        vertical-align: middle;\n",
       "    }\n",
       "\n",
       "    .dataframe tbody tr th {\n",
       "        vertical-align: top;\n",
       "    }\n",
       "\n",
       "    .dataframe thead th {\n",
       "        text-align: right;\n",
       "    }\n",
       "</style>\n",
       "<table border=\"1\" class=\"dataframe\">\n",
       "  <thead>\n",
       "    <tr style=\"text-align: right;\">\n",
       "      <th></th>\n",
       "      <th>name</th>\n",
       "      <th>other_names</th>\n",
       "      <th>latitude</th>\n",
       "    </tr>\n",
       "  </thead>\n",
       "  <tbody>\n",
       "    <tr>\n",
       "      <th>1486</th>\n",
       "      <td>Central North Sea Electrification</td>\n",
       "      <td>NaN</td>\n",
       "      <td>57.111656</td>\n",
       "    </tr>\n",
       "    <tr>\n",
       "      <th>1325</th>\n",
       "      <td>Cirrus Shell Flat Array</td>\n",
       "      <td>Cirrus Array, Shell flats</td>\n",
       "      <td>53.892707</td>\n",
       "    </tr>\n",
       "    <tr>\n",
       "      <th>1344</th>\n",
       "      <td>Cromer</td>\n",
       "      <td>NaN</td>\n",
       "      <td>53.005326</td>\n",
       "    </tr>\n",
       "    <tr>\n",
       "      <th>1509</th>\n",
       "      <td>Culzean Floating Wind Pilot Project</td>\n",
       "      <td>TotalEnergies INTOG</td>\n",
       "      <td>57.197453</td>\n",
       "    </tr>\n",
       "    <tr>\n",
       "      <th>1291</th>\n",
       "      <td>Docking Shoal</td>\n",
       "      <td>NaN</td>\n",
       "      <td>53.15441</td>\n",
       "    </tr>\n",
       "    <tr>\n",
       "      <th>1310</th>\n",
       "      <td>Dogger Bank - Teesside C</td>\n",
       "      <td>Zone 3, Todd Point A (Tranche C)</td>\n",
       "      <td>55.245447</td>\n",
       "    </tr>\n",
       "    <tr>\n",
       "      <th>1311</th>\n",
       "      <td>Dogger Bank - Teesside D</td>\n",
       "      <td>Zone 3, Todd Point B (Tranche C)</td>\n",
       "      <td>55.30495</td>\n",
       "    </tr>\n",
       "    <tr>\n",
       "      <th>1497</th>\n",
       "      <td>Dogger Bank A</td>\n",
       "      <td>Creyke Beck A, Zone 3, Project One</td>\n",
       "      <td>54.769475</td>\n",
       "    </tr>\n",
       "    <tr>\n",
       "      <th>1296</th>\n",
       "      <td>Dogger Bank B</td>\n",
       "      <td>Creyke Beck B, Zone 3</td>\n",
       "      <td>54.977377</td>\n",
       "    </tr>\n",
       "    <tr>\n",
       "      <th>1308</th>\n",
       "      <td>Dogger Bank C</td>\n",
       "      <td>Teesside A, Zone 3, Lackenby A (Tranche B)</td>\n",
       "      <td>55.031196</td>\n",
       "    </tr>\n",
       "    <tr>\n",
       "      <th>1493</th>\n",
       "      <td>Dogger Bank D</td>\n",
       "      <td>Gatroben</td>\n",
       "      <td>55.065485</td>\n",
       "    </tr>\n",
       "    <tr>\n",
       "      <th>1400</th>\n",
       "      <td>Dogger Bank South (DBS East)</td>\n",
       "      <td>Dogger Bank South Two, Round 4 - Area 2</td>\n",
       "      <td>54.500705</td>\n",
       "    </tr>\n",
       "    <tr>\n",
       "      <th>1399</th>\n",
       "      <td>Dogger Bank South (DBS West)</td>\n",
       "      <td>Dogger Bank South One, Round 4 - Area 1</td>\n",
       "      <td>54.624942</td>\n",
       "    </tr>\n",
       "    <tr>\n",
       "      <th>1370</th>\n",
       "      <td>Dogger Bank Tranche D</td>\n",
       "      <td>Zone 3</td>\n",
       "      <td>55.429733</td>\n",
       "    </tr>\n",
       "    <tr>\n",
       "      <th>1419</th>\n",
       "      <td>Dolphyn Project - full scale</td>\n",
       "      <td>NaN</td>\n",
       "      <td>59.535875</td>\n",
       "    </tr>\n",
       "  </tbody>\n",
       "</table>\n",
       "</div>"
      ],
      "text/plain": [
       "                                     name   \n",
       "1486    Central North Sea Electrification  \\\n",
       "1325              Cirrus Shell Flat Array   \n",
       "1344                               Cromer   \n",
       "1509  Culzean Floating Wind Pilot Project   \n",
       "1291                        Docking Shoal   \n",
       "1310             Dogger Bank - Teesside C   \n",
       "1311             Dogger Bank - Teesside D   \n",
       "1497                        Dogger Bank A   \n",
       "1296                        Dogger Bank B   \n",
       "1308                        Dogger Bank C   \n",
       "1493                        Dogger Bank D   \n",
       "1400         Dogger Bank South (DBS East)   \n",
       "1399         Dogger Bank South (DBS West)   \n",
       "1370                Dogger Bank Tranche D   \n",
       "1419         Dolphyn Project - full scale   \n",
       "\n",
       "                                     other_names   latitude  \n",
       "1486                                         NaN  57.111656  \n",
       "1325                   Cirrus Array, Shell flats  53.892707  \n",
       "1344                                         NaN  53.005326  \n",
       "1509                         TotalEnergies INTOG  57.197453  \n",
       "1291                                         NaN   53.15441  \n",
       "1310            Zone 3, Todd Point A (Tranche C)  55.245447  \n",
       "1311            Zone 3, Todd Point B (Tranche C)   55.30495  \n",
       "1497          Creyke Beck A, Zone 3, Project One  54.769475  \n",
       "1296                       Creyke Beck B, Zone 3  54.977377  \n",
       "1308  Teesside A, Zone 3, Lackenby A (Tranche B)  55.031196  \n",
       "1493                                    Gatroben  55.065485  \n",
       "1400     Dogger Bank South Two, Round 4 - Area 2  54.500705  \n",
       "1399     Dogger Bank South One, Round 4 - Area 1  54.624942  \n",
       "1370                                      Zone 3  55.429733  \n",
       "1419                                         NaN  59.535875  "
      ]
     },
     "execution_count": 12,
     "metadata": {},
     "output_type": "execute_result"
    }
   ],
   "source": [
    "country = 'United Kingdom'\n",
    "fourc[fourc.country==country][['name', 'other_names', 'latitude']].sort_values(by='name')[40:55]"
   ]
  },
  {
   "cell_type": "code",
   "execution_count": 13,
   "id": "e4ff53d8-04d8-490c-be15-dfec97975106",
   "metadata": {
    "tags": []
   },
   "outputs": [
    {
     "data": {
      "text/html": [
       "<div>\n",
       "<style scoped>\n",
       "    .dataframe tbody tr th:only-of-type {\n",
       "        vertical-align: middle;\n",
       "    }\n",
       "\n",
       "    .dataframe tbody tr th {\n",
       "        vertical-align: top;\n",
       "    }\n",
       "\n",
       "    .dataframe thead th {\n",
       "        text-align: right;\n",
       "    }\n",
       "</style>\n",
       "<table border=\"1\" class=\"dataframe\">\n",
       "  <thead>\n",
       "    <tr style=\"text-align: right;\">\n",
       "      <th></th>\n",
       "      <th>name</th>\n",
       "      <th>geometry</th>\n",
       "    </tr>\n",
       "  </thead>\n",
       "  <tbody>\n",
       "    <tr>\n",
       "      <th>217</th>\n",
       "      <td>Connel (PLAT-I)</td>\n",
       "      <td>POLYGON ((-5.39916 56.45586, -5.39877 56.45624...</td>\n",
       "    </tr>\n",
       "    <tr>\n",
       "      <th>174</th>\n",
       "      <td>Creyke Beck A Wind Farm</td>\n",
       "      <td>POLYGON ((1.97695 54.65929, 1.63288 54.74169, ...</td>\n",
       "    </tr>\n",
       "    <tr>\n",
       "      <th>175</th>\n",
       "      <td>Creyke Beck B Wind Farm</td>\n",
       "      <td>POLYGON ((1.85498 55.10215, 1.86187 54.85924, ...</td>\n",
       "    </tr>\n",
       "    <tr>\n",
       "      <th>22</th>\n",
       "      <td>Docking Shoal Met Mast</td>\n",
       "      <td>POLYGON ((0.64789 53.15873, 0.64802 53.15872, ...</td>\n",
       "    </tr>\n",
       "    <tr>\n",
       "      <th>172</th>\n",
       "      <td>Dogger Bank - Teesside A</td>\n",
       "      <td>POLYGON ((3.03444 54.96115, 3.03187 54.95485, ...</td>\n",
       "    </tr>\n",
       "    <tr>\n",
       "      <th>285</th>\n",
       "      <td>Dogger Bank A</td>\n",
       "      <td>POLYGON ((1.97695 54.65929, 1.63288 54.74168, ...</td>\n",
       "    </tr>\n",
       "    <tr>\n",
       "      <th>286</th>\n",
       "      <td>Dogger Bank B</td>\n",
       "      <td>POLYGON ((1.85498 55.10215, 1.86187 54.85924, ...</td>\n",
       "    </tr>\n",
       "    <tr>\n",
       "      <th>292</th>\n",
       "      <td>Dogger Bank C</td>\n",
       "      <td>POLYGON ((3.03444 54.96115, 3.03187 54.95484, ...</td>\n",
       "    </tr>\n",
       "    <tr>\n",
       "      <th>331</th>\n",
       "      <td>Dogger Bank East Met Mast</td>\n",
       "      <td>POLYGON ((2.70276 55.10165, 2.70297 55.10164, ...</td>\n",
       "    </tr>\n",
       "    <tr>\n",
       "      <th>332</th>\n",
       "      <td>Dogger Bank West Met Mast</td>\n",
       "      <td>POLYGON ((1.82018 54.86919, 1.82039 54.86918, ...</td>\n",
       "    </tr>\n",
       "    <tr>\n",
       "      <th>283</th>\n",
       "      <td>Dounreay Tri Wind Farm</td>\n",
       "      <td>POLYGON ((-3.89188 58.67418, -3.84877 58.67447...</td>\n",
       "    </tr>\n",
       "    <tr>\n",
       "      <th>178</th>\n",
       "      <td>Dudgeon Extension</td>\n",
       "      <td>MULTIPOLYGON (((1.40039 53.34837, 1.40001 53.3...</td>\n",
       "    </tr>\n",
       "    <tr>\n",
       "      <th>147</th>\n",
       "      <td>Dudgeon Wind Farm</td>\n",
       "      <td>POLYGON ((1.34269 53.31542, 1.44650 53.26760, ...</td>\n",
       "    </tr>\n",
       "    <tr>\n",
       "      <th>341</th>\n",
       "      <td>E1</td>\n",
       "      <td>POLYGON ((-0.47392 56.91518, -0.45823 56.91451...</td>\n",
       "    </tr>\n",
       "    <tr>\n",
       "      <th>340</th>\n",
       "      <td>E2</td>\n",
       "      <td>POLYGON ((-0.50129 57.47805, -0.48542 57.47756...</td>\n",
       "    </tr>\n",
       "  </tbody>\n",
       "</table>\n",
       "</div>"
      ],
      "text/plain": [
       "                          name   \n",
       "217            Connel (PLAT-I)  \\\n",
       "174    Creyke Beck A Wind Farm   \n",
       "175    Creyke Beck B Wind Farm   \n",
       "22      Docking Shoal Met Mast   \n",
       "172   Dogger Bank - Teesside A   \n",
       "285              Dogger Bank A   \n",
       "286              Dogger Bank B   \n",
       "292              Dogger Bank C   \n",
       "331  Dogger Bank East Met Mast   \n",
       "332  Dogger Bank West Met Mast   \n",
       "283     Dounreay Tri Wind Farm   \n",
       "178          Dudgeon Extension   \n",
       "147          Dudgeon Wind Farm   \n",
       "341                         E1   \n",
       "340                         E2   \n",
       "\n",
       "                                              geometry  \n",
       "217  POLYGON ((-5.39916 56.45586, -5.39877 56.45624...  \n",
       "174  POLYGON ((1.97695 54.65929, 1.63288 54.74169, ...  \n",
       "175  POLYGON ((1.85498 55.10215, 1.86187 54.85924, ...  \n",
       "22   POLYGON ((0.64789 53.15873, 0.64802 53.15872, ...  \n",
       "172  POLYGON ((3.03444 54.96115, 3.03187 54.95485, ...  \n",
       "285  POLYGON ((1.97695 54.65929, 1.63288 54.74168, ...  \n",
       "286  POLYGON ((1.85498 55.10215, 1.86187 54.85924, ...  \n",
       "292  POLYGON ((3.03444 54.96115, 3.03187 54.95484, ...  \n",
       "331  POLYGON ((2.70276 55.10165, 2.70297 55.10164, ...  \n",
       "332  POLYGON ((1.82018 54.86919, 1.82039 54.86918, ...  \n",
       "283  POLYGON ((-3.89188 58.67418, -3.84877 58.67447...  \n",
       "178  MULTIPOLYGON (((1.40039 53.34837, 1.40001 53.3...  \n",
       "147  POLYGON ((1.34269 53.31542, 1.44650 53.26760, ...  \n",
       "341  POLYGON ((-0.47392 56.91518, -0.45823 56.91451...  \n",
       "340  POLYGON ((-0.50129 57.47805, -0.48542 57.47756...  "
      ]
     },
     "execution_count": 13,
     "metadata": {},
     "output_type": "execute_result"
    }
   ],
   "source": [
    "emod[emod.country==country][['name', 'geometry']].sort_values(by='name')[25:40]"
   ]
  },
  {
   "cell_type": "code",
   "execution_count": null,
   "id": "f2546e1e-1307-47be-9a2c-f7d48e549098",
   "metadata": {},
   "outputs": [],
   "source": []
  }
 ],
 "metadata": {
  "kernelspec": {
   "display_name": "Python 3 (ipykernel)",
   "language": "python",
   "name": "python3"
  },
  "language_info": {
   "codemirror_mode": {
    "name": "ipython",
    "version": 3
   },
   "file_extension": ".py",
   "mimetype": "text/x-python",
   "name": "python",
   "nbconvert_exporter": "python",
   "pygments_lexer": "ipython3",
   "version": "3.11.4"
  }
 },
 "nbformat": 4,
 "nbformat_minor": 5
}
