{
 "cells": [
  {
   "cell_type": "code",
   "execution_count": 11,
   "id": "906405d9-d91f-45cf-9d73-64b2d5bf2813",
   "metadata": {},
   "outputs": [
    {
     "name": "stdout",
     "output_type": "stream",
     "text": [
      "Collecting pyvoronoi\n",
      "  Using cached pyvoronoi-1.0.7.tar.gz (147 kB)\n",
      "  Preparing metadata (setup.py) ... \u001b[?25ldone\n",
      "\u001b[?25hBuilding wheels for collected packages: pyvoronoi\n",
      "  Building wheel for pyvoronoi (setup.py) ... \u001b[?25lerror\n",
      "  \u001b[1;31merror\u001b[0m: \u001b[1msubprocess-exited-with-error\u001b[0m\n",
      "  \n",
      "  \u001b[31m×\u001b[0m \u001b[32mpython setup.py bdist_wheel\u001b[0m did not run successfully.\n",
      "  \u001b[31m│\u001b[0m exit code: \u001b[1;36m1\u001b[0m\n",
      "  \u001b[31m╰─>\u001b[0m \u001b[31m[14 lines of output]\u001b[0m\n",
      "  \u001b[31m   \u001b[0m Distribution mode: Compiling Cython generated .cpp sources.\n",
      "  \u001b[31m   \u001b[0m running bdist_wheel\n",
      "  \u001b[31m   \u001b[0m running build\n",
      "  \u001b[31m   \u001b[0m running build_ext\n",
      "  \u001b[31m   \u001b[0m building 'pyvoronoi' extension\n",
      "  \u001b[31m   \u001b[0m creating build\n",
      "  \u001b[31m   \u001b[0m creating build/temp.linux-aarch64-cpython-311\n",
      "  \u001b[31m   \u001b[0m creating build/temp.linux-aarch64-cpython-311/pyvoronoi\n",
      "  \u001b[31m   \u001b[0m gcc -pthread -B /opt/conda/compiler_compat -Wsign-compare -DNDEBUG -fwrapv -O3 -Wall -fPIC -O3 -isystem /opt/conda/include -fPIC -O3 -isystem /opt/conda/include -fPIC -Ipyvoronoi -I/opt/conda/include/python3.11 -c pyvoronoi/pyvoronoi.cpp -o build/temp.linux-aarch64-cpython-311/pyvoronoi/pyvoronoi.o\n",
      "  \u001b[31m   \u001b[0m pyvoronoi/pyvoronoi.cpp:198:12: fatal error: longintrepr.h: No such file or directory\n",
      "  \u001b[31m   \u001b[0m   198 |   #include \"longintrepr.h\"\n",
      "  \u001b[31m   \u001b[0m       |            ^~~~~~~~~~~~~~~\n",
      "  \u001b[31m   \u001b[0m compilation terminated.\n",
      "  \u001b[31m   \u001b[0m error: command '/usr/bin/gcc' failed with exit code 1\n",
      "  \u001b[31m   \u001b[0m \u001b[31m[end of output]\u001b[0m\n",
      "  \n",
      "  \u001b[1;35mnote\u001b[0m: This error originates from a subprocess, and is likely not a problem with pip.\n",
      "\u001b[31m  ERROR: Failed building wheel for pyvoronoi\u001b[0m\u001b[31m\n",
      "\u001b[0m\u001b[?25h  Running setup.py clean for pyvoronoi\n",
      "Failed to build pyvoronoi\n",
      "\u001b[31mERROR: Could not build wheels for pyvoronoi, which is required to install pyproject.toml-based projects\u001b[0m\u001b[31m\n",
      "\u001b[0m"
     ]
    }
   ],
   "source": [
    "!pip install pyvoronoi"
   ]
  },
  {
   "cell_type": "code",
   "execution_count": 7,
   "id": "2c8e5294-685f-4285-be59-4a2676b68855",
   "metadata": {},
   "outputs": [],
   "source": [
    "file = ('../../drive/energy/renewables/docs/uittreksels/20180627-1031_66937957_NL.pdf')"
   ]
  },
  {
   "cell_type": "code",
   "execution_count": 10,
   "id": "8e33ba66-67db-47d1-9eda-278474ea9cf0",
   "metadata": {},
   "outputs": [
    {
     "ename": "ModuleNotFoundError",
     "evalue": "No module named 'pyvoronoi'",
     "output_type": "error",
     "traceback": [
      "\u001b[0;31m---------------------------------------------------------------------------\u001b[0m",
      "\u001b[0;31mModuleNotFoundError\u001b[0m                       Traceback (most recent call last)",
      "Cell \u001b[0;32mIn[10], line 2\u001b[0m\n\u001b[1;32m      1\u001b[0m \u001b[38;5;28;01mfrom\u001b[39;00m \u001b[38;5;21;01mpy_pdf_parser\u001b[39;00m\u001b[38;5;21;01m.\u001b[39;00m\u001b[38;5;21;01mloaders\u001b[39;00m \u001b[38;5;28;01mimport\u001b[39;00m load_file\n\u001b[0;32m----> 2\u001b[0m \u001b[38;5;28;01mfrom\u001b[39;00m \u001b[38;5;21;01mpy_pdf_parser\u001b[39;00m\u001b[38;5;21;01m.\u001b[39;00m\u001b[38;5;21;01mvisualise\u001b[39;00m \u001b[38;5;28;01mimport\u001b[39;00m visualise\n",
      "File \u001b[0;32m/opt/conda/lib/python3.11/site-packages/py_pdf_parser/visualise/__init__.py:1\u001b[0m\n\u001b[0;32m----> 1\u001b[0m \u001b[38;5;28;01mfrom\u001b[39;00m \u001b[38;5;21;01m.\u001b[39;00m\u001b[38;5;21;01mmain\u001b[39;00m \u001b[38;5;28;01mimport\u001b[39;00m visualise\n\u001b[1;32m      3\u001b[0m __all__ \u001b[38;5;241m=\u001b[39m [\n\u001b[1;32m      4\u001b[0m     \u001b[38;5;124m\"\u001b[39m\u001b[38;5;124mvisualise\u001b[39m\u001b[38;5;124m\"\u001b[39m,\n\u001b[1;32m      5\u001b[0m ]\n",
      "File \u001b[0;32m/opt/conda/lib/python3.11/site-packages/py_pdf_parser/visualise/main.py:15\u001b[0m\n\u001b[1;32m     13\u001b[0m \u001b[38;5;28;01mfrom\u001b[39;00m \u001b[38;5;21;01m.\u001b[39;00m\u001b[38;5;21;01mbackground\u001b[39;00m \u001b[38;5;28;01mimport\u001b[39;00m get_pdf_background\n\u001b[1;32m     14\u001b[0m \u001b[38;5;28;01mfrom\u001b[39;00m \u001b[38;5;21;01m.\u001b[39;00m\u001b[38;5;21;01minfo_figure\u001b[39;00m \u001b[38;5;28;01mimport\u001b[39;00m get_clicked_element_info\n\u001b[0;32m---> 15\u001b[0m \u001b[38;5;28;01mfrom\u001b[39;00m \u001b[38;5;21;01m.\u001b[39;00m\u001b[38;5;21;01msections\u001b[39;00m \u001b[38;5;28;01mimport\u001b[39;00m SectionVisualiser\n\u001b[1;32m     17\u001b[0m \u001b[38;5;28;01mif\u001b[39;00m TYPE_CHECKING:\n\u001b[1;32m     18\u001b[0m     \u001b[38;5;28;01mfrom\u001b[39;00m \u001b[38;5;21;01mmatplotlib\u001b[39;00m\u001b[38;5;21;01m.\u001b[39;00m\u001b[38;5;21;01maxes\u001b[39;00m \u001b[38;5;28;01mimport\u001b[39;00m Axes\n",
      "File \u001b[0;32m/opt/conda/lib/python3.11/site-packages/py_pdf_parser/visualise/sections.py:3\u001b[0m\n\u001b[1;32m      1\u001b[0m \u001b[38;5;28;01mfrom\u001b[39;00m \u001b[38;5;21;01mtyping\u001b[39;00m \u001b[38;5;28;01mimport\u001b[39;00m TYPE_CHECKING, Dict, List, Optional, Tuple, Union\n\u001b[0;32m----> 3\u001b[0m \u001b[38;5;28;01mimport\u001b[39;00m \u001b[38;5;21;01mpyvoronoi\u001b[39;00m\n\u001b[1;32m      4\u001b[0m \u001b[38;5;28;01mfrom\u001b[39;00m \u001b[38;5;21;01mmatplotlib\u001b[39;00m \u001b[38;5;28;01mimport\u001b[39;00m cm\n\u001b[1;32m      5\u001b[0m \u001b[38;5;28;01mfrom\u001b[39;00m \u001b[38;5;21;01mshapely\u001b[39;00m \u001b[38;5;28;01mimport\u001b[39;00m geometry, ops\n",
      "\u001b[0;31mModuleNotFoundError\u001b[0m: No module named 'pyvoronoi'"
     ]
    }
   ],
   "source": [
    "from py_pdf_parser.loaders import load_file\n",
    "from py_pdf_parser.visualise import visualise"
   ]
  },
  {
   "cell_type": "code",
   "execution_count": null,
   "id": "8df76db8-066e-44df-ae5b-1ccae89f2b1a",
   "metadata": {},
   "outputs": [],
   "source": [
    "doc = load_file(file)"
   ]
  },
  {
   "cell_type": "code",
   "execution_count": null,
   "id": "958aa877-e2a3-4175-bb80-f4451f8395fb",
   "metadata": {},
   "outputs": [],
   "source": [
    "for element in doc.elements:\n",
    "    print(element.text())"
   ]
  },
  {
   "cell_type": "code",
   "execution_count": null,
   "id": "a99d0b8e-7b9f-4f8c-9174-f6a1fb21647c",
   "metadata": {},
   "outputs": [],
   "source": []
  },
  {
   "cell_type": "code",
   "execution_count": null,
   "id": "919a0532-cb16-4bae-bc11-bcd1666d6a58",
   "metadata": {},
   "outputs": [],
   "source": []
  },
  {
   "cell_type": "code",
   "execution_count": null,
   "id": "badb495f-6c2f-4025-965c-e5c5167aef3e",
   "metadata": {},
   "outputs": [],
   "source": []
  },
  {
   "cell_type": "code",
   "execution_count": null,
   "id": "222d8397-23bb-455b-ad6b-b6cd8619c5d0",
   "metadata": {},
   "outputs": [],
   "source": []
  },
  {
   "cell_type": "code",
   "execution_count": null,
   "id": "c8ff451c-b1d8-4172-a9d7-ea3cb3ded6c6",
   "metadata": {},
   "outputs": [],
   "source": []
  },
  {
   "cell_type": "code",
   "execution_count": null,
   "id": "ae7ec31a-e77f-4746-9dc6-68bf9b130102",
   "metadata": {},
   "outputs": [],
   "source": [
    "PATH_DATA = '../../drive/energy/renewables/'"
   ]
  },
  {
   "cell_type": "code",
   "execution_count": null,
   "id": "b4c248c6-1339-4e85-bd8c-2ffed17bda99",
   "metadata": {},
   "outputs": [],
   "source": [
    "reader = PdfReader('../../drive/energy/renewables/docs/uittreksels/20180627-1031_66937957_NL.pdf')"
   ]
  },
  {
   "cell_type": "code",
   "execution_count": null,
   "id": "e58c9ca8-4ce9-4b51-8326-4065c3f831a2",
   "metadata": {},
   "outputs": [],
   "source": [
    "pagenumber = 0\n",
    "text = ''\n",
    "    \n",
    "while pagenumber < len(reader.pages):\n",
    "    page = reader.pages[pagenumber]\n",
    "    text += page.extract_text()\n",
    "    pagenumber += 1"
   ]
  },
  {
   "cell_type": "code",
   "execution_count": null,
   "id": "7c58751f-9b59-44a9-9a3e-012f570b5934",
   "metadata": {},
   "outputs": [],
   "source": [
    "print(text)"
   ]
  },
  {
   "cell_type": "code",
   "execution_count": null,
   "id": "b153257c-fe27-4568-b6f8-25b2ccb4950a",
   "metadata": {},
   "outputs": [],
   "source": [
    "with open('../../config/companyinfo.yaml', 'r') as file:\n",
    "    patterns = yaml.safe_load(file)"
   ]
  },
  {
   "cell_type": "code",
   "execution_count": null,
   "id": "0804dfa6-b2df-41e8-8c6f-de91f6bcbb3b",
   "metadata": {},
   "outputs": [],
   "source": [
    "\n",
    "def get_bestuurders(pdf_file):\n",
    "\n",
    "    # Parse pdf to text\n",
    "\n",
    "    reader = PdfReader(pdf_file)\n",
    "    \n",
    "    pagenumber = 0\n",
    "    text = ''\n",
    "    \n",
    "    while pagenumber < len(reader.pages):\n",
    "        page = reader.pages[pagenumber]\n",
    "        text += page.extract_text()\n",
    "        pagenumber += 1\n",
    "\n",
    "    # Get regex patterns for uittreksels (import from YAML\n",
    "\n",
    "    uit = patterns.get('uittreksel')\n",
    "\n",
    "    # Compile regex\n",
    "    kvk_nummer = int(re.findall(re.compile(uit.get('kvk_nummer', 'Unknown')), text)[0].strip())\n",
    "    rsin = int(re.findall(re.compile(uit.get('rsin', 'Unknown')), text)[0])\n",
    "    rechtsvorm = re.findall(re.compile(uit.get('rechtsvorm', 'Unknown')), text)[0].strip()\n",
    "    stat_naam = re.findall(re.compile(uit.get('stat_naam', 'Unknown')), text)[0].strip()\n",
    "    stat_zetel = re.findall(re.compile(uit.get('stat_zetel', 'Unknown')), text)[0].strip()\n",
    "    inschrijving = re.findall(re.compile(uit.get('inschrijving', 'Unknown')), text)[0].strip()\n",
    "    handelsnaam = re.findall(re.compile(uit.get('handelsnaam', 'Unknown')), text)[0].strip()\n",
    "    sbi_codes = list(set(re.findall(re.compile(uit.get('sbi_codes', 'Unknown')), text)))\n",
    "    vestigingsnr = re.findall(re.compile(uit.get('vestigingsnr', 'Unknown')), text)[0] # leave as srtring because of padded zeroes\n",
    "    b_adres = re.findall(re.compile(uit.get('b_adres', 'Unknown')), text)[0].strip()\n",
    "    #p_adres = re.findall(re.compile(uit.get('p_adres', 'Unknown')), text)[0].strip()\n",
    "    tel = re.findall(re.compile(uit.get('tel', 'Unknown')), text)[0].strip() # leave as string because of padded zero\n",
    "    bestuurders = re.findall(re.compile(uit.get('bestuurders'), re.DOTALL), text)[0].split('Naam')\n",
    "    #best_naam = re.findall(re.compile(uit.get('best_naam', 'Unknown')), text)\n",
    "    #best_gebdat = re.findall(re.compile(uit.get('best_gebdat', 'Unknown')), text)\n",
    "    #best_in_functie = re.findall(re.compile(uit.get('best_in_functie', 'Unknown')), text)\n",
    "    #best_titel = re.findall(re.compile(uit.get('best_titel', 'Unknown')), text)[0]\n",
    "    #best_bevoegd = re.findall(re.compile(uit.get('best_bevoegd', 'Unknown')), text)\n",
    "    dat_uittreksel = re.findall(re.compile(uit.get('dat_uittreksel', 'Unknown')), text)[0]\n",
    "\n",
    "    # Parse files\n",
    "\n",
    "    records = [] # Create empty list\n",
    "\n",
    "    # Iterate through text\n",
    "    \n",
    "    for bestuurder in bestuurders:\n",
    "        \n",
    "        record = {'kvk_nummer': kvk_nummer,\n",
    "                   'rsin': rsin,\n",
    "                   'rechtsvorm': rechtsvorm,\n",
    "                   'statutaire_naam': stat_naam,\n",
    "                   'statutaire_zetel': stat_zetel,\n",
    "                   'inschrijfdatum': inschrijving,\n",
    "                   'handelsnaam': handelsnaam,\n",
    "                   'sbi_codes': sbi_codes,\n",
    "                   'vestigingsnummer': vestigingsnr,\n",
    "                   'bezoekadres': b_adres,\n",
    "                   #'postadres': p_adres,\n",
    "                   'telefoon': tel,\n",
    "                   'datum_uittreksel': dat_uittreksel}\n",
    "        \n",
    "        record['naam_bestuurder'] = re.findall('(?<= )(.*)(?=\\nGeboortedatum)', bestuurder)[0]\n",
    "        record['geboortedatum'] = re.findall('\\d{2}-\\d{2}-\\d{4}', bestuurder)[0]\n",
    "        record['bestuurder_in_functie'] = re.findall('\\d{2}-\\d{2}-\\d{4}', bestuurder)[1]\n",
    "        record['titel_bestuurder'] = re.findall('(?<=Titel )(.*)(?=\\nBevoegdheid)', bestuurder)[0]        \n",
    "        \n",
    "        records.append(record)\n",
    "\n",
    "        # Create dataframe\n",
    "\n",
    "    df = pd.DataFrame(records)\n",
    "\n",
    "    return df"
   ]
  },
  {
   "cell_type": "code",
   "execution_count": null,
   "id": "78941ff4-f612-4986-973c-e11b4cc86fce",
   "metadata": {},
   "outputs": [],
   "source": [
    "bestuurders"
   ]
  },
  {
   "cell_type": "code",
   "execution_count": null,
   "id": "5193c22c-8f3a-4d74-b617-8946ecd38f79",
   "metadata": {},
   "outputs": [],
   "source": [
    "from glob import glob\n",
    "dfs = []\n",
    "for file in glob(PATH_DATA + 'docs/uittreksels/*.pdf'):\n",
    "    print(file)\n",
    "    df = get_bestuurders(file)\n",
    "    dfs.append(df)"
   ]
  },
  {
   "cell_type": "code",
   "execution_count": null,
   "id": "45a585ea-d019-4de0-a8e9-968f9193dc52",
   "metadata": {},
   "outputs": [],
   "source": [
    "df = pd.concat(dfs)\n",
    "df.datum_uittreksel = pd.to_datetime(df.datum_uittreksel, dayfirst=True)\n",
    "df = df.sort_values(by='datum_uittreksel', ascending=False)\n",
    "df.drop_duplicates(subset=['naam_bestuurder',  'kvk_nummer', 'bestuurder_in_functie'], inplace=True)"
   ]
  },
  {
   "cell_type": "code",
   "execution_count": null,
   "id": "380ec16d-9601-42c9-bc46-8e3ad5453d72",
   "metadata": {},
   "outputs": [],
   "source": [
    "df"
   ]
  },
  {
   "cell_type": "code",
   "execution_count": null,
   "id": "d11c333a-bb9e-4fe8-899b-fa6209439832",
   "metadata": {},
   "outputs": [],
   "source": [
    "records = []\n",
    "\n",
    "for naam, datum, in_functie, titel, bevoegd in zip(best_naam, best_gebdat, best_in_functie, best_titel, best_bevoegd):\n",
    "    record = {'kvk_nummer': kvk_nummer,\n",
    "           'rsin': rsin,\n",
    "           'rechtsvorm': rechtsvorm,\n",
    "           'statutaire_naam': stat_naam,\n",
    "           'statutaire_stad': stat_city,\n",
    "           'statutair_land': stat_country,\n",
    "           'inschrijfdatum': inschrijving,\n",
    "           'handelsnaam': handelsnaam,\n",
    "           'sbi_codes': sbi_codes,\n",
    "           'vestigingsnummer': vestigingsnr,\n",
    "           'bezoekadres': b_adres,\n",
    "           'postadres': p_adres,\n",
    "           'telefoon': tel,\n",
    "           'datum_uittreksel': dat_uittreksel}\n",
    "    \n",
    "    record['naam_bestuurder'] = naam\n",
    "    if len(best_gebdat) == len(best_naam):\n",
    "        record['geboortedatum'] = datum.split(', ')[0]\n",
    "        record['geboorteplaats'] = datum.split(', ')[1]\n",
    "    if len(best_in_functie) == len(best_naam):\n",
    "        record['bestuurder_in_functie'] = in_functie\n",
    "    if len(best_titel) == len(best_naam):\n",
    "        record['titel_bestuurder'] = titel\n",
    "    if len(best_bevoegd) == len(best_naam):\n",
    "        record['bevoegdheid_bestuurder'] = bevoegd\n",
    "    records.append(record)"
   ]
  },
  {
   "cell_type": "code",
   "execution_count": null,
   "id": "bb07d37c-e140-4b77-9263-5d96b1b285c2",
   "metadata": {},
   "outputs": [],
   "source": [
    "pd.DataFrame(records)"
   ]
  },
  {
   "cell_type": "code",
   "execution_count": null,
   "id": "e362ad0f-b517-4c51-915a-678b03484936",
   "metadata": {},
   "outputs": [],
   "source": [
    "best_gebdat = re.findall(uit.get('best_gebdat'), text)\n",
    "best_stad = re.findall(uit.get('best_gebdat'), text)[1].split(', ')[1]\n",
    "best_country = re.findall(uit.get('best_gebdat'), text)[1].split(', ')[2]"
   ]
  },
  {
   "cell_type": "code",
   "execution_count": null,
   "id": "05863c23-2ca7-4377-81bd-d83846458519",
   "metadata": {},
   "outputs": [],
   "source": [
    "best_gebdat"
   ]
  },
  {
   "cell_type": "code",
   "execution_count": null,
   "id": "c28d5bb4-a25c-4ced-980c-0644e249929c",
   "metadata": {},
   "outputs": [],
   "source": [
    "patterns = ['kvk_nummer', 'rsin', '"
   ]
  },
  {
   "cell_type": "code",
   "execution_count": null,
   "id": "720e9b54-b053-447b-b558-e0f55ceaf22e",
   "metadata": {},
   "outputs": [],
   "source": [
    "\n",
    "rechtsvorm = re.findall(re.compile(uit.get('rechtsvorm'), re.DOTALL), text)[0]\n",
    "stat_naam = re.findall(re.compile(uit.get('stat_naam'), re.DOTALL), text)[0]\n",
    "stat_zetel = re.findall(re.compile(uit.get('stat_zetel'), re.DOTALL), text)[0]\n",
    "inschrijving = re.findall(re.compile(uit.get('inschrijving'), re.DOTALL), text)[0]\n",
    "handelsnaam  = re.findall(handelsnaam, text)[0]\n",
    "sbi_codes = re.findall(sbi_codes, text)\n",
    "vestigingsnr = re.findall(vestigingsnr, text)[0] # leave as string because of padded zeroes\n"
   ]
  },
  {
   "cell_type": "code",
   "execution_count": null,
   "id": "cb528f25-c03b-45ce-bee5-61af59ca5013",
   "metadata": {},
   "outputs": [],
   "source": [
    "# Parse uittreksels\n",
    "\n",
    "kvk_nummer = re.compile('(?<=KvK-nummer  )(.*)(?=\\\\n)')\n",
    "rechtspersoon = re.compile('(?<=Rechtspersoon\\\\nRSIN\\s)([0-9]+)\\\\n')\n",
    "rechtsvorm = re.compile('Rechtsvorm ([A-Za-z ]+)\\\\n')\n",
    "stat_naam = re.compile('Statutaire naam ([A-Za-z \\u0080-\\uFFFF\\.0-9]+)\\\\n')\n",
    "stat_zetel = re.compile('Statutaire zetel ([A-Za-z, \\u0080-\\uFFFF]+)\\\\n')\n",
    "inschrijving = re.compile('Eerste inschrijving handelsregister (\\d{2}-\\d{2}-\\d{4})\\\\n')\n",
    "handelsnaam = re.compile('Handelsnaam ([A-Za-z \\u0080-\\uFFFF\\.0-9]+)\\\\n')\n",
    "sbi_codes = re.compile('SBI-code: ([0-9 \\-A-Za-z]+)\\\\n')\n",
    "vestigingsnr = re.compile('Vestigingsnummer ([0-9]+)\\\\n')\n",
    "b_adres = re.compile('\\nBezoekadres ([A-Za-z0-9 \\u0080-\\uFFFF.,]+)\\\\n')\n",
    "p_adres = re.compile('Postadres ([A-Za-z0-9 \\u0080-\\uFFFF.,]+)\\\\n')\n",
    "tel = re.compile('Telefoonnummer ([0-9]+)\\\\n')\n",
    "best_naam = re.compile('\\nNaam ([A-Za-z \\u0080-\\uFFFF,\\.\\-]+)\\\\n')\n",
    "best_gebdat = re.compile(\"Geboortedatum en -plaats ([0-9A-Za-z \\-\\u0080-\\uFFFF,\\(\\)\\'\\.]+)\\\\n\")\n",
    "best_in_functie = re.compile('Datum in functie (\\d{2}-\\d{2}-\\d{4}) ')\n",
    "best_titel = re.compile('Titel ([A-Za-z]+)\\\\n')\n",
    "best_bevoegd = re.compile('Bevoegdheid ([A-Za-z \\(\\),\\.]+)\\\\n')\n",
    "dat_uittreksel = re.compile('Uittreksel is vervaardigd op (\\d{2}-\\d{2}-\\d{4})')"
   ]
  },
  {
   "cell_type": "code",
   "execution_count": null,
   "id": "7f414fa4-7934-4394-bb8f-59935bc5fc88",
   "metadata": {},
   "outputs": [],
   "source": []
  },
  {
   "cell_type": "code",
   "execution_count": null,
   "id": "1d228889-7d7f-408e-85fa-6f5a0f770f0d",
   "metadata": {},
   "outputs": [],
   "source": [
    "text"
   ]
  },
  {
   "cell_type": "code",
   "execution_count": null,
   "id": "a14075a1-818f-49e7-9aa9-5df1522626d8",
   "metadata": {},
   "outputs": [],
   "source": []
  }
 ],
 "metadata": {
  "kernelspec": {
   "display_name": "Python 3 (ipykernel)",
   "language": "python",
   "name": "python3"
  },
  "language_info": {
   "codemirror_mode": {
    "name": "ipython",
    "version": 3
   },
   "file_extension": ".py",
   "mimetype": "text/x-python",
   "name": "python",
   "nbconvert_exporter": "python",
   "pygments_lexer": "ipython3",
   "version": "3.11.4"
  }
 },
 "nbformat": 4,
 "nbformat_minor": 5
}
