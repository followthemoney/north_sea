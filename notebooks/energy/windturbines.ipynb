{
 "cells": [
  {
   "cell_type": "code",
   "execution_count": null,
   "id": "cd322adf-9cd1-439e-8540-f099e8e34e0e",
   "metadata": {
    "tags": []
   },
   "outputs": [],
   "source": [
    "%load_ext autoreload\n",
    "%autoreload 2"
   ]
  },
  {
   "cell_type": "markdown",
   "id": "bb2a70f6-3a99-40cc-b390-577b78feaeba",
   "metadata": {},
   "source": [
    "# North Sea Wind Farms"
   ]
  },
  {
   "cell_type": "markdown",
   "id": "0e88dfc8-a5c0-446c-a232-d1e10d84d84d",
   "metadata": {},
   "source": [
    "## Goal\n",
    "\n",
    "The goal of this notebook is to collect (spatial) data and generate statistics on wind farms in the North Sea. We want information on:\n",
    "1. Spatial status and changes\n",
    "2. Temporal changes\n",
    "3. Technical specifics on turbines (power, infrastructure incl. cabels, materials, supply chain)\n",
    "5. Ownership\n",
    "6. End-users"
   ]
  },
  {
   "cell_type": "markdown",
   "id": "676af659-74ae-4d39-a41a-a9592d0eb163",
   "metadata": {},
   "source": [
    "## Data sources\n",
    "\n",
    "### Location and ownership\n",
    "\n",
    "1. MapStand: installed and planned windfarms (wfs)\n",
    "2. Global Offshore Wind Farm Database And Intelligence, 4COffshore ([source](https://www.4coffshore.com/windfarms/)). Holds information on location, ownership and production of wind farms. Is a commercial provider. Some data seem a bit messy (e.g. the categorisation into sea areas is not consistent. \n",
    "3. Wind Europe Public database ([source](https://windeurope.org/intelligence-platform/product/european-offshore-wind-farms-map-public/)). Holds information on location and ownership. Is a lobby organisation. Dataset is probably not complete. \n",
    "4. EMODnet Wind Turbines ([source](https://emodnet.ec.europa.eu/geonetwork/emodnet/eng/catalog.search#/search?any=EMODnet%20Human%20Activities,%20Wind%20Farms)). Norway data is lacking. Data is current and has been extensively verified up until January 1st this year, so this is a very useful resource.\n",
    "5. Crown Estate offshore wind farm onwership tables ([source](https://www.thecrownestate.co.uk/en-gb/what-we-do/on-the-seabed/energy/offshore-wind-farm-ownership/#OFTOownership)). More data available at the Crown Estate open data portal ([source](https://opendata-thecrownestate.opendata.arcgis.com/search?groupIds=f0d0ec92da76434d9e91f2e4dcb3a99f)). And here for Scotland ([source](https://crown-estate-scotland-spatial-hub-coregis.hub.arcgis.com/search?tags=offshore%20wind)). Official UK registries. Data quality is presumed to be good.\n",
    "6. NVE data from Norway ([source](https://nedlasting.nve.no/gis/)). Offical Norwegian registry. Data quality is presumed to be good.\n",
    "7. Netherlands wind turbines from RIVM ([source](https://data.rivm.nl/meta/srv/dut/catalog.search#/search?resultType=details&sortBy=relevance&fast=index&_content_type=json&from=1&to=20&any=Windturbines%20-%20vermogen)). Data quality is good. Is point data instead of polygons. Info on individual turbines (height, power, location).\n",
    "8. Denmark\n",
    "9. Germany\n",
    "10. Belgium\n",
    "\n",
    "### Tenders and supply chain\n",
    "1. Bloomberg Terminal (at office of FTM): contains information on the supply chain of wind turbine manufacturers. Some data might be outdated. \n",
    "2. Aleph (FTM data repository) contains all European Tenders"
   ]
  },
  {
   "cell_type": "code",
   "execution_count": null,
   "id": "91d6ff4a-ee6f-47e5-92fc-0c0d13b29c28",
   "metadata": {
    "tags": []
   },
   "outputs": [],
   "source": [
    "import pandas as pd\n",
    "import geopandas as gpd\n",
    "from requests import Request\n",
    "import ast\n",
    "import yaml\n",
    "from owslib.wfs import WebFeatureService \n",
    "from dotenv import load_dotenv\n",
    "import os\n",
    "from hvplot import pandas\n",
    "import missingno as msno\n",
    "import fiona\n",
    "\n",
    "%matplotlib inline\n",
    "pd.options.display.max_columns = 50\n",
    "load_dotenv('../../.env')"
   ]
  },
  {
   "cell_type": "code",
   "execution_count": null,
   "id": "75dd7c7a-581e-43e4-ae9e-3f583eab7513",
   "metadata": {
    "tags": []
   },
   "outputs": [],
   "source": [
    "# Set path\n",
    "\n",
    "PATH_DATA = '../../drive/energy/renewables/'\n",
    "\n",
    "# Get API_KEY\n",
    "\n",
    "API_KEY = os.environ.get('MAPSTAND_API_KEY')\n",
    "\n",
    "# Import config\n",
    "\n",
    "with open('../../config/ontology.yaml') as yaml_file:\n",
    "    config = yaml.safe_load(yaml_file)\n",
    "\n",
    "cols_clean = config.get('infra_columns').get('wind')\n",
    "values_clean = config.get('infra_values').get('wind')"
   ]
  },
  {
   "cell_type": "markdown",
   "id": "02507f42-d7b5-4cbd-87f7-804ae0400f3d",
   "metadata": {},
   "source": [
    "## Import and clean EMODnet"
   ]
  },
  {
   "cell_type": "code",
   "execution_count": null,
   "id": "64810a40-d015-435e-8504-c7473246d475",
   "metadata": {
    "tags": []
   },
   "outputs": [],
   "source": [
    "# Import EMODnet\n",
    "\n",
    "emod = gpd.read_file(f'{PATH_DATA}EMODnet_HA_WindFarms_20221219/EMODnet_HA_WindFarms_pg_20221219.shp')\n",
    "\n",
    "# Filter North Sea countries\n",
    "\n",
    "emod = emod[emod.COUNTRY.isin(['Denmark', 'United Kingdom', 'Netherlands', 'Germany', 'Belgium'])].copy()\n",
    "\n",
    "# Column names to lowercase\n",
    "\n",
    "emod.columns = emod.columns.str.lower()\n",
    "\n",
    "# Select relevant columns\n",
    "\n",
    "emod = emod[['country', 'name', 'n_turbines', 'power_mw', 'status', 'year', 'geometry']].copy().reset_index().drop('index', axis=1)\n",
    "\n",
    "# Get list of project names for comparison\n",
    "\n",
    "emod_names = list(set(emod.name.str.lower()))\n",
    "print(f'Found {len(emod_names)} unique windparks in the North Sea (excluding Norway)')"
   ]
  },
  {
   "cell_type": "markdown",
   "id": "db8844aa-95fd-4837-967d-fc7dcd39d84d",
   "metadata": {},
   "source": [
    "## Import and clean MapStand"
   ]
  },
  {
   "cell_type": "code",
   "execution_count": null,
   "id": "4c0fb5b3-9dcd-49d3-be36-b0ac6b2516e3",
   "metadata": {},
   "outputs": [],
   "source": [
    "# Set request parameters\n",
    "\n",
    "url = f'https://hub.mapstand.com/gs/ows?VERSION=1.3.0&apikey={API_KEY}'\n",
    "wfs = WebFeatureService(url)"
   ]
  },
  {
   "cell_type": "code",
   "execution_count": null,
   "id": "43f42e5c-9aec-4757-a7fb-0b4751f39ac2",
   "metadata": {},
   "outputs": [],
   "source": [
    "# Import wfs\n",
    "\n",
    "layers = ['mps:powerplant_windfarm_planned', 'mps:powerplant_windfarm_installed']\n",
    "dfs = []\n",
    "\n",
    "for layer in layers:\n",
    "    \n",
    "    params = dict(service='WFS', version=\"1.3.0\", request='GetFeature',\n",
    "          typeName=layer, outputFormat='json')\n",
    "    \n",
    "    wfs_request_url = Request('GET', url, params=params).prepare().url\n",
    "    \n",
    "    df = gpd.read_file(wfs_request_url)\n",
    "    df['dataset'] = layer.replace('mps:powerplant_windfarm_', '')\n",
    "    dfs.append(df)\n",
    "\n",
    "gdf = pd.concat(dfs)"
   ]
  },
  {
   "cell_type": "code",
   "execution_count": null,
   "id": "583302bd-69a4-46fa-8ab8-30769db75aa0",
   "metadata": {},
   "outputs": [],
   "source": [
    "# filter dataset\n",
    "\n",
    "countries = ['Netherlands', 'United Kingdom', 'Belgium', 'Norway', 'Denmark', 'Germany']\n",
    "\n",
    "ns = gdf[(df.admin_area_name.isin(countries))\\\n",
    "        & (gdf.mps_est_shore_status == 'OFFSHORE')\\\n",
    "        & (gdf.windfarm_type != 'ONSHORE')].copy()\n",
    "\n",
    "# We can drop some columns, because they don't have any data, or the data is not relevant\n",
    "\n",
    "cols = ['attribution', 'coast_distance', 'mps_created_time', \n",
    "        'mps_est_coast_distance_km', 'mps_est_elevation_max_m',\n",
    "        'mps_est_elevation_min_m', 'mps_est_shore_status', \n",
    "        'mps_project_tag', 'mps_uuid', 'closure_year', \n",
    "        'decommissioning_year', 'round_name']\n",
    "\n",
    "ns.drop(cols, axis=1, inplace=True)\n",
    "\n",
    "# Rename columns\n",
    "\n",
    "cols = {'admin_area_name': 'country',\n",
    "        'mps_datasource_tags': 'source',\n",
    "        'mps_est_area_sqkm': 'km2',\n",
    "        'updt': 'updated_on'}\n",
    "\n",
    "ns = ns.rename(columns=cols)\n",
    "\n",
    "# Clean company names\n",
    "\n",
    "ns.owner_group = ns.owner_group.str.replace(' (GROUP)', '')\n",
    "\n",
    "# Convert year, updated to datetime\n",
    "\n",
    "ns.installation_year = pd.to_datetime(ns.installation_year, format='%Y', errors='coerce')\n",
    "ns.updated_on = pd.to_datetime(ns.updated_on.str[0:10])\n",
    "\n",
    "print(f'There are {ns.shape[0]} records and {ns.shape[1]} columns left after filtering and cleaning') "
   ]
  },
  {
   "cell_type": "code",
   "execution_count": null,
   "id": "b66d1f01-31d2-4a40-ac16-c6a7f3df2561",
   "metadata": {},
   "outputs": [],
   "source": [
    "ns_ = ns[['id', 'country', 'description', 'installation_year', 'source', \n",
    "          'name', 'operator', 'operator_group', 'owner', 'owner_group']].copy()"
   ]
  },
  {
   "cell_type": "code",
   "execution_count": null,
   "id": "cb7dd923-f956-475a-8c3d-f9386b2a2953",
   "metadata": {},
   "outputs": [],
   "source": [
    "ns_.to_csv('../../drive/energy/renewables/mapstand_windfarms_for_aleph.csv', index=False)"
   ]
  },
  {
   "cell_type": "code",
   "execution_count": null,
   "id": "4ed350e3-a187-4e67-b071-09103698cf47",
   "metadata": {},
   "outputs": [],
   "source": [
    "ns.to_file('../../drive/energy/renewables/mapstand_windfarms_northsea.geojson', driver='GeoJSON')"
   ]
  },
  {
   "cell_type": "code",
   "execution_count": null,
   "id": "f215a9d0-d0fe-468b-a127-b4c19fb6b8c2",
   "metadata": {},
   "outputs": [],
   "source": [
    "ns = gpd.read_file('../../drive/energy/renewables/mapstand_windfarms_northsea.geojson')"
   ]
  },
  {
   "cell_type": "markdown",
   "id": "132c24b5-f2c3-460c-b209-f16943404104",
   "metadata": {},
   "source": [
    "### Import wind development zones\n",
    "\n",
    "Some of these zones are present in the EMODnet dataset, but not in the planned or installed, while the plans of some of these zones seem to be quite serious, for instance, because the electricity grid is already planned."
   ]
  },
  {
   "cell_type": "code",
   "execution_count": null,
   "id": "4a46f93f-42e3-4b7c-b4b5-264db9872a97",
   "metadata": {},
   "outputs": [],
   "source": [
    "wdz = gpd.read_file(PATH_DATA + 'wind_development_zones.geojson')\n",
    "len(wdz)"
   ]
  },
  {
   "cell_type": "code",
   "execution_count": null,
   "id": "1c0b820e-cfad-45de-a4b1-ecb01fd136fa",
   "metadata": {},
   "outputs": [],
   "source": [
    "wdz.columns"
   ]
  },
  {
   "cell_type": "code",
   "execution_count": null,
   "id": "7d731629-2ce9-4eea-b76a-bfe163e4beaa",
   "metadata": {},
   "outputs": [],
   "source": [
    "wdz[['name', 'geometry']].explore()"
   ]
  },
  {
   "cell_type": "markdown",
   "id": "c8cd38ac-2873-48ac-be2b-6e47c7fd794c",
   "metadata": {},
   "source": [
    "## Import companies"
   ]
  },
  {
   "cell_type": "code",
   "execution_count": null,
   "id": "75a82d96-645b-490f-8838-df540e151bb9",
   "metadata": {},
   "outputs": [],
   "source": [
    "com = gpd.read_file(PATH_DATA + 'companies.geojson')\n",
    "len(com)"
   ]
  },
  {
   "cell_type": "markdown",
   "id": "29e41f35-cb1a-4ce8-af3b-836afa4e48f6",
   "metadata": {},
   "source": [
    "Columns needed\n",
    "- name: owner1\n",
    "- group_co_name: owner2\n",
    "- equity_breakdown: owner3\n",
    "- group_equity_breakdown: owner4\n",
    "- expanded_equity_breakdown: owner5\n",
    "- expanded_grp_equity_breakdown: owner6"
   ]
  },
  {
   "cell_type": "code",
   "execution_count": null,
   "id": "81263f55-9cde-4423-8304-f692865761bb",
   "metadata": {},
   "outputs": [],
   "source": [
    "selection = com[['id', 'name', 'group_co_name', 'equity_breakdown',\n",
    "          'group_equity_breakdown', 'expanded_equity_breakdown', 'expanded_grp_equity_breakdown']].copy()\n",
    "\n",
    "selection = selection[selection['name'].isin(list(set(ns.owner)))].copy()\n",
    "selection.reset_index(inplace=True)\n",
    "\n",
    "len(selection)"
   ]
  },
  {
   "cell_type": "code",
   "execution_count": null,
   "id": "b00bffd3-62b7-4cdf-a523-58e5b54fe60b",
   "metadata": {},
   "outputs": [],
   "source": [
    "def clean_com(df, col):\n",
    "\n",
    "    # Select right colummns\n",
    "    df = df[['id', col]].copy()\n",
    "    df = df[(df[col] != '') & (df[col].notna())]\n",
    "    \n",
    "    # Split companies over multiple lines\n",
    "    df[col] = df[col].str.split(r'%\\), ')\n",
    "    df = df.explode(col)\n",
    "\n",
    "    # Create share column if there are shares\n",
    "    if col not in ['name', 'group_co_name']:    \n",
    "        df['share'] = df[col].str.extract(r'\\s\\(([0-9]+\\.[0-9])(%\\))?')[0].astype('float')\n",
    "\n",
    "    # Create rank column\n",
    "    df['rank'] = df.groupby('id').cumcount()+1\n",
    "    \n",
    "    # Clean company column\n",
    "    \n",
    "    df[col] = df[col].str.replace('\\s\\([0-9]+\\.[0-9]+', '', regex=True)\n",
    "    df[col] = df[col].str.replace('%\\)', '', regex=True)\n",
    "\n",
    "    df[col] = df[col].str.replace('\\s\\(GROUP\\)', '', regex=True)\n",
    "\n",
    "    # Rename column\n",
    "    df = df.rename(columns = {col: 'owner'})\n",
    "    df.owner = df.owner.str.upper()\n",
    "\n",
    "    #df = df[df.owner != 'NONE'].copy()\n",
    "\n",
    "    return df\n"
   ]
  },
  {
   "cell_type": "code",
   "execution_count": null,
   "id": "69a273da-b9ea-4833-9423-10701026665a",
   "metadata": {},
   "outputs": [],
   "source": [
    "owner1 = clean_com(selection, 'name')\n",
    "owner2 = clean_com(selection, 'group_co_name')\n",
    "owner3 = clean_com(selection, 'equity_breakdown')\n",
    "owner4 = clean_com(selection, 'expanded_equity_breakdown')\n",
    "owner5 = clean_com(selection, 'group_equity_breakdown')\n",
    "owner6 = clean_com(selection, 'expanded_grp_equity_breakdown')"
   ]
  },
  {
   "cell_type": "markdown",
   "id": "f6cf031f-967c-49c4-9665-1785d3f199fb",
   "metadata": {},
   "source": [
    "## Data quality"
   ]
  },
  {
   "cell_type": "markdown",
   "id": "cb34dd2b-b8ac-4d40-a1c0-ef211d55e92f",
   "metadata": {},
   "source": [
    "### Check for completeness\n",
    "\n",
    "Let's check against the most reliable dataset out there: EMODnet"
   ]
  },
  {
   "cell_type": "code",
   "execution_count": null,
   "id": "c9c5b452-1882-4a5e-88ce-268586e60aa0",
   "metadata": {},
   "outputs": [],
   "source": [
    "# Alternative import\n",
    "\n",
    "ns = gpd.read_file('../../drive/energy/renewables/mapstand_windfarms_northsea.geojson')"
   ]
  },
  {
   "cell_type": "code",
   "execution_count": null,
   "id": "e4bcbea9-1456-434a-9f14-978d91ddd951",
   "metadata": {},
   "outputs": [],
   "source": [
    "print(f'mapstand: {len(ns)}\\nemodnet: {len(emod)}')"
   ]
  },
  {
   "cell_type": "markdown",
   "id": "29577b03-7a1b-4c1f-a58f-acd33bca4ac8",
   "metadata": {},
   "source": [
    "One way to see if there are fields in EMODnet that are not in MapStand is to perform a spatial join. "
   ]
  },
  {
   "cell_type": "code",
   "execution_count": null,
   "id": "5a6d021f-53b5-4b69-a7b3-1634e4e77284",
   "metadata": {},
   "outputs": [],
   "source": [
    "emod_ns = emod.sjoin(ns, predicate='intersects', how='left')\n",
    "print(f\"{emod_ns.id.isna().sum()} rows of emodnet might not be in mapstand\")"
   ]
  },
  {
   "cell_type": "code",
   "execution_count": null,
   "id": "a2867b5c-603a-4e20-9f08-95eb803e1026",
   "metadata": {},
   "outputs": [],
   "source": [
    "emod_ns.columns"
   ]
  },
  {
   "cell_type": "code",
   "execution_count": null,
   "id": "2dc8505b-b288-42e8-bae2-060c84526094",
   "metadata": {},
   "outputs": [],
   "source": [
    "to_merge = emod_ns[['country_left', 'name_left', 'geometry', 'id']].copy()"
   ]
  },
  {
   "cell_type": "code",
   "execution_count": null,
   "id": "da6dbd52-d02b-46ab-b572-fa5e6d39d265",
   "metadata": {},
   "outputs": [],
   "source": [
    "test = wdz.sjoin(to_merge[to_merge.id.isna()], predicate='intersects', how='left')"
   ]
  },
  {
   "cell_type": "code",
   "execution_count": null,
   "id": "8cf3a86a-5a69-4675-a24f-e3cdb0262aac",
   "metadata": {},
   "outputs": [],
   "source": [
    "test[test.index_right.notna()][['name', 'geometry']].explore()"
   ]
  },
  {
   "cell_type": "markdown",
   "id": "5dfdd2b5-9c19-4472-a950-570c0f52dd0f",
   "metadata": {},
   "source": [
    "TODO: select emodnet windfarms and add them to MapStand"
   ]
  },
  {
   "cell_type": "code",
   "execution_count": null,
   "id": "d132cff8-251d-4b3d-a140-bd02c269e6b3",
   "metadata": {},
   "outputs": [],
   "source": []
  },
  {
   "cell_type": "code",
   "execution_count": null,
   "id": "98a407bf-cb08-40e6-963e-9b5024d959c7",
   "metadata": {},
   "outputs": [],
   "source": []
  },
  {
   "cell_type": "code",
   "execution_count": null,
   "id": "5b9a783d-39d8-4512-a31b-b3076f2fa398",
   "metadata": {},
   "outputs": [],
   "source": [
    "# How complete is the whole dataset?\n",
    "\n",
    "msno.matrix(ns)"
   ]
  },
  {
   "cell_type": "code",
   "execution_count": null,
   "id": "19f1a72e-3b57-4967-a998-f40a23272cfd",
   "metadata": {},
   "outputs": [],
   "source": [
    "# How complete is the data for installed windfarms?\n",
    "\n",
    "msno.matrix(ns[ns.dataset=='installed'])"
   ]
  },
  {
   "cell_type": "markdown",
   "id": "8d441faa-6975-4f0e-90c9-05793cc0fc96",
   "metadata": {},
   "source": [
    "So a couple of things need to be cleared up:\n",
    "1. Capacity is not known for at least one windfarm.\n",
    "2. Installation year is not known for at least two. We should get more clarity on that.\n",
    "3. There is one windfarm from which much data is lacking, which one is that?"
   ]
  },
  {
   "cell_type": "code",
   "execution_count": null,
   "id": "e2b04ca7-a4ac-4dcf-bf6c-2ac15a8a6849",
   "metadata": {},
   "outputs": [],
   "source": [
    "ns[(ns.capacity_mw.isna()) & (ns.dataset=='installed')]"
   ]
  },
  {
   "cell_type": "markdown",
   "id": "e2dd0118-93e5-426a-94f8-59a156037c3d",
   "metadata": {},
   "source": [
    "This entry seems to contain a fault. Otary is active in Belgian waters, but the polygon is in the German part of the North Sea."
   ]
  },
  {
   "cell_type": "code",
   "execution_count": null,
   "id": "10d7cade-18be-433b-a4b4-eb9e776135d7",
   "metadata": {},
   "outputs": [],
   "source": [
    "# Let's check it out on a map\n",
    "\n",
    "ns[(ns.capacity_mw.isna()) & (ns.dataset=='installed')][['geometry']].explore()"
   ]
  },
  {
   "cell_type": "markdown",
   "id": "826b7043-6a86-4e28-815e-a57f160230b8",
   "metadata": {},
   "source": [
    "See if there are any other mismatches between country in the dataset and the actual location of the windparks. We can do that by overlaying the EEZs and compare countries."
   ]
  },
  {
   "cell_type": "code",
   "execution_count": null,
   "id": "8d8b8c63-7255-4854-88c2-34119519986e",
   "metadata": {},
   "outputs": [],
   "source": [
    "# Import EEZ\n",
    "\n",
    "eez = gpd.read_file('../../drive/energy/renewables/EMODnet_HA_EEZ/EMODnet_HA_OtherManagementAreas_EEZ_v11_20210506.shp')"
   ]
  },
  {
   "cell_type": "code",
   "execution_count": null,
   "id": "040761a4-510a-4786-83ce-6c995ab81916",
   "metadata": {},
   "outputs": [],
   "source": [
    "ns_test = ns.copy()\n",
    "ns_test = ns_test.sjoin(eez[['Country', 'geometry']], predicate='intersects', how='left')\n",
    "ns_test[(ns_test.country.str.strip() != ns_test.Country.str.strip()) & (ns_test.country != 'Norway')][['name', 'country', 'Country', 'geometry']].explore()"
   ]
  },
  {
   "cell_type": "markdown",
   "id": "1f8ba9d4-6959-4fd2-aec4-411888045bd1",
   "metadata": {},
   "source": [
    "#### How much wind power has every country installed through the years?"
   ]
  },
  {
   "cell_type": "code",
   "execution_count": null,
   "id": "1cced01b-9b51-457b-b77c-015deb7d4169",
   "metadata": {},
   "outputs": [],
   "source": [
    "# Select windfarms that have an installation year and have status 'installed'\n",
    "\n",
    "installed_ts = ns[(ns.installation_year.notna()) & (ns.dataset=='installed')].sort_values(by=['country', 'installation_year'])\n",
    "\n",
    "# Calculate cumulative capacity in mw per country\n",
    "\n",
    "installed_ts = installed_ts.groupby(['country', 'installation_year']).agg({'capacity_mw': 'sum'})\n",
    "installed_ts['cum_capacity_mw'] = installed_ts.groupby(['country']).capacity_mw.cumsum()\n",
    "installed_ts.reset_index(inplace=True)"
   ]
  },
  {
   "cell_type": "code",
   "execution_count": null,
   "id": "6d5d0af6-a42a-4a66-bd57-73f7e7460e82",
   "metadata": {},
   "outputs": [],
   "source": [
    "# Plot cumulative capacity in time series\n",
    "\n",
    "installed_ts[installed_ts['installation_year'] > '2000-01-01']\\\n",
    "                        .hvplot.line(x='installation_year',\n",
    "                                     y='cum_capacity_mw',\n",
    "                                     by='country',\n",
    "                                     width=1000,\n",
    "                                     height=600,\n",
    "                                     ylabel='Cumulative power MW',\n",
    "                                     title='Known installed wind power capacity per country (MW)')\n",
    "    "
   ]
  },
  {
   "cell_type": "markdown",
   "id": "3d4c8e7e-6a5b-446d-a25d-4af21d564511",
   "metadata": {},
   "source": [
    "#### What share do companies have in the wind power generation on the North Sea?"
   ]
  },
  {
   "cell_type": "code",
   "execution_count": null,
   "id": "6d132988-7964-4194-ab4a-dfab3b157bb5",
   "metadata": {},
   "outputs": [],
   "source": [
    "# Plot bar chart (show 20 largest power generators, so there are more of them)\n",
    "\n",
    "ns.groupby(['owner_group', 'dataset']).agg({'capacity_mw': 'sum'})\\\n",
    "                         .sort_values(by=['capacity_mw'], ascending=False)\\\n",
    "                         .capacity_mw.nlargest(20)\\\n",
    "                         .hvplot.bar(x='owner_group',\n",
    "                                     y='capacity_mw',\n",
    "                                     by='dataset',\n",
    "                                     stacked=True,\n",
    "                                     width=1000,\n",
    "                                     height=760,\n",
    "                                     rot=45,\n",
    "                                     xlabel='Company - owner group',\n",
    "                                     ylabel='Capacity in MW',\n",
    "                                     title='Capacity of windfarms per corporate group, installed and planned')\n",
    "                                                                    \n",
    "                                                                   "
   ]
  },
  {
   "cell_type": "code",
   "execution_count": null,
   "id": "3812b659-f93b-4932-b765-8910bc635466",
   "metadata": {},
   "outputs": [],
   "source": []
  },
  {
   "cell_type": "code",
   "execution_count": null,
   "id": "247d9b54-1573-4df3-bf6c-ec1bc24b65d6",
   "metadata": {},
   "outputs": [],
   "source": []
  },
  {
   "cell_type": "markdown",
   "id": "3a27d42e-f579-455f-bdfa-bde6396cd94b",
   "metadata": {},
   "source": [
    "## Other datasets"
   ]
  },
  {
   "cell_type": "markdown",
   "id": "b5ed6740-8ae2-4ad2-ae51-a93ecf61cbd7",
   "metadata": {
    "tags": []
   },
   "source": [
    "#### 4COffshore\n",
    "\n",
    "The latitude is given, but the longitude is not. We therefore might need to link the data on project names"
   ]
  },
  {
   "cell_type": "code",
   "execution_count": null,
   "id": "3e365d1b-d71b-4a9d-95d9-54af3b7140b8",
   "metadata": {
    "tags": []
   },
   "outputs": [],
   "source": [
    "# Import 4COffshore\n",
    "\n",
    "fourc = pd.read_csv(f'{PATH_DATA}4c_offshore_freemium_windfarms.csv')\n",
    "\n",
    "# Filter out North Sea Countries\n",
    "\n",
    "fourc = fourc[fourc.country_filter.isin(['netherlands', 'norway', 'united-kingdom', 'germany', 'denmark', 'belgium'])].copy()\n",
    "\n",
    "# Rename columns\n",
    "\n",
    "fourc = fourc.rename(columns=cols_clean)\n",
    "\n",
    "# Clean latitude column\n",
    "\n",
    "fourc.latitude = fourc.latitude.str.replace('°', '', regex=False)\n",
    "\n",
    "# Clean power_mw column\n",
    "\n",
    "fourc.power_mw = fourc.power_mw.str.replace(' MW', '').astype(float)\n",
    "            \n",
    "# Select relevant columns\n",
    "\n",
    "fourc = fourc[['name', 'other_names', 'country', 'owner', 'developers', 'status', 'power_mw', 'category_round', 'main_url', 'comments', 'turbine_model', 'foundation_type', 'latitude']].copy()\n",
    "\n",
    "# Clean owners to proper list\n",
    "\n",
    "fourc[['developers', 'owner']] = fourc[['developers', 'owner']].applymap(lambda x: ast.literal_eval(x))\n",
    "\n",
    "# Get list of project names for comparison\n",
    "\n",
    "fourc_names = list(set(fourc.name.str.lower()))\n",
    "len(fourc)"
   ]
  },
  {
   "cell_type": "markdown",
   "id": "5c802c2a-e055-4069-9277-6f36aca23490",
   "metadata": {},
   "source": [
    "#### Wind Europe\n",
    "\n",
    "The dataset contains coordinates, so we can perform a spatial join to link the data to the polygons of EMODNet. But let's also get the project names to see if we can match some of the data from 4COffshore. There might be some wind farms outside of the North Sea, but we can use a spatial mask to filter these out."
   ]
  },
  {
   "cell_type": "code",
   "execution_count": null,
   "id": "40d2fe13-859b-4322-b607-106ef2634b8e",
   "metadata": {
    "tags": []
   },
   "outputs": [],
   "source": [
    "# Import Wind Europe\n",
    "\n",
    "weurope = pd.read_csv(f'{PATH_DATA}windeurope.csv', sep=';')\n",
    "\n",
    "# Clean columns\n",
    "\n",
    "weurope.columns = weurope.columns.str.lower().str.replace(' ', '_', regex=False)\n",
    "\n",
    "# Drop some columns\n",
    "\n",
    "weurope = weurope.drop([col for col in weurope.columns if '(group)' in col], axis=1)\n",
    "\n",
    "# Rename columns\n",
    "\n",
    "weurope = weurope.rename(columns=cols_clean)\n",
    "\n",
    "# Select relevant columns\n",
    "\n",
    "weurope = weurope[['name', 'status', 'power_mw', 'year', 'year_awarded', 'foundation_type', 'owner', 'turbine_manufacturer', 'latitude', 'longitude']].copy()\n",
    "\n",
    "# Get list of project names for comparison\n",
    "\n",
    "weurope_names = list(set(weurope['name'].str.lower()))\n",
    "len(weurope_names)"
   ]
  },
  {
   "cell_type": "code",
   "execution_count": null,
   "id": "7aaef252-d83e-4c0b-8013-736d5c2428fd",
   "metadata": {},
   "outputs": [],
   "source": []
  },
  {
   "cell_type": "code",
   "execution_count": null,
   "id": "4d002134-dd6c-46fe-acba-9f87c4605b0f",
   "metadata": {},
   "outputs": [],
   "source": [
    "emod.to_csv(PATH_DATA + 'emod.csv', index=True, sep=',')"
   ]
  },
  {
   "cell_type": "markdown",
   "id": "0d1d3601-1c8b-4714-bf2b-8f796efc9b7b",
   "metadata": {
    "tags": []
   },
   "source": [
    "#### NVE Norwegian data\n",
    "\n",
    "There are two slightly different datasets available:\n",
    "1. From the NVE map interface (norwegian_wind_farms.geojson). This is the most elaborate one and also contains ownership information. \n",
    "2. Also from the NVE but from the open data service. This has fewer data fields, but contain 4 more records."
   ]
  },
  {
   "cell_type": "code",
   "execution_count": null,
   "id": "b684f71f-2388-4644-afbc-fdfdb3667190",
   "metadata": {
    "tags": []
   },
   "outputs": [],
   "source": [
    "nve = gpd.read_file(f'{PATH_DATA}norwegian_wind_farms.geojson')\n",
    "\n",
    "# Clean columns and values\n",
    "\n",
    "nve = nve.rename(columns=cols_clean)\n",
    "nve = nve[nve.name.str.contains('offshore')==True]\n",
    "nve.status = nve.status.replace(values_clean, regex=False)\n",
    "nve.phase = nve.phase.replace(values_clean, regex=False)\n",
    "\n",
    "# Select relevant columns\n",
    "\n",
    "nve = nve[[col for col in nve.columns if col.islower()]].drop(['datafangstdato', 'malemetode', 'noyaktighet'], axis=1).copy()\n",
    "len(nve)"
   ]
  },
  {
   "cell_type": "code",
   "execution_count": null,
   "id": "a47b0308-0169-48be-970c-506278de93f4",
   "metadata": {},
   "outputs": [],
   "source": [
    "nve.to_csv(PATH_DATA + 'nve.csv', index=True, sep=',')"
   ]
  },
  {
   "cell_type": "code",
   "execution_count": null,
   "id": "b1cda73a-9ccf-4ec9-b206-b704cb962e64",
   "metadata": {
    "tags": []
   },
   "outputs": [],
   "source": [
    "fourc.to_csv(PATH_DATA + '4coffshore.csv', sep=',')\n",
    "weurope.to_csv(PATH_DATA + 'windeurope.csv', sep=',')"
   ]
  },
  {
   "cell_type": "code",
   "execution_count": null,
   "id": "540cb828-f70c-45de-b9ef-89d2f82c4f4d",
   "metadata": {
    "tags": []
   },
   "outputs": [],
   "source": [
    "country = 'United Kingdom'\n",
    "fourc[fourc.country==country][['name', 'other_names', 'latitude']].sort_values(by='name')[40:55]"
   ]
  },
  {
   "cell_type": "code",
   "execution_count": null,
   "id": "e4ff53d8-04d8-490c-be15-dfec97975106",
   "metadata": {
    "tags": []
   },
   "outputs": [],
   "source": [
    "emod[emod.country==country][['name', 'geometry']].sort_values(by='name')[25:40]"
   ]
  },
  {
   "cell_type": "code",
   "execution_count": null,
   "id": "f2546e1e-1307-47be-9a2c-f7d48e549098",
   "metadata": {},
   "outputs": [],
   "source": []
  }
 ],
 "metadata": {
  "kernelspec": {
   "display_name": "Python 3 (ipykernel)",
   "language": "python",
   "name": "python3"
  },
  "language_info": {
   "codemirror_mode": {
    "name": "ipython",
    "version": 3
   },
   "file_extension": ".py",
   "mimetype": "text/x-python",
   "name": "python",
   "nbconvert_exporter": "python",
   "pygments_lexer": "ipython3",
   "version": "3.11.4"
  }
 },
 "nbformat": 4,
 "nbformat_minor": 5
}
