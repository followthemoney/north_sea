{
 "cells": [
  {
   "cell_type": "code",
   "execution_count": 1,
   "metadata": {},
   "outputs": [],
   "source": [
    "%load_ext autoreload\n",
    "%autoreload 2"
   ]
  },
  {
   "cell_type": "code",
   "execution_count": 2,
   "metadata": {},
   "outputs": [
    {
     "data": {
      "text/plain": [
       "True"
      ]
     },
     "execution_count": 2,
     "metadata": {},
     "output_type": "execute_result"
    }
   ],
   "source": [
    "import pandas as pd\n",
    "import geopandas as gpd\n",
    "import json\n",
    "import requests\n",
    "from requests.adapters import HTTPAdapter, Retry\n",
    "import os\n",
    "import time\n",
    "import ast\n",
    "import numpy as np\n",
    "from dotenv import load_dotenv\n",
    "load_dotenv('../../.env')"
   ]
  },
  {
   "cell_type": "code",
   "execution_count": 3,
   "metadata": {},
   "outputs": [],
   "source": [
    "PATH = os.environ.get('PATH_WIND')\n",
    "API_KEY = os.environ.get('GFW_API_KEY')"
   ]
  },
  {
   "cell_type": "markdown",
   "metadata": {},
   "source": [
    "## Replacement of fisheries\n",
    "\n",
    "We can query Global Fishing Watch for the areas where wind farms are built or planned and see what happened."
   ]
  },
  {
   "cell_type": "code",
   "execution_count": 14,
   "metadata": {},
   "outputs": [
    {
     "data": {
      "text/plain": [
       "420"
      ]
     },
     "execution_count": 14,
     "metadata": {},
     "output_type": "execute_result"
    }
   ],
   "source": [
    "# import geometries\n",
    "\n",
    "gdf = gpd.read_file(PATH + 'aleph/analysis_v1.geojson')\n",
    "len(gdf)"
   ]
  },
  {
   "cell_type": "code",
   "execution_count": 18,
   "metadata": {},
   "outputs": [
    {
     "data": {
      "text/plain": [
       "60"
      ]
     },
     "execution_count": 18,
     "metadata": {},
     "output_type": "execute_result"
    }
   ],
   "source": [
    "# Select relevant geometries\n",
    "\n",
    "selection = gdf[gdf.status_simplified.isin(['EXISTING', 'EARLY_PLANS', 'SERIOUS_PLANS'])].copy().reset_index()\n",
    "selection = selection[selection.mps_uuid.isin(todo)]\n",
    "selection = selection[selection.geometry.notna()]\n",
    "selection = selection.to_crs(4326)\n",
    "\n",
    "geometries = selection.geometry.to_list()\n",
    "ids = selection.mps_uuid.to_list()\n",
    "len(ids)"
   ]
  },
  {
   "cell_type": "code",
   "execution_count": 19,
   "metadata": {},
   "outputs": [],
   "source": [
    "# Set lists for collecting data\n",
    "\n",
    "results = []\n",
    "failed = []"
   ]
  },
  {
   "cell_type": "code",
   "execution_count": 20,
   "metadata": {},
   "outputs": [],
   "source": [
    "# Set url, headers and parameters\n",
    "\n",
    "end_point = 'https://gateway.api.globalfishingwatch.org/v2/4wings/report?'\n",
    "\n",
    "headers = {'Authorization': f\"Bearer {API_KEY}\",\n",
    "            'Content-Type': 'application/json'}\n",
    "\n",
    "\n",
    "# Initialise Request Session\n",
    "\n",
    "s = requests.Session()\n",
    "retries = Retry(total=5, backoff_factor=5, status_forcelist=[429])\n",
    "s.mount('https://', HTTPAdapter(max_retries=retries))\n",
    "\n",
    "\n",
    "for geometry, mps_uuid in zip(geometries, ids):\n",
    "    for year in range(2012, 2024, 1):\n",
    "\n",
    "        start_date = f'{year}-01-01'\n",
    "        end_date = f'{year+1}-01-01'\n",
    "\n",
    "        parameters = f'format=json&spatial-resolution=high&temporal-resolution=yearly&datasets[0]=public-global-fishing-effort:latest&date-range={start_date},{end_date}&spatial-aggregation=true&group-by=vessel_id'\n",
    "\n",
    "        \n",
    "        data = {'geojson': geometry.__geo_interface__}\n",
    "        data = json.dumps(data)\n",
    "        \n",
    "        url = end_point + parameters\n",
    "\n",
    "        r = s.post(url, data=data, headers=headers)\n",
    "\n",
    "        if r.status_code == 200:\n",
    "            result = r.json()\n",
    "            result.update({'mps_uuid': mps_uuid})\n",
    "            results.append(result)\n",
    "            with open(PATH + 'gis/windparks_fishing_all3.json', 'a') as file:\n",
    "                file.write(f'{result}\\n')\n",
    "            time.sleep(10) # Wait a while because server throws a 429 fast.\n",
    "            \n",
    "        elif r.status_code != 200 or r.status_code != 429:\n",
    "            failed.append({'result': r, \n",
    "                           'geometry': geometry, \n",
    "                           'mps_uuid': mps_uuid,\n",
    "                           'index': ids.index(mps_uuid),\n",
    "                           'status_code': r.status_code,\n",
    "                           'start_date': start_date,\n",
    "                           'end_date': end_date})\n",
    "            print(f'Something else went wrong --> status code: {r.status_code} - {r.reason}\\nplease check')\n",
    "        elif r.status_code == 429:\n",
    "            time.sleep(40)\n",
    "\n"
   ]
  },
  {
   "cell_type": "markdown",
   "metadata": {},
   "source": [
    "### Next steps:\n",
    "1. Load all results and get mps_uuid and year.\n",
    "2. See what's missing. \n",
    "3. Get failed results\n",
    "4. Create new list\n",
    "5. Repeat"
   ]
  },
  {
   "cell_type": "code",
   "execution_count": 21,
   "metadata": {},
   "outputs": [],
   "source": [
    "files = ['windparks_shipping_all.json', \n",
    "         'windparks_fishing_all.json', \n",
    "         'windparks_fishing_all2.json',\n",
    "         'windparks_fishing_all2.json',\n",
    "         'windparks_shipping.json'] \n",
    "\n",
    "lines = []\n",
    "for file in files:\n",
    "    with open(PATH + f'gis/{file}') as f:\n",
    "        for line in f:\n",
    "            lines.append(ast.literal_eval(line))"
   ]
  },
  {
   "cell_type": "code",
   "execution_count": 22,
   "metadata": {},
   "outputs": [],
   "source": [
    "rows = []\n",
    "\n",
    "for line in lines:\n",
    "    \n",
    "    entries = line.get('entries')[0].get('public-global-fishing-effort:v20201001')\n",
    "    if entries:\n",
    "        for entry in entries:\n",
    "            entry.update({'mps_uuid': line.get('mps_uuid')})\n",
    "            rows.append(entry)"
   ]
  },
  {
   "cell_type": "code",
   "execution_count": 47,
   "metadata": {},
   "outputs": [
    {
     "data": {
      "text/plain": [
       "40802"
      ]
     },
     "execution_count": 47,
     "metadata": {},
     "output_type": "execute_result"
    }
   ],
   "source": [
    "df = pd.DataFrame(rows)\n",
    "df.date = df.date + '-01-01'\n",
    "df.date = pd.to_datetime(df.date)\n",
    "df.columns = df.columns.str.lower()\n",
    "df.drop_duplicates(inplace=True)\n",
    "len(df)"
   ]
  },
  {
   "cell_type": "code",
   "execution_count": 52,
   "metadata": {},
   "outputs": [],
   "source": [
    "wp_hours = df.groupby(['mps_uuid', 'date']).agg({'hours': 'sum'})\n",
    "wp_hours['unique_vessels'] = df.groupby(['mps_uuid', 'date']).vesselid.nunique()\n",
    "wp_hours['unique_flags'] = df.groupby(['mps_uuid', 'date']).flag.nunique()\n",
    "wp_hours.reset_index(inplace=True)\n",
    "                                                   "
   ]
  },
  {
   "cell_type": "code",
   "execution_count": 54,
   "metadata": {},
   "outputs": [],
   "source": [
    "wp_hours = pd.merge(wp_hours,\n",
    "                    gdf[['mps_uuid', 'geometry', 'status', 'name_aleph']],\n",
    "                    on='mps_uuid',\n",
    "                    how='left')\n",
    "\n",
    "wp_hours = gpd.GeoDataFrame(wp_hours, geometry='geometry')\n"
   ]
  },
  {
   "cell_type": "code",
   "execution_count": 55,
   "metadata": {},
   "outputs": [],
   "source": [
    "wp_hours.to_file(PATH + 'gis/windpark_fishing_hours.geojson', driver='GeoJSON' )"
   ]
  },
  {
   "cell_type": "code",
   "execution_count": null,
   "metadata": {},
   "outputs": [],
   "source": []
  }
 ],
 "metadata": {
  "kernelspec": {
   "display_name": ".venv",
   "language": "python",
   "name": "python3"
  },
  "language_info": {
   "codemirror_mode": {
    "name": "ipython",
    "version": 3
   },
   "file_extension": ".py",
   "mimetype": "text/x-python",
   "name": "python",
   "nbconvert_exporter": "python",
   "pygments_lexer": "ipython3",
   "version": "3.10.13"
  },
  "orig_nbformat": 4
 },
 "nbformat": 4,
 "nbformat_minor": 2
}
