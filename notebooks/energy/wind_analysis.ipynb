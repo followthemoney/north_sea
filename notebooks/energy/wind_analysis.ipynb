{
 "cells": [
  {
   "cell_type": "code",
   "execution_count": 1,
   "metadata": {},
   "outputs": [],
   "source": [
    "%load_ext autoreload\n",
    "%autoreload 2"
   ]
  },
  {
   "cell_type": "code",
   "execution_count": 2,
   "metadata": {},
   "outputs": [],
   "source": [
    "import pandas as pd\n",
    "from dotenv import load_dotenv\n",
    "import json\n",
    "import os\n",
    "from typing import List, Dict\n",
    "import geopandas as gpd\n",
    "import plotly_express as px\n",
    "import networkx as nx\n",
    "from networkx.exception import NetworkXNoPath\n",
    "\n",
    "load_dotenv()\n",
    "pd.set_option('display.float_format', lambda x: '%.3f' % x)"
   ]
  },
  {
   "cell_type": "markdown",
   "metadata": {},
   "source": [
    "## TODO\n",
    "1. Load Aleph entities\n",
    "2. Load Mapstand data\n",
    "3. Add missing geometries to mapstand, drop rows that are not used\n",
    "4. Merge Mapstand with Aleph entities\n",
    "5. Clean it up\n",
    "6. Analyse country information and shapes\n",
    "7. Analyse company information and shapes"
   ]
  },
  {
   "cell_type": "code",
   "execution_count": 8,
   "metadata": {},
   "outputs": [],
   "source": [
    "PATH_ALEPH = os.environ.get('PATH_WIND_ALEPH')\n",
    "PATH_RAW = os.environ.get('PATH_RAW')"
   ]
  },
  {
   "cell_type": "code",
   "execution_count": 6,
   "metadata": {},
   "outputs": [],
   "source": [
    "def parse_json(entities: List) -> pd.DataFrame:\n",
    "    '''Parses Aleph JSON data\n",
    "    '''\n",
    "    \n",
    "    entity_list = []\n",
    "    \n",
    "    for entity in entities:\n",
    "        data = entity.get('properties')\n",
    "\n",
    "        for key, value in data.items():\n",
    "            if isinstance(value, list):\n",
    "                data.update({key: ','.join(value)})\n",
    "        entity_id = {'id': entity.get('id')}\n",
    "        data.update(entity_id)\n",
    "        entity_list.append(data)\n",
    "    \n",
    "    df = pd.DataFrame(entity_list)\n",
    "    return df\n",
    "\n",
    "\n",
    "def load_entities(path: str, entity: str) -> pd.DataFrame:\n",
    "    '''Load entities from Aleph\n",
    "    (downloaded through alephclient)'''\n",
    "\n",
    "    entities = []\n",
    "    with open(f'{path}{entity}.json', 'r') as file:\n",
    "        for line in file:\n",
    "            entities.append(json.loads(line))\n",
    "\n",
    "    df = parse_json(entities)\n",
    "    return df"
   ]
  },
  {
   "cell_type": "markdown",
   "metadata": {},
   "source": [
    "## Import Aleph entities"
   ]
  },
  {
   "cell_type": "code",
   "execution_count": 9,
   "metadata": {},
   "outputs": [],
   "source": [
    "# Import companies\n",
    "\n",
    "companies = load_entities(PATH_ALEPH, 'companies')\n",
    "companies.drop(['notes', 'summary', 'sourceUrl','publisher', 'alias', 'description', \n",
    "                'leiCode', 'parent', 'amountEur'], axis=1, inplace=True)\n",
    "\n",
    "\n",
    "# Import and clean assets\n",
    "\n",
    "assets = load_entities(PATH_ALEPH, 'assets')\n",
    "assets.dropna(subset='description', inplace=True)\n",
    "assets.drop(['title', 'authority', 'contractDate', 'jurisdiction', 'registrationNumber',\n",
    "             'previousName', 'parent', 'leiCode', 'sourceUrl', 'publisher'], axis=1, inplace=True)\n",
    "\n",
    "# Import ownerships\n",
    "\n",
    "ownerships = load_entities(PATH_ALEPH, 'ownerships')\n",
    "\n",
    "# Import legal entities\n",
    "\n",
    "legalentities = load_entities(PATH_ALEPH, 'legalentities')\n",
    "legalentities.drop(['idNumber', 'notes',\n",
    "                    'publisherUrl', 'nationality', 'jurisdiction', 'previousName',\n",
    "                    'registrationNumber', 'sourceUrl', 'summary', 'publisher', 'alias',\n",
    "                    'description', 'leiCode', 'parent', 'amountEur'], axis=1, inplace=True)\n",
    "\n",
    "# Import contracts\n",
    "contracts = load_entities(PATH_ALEPH, 'contracts')\n",
    "\n",
    "# Import contract awards\n",
    "\n",
    "contractawards = load_entities(PATH_ALEPH, 'contractawards')\n",
    "\n",
    "# Import people\n",
    "\n",
    "persons = load_entities(PATH_ALEPH, 'persons')"
   ]
  },
  {
   "cell_type": "markdown",
   "metadata": {},
   "source": [
    "## Import geometries \n",
    "\n",
    "We have one geosjon with edited data on capacity and installation year, but it's not complete (I know...). So let's get the newest installed and planned windfarm dataset from MapStand\n"
   ]
  },
  {
   "cell_type": "code",
   "execution_count": 10,
   "metadata": {},
   "outputs": [],
   "source": [
    "# Import geometries with edited data\n",
    "\n",
    "ms = gpd.GeoDataFrame.from_file(PATH_RAW + 'mapstand_final.geojson', geometry='geometry')\n",
    "ms = ms.to_crs(4326)\n",
    "\n",
    "# So import newest for missing geometries\n",
    "\n",
    "msn = gpd.GeoDataFrame.from_file(PATH_RAW + 'mapstand_final_newest_installed.geojson')\n",
    "msp = gpd.GeoDataFrame.from_file(PATH_RAW + 'mapstand_final_newest_planned.geojson')\n",
    "wdz = gpd.GeoDataFrame.from_file(PATH_RAW + 'mapstand_final_wdz.geojson')\n",
    "\n",
    "# Filter wind development zones\n",
    "countries = ['Denmark', 'Germany', 'Netherlands', 'Belgium', 'United Kingdom', 'Norway']\n",
    "wdz = wdz[(wdz.admin_area_name.isin(countries)) & (wdz.mps_est_shore_status=='OFFSHORE')].copy()\n",
    "\n",
    "to_drop = ['CELTIC OFFSHORE FLOATING WIND AREA A', 'CELTIC OFFSHORE FLOATING WIND AREA B', 'CELTIC OFFSHORE FLOATING WIND AREA C', 'ENECO LUCHTERDUINEN', 'EO1', 'EO2', 'EO2-WEST', 'EO3', 'Ev1',  'Ev2', 'Ev1',\n",
    "        'Ev10', 'Ev11', 'Ev13', 'Ev14', 'Ev15', 'Ev16', 'Ev17', 'Ev18', 'Ev19', 'Ev2', 'Ev20', 'Ev21', 'Ev22', 'Ev23', 'Ev25', 'Ev27',\n",
    "        'Ev29', 'Ev31', 'Ev33', 'Ev38', 'Ev40', 'Ev42', 'Ev43', 'Ev44', 'Ev44', 'Ev5', 'Ev7', 'GEMINI I', 'GEMINI II',\n",
    "        'HOLLANDSE KUST WEST', 'IJMUIDEN VER', 'N-1', 'N-10', 'N-11', 'N-12', 'N-13', 'N-14', 'N-15', 'N-16', 'N-17 a', 'N-17 b', 'N-18 a', 'N-18 b',\n",
    "        'N-19', 'N-2', 'N-20', 'N-21', 'N-3',  'N-4', 'N-5', 'N-6', 'N-7', 'N-8', 'N-9', 'N2', 'N4', 'NE1', 'NE3', 'NE4', 'NE8', 'NEDSKALERET HESSELO', 'O-1',  'O-1', 'O-1.3 WIND DEVELOPMENT ZONE', 'O-2.2 WIND DEVELOPMENT ZONE', 'O-2.2 WIND DEVELOPMENT ZONE',\n",
    "        'O-3 WIND DEVELOPMENT ZONE',  'O-4 WIND DEVELOPMENT ZONE','O-6 WIND DEVELOPMENT ZONE', 'PEMBROKESHIRE DEMONSTRATION ZONE',\n",
    "        'SEO-1', 'W1']\n",
    "\n",
    "wdz = wdz[~wdz['name'].isin(to_drop)].copy()\n",
    "\n",
    "# Merge geometries\n",
    "\n",
    "ms = pd.concat([ms, msn, wdz])\n",
    "\n",
    "# Create selection of relevant columns\n",
    "\n",
    "cols = ['mps_uuid', 'name', 'admin_area_name', 'cost_in_million', 'year', 'capacity_mw', 'description', 'remarks',\n",
    "        'number_generators',  'installation_year', 'mps_est_elevation_max_m', 'mps_est_elevation_min_m', 'geometry']\n",
    "\n",
    "ms = ms[cols].copy()"
   ]
  },
  {
   "cell_type": "code",
   "execution_count": 11,
   "metadata": {},
   "outputs": [],
   "source": [
    "ms = ms.sort_values(by=['mps_uuid', 'year'])\n",
    "ms = ms.drop_duplicates(subset='mps_uuid', keep='first')"
   ]
  },
  {
   "cell_type": "code",
   "execution_count": 12,
   "metadata": {},
   "outputs": [],
   "source": [
    "# Merge with assets\n",
    "\n",
    "df = pd.merge(assets,\n",
    "             ms,\n",
    "             left_on = 'description',\n",
    "             right_on='mps_uuid',\n",
    "             how='left')\n",
    "\n",
    "# Clean column names\n",
    "\n",
    "df = df.rename(columns={'name_x': 'name_aleph', \n",
    "                        'name_y': 'name_ms',\n",
    "                        'description_y': 'description',\n",
    "                        'notes': 'status'\n",
    "                        })\n",
    "\n",
    "df.drop('description_x', axis=1, inplace=True)"
   ]
  },
  {
   "cell_type": "code",
   "execution_count": 13,
   "metadata": {},
   "outputs": [],
   "source": [
    "# Clean MW\n",
    "\n",
    "df.amount = df.amount.str.replace(' MW', '')\n",
    "df.amount = df.amount.astype('float')\n",
    "df['capacity_mw'] = df['capacity_mw'].fillna(df.amount)\n",
    "\n",
    "# Clean costs\n",
    "df[['amountEur', 'cost_in_million']]\n",
    "df.amountEur = df.amountEur.fillna(df.cost_in_million * 1000000).astype('float')\n",
    "\n",
    "df = df.drop(['cost_in_million', 'amount'], axis=1)\n",
    "\n",
    "# Clean installation year\n",
    "\n",
    "df.year = df.year.fillna(df.installation_year.astype(str).replace('.0', '') + '-01-01')\n",
    "\n",
    "# Clean wind farms we want to leave out and mislabeled wind farm\n",
    "\n",
    "df = df[(df.name_aleph.notna()) & (df.name_aleph != 'DIAMOND OFFSHORE WIND HOLDINGS I BV')].copy()"
   ]
  },
  {
   "cell_type": "code",
   "execution_count": 14,
   "metadata": {},
   "outputs": [],
   "source": [
    "# Add simplified status from Marina\n",
    "\n",
    "st_dict = {'OPERATIONAL': \"EXISTING\", \n",
    "           'EXCLUSIVE_DEVELOPMENT_RIGHTS': \"EARLY_PLANS\",\n",
    "           'UNDER_CONSTRUCTION': \"EXISTING\", \n",
    "           'PROJECT_ANNOUNCED': \"EARLY_PLANS\", \n",
    "           'EARLY_PLANNING': \"EARLY_PLANS\",\n",
    "           'APPLICATION_SUBMITTED': \"SERIOUS_PLANS\", \n",
    "           'CONSENT_AUTHORISED': \"SERIOUS_PLANS\", \n",
    "           'EXTENSION_REQUESTED': \"SERIOUS_PLANS\", \n",
    "           'CANCELLED': \"\", \n",
    "           'ONSHORE - OPERATIONAL': \"\",\n",
    "           'DECOMMISSIONED': \"\", \n",
    "           'AREA_PROPOSED': \"EARLY_PLANS\", \n",
    "           'PLANNING_PERMISSION_EXPIRED': \"\",\n",
    "           'COMPETING_PROPOSALS': \"\",\n",
    "           'TENDER_PENDING': \"\",\n",
    "           'AREA_UNDER_STATE_INVESTIGATION': \"\"\n",
    "           }\n",
    "\n",
    "df['status_simplified'] = df.status.replace(st_dict)"
   ]
  },
  {
   "cell_type": "code",
   "execution_count": 15,
   "metadata": {},
   "outputs": [],
   "source": [
    "# Create geodataframe\n",
    "\n",
    "gdf = gpd.GeoDataFrame(df, geometry='geometry', crs=4326)\n",
    "\n",
    "# Reproject so we can calculate area (WGS84/UTM zone 31N is a fine one)\n",
    "\n",
    "gdf = gdf.to_crs(32631)\n",
    "gdf['area_km'] = gdf.geometry.area / 1000000\n",
    "\n",
    "# Write to file\n",
    "gdf.to_file(PATH_ALEPH + 'analysis_v1.geojson', driver='GeoJSON')"
   ]
  },
  {
   "cell_type": "markdown",
   "metadata": {},
   "source": [
    "## Analysis\n",
    "\n",
    "We would like some basic statistics, for instance:\n",
    "1. Comparisons between countries regarding output, area, number of turbines, if possible normalised with population size.\n",
    "2. Temporal trends.\n",
    "3. A detailed overview of company shares in wind farms. For this we would probably need Neo4J to query the ownership graph, or simplify this graph to a table. \n",
    "4. Perform linear regressions on costs of wind farms, because some data is lacking. \n",
    "5. Assess how much power is sold through PPAs"
   ]
  },
  {
   "cell_type": "code",
   "execution_count": 16,
   "metadata": {},
   "outputs": [],
   "source": [
    "# First get the population of the countries for normalization, in thousands\n",
    "\n",
    "population = {'de': 83000,\n",
    "              'gb': 68000,\n",
    "              'nl': 18000,\n",
    "              'be': 12000,\n",
    "              'no': 5000,\n",
    "              'dk': 6000}"
   ]
  },
  {
   "cell_type": "markdown",
   "metadata": {},
   "source": [
    "### Capacity"
   ]
  },
  {
   "cell_type": "code",
   "execution_count": 17,
   "metadata": {},
   "outputs": [],
   "source": [
    "# Group by country and status simplified\n",
    "\n",
    "capacity = gdf.groupby(['country', 'status_simplified']).capacity_mw.sum().reset_index()\n",
    "capacity = capacity[capacity.status_simplified != ''].copy()\n",
    "\n",
    "# Add capacity per 1000 inhabitants\n",
    "\n",
    "capacity['cap_pop'] = capacity.capacity_mw.div(capacity.country.map(population))\n"
   ]
  },
  {
   "cell_type": "code",
   "execution_count": 18,
   "metadata": {},
   "outputs": [
    {
     "data": {
      "application/vnd.plotly.v1+json": {
       "config": {
        "plotlyServerURL": "https://plot.ly"
       },
       "data": [
        {
         "alignmentgroup": "True",
         "hovertemplate": "status_simplified=EXISTING<br>country=%{x}<br>cap_pop=%{y}<extra></extra>",
         "legendgroup": "",
         "marker": {
          "color": "#636efa",
          "pattern": {
           "shape": ""
          }
         },
         "name": "",
         "offsetgroup": "",
         "orientation": "v",
         "showlegend": false,
         "textposition": "auto",
         "type": "bar",
         "x": [
          "be",
          "de",
          "dk",
          "gb",
          "nl",
          "no"
         ],
         "xaxis": "x",
         "y": [
          0.19333333333333333,
          0.1201409638554217,
          0.8083166666666666,
          0.3398941176470588,
          0.2601111111111111,
          0.02018
         ],
         "yaxis": "y"
        },
        {
         "alignmentgroup": "True",
         "hovertemplate": "status_simplified=EARLY_PLANS<br>country=%{x}<br>cap_pop=%{y}<extra></extra>",
         "legendgroup": "",
         "marker": {
          "color": "#636efa",
          "pattern": {
           "shape": ""
          }
         },
         "name": "",
         "offsetgroup": "",
         "orientation": "v",
         "showlegend": false,
         "textposition": "auto",
         "type": "bar",
         "x": [
          "de",
          "dk",
          "gb",
          "nl",
          "no"
         ],
         "xaxis": "x2",
         "y": [
          0.5995903614457831,
          3.0843350000000003,
          0.8812485294117647,
          0.03888888888888889,
          0.015
         ],
         "yaxis": "y2"
        },
        {
         "alignmentgroup": "True",
         "hovertemplate": "status_simplified=SERIOUS_PLANS<br>country=%{x}<br>cap_pop=%{y}<extra></extra>",
         "legendgroup": "",
         "marker": {
          "color": "#636efa",
          "pattern": {
           "shape": ""
          }
         },
         "name": "",
         "offsetgroup": "",
         "orientation": "v",
         "showlegend": false,
         "textposition": "auto",
         "type": "bar",
         "x": [
          "de",
          "dk",
          "gb",
          "nl",
          "no"
         ],
         "xaxis": "x3",
         "y": [
          0.022012048192771083,
          0.062,
          0.23332941176470587,
          0.07777777777777778,
          0.0062
         ],
         "yaxis": "y3"
        }
       ],
       "layout": {
        "annotations": [
         {
          "font": {},
          "showarrow": false,
          "text": "EXISTING",
          "x": 0.15999999999999998,
          "xanchor": "center",
          "xref": "paper",
          "y": 1,
          "yanchor": "bottom",
          "yref": "paper"
         },
         {
          "font": {},
          "showarrow": false,
          "text": "EARLY_PLANS",
          "x": 0.49999999999999994,
          "xanchor": "center",
          "xref": "paper",
          "y": 1,
          "yanchor": "bottom",
          "yref": "paper"
         },
         {
          "font": {},
          "showarrow": false,
          "text": "SERIOUS_PLANS",
          "x": 0.8399999999999999,
          "xanchor": "center",
          "xref": "paper",
          "y": 1,
          "yanchor": "bottom",
          "yref": "paper"
         }
        ],
        "barmode": "relative",
        "legend": {
         "tracegroupgap": 0
        },
        "template": {
         "data": {
          "bar": [
           {
            "error_x": {
             "color": "#2a3f5f"
            },
            "error_y": {
             "color": "#2a3f5f"
            },
            "marker": {
             "line": {
              "color": "#E5ECF6",
              "width": 0.5
             },
             "pattern": {
              "fillmode": "overlay",
              "size": 10,
              "solidity": 0.2
             }
            },
            "type": "bar"
           }
          ],
          "barpolar": [
           {
            "marker": {
             "line": {
              "color": "#E5ECF6",
              "width": 0.5
             },
             "pattern": {
              "fillmode": "overlay",
              "size": 10,
              "solidity": 0.2
             }
            },
            "type": "barpolar"
           }
          ],
          "carpet": [
           {
            "aaxis": {
             "endlinecolor": "#2a3f5f",
             "gridcolor": "white",
             "linecolor": "white",
             "minorgridcolor": "white",
             "startlinecolor": "#2a3f5f"
            },
            "baxis": {
             "endlinecolor": "#2a3f5f",
             "gridcolor": "white",
             "linecolor": "white",
             "minorgridcolor": "white",
             "startlinecolor": "#2a3f5f"
            },
            "type": "carpet"
           }
          ],
          "choropleth": [
           {
            "colorbar": {
             "outlinewidth": 0,
             "ticks": ""
            },
            "type": "choropleth"
           }
          ],
          "contour": [
           {
            "colorbar": {
             "outlinewidth": 0,
             "ticks": ""
            },
            "colorscale": [
             [
              0,
              "#0d0887"
             ],
             [
              0.1111111111111111,
              "#46039f"
             ],
             [
              0.2222222222222222,
              "#7201a8"
             ],
             [
              0.3333333333333333,
              "#9c179e"
             ],
             [
              0.4444444444444444,
              "#bd3786"
             ],
             [
              0.5555555555555556,
              "#d8576b"
             ],
             [
              0.6666666666666666,
              "#ed7953"
             ],
             [
              0.7777777777777778,
              "#fb9f3a"
             ],
             [
              0.8888888888888888,
              "#fdca26"
             ],
             [
              1,
              "#f0f921"
             ]
            ],
            "type": "contour"
           }
          ],
          "contourcarpet": [
           {
            "colorbar": {
             "outlinewidth": 0,
             "ticks": ""
            },
            "type": "contourcarpet"
           }
          ],
          "heatmap": [
           {
            "colorbar": {
             "outlinewidth": 0,
             "ticks": ""
            },
            "colorscale": [
             [
              0,
              "#0d0887"
             ],
             [
              0.1111111111111111,
              "#46039f"
             ],
             [
              0.2222222222222222,
              "#7201a8"
             ],
             [
              0.3333333333333333,
              "#9c179e"
             ],
             [
              0.4444444444444444,
              "#bd3786"
             ],
             [
              0.5555555555555556,
              "#d8576b"
             ],
             [
              0.6666666666666666,
              "#ed7953"
             ],
             [
              0.7777777777777778,
              "#fb9f3a"
             ],
             [
              0.8888888888888888,
              "#fdca26"
             ],
             [
              1,
              "#f0f921"
             ]
            ],
            "type": "heatmap"
           }
          ],
          "heatmapgl": [
           {
            "colorbar": {
             "outlinewidth": 0,
             "ticks": ""
            },
            "colorscale": [
             [
              0,
              "#0d0887"
             ],
             [
              0.1111111111111111,
              "#46039f"
             ],
             [
              0.2222222222222222,
              "#7201a8"
             ],
             [
              0.3333333333333333,
              "#9c179e"
             ],
             [
              0.4444444444444444,
              "#bd3786"
             ],
             [
              0.5555555555555556,
              "#d8576b"
             ],
             [
              0.6666666666666666,
              "#ed7953"
             ],
             [
              0.7777777777777778,
              "#fb9f3a"
             ],
             [
              0.8888888888888888,
              "#fdca26"
             ],
             [
              1,
              "#f0f921"
             ]
            ],
            "type": "heatmapgl"
           }
          ],
          "histogram": [
           {
            "marker": {
             "pattern": {
              "fillmode": "overlay",
              "size": 10,
              "solidity": 0.2
             }
            },
            "type": "histogram"
           }
          ],
          "histogram2d": [
           {
            "colorbar": {
             "outlinewidth": 0,
             "ticks": ""
            },
            "colorscale": [
             [
              0,
              "#0d0887"
             ],
             [
              0.1111111111111111,
              "#46039f"
             ],
             [
              0.2222222222222222,
              "#7201a8"
             ],
             [
              0.3333333333333333,
              "#9c179e"
             ],
             [
              0.4444444444444444,
              "#bd3786"
             ],
             [
              0.5555555555555556,
              "#d8576b"
             ],
             [
              0.6666666666666666,
              "#ed7953"
             ],
             [
              0.7777777777777778,
              "#fb9f3a"
             ],
             [
              0.8888888888888888,
              "#fdca26"
             ],
             [
              1,
              "#f0f921"
             ]
            ],
            "type": "histogram2d"
           }
          ],
          "histogram2dcontour": [
           {
            "colorbar": {
             "outlinewidth": 0,
             "ticks": ""
            },
            "colorscale": [
             [
              0,
              "#0d0887"
             ],
             [
              0.1111111111111111,
              "#46039f"
             ],
             [
              0.2222222222222222,
              "#7201a8"
             ],
             [
              0.3333333333333333,
              "#9c179e"
             ],
             [
              0.4444444444444444,
              "#bd3786"
             ],
             [
              0.5555555555555556,
              "#d8576b"
             ],
             [
              0.6666666666666666,
              "#ed7953"
             ],
             [
              0.7777777777777778,
              "#fb9f3a"
             ],
             [
              0.8888888888888888,
              "#fdca26"
             ],
             [
              1,
              "#f0f921"
             ]
            ],
            "type": "histogram2dcontour"
           }
          ],
          "mesh3d": [
           {
            "colorbar": {
             "outlinewidth": 0,
             "ticks": ""
            },
            "type": "mesh3d"
           }
          ],
          "parcoords": [
           {
            "line": {
             "colorbar": {
              "outlinewidth": 0,
              "ticks": ""
             }
            },
            "type": "parcoords"
           }
          ],
          "pie": [
           {
            "automargin": true,
            "type": "pie"
           }
          ],
          "scatter": [
           {
            "fillpattern": {
             "fillmode": "overlay",
             "size": 10,
             "solidity": 0.2
            },
            "type": "scatter"
           }
          ],
          "scatter3d": [
           {
            "line": {
             "colorbar": {
              "outlinewidth": 0,
              "ticks": ""
             }
            },
            "marker": {
             "colorbar": {
              "outlinewidth": 0,
              "ticks": ""
             }
            },
            "type": "scatter3d"
           }
          ],
          "scattercarpet": [
           {
            "marker": {
             "colorbar": {
              "outlinewidth": 0,
              "ticks": ""
             }
            },
            "type": "scattercarpet"
           }
          ],
          "scattergeo": [
           {
            "marker": {
             "colorbar": {
              "outlinewidth": 0,
              "ticks": ""
             }
            },
            "type": "scattergeo"
           }
          ],
          "scattergl": [
           {
            "marker": {
             "colorbar": {
              "outlinewidth": 0,
              "ticks": ""
             }
            },
            "type": "scattergl"
           }
          ],
          "scattermapbox": [
           {
            "marker": {
             "colorbar": {
              "outlinewidth": 0,
              "ticks": ""
             }
            },
            "type": "scattermapbox"
           }
          ],
          "scatterpolar": [
           {
            "marker": {
             "colorbar": {
              "outlinewidth": 0,
              "ticks": ""
             }
            },
            "type": "scatterpolar"
           }
          ],
          "scatterpolargl": [
           {
            "marker": {
             "colorbar": {
              "outlinewidth": 0,
              "ticks": ""
             }
            },
            "type": "scatterpolargl"
           }
          ],
          "scatterternary": [
           {
            "marker": {
             "colorbar": {
              "outlinewidth": 0,
              "ticks": ""
             }
            },
            "type": "scatterternary"
           }
          ],
          "surface": [
           {
            "colorbar": {
             "outlinewidth": 0,
             "ticks": ""
            },
            "colorscale": [
             [
              0,
              "#0d0887"
             ],
             [
              0.1111111111111111,
              "#46039f"
             ],
             [
              0.2222222222222222,
              "#7201a8"
             ],
             [
              0.3333333333333333,
              "#9c179e"
             ],
             [
              0.4444444444444444,
              "#bd3786"
             ],
             [
              0.5555555555555556,
              "#d8576b"
             ],
             [
              0.6666666666666666,
              "#ed7953"
             ],
             [
              0.7777777777777778,
              "#fb9f3a"
             ],
             [
              0.8888888888888888,
              "#fdca26"
             ],
             [
              1,
              "#f0f921"
             ]
            ],
            "type": "surface"
           }
          ],
          "table": [
           {
            "cells": {
             "fill": {
              "color": "#EBF0F8"
             },
             "line": {
              "color": "white"
             }
            },
            "header": {
             "fill": {
              "color": "#C8D4E3"
             },
             "line": {
              "color": "white"
             }
            },
            "type": "table"
           }
          ]
         },
         "layout": {
          "annotationdefaults": {
           "arrowcolor": "#2a3f5f",
           "arrowhead": 0,
           "arrowwidth": 1
          },
          "autotypenumbers": "strict",
          "coloraxis": {
           "colorbar": {
            "outlinewidth": 0,
            "ticks": ""
           }
          },
          "colorscale": {
           "diverging": [
            [
             0,
             "#8e0152"
            ],
            [
             0.1,
             "#c51b7d"
            ],
            [
             0.2,
             "#de77ae"
            ],
            [
             0.3,
             "#f1b6da"
            ],
            [
             0.4,
             "#fde0ef"
            ],
            [
             0.5,
             "#f7f7f7"
            ],
            [
             0.6,
             "#e6f5d0"
            ],
            [
             0.7,
             "#b8e186"
            ],
            [
             0.8,
             "#7fbc41"
            ],
            [
             0.9,
             "#4d9221"
            ],
            [
             1,
             "#276419"
            ]
           ],
           "sequential": [
            [
             0,
             "#0d0887"
            ],
            [
             0.1111111111111111,
             "#46039f"
            ],
            [
             0.2222222222222222,
             "#7201a8"
            ],
            [
             0.3333333333333333,
             "#9c179e"
            ],
            [
             0.4444444444444444,
             "#bd3786"
            ],
            [
             0.5555555555555556,
             "#d8576b"
            ],
            [
             0.6666666666666666,
             "#ed7953"
            ],
            [
             0.7777777777777778,
             "#fb9f3a"
            ],
            [
             0.8888888888888888,
             "#fdca26"
            ],
            [
             1,
             "#f0f921"
            ]
           ],
           "sequentialminus": [
            [
             0,
             "#0d0887"
            ],
            [
             0.1111111111111111,
             "#46039f"
            ],
            [
             0.2222222222222222,
             "#7201a8"
            ],
            [
             0.3333333333333333,
             "#9c179e"
            ],
            [
             0.4444444444444444,
             "#bd3786"
            ],
            [
             0.5555555555555556,
             "#d8576b"
            ],
            [
             0.6666666666666666,
             "#ed7953"
            ],
            [
             0.7777777777777778,
             "#fb9f3a"
            ],
            [
             0.8888888888888888,
             "#fdca26"
            ],
            [
             1,
             "#f0f921"
            ]
           ]
          },
          "colorway": [
           "#636efa",
           "#EF553B",
           "#00cc96",
           "#ab63fa",
           "#FFA15A",
           "#19d3f3",
           "#FF6692",
           "#B6E880",
           "#FF97FF",
           "#FECB52"
          ],
          "font": {
           "color": "#2a3f5f"
          },
          "geo": {
           "bgcolor": "white",
           "lakecolor": "white",
           "landcolor": "#E5ECF6",
           "showlakes": true,
           "showland": true,
           "subunitcolor": "white"
          },
          "hoverlabel": {
           "align": "left"
          },
          "hovermode": "closest",
          "mapbox": {
           "style": "light"
          },
          "paper_bgcolor": "white",
          "plot_bgcolor": "#E5ECF6",
          "polar": {
           "angularaxis": {
            "gridcolor": "white",
            "linecolor": "white",
            "ticks": ""
           },
           "bgcolor": "#E5ECF6",
           "radialaxis": {
            "gridcolor": "white",
            "linecolor": "white",
            "ticks": ""
           }
          },
          "scene": {
           "xaxis": {
            "backgroundcolor": "#E5ECF6",
            "gridcolor": "white",
            "gridwidth": 2,
            "linecolor": "white",
            "showbackground": true,
            "ticks": "",
            "zerolinecolor": "white"
           },
           "yaxis": {
            "backgroundcolor": "#E5ECF6",
            "gridcolor": "white",
            "gridwidth": 2,
            "linecolor": "white",
            "showbackground": true,
            "ticks": "",
            "zerolinecolor": "white"
           },
           "zaxis": {
            "backgroundcolor": "#E5ECF6",
            "gridcolor": "white",
            "gridwidth": 2,
            "linecolor": "white",
            "showbackground": true,
            "ticks": "",
            "zerolinecolor": "white"
           }
          },
          "shapedefaults": {
           "line": {
            "color": "#2a3f5f"
           }
          },
          "ternary": {
           "aaxis": {
            "gridcolor": "white",
            "linecolor": "white",
            "ticks": ""
           },
           "baxis": {
            "gridcolor": "white",
            "linecolor": "white",
            "ticks": ""
           },
           "bgcolor": "#E5ECF6",
           "caxis": {
            "gridcolor": "white",
            "linecolor": "white",
            "ticks": ""
           }
          },
          "title": {
           "x": 0.05
          },
          "xaxis": {
           "automargin": true,
           "gridcolor": "white",
           "linecolor": "white",
           "ticks": "",
           "title": {
            "standoff": 15
           },
           "zerolinecolor": "white",
           "zerolinewidth": 2
          },
          "yaxis": {
           "automargin": true,
           "gridcolor": "white",
           "linecolor": "white",
           "ticks": "",
           "title": {
            "standoff": 15
           },
           "zerolinecolor": "white",
           "zerolinewidth": 2
          }
         }
        },
        "title": {
         "text": "Energy output per capita (x1000)"
        },
        "xaxis": {
         "anchor": "y",
         "domain": [
          0,
          0.31999999999999995
         ],
         "title": {
          "text": "country"
         }
        },
        "xaxis2": {
         "anchor": "y2",
         "domain": [
          0.33999999999999997,
          0.6599999999999999
         ],
         "matches": "x",
         "title": {
          "text": "country"
         }
        },
        "xaxis3": {
         "anchor": "y3",
         "domain": [
          0.6799999999999999,
          0.9999999999999999
         ],
         "matches": "x",
         "title": {
          "text": "country"
         }
        },
        "yaxis": {
         "anchor": "x",
         "domain": [
          0,
          1
         ],
         "title": {
          "text": "cap_pop"
         }
        },
        "yaxis2": {
         "anchor": "x2",
         "domain": [
          0,
          1
         ],
         "matches": "y",
         "showticklabels": false
        },
        "yaxis3": {
         "anchor": "x3",
         "domain": [
          0,
          1
         ],
         "matches": "y",
         "showticklabels": false
        }
       }
      }
     },
     "metadata": {},
     "output_type": "display_data"
    }
   ],
   "source": [
    "# Plot\n",
    "\n",
    "fig = px.bar(capacity, \n",
    "             x='country', \n",
    "             y='cap_pop', \n",
    "             facet_col='status_simplified',\n",
    "             title = 'Energy output per capita (x1000)')\n",
    "fig.for_each_annotation(lambda a: a.update(text=a.text.split(\"=\")[1]))\n",
    "fig.show()"
   ]
  },
  {
   "cell_type": "markdown",
   "metadata": {},
   "source": [
    "### Capacity over time"
   ]
  },
  {
   "cell_type": "code",
   "execution_count": 19,
   "metadata": {},
   "outputs": [],
   "source": [
    "# Groupby year and country\n",
    "\n",
    "c_time = gdf.groupby(['country', 'year']).capacity_mw.sum().reset_index() "
   ]
  },
  {
   "cell_type": "code",
   "execution_count": 20,
   "metadata": {},
   "outputs": [
    {
     "data": {
      "application/vnd.plotly.v1+json": {
       "config": {
        "plotlyServerURL": "https://plot.ly"
       },
       "data": [
        {
         "fillpattern": {
          "shape": ""
         },
         "hovertemplate": "country=be<br>year=%{x}<br>capacity_mw=%{y}<extra></extra>",
         "legendgroup": "be",
         "line": {
          "color": "#636efa"
         },
         "marker": {
          "symbol": "circle"
         },
         "mode": "lines",
         "name": "be",
         "orientation": "v",
         "showlegend": true,
         "stackgroup": "1",
         "type": "scatter",
         "x": [
          "2010-01-01",
          "2013-01-01",
          "2014-01-01",
          "2017-01-01",
          "2018-01-01",
          "2019-01-01",
          "2020-01-01",
          "nan-01-01"
         ],
         "xaxis": "x",
         "y": [
          165,
          325,
          216,
          165,
          309,
          370,
          770,
          0
         ],
         "yaxis": "y"
        },
        {
         "fillpattern": {
          "shape": ""
         },
         "hovertemplate": "country=de<br>year=%{x}<br>capacity_mw=%{y}<extra></extra>",
         "legendgroup": "de",
         "line": {
          "color": "#EF553B"
         },
         "marker": {
          "symbol": "circle"
         },
         "mode": "lines",
         "name": "de",
         "orientation": "v",
         "showlegend": true,
         "stackgroup": "1",
         "type": "scatter",
         "x": [
          "2009-01-01",
          "2011-01-01",
          "2013-01-01",
          "2014-01-01",
          "2015-01-01",
          "2017-01-01",
          "2018-01-01",
          "2019-01-01",
          "2020-01-01",
          "2022-01-01",
          "2023-01-01",
          "2024-01-01",
          "2025-01-01",
          "2026-01-01",
          "2027-01-01",
          "2028-01-01",
          "2029-01-01",
          "2030-01-01",
          "2031-01-01",
          "2032-01-01",
          "2033-01-01",
          "2034-01-01",
          "2035-01-01",
          "2036-01-01",
          "2037-01-01",
          "2038-01-01",
          "nan-01-01"
         ],
         "xaxis": "x",
         "y": [
          60,
          48.3,
          400,
          1089.4,
          1815,
          1663,
          1549,
          774,
          364,
          342,
          257,
          729,
          1841,
          1227,
          1638,
          270,
          6400,
          10500,
          4000,
          4000,
          2000,
          4000,
          4000,
          4000,
          4000,
          2000,
          2640
         ],
         "yaxis": "y"
        },
        {
         "fillpattern": {
          "shape": ""
         },
         "hovertemplate": "country=dk<br>year=%{x}<br>capacity_mw=%{y}<extra></extra>",
         "legendgroup": "dk",
         "line": {
          "color": "#00cc96"
         },
         "marker": {
          "symbol": "circle"
         },
         "mode": "lines",
         "name": "dk",
         "orientation": "v",
         "showlegend": true,
         "stackgroup": "1",
         "type": "scatter",
         "x": [
          "1991-01-01",
          "1995-01-01",
          "2000-01-01",
          "2002-01-01",
          "2003-01-01",
          "2009-01-01",
          "2010-01-01",
          "2012-01-01",
          "2018-01-01",
          "2019-01-01",
          "2023-01-01",
          "2024-01-01",
          "2025-01-01",
          "2027-01-01",
          "2028-01-01",
          "2029-01-01",
          "2031-01-01",
          "nan-01-01"
         ],
         "xaxis": "x",
         "y": [
          5,
          5,
          40,
          166,
          205.6,
          821,
          809.2,
          399.6,
          28,
          406.7,
          1464,
          72,
          320,
          3784,
          9977,
          585,
          1500,
          3280.01
         ],
         "yaxis": "y"
        },
        {
         "fillpattern": {
          "shape": ""
         },
         "hovertemplate": "country=gb<br>year=%{x}<br>capacity_mw=%{y}<extra></extra>",
         "legendgroup": "gb",
         "line": {
          "color": "#ab63fa"
         },
         "marker": {
          "symbol": "circle"
         },
         "mode": "lines",
         "name": "gb",
         "orientation": "v",
         "showlegend": true,
         "stackgroup": "1",
         "type": "scatter",
         "x": [
          "2000.0-01-01",
          "2003-01-01",
          "2004-01-01",
          "2005-01-01",
          "2006-01-01",
          "2007-01-01",
          "2007.0-01-01",
          "2008-01-01",
          "2009-01-01",
          "2010-01-01",
          "2011-01-01",
          "2012-01-01",
          "2013-01-01",
          "2014-01-01",
          "2015-01-01",
          "2015.0-01-01",
          "2017-01-01",
          "2018-01-01",
          "2019-01-01",
          "2020-01-01",
          "2021-01-01",
          "2022-01-01",
          "2023-01-01",
          "2024-01-01",
          "2025-01-01",
          "2026-01-01",
          "2026.0-01-01",
          "2027-01-01",
          "2028-01-01",
          "2029-01-01",
          "2030-01-01",
          "2031-01-01",
          "2032-01-01",
          "2033-01-01",
          "2036-01-01",
          "nan-01-01"
         ],
         "xaxis": "x",
         "y": [
          4,
          60,
          60,
          90,
          90,
          90,
          10,
          194,
          353,
          384,
          501,
          838,
          981,
          389,
          1055,
          7,
          1393.4,
          1513.8,
          588,
          1932,
          1000,
          2261,
          4845,
          4638,
          8192,
          3302,
          1400,
          4499,
          6047,
          7600,
          33798.9,
          3560,
          1420,
          2916,
          1500,
          4008
         ],
         "yaxis": "y"
        },
        {
         "fillpattern": {
          "shape": ""
         },
         "hovertemplate": "country=nl<br>year=%{x}<br>capacity_mw=%{y}<extra></extra>",
         "legendgroup": "nl",
         "line": {
          "color": "#FFA15A"
         },
         "marker": {
          "symbol": "circle"
         },
         "mode": "lines",
         "name": "nl",
         "orientation": "v",
         "showlegend": true,
         "stackgroup": "1",
         "type": "scatter",
         "x": [
          "2008-01-01",
          "2015.0-01-01",
          "2016-01-01",
          "2020-01-01",
          "2021-01-01",
          "2023-01-01",
          "2026-01-01",
          "nan-01-01"
         ],
         "xaxis": "x",
         "y": [
          228,
          129,
          601,
          1406,
          19,
          2299,
          1400,
          17400
         ],
         "yaxis": "y"
        },
        {
         "fillpattern": {
          "shape": ""
         },
         "hovertemplate": "country=no<br>year=%{x}<br>capacity_mw=%{y}<extra></extra>",
         "legendgroup": "no",
         "line": {
          "color": "#19d3f3"
         },
         "marker": {
          "symbol": "circle"
         },
         "mode": "lines",
         "name": "no",
         "orientation": "v",
         "showlegend": true,
         "stackgroup": "1",
         "type": "scatter",
         "x": [
          "2009-01-01",
          "2021-01-01",
          "2022-01-01",
          "2026-01-01",
          "2029-01-01",
          "2030-01-01",
          "nan-01-01"
         ],
         "xaxis": "x",
         "y": [
          2.3,
          3.6,
          106,
          3000,
          1500,
          3075,
          4545
         ],
         "yaxis": "y"
        }
       ],
       "layout": {
        "legend": {
         "title": {
          "text": "country"
         },
         "tracegroupgap": 0
        },
        "template": {
         "data": {
          "bar": [
           {
            "error_x": {
             "color": "#2a3f5f"
            },
            "error_y": {
             "color": "#2a3f5f"
            },
            "marker": {
             "line": {
              "color": "#E5ECF6",
              "width": 0.5
             },
             "pattern": {
              "fillmode": "overlay",
              "size": 10,
              "solidity": 0.2
             }
            },
            "type": "bar"
           }
          ],
          "barpolar": [
           {
            "marker": {
             "line": {
              "color": "#E5ECF6",
              "width": 0.5
             },
             "pattern": {
              "fillmode": "overlay",
              "size": 10,
              "solidity": 0.2
             }
            },
            "type": "barpolar"
           }
          ],
          "carpet": [
           {
            "aaxis": {
             "endlinecolor": "#2a3f5f",
             "gridcolor": "white",
             "linecolor": "white",
             "minorgridcolor": "white",
             "startlinecolor": "#2a3f5f"
            },
            "baxis": {
             "endlinecolor": "#2a3f5f",
             "gridcolor": "white",
             "linecolor": "white",
             "minorgridcolor": "white",
             "startlinecolor": "#2a3f5f"
            },
            "type": "carpet"
           }
          ],
          "choropleth": [
           {
            "colorbar": {
             "outlinewidth": 0,
             "ticks": ""
            },
            "type": "choropleth"
           }
          ],
          "contour": [
           {
            "colorbar": {
             "outlinewidth": 0,
             "ticks": ""
            },
            "colorscale": [
             [
              0,
              "#0d0887"
             ],
             [
              0.1111111111111111,
              "#46039f"
             ],
             [
              0.2222222222222222,
              "#7201a8"
             ],
             [
              0.3333333333333333,
              "#9c179e"
             ],
             [
              0.4444444444444444,
              "#bd3786"
             ],
             [
              0.5555555555555556,
              "#d8576b"
             ],
             [
              0.6666666666666666,
              "#ed7953"
             ],
             [
              0.7777777777777778,
              "#fb9f3a"
             ],
             [
              0.8888888888888888,
              "#fdca26"
             ],
             [
              1,
              "#f0f921"
             ]
            ],
            "type": "contour"
           }
          ],
          "contourcarpet": [
           {
            "colorbar": {
             "outlinewidth": 0,
             "ticks": ""
            },
            "type": "contourcarpet"
           }
          ],
          "heatmap": [
           {
            "colorbar": {
             "outlinewidth": 0,
             "ticks": ""
            },
            "colorscale": [
             [
              0,
              "#0d0887"
             ],
             [
              0.1111111111111111,
              "#46039f"
             ],
             [
              0.2222222222222222,
              "#7201a8"
             ],
             [
              0.3333333333333333,
              "#9c179e"
             ],
             [
              0.4444444444444444,
              "#bd3786"
             ],
             [
              0.5555555555555556,
              "#d8576b"
             ],
             [
              0.6666666666666666,
              "#ed7953"
             ],
             [
              0.7777777777777778,
              "#fb9f3a"
             ],
             [
              0.8888888888888888,
              "#fdca26"
             ],
             [
              1,
              "#f0f921"
             ]
            ],
            "type": "heatmap"
           }
          ],
          "heatmapgl": [
           {
            "colorbar": {
             "outlinewidth": 0,
             "ticks": ""
            },
            "colorscale": [
             [
              0,
              "#0d0887"
             ],
             [
              0.1111111111111111,
              "#46039f"
             ],
             [
              0.2222222222222222,
              "#7201a8"
             ],
             [
              0.3333333333333333,
              "#9c179e"
             ],
             [
              0.4444444444444444,
              "#bd3786"
             ],
             [
              0.5555555555555556,
              "#d8576b"
             ],
             [
              0.6666666666666666,
              "#ed7953"
             ],
             [
              0.7777777777777778,
              "#fb9f3a"
             ],
             [
              0.8888888888888888,
              "#fdca26"
             ],
             [
              1,
              "#f0f921"
             ]
            ],
            "type": "heatmapgl"
           }
          ],
          "histogram": [
           {
            "marker": {
             "pattern": {
              "fillmode": "overlay",
              "size": 10,
              "solidity": 0.2
             }
            },
            "type": "histogram"
           }
          ],
          "histogram2d": [
           {
            "colorbar": {
             "outlinewidth": 0,
             "ticks": ""
            },
            "colorscale": [
             [
              0,
              "#0d0887"
             ],
             [
              0.1111111111111111,
              "#46039f"
             ],
             [
              0.2222222222222222,
              "#7201a8"
             ],
             [
              0.3333333333333333,
              "#9c179e"
             ],
             [
              0.4444444444444444,
              "#bd3786"
             ],
             [
              0.5555555555555556,
              "#d8576b"
             ],
             [
              0.6666666666666666,
              "#ed7953"
             ],
             [
              0.7777777777777778,
              "#fb9f3a"
             ],
             [
              0.8888888888888888,
              "#fdca26"
             ],
             [
              1,
              "#f0f921"
             ]
            ],
            "type": "histogram2d"
           }
          ],
          "histogram2dcontour": [
           {
            "colorbar": {
             "outlinewidth": 0,
             "ticks": ""
            },
            "colorscale": [
             [
              0,
              "#0d0887"
             ],
             [
              0.1111111111111111,
              "#46039f"
             ],
             [
              0.2222222222222222,
              "#7201a8"
             ],
             [
              0.3333333333333333,
              "#9c179e"
             ],
             [
              0.4444444444444444,
              "#bd3786"
             ],
             [
              0.5555555555555556,
              "#d8576b"
             ],
             [
              0.6666666666666666,
              "#ed7953"
             ],
             [
              0.7777777777777778,
              "#fb9f3a"
             ],
             [
              0.8888888888888888,
              "#fdca26"
             ],
             [
              1,
              "#f0f921"
             ]
            ],
            "type": "histogram2dcontour"
           }
          ],
          "mesh3d": [
           {
            "colorbar": {
             "outlinewidth": 0,
             "ticks": ""
            },
            "type": "mesh3d"
           }
          ],
          "parcoords": [
           {
            "line": {
             "colorbar": {
              "outlinewidth": 0,
              "ticks": ""
             }
            },
            "type": "parcoords"
           }
          ],
          "pie": [
           {
            "automargin": true,
            "type": "pie"
           }
          ],
          "scatter": [
           {
            "fillpattern": {
             "fillmode": "overlay",
             "size": 10,
             "solidity": 0.2
            },
            "type": "scatter"
           }
          ],
          "scatter3d": [
           {
            "line": {
             "colorbar": {
              "outlinewidth": 0,
              "ticks": ""
             }
            },
            "marker": {
             "colorbar": {
              "outlinewidth": 0,
              "ticks": ""
             }
            },
            "type": "scatter3d"
           }
          ],
          "scattercarpet": [
           {
            "marker": {
             "colorbar": {
              "outlinewidth": 0,
              "ticks": ""
             }
            },
            "type": "scattercarpet"
           }
          ],
          "scattergeo": [
           {
            "marker": {
             "colorbar": {
              "outlinewidth": 0,
              "ticks": ""
             }
            },
            "type": "scattergeo"
           }
          ],
          "scattergl": [
           {
            "marker": {
             "colorbar": {
              "outlinewidth": 0,
              "ticks": ""
             }
            },
            "type": "scattergl"
           }
          ],
          "scattermapbox": [
           {
            "marker": {
             "colorbar": {
              "outlinewidth": 0,
              "ticks": ""
             }
            },
            "type": "scattermapbox"
           }
          ],
          "scatterpolar": [
           {
            "marker": {
             "colorbar": {
              "outlinewidth": 0,
              "ticks": ""
             }
            },
            "type": "scatterpolar"
           }
          ],
          "scatterpolargl": [
           {
            "marker": {
             "colorbar": {
              "outlinewidth": 0,
              "ticks": ""
             }
            },
            "type": "scatterpolargl"
           }
          ],
          "scatterternary": [
           {
            "marker": {
             "colorbar": {
              "outlinewidth": 0,
              "ticks": ""
             }
            },
            "type": "scatterternary"
           }
          ],
          "surface": [
           {
            "colorbar": {
             "outlinewidth": 0,
             "ticks": ""
            },
            "colorscale": [
             [
              0,
              "#0d0887"
             ],
             [
              0.1111111111111111,
              "#46039f"
             ],
             [
              0.2222222222222222,
              "#7201a8"
             ],
             [
              0.3333333333333333,
              "#9c179e"
             ],
             [
              0.4444444444444444,
              "#bd3786"
             ],
             [
              0.5555555555555556,
              "#d8576b"
             ],
             [
              0.6666666666666666,
              "#ed7953"
             ],
             [
              0.7777777777777778,
              "#fb9f3a"
             ],
             [
              0.8888888888888888,
              "#fdca26"
             ],
             [
              1,
              "#f0f921"
             ]
            ],
            "type": "surface"
           }
          ],
          "table": [
           {
            "cells": {
             "fill": {
              "color": "#EBF0F8"
             },
             "line": {
              "color": "white"
             }
            },
            "header": {
             "fill": {
              "color": "#C8D4E3"
             },
             "line": {
              "color": "white"
             }
            },
            "type": "table"
           }
          ]
         },
         "layout": {
          "annotationdefaults": {
           "arrowcolor": "#2a3f5f",
           "arrowhead": 0,
           "arrowwidth": 1
          },
          "autotypenumbers": "strict",
          "coloraxis": {
           "colorbar": {
            "outlinewidth": 0,
            "ticks": ""
           }
          },
          "colorscale": {
           "diverging": [
            [
             0,
             "#8e0152"
            ],
            [
             0.1,
             "#c51b7d"
            ],
            [
             0.2,
             "#de77ae"
            ],
            [
             0.3,
             "#f1b6da"
            ],
            [
             0.4,
             "#fde0ef"
            ],
            [
             0.5,
             "#f7f7f7"
            ],
            [
             0.6,
             "#e6f5d0"
            ],
            [
             0.7,
             "#b8e186"
            ],
            [
             0.8,
             "#7fbc41"
            ],
            [
             0.9,
             "#4d9221"
            ],
            [
             1,
             "#276419"
            ]
           ],
           "sequential": [
            [
             0,
             "#0d0887"
            ],
            [
             0.1111111111111111,
             "#46039f"
            ],
            [
             0.2222222222222222,
             "#7201a8"
            ],
            [
             0.3333333333333333,
             "#9c179e"
            ],
            [
             0.4444444444444444,
             "#bd3786"
            ],
            [
             0.5555555555555556,
             "#d8576b"
            ],
            [
             0.6666666666666666,
             "#ed7953"
            ],
            [
             0.7777777777777778,
             "#fb9f3a"
            ],
            [
             0.8888888888888888,
             "#fdca26"
            ],
            [
             1,
             "#f0f921"
            ]
           ],
           "sequentialminus": [
            [
             0,
             "#0d0887"
            ],
            [
             0.1111111111111111,
             "#46039f"
            ],
            [
             0.2222222222222222,
             "#7201a8"
            ],
            [
             0.3333333333333333,
             "#9c179e"
            ],
            [
             0.4444444444444444,
             "#bd3786"
            ],
            [
             0.5555555555555556,
             "#d8576b"
            ],
            [
             0.6666666666666666,
             "#ed7953"
            ],
            [
             0.7777777777777778,
             "#fb9f3a"
            ],
            [
             0.8888888888888888,
             "#fdca26"
            ],
            [
             1,
             "#f0f921"
            ]
           ]
          },
          "colorway": [
           "#636efa",
           "#EF553B",
           "#00cc96",
           "#ab63fa",
           "#FFA15A",
           "#19d3f3",
           "#FF6692",
           "#B6E880",
           "#FF97FF",
           "#FECB52"
          ],
          "font": {
           "color": "#2a3f5f"
          },
          "geo": {
           "bgcolor": "white",
           "lakecolor": "white",
           "landcolor": "#E5ECF6",
           "showlakes": true,
           "showland": true,
           "subunitcolor": "white"
          },
          "hoverlabel": {
           "align": "left"
          },
          "hovermode": "closest",
          "mapbox": {
           "style": "light"
          },
          "paper_bgcolor": "white",
          "plot_bgcolor": "#E5ECF6",
          "polar": {
           "angularaxis": {
            "gridcolor": "white",
            "linecolor": "white",
            "ticks": ""
           },
           "bgcolor": "#E5ECF6",
           "radialaxis": {
            "gridcolor": "white",
            "linecolor": "white",
            "ticks": ""
           }
          },
          "scene": {
           "xaxis": {
            "backgroundcolor": "#E5ECF6",
            "gridcolor": "white",
            "gridwidth": 2,
            "linecolor": "white",
            "showbackground": true,
            "ticks": "",
            "zerolinecolor": "white"
           },
           "yaxis": {
            "backgroundcolor": "#E5ECF6",
            "gridcolor": "white",
            "gridwidth": 2,
            "linecolor": "white",
            "showbackground": true,
            "ticks": "",
            "zerolinecolor": "white"
           },
           "zaxis": {
            "backgroundcolor": "#E5ECF6",
            "gridcolor": "white",
            "gridwidth": 2,
            "linecolor": "white",
            "showbackground": true,
            "ticks": "",
            "zerolinecolor": "white"
           }
          },
          "shapedefaults": {
           "line": {
            "color": "#2a3f5f"
           }
          },
          "ternary": {
           "aaxis": {
            "gridcolor": "white",
            "linecolor": "white",
            "ticks": ""
           },
           "baxis": {
            "gridcolor": "white",
            "linecolor": "white",
            "ticks": ""
           },
           "bgcolor": "#E5ECF6",
           "caxis": {
            "gridcolor": "white",
            "linecolor": "white",
            "ticks": ""
           }
          },
          "title": {
           "x": 0.05
          },
          "xaxis": {
           "automargin": true,
           "gridcolor": "white",
           "linecolor": "white",
           "ticks": "",
           "title": {
            "standoff": 15
           },
           "zerolinecolor": "white",
           "zerolinewidth": 2
          },
          "yaxis": {
           "automargin": true,
           "gridcolor": "white",
           "linecolor": "white",
           "ticks": "",
           "title": {
            "standoff": 15
           },
           "zerolinecolor": "white",
           "zerolinewidth": 2
          }
         }
        },
        "title": {
         "text": "Projected megawatt production per country per year"
        },
        "xaxis": {
         "anchor": "y",
         "domain": [
          0,
          1
         ],
         "title": {
          "text": "year"
         }
        },
        "yaxis": {
         "anchor": "x",
         "domain": [
          0,
          1
         ],
         "title": {
          "text": "capacity_mw"
         }
        }
       }
      }
     },
     "metadata": {},
     "output_type": "display_data"
    }
   ],
   "source": [
    "fig = px.area(c_time,\n",
    "              x='year',\n",
    "              y='capacity_mw',\n",
    "              color='country',\n",
    "              title='Projected megawatt production per country per year',\n",
    "             )\n",
    "fig.show()"
   ]
  },
  {
   "cell_type": "markdown",
   "metadata": {},
   "source": [
    "## Analysis ownership structure\n",
    "\n",
    "There are several ways to go about this. It would be great if we could (partly) automate the generation of ownership tables, using graphs. We could use neo4j for that, or networkx. A query should look something like this:\n",
    "1. For each asset assign a value of 1\n",
    "2. Travel on an ownership relation and multiply the weight of that relationship, e.g. 1\n",
    "3. At the next node find all ownership relationships\n",
    "4. Travel all relationships and multiply by the weight of that relationship, e.g. .5\n",
    "\n",
    "\n",
    "One of the problems with ownership is that we have some ranges and non-precise values (e.g. 75+). A solution is to define lower and upper values and convert them to weights. So this means we would create a few extra columns (percentage_lower_bound, percentage_upper_bound) and convert them to proper percentages so we can easily use them for multiplication. \n",
    "\n",
    "For now we have to assume that a missing percentage is 100 percent. That will often be te case, but we have to go through the Aleph data again one time to fill in the missing percentages.\n",
    "\n",
    "One promising approach is to use Dijkstra's Algorithm, the shortest path, between companies (source) and assets (targets). Because we're dealing with a directed graph, this should omit any detours because companies have joint ventures in other projects. "
   ]
  },
  {
   "cell_type": "code",
   "execution_count": 21,
   "metadata": {},
   "outputs": [],
   "source": [
    "# Clean percentages\n",
    "\n",
    "ownerships.percentage = ownerships.percentage.str.replace('+', '-100')\n",
    "ownerships.percentage.fillna('100', inplace=True)\n",
    "ownerships.percentage = ownerships.percentage.astype('str')\n",
    "\n",
    "# Add columns for lower and upper bound\n",
    "\n",
    "ownerships['perc_lower'] = ownerships.percentage.apply(lambda x: float(x.split('-')[0]) / 100 if '-' in x else float(x) / 100)\n",
    "ownerships['perc_higher'] = ownerships.percentage.apply(lambda x: float(x.split('-')[1]) / 100 if '-' in x else float(x) / 100)"
   ]
  },
  {
   "cell_type": "code",
   "execution_count": 22,
   "metadata": {},
   "outputs": [],
   "source": [
    "# Create directed graph\n",
    "\n",
    "G = nx.DiGraph()"
   ]
  },
  {
   "cell_type": "code",
   "execution_count": 23,
   "metadata": {},
   "outputs": [],
   "source": [
    "for i, row in assets.iterrows():\n",
    "    G.add_node(row.id,\n",
    "               name=row['name'],\n",
    "               status=row.notes,\n",
    "               country=row.country, \n",
    "               costs=row.amountEur, \n",
    "               mps_uuid=row.description,\n",
    "               aleph_url=row.alephUrl\n",
    "               )\n",
    "    \n",
    "for i, row in companies.iterrows():\n",
    "    G.add_node(row.id,\n",
    "               name=row['name'],\n",
    "               country=row.jurisdiction,\n",
    "               registration=row.registrationNumber,\n",
    "               source_url=row.publisherUrl,\n",
    "               aleph_url=row.alephUrl\n",
    "               )\n",
    "    \n",
    "for i, row in legalentities.iterrows():\n",
    "    G.add_node(row.id,\n",
    "               name=row['name'],\n",
    "               country=row.country,\n",
    "               aleph_url=row.alephUrl)\n",
    "    \n",
    "for i, row in ownerships.iterrows():\n",
    "    G.add_edge(row.owner,\n",
    "               row.asset,\n",
    "               weight_lower=row.perc_lower,\n",
    "               weight_upper=row.perc_higher,\n",
    "               percentage=row.percentage,\n",
    "               source=row.publisherUrl,\n",
    "               aleph_url=row.alephUrl,\n",
    "               id=id,\n",
    "               description=row.description\n",
    "               )\n",
    "    \n",
    "\n",
    "\n"
   ]
  },
  {
   "cell_type": "code",
   "execution_count": 24,
   "metadata": {},
   "outputs": [],
   "source": [
    "# Get source, target and use Dijkstra's algorithm to get the nodes and relationships inbetween\n",
    "\n",
    "def get_ownership(graph: nx.Graph, source: str, target: str, weight_range: str) -> Dict:\n",
    "    '''Calculates ownership percentage\n",
    "    Parameters:\n",
    "    ----------\n",
    "    graph: the graph with assets and owners (G)\n",
    "    source: precise name of PSC/UBO\n",
    "    target: precise name of asset\n",
    "    weight_range: \"lower\" or \"upper\"\n",
    "    '''\n",
    "    \n",
    "    # Get source and target node id\n",
    "    try:\n",
    "        s = [n for n, v in nx.get_node_attributes(graph, 'name').items() if v == source][0]\n",
    "        t = [n for n, v in nx.get_node_attributes(graph, 'name').items() if v == target][0]\n",
    "    except:\n",
    "        return print(f'could not find entry for {source} and {target}')\n",
    "\n",
    "    # Calculate shortest path\n",
    "    try:\n",
    "        [x for x in nx.dijkstra_path(G, s, t)]\n",
    "        shortest_path = [x for x in nx.dijkstra_path(G, s, t)]\n",
    "    except (KeyError, NetworkXNoPath) as error:\n",
    "        #print(f'No path found between {source} and {target}')\n",
    "        ownership = {}\n",
    "        return ownership\n",
    "\n",
    "    # Get node names for reference\n",
    "    nodes = [x for x in shortest_path]\n",
    "    names = [nx.get_node_attributes(G, 'name')[x] for x in nodes]\n",
    "\n",
    "    # Traverse path and get edge weights\n",
    "    window_size = 2\n",
    "    weight = 1\n",
    "    weights = []\n",
    "\n",
    "    if weight_range == 'lower':\n",
    "        weight_range = 'weight_lower'\n",
    "    elif weight_range == 'upper':\n",
    "        weight_range = 'weight_upper'\n",
    "    else:\n",
    "        raise ValueError('weight should be \"lower\" or \"upper\"')\n",
    "\n",
    "    for i in range(len(shortest_path) - window_size + 1):\n",
    "        node1 = shortest_path[i: i + window_size][0]\n",
    "        node2 = shortest_path[i: i + window_size][1]\n",
    "        nodes = list(G.edges([node1, node2], data=True))\n",
    "        for node in nodes:\n",
    "            if node[0] == node1 and node[1] == node2:\n",
    "                e = node[2][weight_range] \n",
    "        weight *= e\n",
    "        weights.append(e)\n",
    "\n",
    "    # Create dict\n",
    "    ownership = {'source_name': source,\n",
    "                 'source_id': s,\n",
    "                 'target_name': target,\n",
    "                 'target_id': t,\n",
    "                 'name_chain': \" -> \".join(names),\n",
    "                 'edge_weights': weights,\n",
    "                 'ownership_percentage': weight}\n",
    "\n",
    "    return ownership\n",
    "\n"
   ]
  },
  {
   "cell_type": "code",
   "execution_count": 25,
   "metadata": {},
   "outputs": [],
   "source": [
    "# Load list of ultimate beneficial owners\n",
    "\n",
    "ubos = pd.read_csv(PATH_ALEPH + 'psc.csv')\n",
    "ubos = ubos.company.to_list()"
   ]
  },
  {
   "cell_type": "code",
   "execution_count": 106,
   "metadata": {},
   "outputs": [],
   "source": [
    "bound = 'upper'\n",
    "\n",
    "# Create a dataframe\n",
    "\n",
    "o = []\n",
    "for ubo in ubos:\n",
    "    for i, row in assets.iterrows():\n",
    "        ownership = get_ownership(G, ubo, row['name'], bound)\n",
    "        o.append(ownership)\n",
    "\n",
    "o = list(filter(None, o))\n",
    "o = pd.DataFrame(o)\n",
    "\n",
    "# Add capacity to it\n",
    "\n",
    "df = pd.merge(o,\n",
    "              gdf[['name_aleph', 'capacity_mw', 'year', 'status_simplified', 'status', 'country', 'area_km']],\n",
    "              left_on='target_name',\n",
    "              right_on='name_aleph',\n",
    "              how='left')\n",
    "\n",
    "# Calculate capacity per company\n",
    "\n",
    "df['output_company_mw'] = df.ownership_percentage * df.capacity_mw\n",
    "df['company_area_km'] = df.ownership_percentage * df.area_km\n",
    "\n",
    "# Rename columns\n",
    "\n",
    "df = df.rename(columns={'source_name': 'company',\n",
    "                        'target_name': 'asset'})\n",
    "\n",
    "# Drop duplicates\n",
    "\n",
    "df = df.drop_duplicates(subset=['company', 'asset']).copy()"
   ]
  },
  {
   "cell_type": "code",
   "execution_count": 107,
   "metadata": {},
   "outputs": [],
   "source": [
    "# Groupby company\n",
    "\n",
    "coms = df.groupby('company').agg({'output_company_mw': 'sum',\n",
    "                                  'area_km': 'sum'})\n",
    "\n",
    "coms['perc_output'] = coms.output_company_mw / coms.output_company_mw.sum() * 100\n",
    "coms['perc_area'] = coms.area_km / coms.area_km.sum() * 100\n",
    "coms.reset_index(inplace=True)\n",
    "\n",
    "coms.to_csv(PATH_ALEPH + f'north_sea_company_output_and_area_{bound}_bounds.csv', index=False)"
   ]
  },
  {
   "cell_type": "code",
   "execution_count": 108,
   "metadata": {},
   "outputs": [],
   "source": [
    "# Groupby company, country and status\n",
    "\n",
    "country = df.groupby(['country', 'company', 'status']).agg({'output_company_mw': 'sum',\n",
    "                                                             'company_area_km': 'sum'})\n",
    "\n",
    "country.reset_index(inplace=True)\n",
    "\n",
    "country.to_csv(PATH_ALEPH + f'north_sea_total_output_grouped_by_country_and_company_and_status_{bound}_bounds.csv', index=False)"
   ]
  },
  {
   "cell_type": "code",
   "execution_count": 109,
   "metadata": {},
   "outputs": [],
   "source": [
    "# Merge upper and lower\n",
    "\n",
    "lower = pd.read_csv(PATH_ALEPH + 'north_sea_total_output_grouped_by_country_and_company_and_status_lower_bounds.csv')\n",
    "upper = pd.read_csv(PATH_ALEPH + 'north_sea_total_output_grouped_by_country_and_company_and_status_upper_bounds.csv')\n",
    "\n",
    "# Rename\n",
    "\n",
    "lower = lower.rename(columns={'output_company_mw': 'output_company_mw_lower', 'company_area_km': 'area_km_lower'})\n",
    "upper = upper.rename(columns={'output_company_mw': 'output_company_mw_upper', 'company_area_km': 'area_km_upper'})\n",
    "\n",
    "# Merge\n",
    "\n",
    "df_com = pd.merge(lower,\n",
    "                 upper,\n",
    "                 on=['company', 'country', 'status'],\n",
    "                 how='left')"
   ]
  },
  {
   "cell_type": "code",
   "execution_count": 111,
   "metadata": {},
   "outputs": [],
   "source": [
    "df_com.to_csv(PATH_ALEPH + 'north_sea_output_company_status_country_lower_and_upper.csv', index=False)"
   ]
  },
  {
   "cell_type": "code",
   "execution_count": null,
   "metadata": {},
   "outputs": [],
   "source": []
  },
  {
   "cell_type": "code",
   "execution_count": null,
   "metadata": {},
   "outputs": [],
   "source": [
    "# Check for endpoints (nodes without incoming edges)\n",
    "\n",
    "endpoints = [node for node in G.nodes if G.in_degree(node) == 0]\n",
    "\n",
    "for point in endpoints:\n",
    "    node = G.nodes[point]\n",
    "    if 'country' in node.keys():\n",
    "        \n",
    "        print(node['name'], node['country'])\n",
    "    else:\n",
    "        continue"
   ]
  }
 ],
 "metadata": {
  "kernelspec": {
   "display_name": ".venv",
   "language": "python",
   "name": "python3"
  },
  "language_info": {
   "codemirror_mode": {
    "name": "ipython",
    "version": 3
   },
   "file_extension": ".py",
   "mimetype": "text/x-python",
   "name": "python",
   "nbconvert_exporter": "python",
   "pygments_lexer": "ipython3",
   "version": "3.10.13"
  },
  "orig_nbformat": 4
 },
 "nbformat": 4,
 "nbformat_minor": 2
}
