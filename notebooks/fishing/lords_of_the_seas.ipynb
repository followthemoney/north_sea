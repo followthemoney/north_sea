{
 "cells": [
  {
   "cell_type": "code",
   "execution_count": 1,
   "id": "b0298e4b",
   "metadata": {},
   "outputs": [],
   "source": [
    "%load_ext autoreload\n",
    "%autoreload 2"
   ]
  },
  {
   "cell_type": "code",
   "execution_count": 2,
   "id": "5b38164d",
   "metadata": {},
   "outputs": [],
   "source": [
    "import sys\n",
    "sys.path.append('../../../companies/src/')"
   ]
  },
  {
   "cell_type": "code",
   "execution_count": 4,
   "id": "729e9c55",
   "metadata": {},
   "outputs": [
    {
     "data": {
      "text/plain": [
       "True"
      ]
     },
     "execution_count": 4,
     "metadata": {},
     "output_type": "execute_result"
    }
   ],
   "source": [
    "import company_info as ci\n",
    "import opencorporates as oc\n",
    "from glob import glob\n",
    "import pandas as pd\n",
    "from followthemoney import model\n",
    "from alephclient.api import AlephAPI\n",
    "import json\n",
    "import os\n",
    "from dotenv import load_dotenv\n",
    "load_dotenv('../../.env')"
   ]
  },
  {
   "cell_type": "code",
   "execution_count": 5,
   "id": "7eb3e193",
   "metadata": {},
   "outputs": [],
   "source": [
    "PATH = os.environ.get('PATH_FISHERIES')"
   ]
  },
  {
   "cell_type": "code",
   "execution_count": 6,
   "id": "ec9b10c5",
   "metadata": {},
   "outputs": [],
   "source": [
    "concerns = []\n",
    "for file in glob(PATH + 'companies/raw_concern/*.html'):\n",
    "    concern = ci.get_concern_html(file)\n",
    "    concerns.append(concern)\n",
    "    \n",
    "concern = pd.concat(concerns).reset_index(drop=True)"
   ]
  },
  {
   "cell_type": "code",
   "execution_count": 7,
   "id": "5f0bed48",
   "metadata": {},
   "outputs": [],
   "source": [
    "deelnemingen = []\n",
    "for file in glob(PATH + 'companies/raw/*.har'):\n",
    "    deelneming = ci.parse_company_info(file, 'participations')\n",
    "    deelnemingen.append(deelneming)\n",
    "\n",
    "deelnemingen = pd.concat(deelnemingen)\n",
    "deelnemingen.drop_duplicates(subset=['country', 'name', 'year', 'percentage'], inplace=True)\n",
    "deelnemingen.dropna(subset='name', inplace=True)\n",
    "deelnemingen = deelnemingen[deelnemingen.name != '--'].copy()\n",
    "deelnemingen.reset_index(drop=True, inplace=True)"
   ]
  },
  {
   "cell_type": "code",
   "execution_count": 9,
   "id": "5ff6bda0",
   "metadata": {},
   "outputs": [],
   "source": [
    "concern.to_csv(PATH + 'concern_lords.csv', index=False)\n",
    "deelnemingen.to_csv(PATH + 'participations_lords.csv', index=False)"
   ]
  },
  {
   "cell_type": "code",
   "execution_count": null,
   "id": "2b4f7060",
   "metadata": {},
   "outputs": [],
   "source": [
    "concern.head()"
   ]
  },
  {
   "cell_type": "code",
   "execution_count": null,
   "id": "e7f01729",
   "metadata": {},
   "outputs": [],
   "source": [
    "deelnemingen.sample(10)"
   ]
  },
  {
   "cell_type": "code",
   "execution_count": null,
   "id": "d2744f4e",
   "metadata": {},
   "outputs": [],
   "source": [
    "result = oc.search_company('Oderbank Hochseefischerei GmbH', 'de')"
   ]
  },
  {
   "cell_type": "code",
   "execution_count": null,
   "id": "f5dc10c0",
   "metadata": {},
   "outputs": [],
   "source": [
    "result"
   ]
  },
  {
   "cell_type": "code",
   "execution_count": null,
   "id": "7dad73ac",
   "metadata": {},
   "outputs": [],
   "source": []
  },
  {
   "cell_type": "code",
   "execution_count": null,
   "id": "271d43c2",
   "metadata": {},
   "outputs": [],
   "source": []
  },
  {
   "cell_type": "code",
   "execution_count": null,
   "id": "b637cc85",
   "metadata": {},
   "outputs": [],
   "source": []
  },
  {
   "cell_type": "code",
   "execution_count": null,
   "id": "f1048cfb",
   "metadata": {},
   "outputs": [],
   "source": [
    "person = {'start_index': 0, 'total_results': 9, 'items': [{'occupation': 'Director', 'nationality': 'Dutch', 'officer_role': 'director', 'country_of_residence': 'Netherlands', 'appointed_on': '2006-01-31', 'name_elements': {'forename': 'Jan', 'surname': 'VAN DER PLAS', 'other_forenames': 'Cornelis'}, 'name': 'Jan Cornelis VAN DER PLAS', 'appointed_to': {'company_name': 'ARMANA LIMITED', 'company_status': 'active', 'company_number': '02114924'}, 'links': {'company': '/company/02114924'}, 'address': {'premises': 'Parlevliet & Van Der Plas', 'address_line_1': 'Voorschoterweg 31', 'country': 'Netherlands', 'locality': '2235 Se Volkenburg Zh'}}, {'officer_role': 'director', 'country_of_residence': 'Netherlands', 'nationality': 'Dutch', 'occupation': 'Director', 'name': 'Jan Cornelis VAN DER PLAS', 'appointed_to': {'company_name': 'SWANELLA LIMITED', 'company_status': 'active', 'company_number': '02980262'}, 'links': {'company': '/company/02980262'}, 'address': {'locality': '2235 Se Valkenburg Zh', 'country': 'Netherlands', 'address_line_1': 'Voorschoterweg 31', 'premises': 'Parlevliet & Van Der Plas'}, 'name_elements': {'forename': 'Jan', 'surname': 'VAN DER PLAS', 'other_forenames': 'Cornelis'}, 'appointed_on': '2006-01-31'}, {'links': {'company': '/company/02114161'}, 'address': {'premises': 'Parlevliet & Van Der Plas', 'address_line_1': 'Voorschoterweg 31', 'country': 'Netherlands', 'locality': '2235 Se Valkenburg Zh'}, 'name': 'Jan Cornelis VAN DER PLAS', 'appointed_to': {'company_name': 'JACINTA LIMITED', 'company_status': 'active', 'company_number': '02114161'}, 'appointed_on': '2006-01-31', 'name_elements': {'surname': 'VAN DER PLAS', 'forename': 'Jan', 'other_forenames': 'Cornelis'}, 'country_of_residence': 'Netherlands', 'officer_role': 'director', 'nationality': 'Dutch', 'occupation': 'Director'}, {'occupation': 'Director', 'officer_role': 'director', 'country_of_residence': 'Netherlands', 'nationality': 'Dutch', 'appointed_on': '2006-01-31', 'name_elements': {'other_forenames': 'Cornelis', 'surname': 'VAN DER PLAS', 'forename': 'Jan'}, 'name': 'Jan Cornelis VAN DER PLAS', 'appointed_to': {'company_number': '00054268', 'company_status': 'active', 'company_name': 'J. MARR (FISHING) LIMITED'}, 'address': {'locality': '2235 Se Valkenburg Zh', 'country': 'Netherlands', 'address_line_1': 'Voorschoterweg 31', 'premises': 'Parlevliet & Van Der Plas'}, 'links': {'company': '/company/00054268'}}, {'occupation': 'Director', 'country_of_residence': 'Netherlands', 'officer_role': 'director', 'nationality': 'Dutch', 'name_elements': {'forename': 'Jan', 'surname': 'VAN DER PLAS', 'other_forenames': 'Cornelis'}, 'appointed_on': '2006-01-31', 'links': {'company': '/company/03817237'}, 'address': {'country': 'Netherlands', 'locality': '2235 Se Valkenburg Zh', 'premises': 'Parlevliet & Van Der Plas', 'address_line_1': 'Voorschoterweg 31'}, 'appointed_to': {'company_name': 'KIRKELLA LIMITED', 'company_status': 'active', 'company_number': '03817237'}, 'name': 'Jan Cornelis VAN DER PLAS'}, {'appointed_on': '2006-01-18', 'name_elements': {'other_forenames': 'Cornelis', 'forename': 'Jan', 'surname': 'VAN DER PLAS'}, 'appointed_to': {'company_status': 'active', 'company_name': 'MARR MANAGEMENT LIMITED', 'company_number': '05647289'}, 'name': 'Jan Cornelis VAN DER PLAS', 'address': {'locality': '2235 Se Valkenburg Zh', 'country': 'Netherlands', 'address_line_1': 'Voorschoterweg 31', 'premises': 'Parlevliet & Van Der Plas'}, 'links': {'company': '/company/05647289'}, 'occupation': 'Director', 'officer_role': 'director', 'country_of_residence': 'Netherlands', 'nationality': 'Dutch'}, {'name_elements': {'forename': 'Jan', 'surname': 'VAN DER PLAS', 'other_forenames': 'Cornelis'}, 'appointed_on': '2004-09-01', 'address': {'locality': '2235 Se Valkenburg Zh', 'country': 'Netherlands', 'address_line_1': 'Voorschoterweg 31', 'premises': 'Parlevliet & Van Der Plas'}, 'links': {'company': '/company/05219340'}, 'name': 'Jan Cornelis VAN DER PLAS', 'appointed_to': {'company_name': 'UK FISHERIES LIMITED', 'company_status': 'active', 'company_number': '05219340'}, 'occupation': 'Managing Director', 'country_of_residence': 'Netherlands', 'officer_role': 'director', 'nationality': 'Dutch'}, {'name_elements': {'other_forenames': 'Cornelis', 'surname': 'VAN DER PLAS', 'forename': 'Jan'}, 'appointed_on': '2004-02-15', 'address': {'country': 'Netherlands', 'locality': '2235 Se Valkenburg Zh', 'premises': 'Parlevliet & Van Der Plas', 'address_line_1': 'Voorschoterweg 31'}, 'links': {'company': '/company/02019266'}, 'name': 'Jan Cornelis VAN DER PLAS', 'appointed_to': {'company_status': 'active', 'company_name': 'LIONMAN LIMITED', 'company_number': '02019266'}, 'occupation': 'Managing Director', 'country_of_residence': 'Netherlands', 'officer_role': 'director', 'nationality': 'Dutch'}, {'name_elements': {'other_forenames': 'Cornelis', 'forename': 'Jan', 'surname': 'VAN DER PLAS'}, 'appointed_on': '2004-02-15', 'address': {'locality': '2235 Se Valkenburg Zh', 'country': 'Netherlands', 'address_line_1': 'Voorschoterweg 31', 'premises': 'Parlevliet & Van Der Plas'}, 'links': {'company': '/company/01501627'}, 'name': 'Jan Cornelis VAN DER PLAS', 'appointed_to': {'company_status': 'active', 'company_name': 'BOYD LINE LIMITED', 'company_number': '01501627'}, 'occupation': 'Director', 'country_of_residence': 'Netherlands', 'officer_role': 'director', 'nationality': 'Dutch'}], 'name': 'Jan Cornelis VAN DER PLAS', 'links': {'self': '/officers/zlruz9CLpxkWxbgPguBg96_T3HA/appointments'}, 'etag': '3f295231070b65a14e8bb86652fc396afe2e15b5', 'date_of_birth': {'month': 4, 'year': 1954}, 'is_corporate_officer': False, 'kind': 'personal-appointment', 'items_per_page': 35}\n"
   ]
  },
  {
   "cell_type": "code",
   "execution_count": null,
   "id": "7a08c718",
   "metadata": {},
   "outputs": [],
   "source": [
    "dicts = []\n",
    "pers_dict = {}\n",
    "\n",
    "keys = [key for key in person.keys() if key not in ['items', 'start_index', 'items_per_page', 'total_results']]\n",
    "\n",
    "for key in keys:\n",
    "    pers_dict.update({key: person.get(key)})\n",
    "\n",
    "for p in person.get('items'):\n",
    "    pers_dict.update({'name': p.get('name'),\n",
    "                 'first_name': p.get('name_elements').get('forename'),\n",
    "                 'last_name': p.get('name_elements').get('surname'),\n",
    "                 'nationality': p.get('nationality'),\n",
    "                 'country_of_residence': p.get('country_of_residence'),\n",
    "                 'company_name': p.get('appointed_to').get('company_name'),\n",
    "                 'company_status': p.get('appointed_to').get('company_status'),\n",
    "                 'company_number': p.get('appointed_to').get('company_number'),\n",
    "                 'role': p.get('officer_role'),\n",
    "                 'occupation': p.get('occupation'),\n",
    "                 'appointed_on': p.get('appointed_on'),\n",
    "                 'premises': p.get('address').get('premises'),\n",
    "                 'address_line1': p.get('address').get('address_line_1'),\n",
    "                 'addres_line2': p.get('address').get('address_line_2'),\n",
    "                 'country': p.get('address').get('country'),\n",
    "                 'locality': p.get('address').get('locality')})\n",
    "    dicts.append(pers_dict)\n",
    "\n",
    "benoemingen = pd.DataFrame(dicts)\n",
    "\n",
    "if len(benoemingen) != person.get('total_results'):\n",
    "    raise ValueError('not all records parsed')\n",
    "    \n",
    "                 \n",
    "    \n",
    "    "
   ]
  },
  {
   "cell_type": "code",
   "execution_count": null,
   "id": "275a0648",
   "metadata": {},
   "outputs": [],
   "source": []
  },
  {
   "cell_type": "code",
   "execution_count": null,
   "id": "1fbae449",
   "metadata": {},
   "outputs": [],
   "source": []
  },
  {
   "cell_type": "code",
   "execution_count": null,
   "id": "3643c6a0",
   "metadata": {},
   "outputs": [],
   "source": []
  },
  {
   "cell_type": "code",
   "execution_count": null,
   "id": "9c121e6c",
   "metadata": {},
   "outputs": [],
   "source": [
    "pd.DataFrame(person.get('items')).get('address')[1]"
   ]
  },
  {
   "cell_type": "code",
   "execution_count": null,
   "id": "6b3a9dff",
   "metadata": {},
   "outputs": [],
   "source": []
  }
 ],
 "metadata": {
  "kernelspec": {
   "display_name": ".venv",
   "language": "python",
   "name": "python3"
  },
  "language_info": {
   "codemirror_mode": {
    "name": "ipython",
    "version": 3
   },
   "file_extension": ".py",
   "mimetype": "text/x-python",
   "name": "python",
   "nbconvert_exporter": "python",
   "pygments_lexer": "ipython3",
   "version": "3.10.12"
  }
 },
 "nbformat": 4,
 "nbformat_minor": 5
}
