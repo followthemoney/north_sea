{
 "cells": [
  {
   "cell_type": "code",
   "execution_count": 1,
   "id": "b0298e4b",
   "metadata": {},
   "outputs": [],
   "source": [
    "%load_ext autoreload\n",
    "%autoreload 2"
   ]
  },
  {
   "cell_type": "markdown",
   "id": "1469d98f",
   "metadata": {},
   "source": [
    "# The Three Lords\n",
    "\n",
    "The goal of this notebook is to get, parse, clean and analyse data from different sources to gain more insight into the activities of the 'Three Lords' of the North Sea: Parlevliet & van der Plas, Cornelis Vrolijk and Van der Zwan & Zonen. \n",
    "\n",
    "### Research question\n",
    "\n",
    "\n",
    "\n",
    "### Methodological issues\n",
    "\n",
    "1. We have some basic knowledge of fishing activity, or rather fishing efforts. How does that effort translate into what these ships actually offload in ports around the world? There are a couple of approaches we can take. The first is to get a few examples from actual offloading volumes that we can link to fishing efforts and interpolate all values from there. The second one is that we can use the ICES surveys ([DATRAS](https://www.ices.dk/data/data-portals/Pages/DATRAS.aspx)), where exact location and time of catches are known. The problem there is that the surveys are highly standardized and probably don't represent normal fishing activity.\n",
    "2. Can a relationship be established between fishing efforts and quota rights? \n",
    "3. How can we find AIS on/off switching in the GFW data?\n",
    "4. How do we know the AIS data is complete? Some areas, like the Central North Sea, are a bit sparse when we look at fishing efforts. Could poor AIS reception contribute to that sparsity? \n",
    "5. How do we compare the activities of the Three Lords with other fishery companies? Can we establish some baselines for comparisons? \n",
    "\n",
    "### Data sources\n",
    "\n",
    "1. [Global Fishing Watch](https://globalfishingwatch.org): excellent source for fishing efforts, encounters, loitering events and port visits. \n",
    "2. [CompanyInfo](https://companyinfo.nl): company information (concern, participations) of the three Dutch companies. \n",
    "3. [OpenCorporates](https://opencorporates.com): information on foreign subsidiaries of the Three Lords.\n",
    "4. NEEDED: quota rights\n",
    "5. NEEDED: catchment data"
   ]
  },
  {
   "cell_type": "code",
   "execution_count": 2,
   "id": "5b38164d",
   "metadata": {},
   "outputs": [],
   "source": [
    "# Make sure we can import company data modules\n",
    "\n",
    "import sys\n",
    "sys.path.append('../../../companies/src/')"
   ]
  },
  {
   "cell_type": "code",
   "execution_count": 266,
   "id": "729e9c55",
   "metadata": {},
   "outputs": [
    {
     "data": {
      "text/plain": [
       "True"
      ]
     },
     "execution_count": 266,
     "metadata": {},
     "output_type": "execute_result"
    }
   ],
   "source": [
    "from glob import glob\n",
    "import pandas as pd\n",
    "from typing import List\n",
    "from followthemoney import model\n",
    "from alephclient.api import AlephAPI\n",
    "import geopandas as gpd\n",
    "import requests\n",
    "import os\n",
    "import ast\n",
    "import numpy as np\n",
    "from tqdm import tqdm\n",
    "from dotenv import load_dotenv\n",
    "from . import company_info as ci\n",
    "\n",
    "load_dotenv('../../.env')"
   ]
  },
  {
   "cell_type": "code",
   "execution_count": 4,
   "id": "7eb3e193",
   "metadata": {},
   "outputs": [],
   "source": [
    "PATH = os.environ.get('PATH_FISHERIES')\n",
    "API_KEY = os.environ.get('GFW_API_KEY')"
   ]
  },
  {
   "cell_type": "markdown",
   "id": "1d12c84c",
   "metadata": {},
   "source": [
    "## Get and parse companies from company info"
   ]
  },
  {
   "cell_type": "code",
   "execution_count": null,
   "id": "ec9b10c5",
   "metadata": {},
   "outputs": [],
   "source": [
    "# Get concerns (full ownership)\n",
    "\n",
    "concerns = []\n",
    "for file in glob(PATH + 'companies/raw_concern/*.html'):\n",
    "    concern = ci.get_concern_html(file)\n",
    "    concerns.append(concern)\n",
    "    \n",
    "concern = pd.concat(concerns).reset_index(drop=True)"
   ]
  },
  {
   "cell_type": "code",
   "execution_count": null,
   "id": "5f0bed48",
   "metadata": {},
   "outputs": [],
   "source": [
    "# Get participations (from annual reports)\n",
    "\n",
    "deelnemingen = []\n",
    "for file in glob(PATH + 'companies/raw/*.har'):\n",
    "    deelneming = ci.parse_company_info(file, 'participations')\n",
    "    deelnemingen.append(deelneming)\n",
    "\n",
    "deelnemingen = pd.concat(deelnemingen)\n",
    "deelnemingen.drop_duplicates(subset=['country', 'name', 'year', 'percentage'], inplace=True)\n",
    "deelnemingen.dropna(subset='name', inplace=True)\n",
    "deelnemingen = deelnemingen[deelnemingen.name != '--'].copy()\n",
    "deelnemingen.reset_index(drop=True, inplace=True)"
   ]
  },
  {
   "cell_type": "code",
   "execution_count": null,
   "id": "5ff6bda0",
   "metadata": {},
   "outputs": [],
   "source": [
    "concern.to_csv(PATH + 'concern_lords.csv', index=False)\n",
    "deelnemingen.to_csv(PATH + 'participations_lords.csv', index=False)"
   ]
  },
  {
   "cell_type": "markdown",
   "id": "0994f8f9",
   "metadata": {},
   "source": [
    "## Get Global Fishing Watch data"
   ]
  },
  {
   "cell_type": "code",
   "execution_count": 95,
   "id": "38cfe292",
   "metadata": {},
   "outputs": [],
   "source": [
    "# Set up GFW environment\n",
    "\n",
    "datasets = {'fishing_vessels': 'public-global-fishing-vessels:latest',\n",
    "            'carrier_vessels': 'public-global-carrier-vessels:latest',\n",
    "            'support_vessels': 'public-global-support-vessels:latest',\n",
    "            'fishing_efforts': 'public-global-fishing-events:latest',\n",
    "            'encounters': 'public-global-encounters-events:latest',\n",
    "            'loitering': 'public-global-loitering-events-carriers:latest',\n",
    "            'port_visits': 'public-global-port-visits-c2-events:latest'  \n",
    "            }\n",
    "\n",
    "endpoints = {'search': 'https://gateway.api.globalfishingwatch.org/v2/vessels/search?query=',\n",
    "             'advanced_search': 'https://gateway.api.globalfishingwatch.org/v2/vessels/advanced-search?query=',\n",
    "             'vessels': 'https://gateway.api.globalfishingwatch.org/v2/vessels/',\n",
    "             'events': 'https://gateway.api.globalfishingwatch.org/v2/events'\n",
    "             }\n",
    "\n",
    "headers = {'Authorization': f'Bearer {API_KEY}'}\n",
    "\n",
    "# Define some functions\n",
    "\n",
    "def search_vessels(endpoint: str, \n",
    "                   dataset: str, \n",
    "                   queries: List,\n",
    "                   query_field: str, \n",
    "                   limit: int\n",
    "                   ) -> List:\n",
    "    \n",
    "    if isinstance(queries, list):\n",
    "        results = []\n",
    "        for query in tqdm(queries):\n",
    "            r = requests.get(f'{endpoint}{str(query)}&query-fields={query_field}&datasets={dataset}&limit={str(limit)}&offset=0', headers=headers)\n",
    "            if r.status_code == 200:\n",
    "                result = r.json()\n",
    "                for res in result.get('entries'):\n",
    "                    if res.get('score') > 20:\n",
    "                        res.update({'query': query})\n",
    "                        results.append(res)\n",
    "            else:\n",
    "                print(f'could not find data for {query}')\n",
    "                continue\n",
    "    else:\n",
    "        raise ValueError('The query must be a list')\n",
    "\n",
    "    return results\n",
    "\n",
    "def get_events(endpoint: str, \n",
    "               dataset: str, \n",
    "               queries: List, \n",
    "               limit: int, \n",
    "               start_date: str, \n",
    "               end_date: str\n",
    "               ) -> List:\n",
    "\n",
    "    results = []\n",
    "    if isinstance(queries, list):\n",
    "        for query in tqdm(queries):\n",
    "            r = requests.get(f\"{endpoint}?vessels={query}&datasets={dataset}&limit={str(limit)}&offset=0&start-date={start_date}&end-date={end_date}\", headers=headers)\n",
    "            if r.status_code == 200:\n",
    "                result = r.json()\n",
    "                for r in result.get('entries'):\n",
    "                    results.append(r)\n",
    "            else:\n",
    "                print(f'could not find data for {query}')\n",
    "                continue\n",
    "    else:\n",
    "        raise ValueError('The query must be a list')\n",
    "    \n",
    "    return results"
   ]
  },
  {
   "cell_type": "markdown",
   "id": "052354d6",
   "metadata": {},
   "source": [
    "## Get vessels"
   ]
  },
  {
   "cell_type": "code",
   "execution_count": 128,
   "id": "56d4bedb",
   "metadata": {},
   "outputs": [],
   "source": [
    "# Import company info lords\n",
    "\n",
    "lords = pd.read_csv(PATH + 'companies/lords/lords_vessels.csv').dropna(subset='imo_number').drop_duplicates(subset='imo_number')\n",
    "mmsi = pd.read_csv(PATH + 'companies/lords/lords_mmsi.csv').dropna(subset='MMSI').drop_duplicates(subset='MMSI')"
   ]
  },
  {
   "cell_type": "code",
   "execution_count": 130,
   "id": "dede32a1",
   "metadata": {},
   "outputs": [],
   "source": [
    "cols = ['vessel_name', 'registration_date_start', 'imo_number', 'mmsi_number',\n",
    "        'owner_name', 'owner_jurisdiction', 'owner_registration_nr','shareholders',\n",
    "        'percentage_of_share']\n",
    "\n",
    "lords = lords[cols].copy()"
   ]
  },
  {
   "cell_type": "code",
   "execution_count": 131,
   "id": "5b147d7f",
   "metadata": {},
   "outputs": [
    {
     "data": {
      "text/plain": [
       "210"
      ]
     },
     "execution_count": 131,
     "metadata": {},
     "output_type": "execute_result"
    }
   ],
   "source": [
    "# Search on mmsi, so select rows with mmsi\n",
    "\n",
    "lords = lords[lords.mmsi_number.notna()].copy()\n",
    "\n",
    "# Convert mmsi to int\n",
    "\n",
    "lords.mmsi_number = lords.mmsi_number.astype('int')\n",
    "\n",
    "# Add all queries together\n",
    "\n",
    "mmsis = list(set(lords.mmsi_number.to_list() + mmsi.MMSI.tolist()))\n",
    "len(mmsis)"
   ]
  },
  {
   "cell_type": "code",
   "execution_count": 132,
   "id": "dc8371a9",
   "metadata": {},
   "outputs": [
    {
     "name": "stderr",
     "output_type": "stream",
     "text": [
      "  0%|          | 0/210 [00:00<?, ?it/s]"
     ]
    },
    {
     "name": "stderr",
     "output_type": "stream",
     "text": [
      "100%|██████████| 210/210 [02:11<00:00,  1.60it/s]\n"
     ]
    }
   ],
   "source": [
    "# Search vessels by mmsi\n",
    "\n",
    "values = []\n",
    "for key in ['fishing_vessels', 'carrier_vessels', 'support_vessels']:\n",
    "    value = datasets.get(key)\n",
    "    values.append(value)\n",
    "\n",
    "dataset=','.join(values)\n",
    "\n",
    "vessels = search_vessels(endpoint=endpoints.get('search'),\n",
    "                         dataset=dataset,\n",
    "                         queries=mmsis,\n",
    "                         query_field='mmsi',\n",
    "                         limit=10)\n"
   ]
  },
  {
   "cell_type": "code",
   "execution_count": 184,
   "id": "b114e2e2",
   "metadata": {},
   "outputs": [],
   "source": [
    "# Create dataframe\n",
    "\n",
    "df_vessels = pd.DataFrame(vessels)\n",
    "len(df_vessels)\n",
    "\n",
    "# Merge with company info\n",
    "\n",
    "df_vessels.mmsi = df_vessels.mmsi.astype('int')\n",
    "\n",
    "df_vessels = pd.merge(df_vessels,\n",
    "                   lords,\n",
    "                   left_on='mmsi',\n",
    "                   right_on='mmsi_number',\n",
    "                   how='left'\n",
    "                   )\n",
    "\n",
    "# Clean vessels\n",
    "\n",
    "df_vessels.columns = df_vessels.columns.str.lower()\n",
    "df_vessels = df_vessels.rename(columns={'flag_x': 'flag_gfw',\n",
    "                                  'flag_y': 'flag_company_registry',\n",
    "                                  'id': 'gfw_id'})\n",
    "\n",
    "# Set date columns to proper datetime\n",
    "\n",
    "date_cols = [x for x in df_vessels.columns if 'transmissiondate' in x]\n",
    "for col in date_cols:\n",
    "    df_vessels[col] = pd.to_datetime(df_vessels[col], format='mixed')\n",
    "\n",
    "# Create int columns\n",
    "\n",
    "for col in ['imo', 'imo_number', 'mmsi_number', 'owner_registration_nr']:\n",
    "    df_vessels[col] = df_vessels[col].astype('Int64')\n",
    "\n",
    "# Add missing ownership information\n",
    "\n",
    "df_vessels.shareholders = np.where(df_vessels.shipname.str.contains('shrimp', case=False), 'Cornelis Vrolijk Holding BV', df_vessels.shareholders)\n",
    "df_vessels.owner_name = np.where(df_vessels.shipname.str.contains('shrimp', case=False), 'ATLANTIC SHRIMPERS LTD', df_vessels.owner_name)\n",
    "\n",
    "# Add right shareholders to previous mmsi observations\n",
    "\n",
    "df_vessels.sort_values(by=['owner_name', 'mmsi']).shareholders.ffill(inplace=True)\n",
    "\n",
    "# Add column with number of mmsi changes in the dataset\n",
    "\n",
    "df_vessels['mmsi_changes'] = df_vessels.groupby('mmsi')['gfw_id'].transform(\"count\")"
   ]
  },
  {
   "cell_type": "markdown",
   "id": "17756dcf",
   "metadata": {},
   "source": [
    "A note of caution. There are mmsi records available for the same vessel. We need to search with mmsi, because IMO is often missing and mmsi is always present. The current lists therefore contains some false positives, in this case mmsi of vessels that were not always owned by the lords, but might have been acquired later. We don't know the exact date when a vessel was acquired. I've added an extra column with the number of vessels in the dataset that have the same mmsi. The higher this number, the more switching of mmsi numbers have taken place. That *could* be a sign of changing ownership, but doesn't have to be. If we can't find better information on when certain vessels were acquired, we could choose to use the most recent mmsi data, so that we don't ascribe the wrong activities to the wrong lord."
   ]
  },
  {
   "cell_type": "code",
   "execution_count": 186,
   "id": "35659466",
   "metadata": {},
   "outputs": [],
   "source": [
    "# Write to csv\n",
    "\n",
    "df_vessels.to_csv(PATH + 'companies/gfw/vessels.csv', index=False)"
   ]
  },
  {
   "cell_type": "markdown",
   "id": "0e0a9755",
   "metadata": {},
   "source": [
    "## Get events"
   ]
  },
  {
   "cell_type": "code",
   "execution_count": 187,
   "id": "46a307a7",
   "metadata": {},
   "outputs": [
    {
     "name": "stderr",
     "output_type": "stream",
     "text": [
      "100%|██████████| 448/448 [50:26<00:00,  6.76s/it] \n"
     ]
    }
   ],
   "source": [
    "# Get events\n",
    "\n",
    "values = []\n",
    "for key in ['fishing_efforts', 'loitering', 'encounters', 'port_visits']:\n",
    "    value = datasets.get(key)\n",
    "    values.append(value)\n",
    "\n",
    "dataset=','.join(values)\n",
    "\n",
    "endpoint = endpoints.get('events')\n",
    "\n",
    "ids = df_vessels.gfw_id.to_list()\n",
    "results = get_events(endpoint=endpoint, \n",
    "                 dataset=dataset, \n",
    "                 queries=ids, \n",
    "                 limit=99999, \n",
    "                 start_date='2012-01-01', \n",
    "                 end_date='2023-09-27')"
   ]
  },
  {
   "cell_type": "code",
   "execution_count": 188,
   "id": "01e8e2e5",
   "metadata": {},
   "outputs": [],
   "source": [
    "# Parse results\n",
    "\n",
    "fishing = []\n",
    "port_visits = []\n",
    "loitering = []\n",
    "encounters = []\n",
    "\n",
    "for res in results:\n",
    "    if res.get('type') == 'fishing':\n",
    "        fishing.append(res)\n",
    "    elif res.get('type') == 'port_visit':\n",
    "        port_visits.append(res)\n",
    "    elif res.get('type') == 'loitering':\n",
    "        loitering.append(res)\n",
    "    elif res.get('type') == 'encounter':\n",
    "        encounters.append(res)\n",
    "\n",
    "df_fishing = pd.json_normalize(fishing)\n",
    "df_ports = pd.json_normalize(port_visits)\n",
    "df_loitering = pd.json_normalize(loitering)\n",
    "df_encounters = pd.json_normalize(encounters) "
   ]
  },
  {
   "cell_type": "code",
   "execution_count": 189,
   "id": "d15d3a33",
   "metadata": {},
   "outputs": [],
   "source": [
    "# Write to csv\n",
    "\n",
    "df_fishing.to_csv(PATH + 'companies/gfw/fishing_efforts.csv', index=False)\n",
    "df_ports.to_csv(PATH + 'companies/gfw/port_visits.csv', index=False)\n",
    "df_loitering.to_csv(PATH + 'companies/gfw/loitering.csv', index=False)\n",
    "df_encounters.to_csv(PATH + 'companies/gfw/encounters.csv', index=False)"
   ]
  },
  {
   "cell_type": "markdown",
   "id": "b89daa5c",
   "metadata": {},
   "source": [
    "## Fishing"
   ]
  },
  {
   "cell_type": "code",
   "execution_count": 244,
   "id": "a03b9066",
   "metadata": {},
   "outputs": [],
   "source": [
    "# Read fishing data\n",
    "\n",
    "df_fishing = pd.read_csv(PATH + 'companies/gfw/fishing_efforts.csv')\n",
    "\n",
    "# Merge with vessel info\n",
    "\n",
    "fishing = pd.merge(df_fishing,\n",
    "                   df_vessels,\n",
    "                   left_on='vessel.id',\n",
    "                   right_on='gfw_id',\n",
    "                   how='left')\n",
    "\n",
    "# Clean dataframe\n",
    "\n",
    "fishing = fishing.rename(columns={'id_x': 'event_id'})\n",
    "fishing.owner_jurisdiction = fishing.owner_jurisdiction.str.strip()\n",
    "fishing.columns = fishing.columns.str.replace('.', '_').str.lower()\n",
    "fishing.start = fishing.start.apply(lambda x: pd.Timestamp(x))\n",
    "fishing.end = fishing.end.apply(lambda x: pd.Timestamp(x))\n",
    "fishing['hours'] = (fishing.end-fishing.start).dt.total_seconds() / 3600\n",
    "\n",
    "# Create geodataframe\n",
    "\n",
    "gdf_fishing = gpd.GeoDataFrame(fishing, \n",
    "                               geometry=gpd.points_from_xy(x=fishing['position_lon'], \n",
    "                                                           y=fishing['position_lat']),\n",
    "                               crs=4326\n",
    "                             )"
   ]
  },
  {
   "cell_type": "code",
   "execution_count": 258,
   "id": "d9cde763",
   "metadata": {},
   "outputs": [
    {
     "data": {
      "text/plain": [
       "Index(['id', 'type', 'start', 'end', 'boundingbox', 'position_lat',\n",
       "       'position_lon', 'regions_mpa', 'regions_eez', 'regions_rfmo',\n",
       "       'regions_fao', 'regions_majorfao', 'regions_eez12nm',\n",
       "       'regions_highseas', 'regions_mpanotakepartial', 'regions_mpanotake',\n",
       "       'distances_startdistancefromshorekm',\n",
       "       'distances_enddistancefromshorekm', 'distances_startdistancefromportkm',\n",
       "       'distances_enddistancefromportkm', 'vessel_id', 'vessel_flag',\n",
       "       'vessel_name', 'vessel_ssvid', 'vessel_authorizations',\n",
       "       'fishing_totaldistancekm', 'fishing_averagespeedknots',\n",
       "       'fishing_averagedurationhours', 'fishing_potentialrisk',\n",
       "       'fishing_vesselauthorizationstatus', 'callsign',\n",
       "       'firsttransmissiondate', 'flag', 'geartype', 'gfw_id', 'imo',\n",
       "       'lasttransmissiondate', 'mmsi', 'msgcount', 'poscount', 'shipname',\n",
       "       'source', 'vesseltype', 'years', 'dataset', 'score', 'query',\n",
       "       'vessel_name', 'registration_date_start', 'imo_number', 'mmsi_number',\n",
       "       'owner_name', 'owner_jurisdiction', 'owner_registration_nr',\n",
       "       'shareholders', 'percentage_of_share', 'mmsi_changes', 'hours',\n",
       "       'geometry'],\n",
       "      dtype='object')"
      ]
     },
     "execution_count": 258,
     "metadata": {},
     "output_type": "execute_result"
    }
   ],
   "source": [
    "gdf_fishing.columns"
   ]
  },
  {
   "cell_type": "code",
   "execution_count": 269,
   "id": "833585f1",
   "metadata": {},
   "outputs": [
    {
     "data": {
      "text/html": [
       "<div>\n",
       "<style scoped>\n",
       "    .dataframe tbody tr th:only-of-type {\n",
       "        vertical-align: middle;\n",
       "    }\n",
       "\n",
       "    .dataframe tbody tr th {\n",
       "        vertical-align: top;\n",
       "    }\n",
       "\n",
       "    .dataframe thead th {\n",
       "        text-align: right;\n",
       "    }\n",
       "</style>\n",
       "<table border=\"1\" class=\"dataframe\">\n",
       "  <thead>\n",
       "    <tr style=\"text-align: right;\">\n",
       "      <th></th>\n",
       "      <th>id</th>\n",
       "      <th>type</th>\n",
       "      <th>start</th>\n",
       "      <th>end</th>\n",
       "      <th>boundingbox</th>\n",
       "      <th>position_lat</th>\n",
       "      <th>position_lon</th>\n",
       "      <th>regions_mpa</th>\n",
       "      <th>regions_eez</th>\n",
       "      <th>regions_rfmo</th>\n",
       "      <th>...</th>\n",
       "      <th>imo_number</th>\n",
       "      <th>mmsi_number</th>\n",
       "      <th>owner_name</th>\n",
       "      <th>owner_jurisdiction</th>\n",
       "      <th>owner_registration_nr</th>\n",
       "      <th>shareholders</th>\n",
       "      <th>percentage_of_share</th>\n",
       "      <th>mmsi_changes</th>\n",
       "      <th>hours</th>\n",
       "      <th>geometry</th>\n",
       "    </tr>\n",
       "  </thead>\n",
       "  <tbody>\n",
       "  </tbody>\n",
       "</table>\n",
       "<p>0 rows × 59 columns</p>\n",
       "</div>"
      ],
      "text/plain": [
       "Empty GeoDataFrame\n",
       "Columns: [id, type, start, end, boundingbox, position_lat, position_lon, regions_mpa, regions_eez, regions_rfmo, regions_fao, regions_majorfao, regions_eez12nm, regions_highseas, regions_mpanotakepartial, regions_mpanotake, distances_startdistancefromshorekm, distances_enddistancefromshorekm, distances_startdistancefromportkm, distances_enddistancefromportkm, vessel_id, vessel_flag, vessel_name, vessel_ssvid, vessel_authorizations, fishing_totaldistancekm, fishing_averagespeedknots, fishing_averagedurationhours, fishing_potentialrisk, fishing_vesselauthorizationstatus, callsign, firsttransmissiondate, flag, geartype, gfw_id, imo, lasttransmissiondate, mmsi, msgcount, poscount, shipname, source, vesseltype, years, dataset, score, query, vessel_name, registration_date_start, imo_number, mmsi_number, owner_name, owner_jurisdiction, owner_registration_nr, shareholders, percentage_of_share, mmsi_changes, hours, geometry]\n",
       "Index: []\n",
       "\n",
       "[0 rows x 59 columns]"
      ]
     },
     "execution_count": 269,
     "metadata": {},
     "output_type": "execute_result"
    }
   ],
   "source": [
    "gdf_fishing[gdf_fishing.regions_mpanotake.apply(lambda x: len(ast.literal_eval(x)) > 1)]"
   ]
  },
  {
   "cell_type": "code",
   "execution_count": 271,
   "id": "8123a342",
   "metadata": {},
   "outputs": [
    {
     "data": {
      "text/plain": [
       "vessel_flag\n",
       "LTU    917\n",
       "FRO    847\n",
       "DEU    573\n",
       "FRA    525\n",
       "NLD    372\n",
       "PRT    134\n",
       "LVA    112\n",
       "GBR     48\n",
       "POL     15\n",
       "DNK      1\n",
       "RUS      1\n",
       "Name: vessel_flag, dtype: int64"
      ]
     },
     "execution_count": 271,
     "metadata": {},
     "output_type": "execute_result"
    }
   ],
   "source": [
    "gdf_fishing[gdf_fishing.fishing_potentialrisk == True].groupby('vessel_flag').vessel_flag.count().sort_values(ascending=False)"
   ]
  },
  {
   "cell_type": "code",
   "execution_count": 247,
   "id": "a435b31f",
   "metadata": {},
   "outputs": [
    {
     "data": {
      "text/plain": [
       "vessel_flag\n",
       "NGA    395312.599642\n",
       "FRA    208712.688577\n",
       "LTU    108164.425648\n",
       "DEU     79269.111397\n",
       "NLD     74513.380070\n",
       "FRO     70945.961162\n",
       "RUS     49784.642453\n",
       "GBR     45468.455883\n",
       "GRL     26645.399167\n",
       "PRT     16326.224853\n",
       "POL     14486.539569\n",
       "BHS     10442.210944\n",
       "REU      3816.603596\n",
       "LVA      3103.568056\n",
       "BES      2477.461944\n",
       "ITA      1276.069167\n",
       "DNK       935.229444\n",
       "NAM       318.113611\n",
       "Name: hours, dtype: float64"
      ]
     },
     "execution_count": 247,
     "metadata": {},
     "output_type": "execute_result"
    }
   ],
   "source": [
    "gdf_fishing.groupby('vessel_flag').hours.sum().sort_values(ascending=False)"
   ]
  },
  {
   "cell_type": "code",
   "execution_count": null,
   "id": "63bc96af",
   "metadata": {},
   "outputs": [],
   "source": [
    "import json\n",
    "\n",
    "with open(PATH + 'fishing.geojson') as file:\n",
    "    json.dumps(gdf_fishing.to_json())"
   ]
  },
  {
   "cell_type": "code",
   "execution_count": null,
   "id": "746d76f6",
   "metadata": {},
   "outputs": [],
   "source": [
    "encounters = pd.merge(df_encounters,\n",
    "                      df_vessels,\n",
    "                      left_on='vessel.id',\n",
    "                      right_on='id',\n",
    "                      how='left')\n",
    "\n",
    "len(encounters)"
   ]
  },
  {
   "cell_type": "code",
   "execution_count": null,
   "id": "5f2881d8",
   "metadata": {},
   "outputs": [],
   "source": [
    "for item in ['start', 'end']:\n",
    "    encounters[item] = encounters[item].apply(lambda x: pd.Timestamp(x))\n",
    "\n",
    "encounters[['start', 'end', 'shipname', 'imo', 'encounter.vessel.name']].imo.value_counts()"
   ]
  },
  {
   "cell_type": "code",
   "execution_count": null,
   "id": "24136823",
   "metadata": {},
   "outputs": [],
   "source": [
    "gdf = gpd.GeoDataFrame(encounters, geometry=gpd.points_from_xy(x=encounters['position.lon'], y=encounters['position.lat']), crs=4326)"
   ]
  },
  {
   "cell_type": "code",
   "execution_count": null,
   "id": "84af7893",
   "metadata": {},
   "outputs": [],
   "source": [
    "gdf[['shipname', 'imo', 'encounter.vessel.name', 'geometry']].explore()"
   ]
  },
  {
   "cell_type": "code",
   "execution_count": null,
   "id": "4412a12f",
   "metadata": {},
   "outputs": [],
   "source": []
  }
 ],
 "metadata": {
  "kernelspec": {
   "display_name": ".venv",
   "language": "python",
   "name": "python3"
  },
  "language_info": {
   "codemirror_mode": {
    "name": "ipython",
    "version": 3
   },
   "file_extension": ".py",
   "mimetype": "text/x-python",
   "name": "python",
   "nbconvert_exporter": "python",
   "pygments_lexer": "ipython3",
   "version": "3.10.13"
  }
 },
 "nbformat": 4,
 "nbformat_minor": 5
}
