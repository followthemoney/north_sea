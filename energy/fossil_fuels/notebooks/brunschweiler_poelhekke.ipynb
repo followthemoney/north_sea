{
 "cells": [
  {
   "cell_type": "code",
   "execution_count": 1,
   "id": "07ce18e3",
   "metadata": {},
   "outputs": [],
   "source": [
    "import pandas as pd"
   ]
  },
  {
   "cell_type": "code",
   "execution_count": 2,
   "id": "4263a858",
   "metadata": {},
   "outputs": [],
   "source": [
    "df = pd.read_stata('/Users/dt/Downloads/data.dta')"
   ]
  },
  {
   "cell_type": "code",
   "execution_count": 4,
   "id": "ba0710de",
   "metadata": {},
   "outputs": [
    {
     "data": {
      "text/plain": [
       "Index(['wbcodenum', 'year', 'wbcode', 'country', 'scode', 'ccode', 'opec',\n",
       "       'owner', 'dom', 'dom_for', 'for', 'pub', 'priv', 'for_priv',\n",
       "       'dom_for_priv', 'dom_priv', 'dom_for_pub', 'dom_pub', 'mod_s1',\n",
       "       'mod_s2', 'mod_p1', 'mod_p2', 's1', 's2', 'p1', 'p2', 'wildcat',\n",
       "       'oildiscoveries', 'gasdiscoveries', 'oilgasdiscoveries',\n",
       "       'oildiscoveries_size', 'gasdiscoveries_size', 'oilgasdiscoveries_size',\n",
       "       'oildiscoveries_mdepth', 'gasdiscoveries_mdepth',\n",
       "       'oilgasdiscoveries_mdepth', 'offshoreoildiscoveries',\n",
       "       'offshoregasdiscoveries', 'offshoreoilgasdiscoveries', 'gdp2000usd',\n",
       "       'openness_update', 'g_gdpcap', 'openu_widist', 'dom_for_rav_nc10eez',\n",
       "       'for_rav_nc10eez', 'dom_for_ravdisc1960m', 'for_ravdisc1960m',\n",
       "       'dom_for_rav', 'for_rav', 'dom_for_rav_opec_x_open',\n",
       "       'for_rav_opec_x_open', 'ihs_stock_oilgasdisc_size', 'ihs_wildcat',\n",
       "       'BITsigned', 'BITforce'],\n",
       "      dtype='object')"
      ]
     },
     "execution_count": 4,
     "metadata": {},
     "output_type": "execute_result"
    }
   ],
   "source": [
    "df.columns"
   ]
  },
  {
   "cell_type": "code",
   "execution_count": 13,
   "id": "d6ded061",
   "metadata": {},
   "outputs": [
    {
     "data": {
      "text/plain": [
       "                 5223\n",
       "Canada            142\n",
       "Brazil            118\n",
       "Romania           114\n",
       "United States     112\n",
       "                 ... \n",
       "Turkmenistan       17\n",
       "Azerbaijan         16\n",
       "Uzbekistan         16\n",
       "Kazakhstan         15\n",
       "Ukraine             8\n",
       "Name: country, Length: 64, dtype: int64"
      ]
     },
     "execution_count": 13,
     "metadata": {},
     "output_type": "execute_result"
    }
   ],
   "source": [
    "df.country.value_counts()"
   ]
  },
  {
   "cell_type": "code",
   "execution_count": 9,
   "id": "90a9571d",
   "metadata": {},
   "outputs": [
    {
     "name": "stdout",
     "output_type": "stream",
     "text": [
      "wbcodenum                         2.0\n",
      "year                           1959.0\n",
      "wbcode                            ALB\n",
      "country                       Albania\n",
      "scode                             ALB\n",
      "ccode                           339.0\n",
      "opec                              0.0\n",
      "owner                             1.0\n",
      "dom                               1.0\n",
      "dom_for                           0.0\n",
      "for                               0.0\n",
      "pub                               1.0\n",
      "priv                              0.0\n",
      "for_priv                          0.0\n",
      "dom_for_priv                      0.0\n",
      "dom_priv                          0.0\n",
      "dom_for_pub                       0.0\n",
      "dom_pub                           1.0\n",
      "mod_s1                            1.0\n",
      "mod_s2                            0.0\n",
      "mod_p1                            0.0\n",
      "mod_p2                            0.0\n",
      "s1                                NaN\n",
      "s2                                NaN\n",
      "p1                                NaN\n",
      "p2                                NaN\n",
      "wildcat                           0.0\n",
      "oildiscoveries                    0.0\n",
      "gasdiscoveries                    0.0\n",
      "oilgasdiscoveries                 0.0\n",
      "oildiscoveries_size               0.0\n",
      "gasdiscoveries_size               0.0\n",
      "oilgasdiscoveries_size            0.0\n",
      "oildiscoveries_mdepth             0.0\n",
      "gasdiscoveries_mdepth             0.0\n",
      "oilgasdiscoveries_mdepth          0.0\n",
      "offshoreoildiscoveries            0.0\n",
      "offshoregasdiscoveries            0.0\n",
      "offshoreoilgasdiscoveries         0.0\n",
      "gdp2000usd                        NaN\n",
      "openness_update                   NaN\n",
      "g_gdpcap                          NaN\n",
      "openu_widist                      NaN\n",
      "dom_for_rav_nc10eez          0.034826\n",
      "for_rav_nc10eez              0.074627\n",
      "dom_for_ravdisc1960m         0.181818\n",
      "for_ravdisc1960m             0.515152\n",
      "dom_for_rav                     0.375\n",
      "for_rav                         0.375\n",
      "dom_for_rav_opec_x_open      0.172414\n",
      "for_rav_opec_x_open          0.517241\n",
      "ihs_stock_oilgasdisc_size         0.0\n",
      "ihs_wildcat                       0.0\n",
      "BITsigned                         0.0\n",
      "BITforce                          0.0\n",
      "Name: 234, dtype: object\n"
     ]
    }
   ],
   "source": [
    "print(df.loc[234])"
   ]
  },
  {
   "cell_type": "code",
   "execution_count": null,
   "id": "602deec3",
   "metadata": {},
   "outputs": [],
   "source": []
  }
 ],
 "metadata": {
  "kernelspec": {
   "display_name": "general",
   "language": "python",
   "name": "general"
  },
  "language_info": {
   "codemirror_mode": {
    "name": "ipython",
    "version": 3
   },
   "file_extension": ".py",
   "mimetype": "text/x-python",
   "name": "python",
   "nbconvert_exporter": "python",
   "pygments_lexer": "ipython3",
   "version": "3.9.4"
  }
 },
 "nbformat": 4,
 "nbformat_minor": 5
}
