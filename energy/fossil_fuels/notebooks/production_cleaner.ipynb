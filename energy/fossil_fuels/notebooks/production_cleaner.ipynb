{
 "cells": [
  {
   "cell_type": "code",
   "execution_count": 1,
   "id": "284f122d",
   "metadata": {},
   "outputs": [],
   "source": [
    "import pandas as pd\n",
    "import geopandas as gpd\n",
    "import glob"
   ]
  },
  {
   "cell_type": "code",
   "execution_count": 2,
   "id": "1ad6e711",
   "metadata": {},
   "outputs": [],
   "source": [
    "PATH = '/Users/dt/Documents/Projecten/northsea/data/'"
   ]
  },
  {
   "cell_type": "markdown",
   "id": "1adc3906",
   "metadata": {},
   "source": [
    "## TODO\n",
    "\n",
    "Create tables:\n",
    "\n",
    "1. License: id, name, code, date, product, type, status, round, country, source\n",
    "2. Operator: company_id, license_id, start_date, end_date, source\n",
    "3. Licensees: company_id, license_id, share, start_date, end_date, source\n",
    "4. Companies: id, name, address, country, registration, source\n",
    "5. Com_to_com: child_id, parent_id, parent_name, address, country, share_parent, source\n",
    "6. Field: id, license_id, name, source\n",
    "7. Location: field_id, geometry\n",
    "8. Production: field_id, year, commodity, production_1000_sm3\n",
    "9. Prices: year, commodity, avg_price_usd, avg_price_eur\n",
    "10. License_active_period: license_id, start_date, end_date\n",
    "11. Authority: id, name, url, country, license_id"
   ]
  },
  {
   "cell_type": "markdown",
   "id": "fe0defaa",
   "metadata": {},
   "source": [
    "### License - NL"
   ]
  },
  {
   "cell_type": "code",
   "execution_count": 33,
   "id": "1c9bbbc4",
   "metadata": {},
   "outputs": [
    {
     "data": {
      "text/plain": [
       "768"
      ]
     },
     "execution_count": 33,
     "metadata": {},
     "output_type": "execute_result"
    }
   ],
   "source": [
    "df_nl = pd.read_excel(PATH + 'license_and_production/nl_license_companies.xlsx')\n",
    "len(df_nl)"
   ]
  },
  {
   "cell_type": "code",
   "execution_count": 34,
   "id": "befe7dc9",
   "metadata": {},
   "outputs": [],
   "source": [
    "# clean up column names\n",
    "\n",
    "df_nl = df_nl.rename(columns={'product': 'commodity',\n",
    "                              'status': 'status',\n",
    "                              'license_name': 'name',\n",
    "                              'license_code': 'code',\n",
    "                              'license_status': 'status',\n",
    "                              'license_type': 'type'\n",
    "                            })\n",
    "\n",
    "# add source and country\n",
    "\n",
    "df_nl['source_url'] = 'https://www.nlog.nl/datacenter/prodfigures/licences'\n",
    "df_nl['country'] = 'Netherlands'\n"
   ]
  },
  {
   "cell_type": "code",
   "execution_count": 35,
   "id": "51c3062f",
   "metadata": {},
   "outputs": [
    {
     "data": {
      "text/html": [
       "<div>\n",
       "<style scoped>\n",
       "    .dataframe tbody tr th:only-of-type {\n",
       "        vertical-align: middle;\n",
       "    }\n",
       "\n",
       "    .dataframe tbody tr th {\n",
       "        vertical-align: top;\n",
       "    }\n",
       "\n",
       "    .dataframe thead th {\n",
       "        text-align: right;\n",
       "    }\n",
       "</style>\n",
       "<table border=\"1\" class=\"dataframe\">\n",
       "  <thead>\n",
       "    <tr style=\"text-align: right;\">\n",
       "      <th></th>\n",
       "      <th>name</th>\n",
       "      <th>code</th>\n",
       "      <th>date</th>\n",
       "      <th>operator</th>\n",
       "      <th>commodity</th>\n",
       "      <th>type</th>\n",
       "      <th>status</th>\n",
       "      <th>source_url</th>\n",
       "      <th>country</th>\n",
       "    </tr>\n",
       "  </thead>\n",
       "  <tbody>\n",
       "    <tr>\n",
       "      <th>0</th>\n",
       "      <td>'S-GRAVENZANDE</td>\n",
       "      <td>'S-GRAVENZANDE</td>\n",
       "      <td>NaT</td>\n",
       "      <td>NaN</td>\n",
       "      <td>Geothermal energy</td>\n",
       "      <td>Exploration licence</td>\n",
       "      <td>Rejected</td>\n",
       "      <td>https://www.nlog.nl/datacenter/prodfigures/lic...</td>\n",
       "      <td>Netherlands</td>\n",
       "    </tr>\n",
       "  </tbody>\n",
       "</table>\n",
       "</div>"
      ],
      "text/plain": [
       "             name            code date operator          commodity  \\\n",
       "0  'S-GRAVENZANDE  'S-GRAVENZANDE  NaT      NaN  Geothermal energy   \n",
       "\n",
       "                  type    status  \\\n",
       "0  Exploration licence  Rejected   \n",
       "\n",
       "                                          source_url      country  \n",
       "0  https://www.nlog.nl/datacenter/prodfigures/lic...  Netherlands  "
      ]
     },
     "execution_count": 35,
     "metadata": {},
     "output_type": "execute_result"
    }
   ],
   "source": [
    "df_nl.head(1)"
   ]
  },
  {
   "cell_type": "code",
   "execution_count": 36,
   "id": "d8814c02",
   "metadata": {},
   "outputs": [],
   "source": [
    "#id, name, code, commodity, type, status, round, country, source\n",
    "\n",
    "license_nl = df_nl[['name',\n",
    "                    'code',\n",
    "                    'commodity',\n",
    "                    'type',\n",
    "                    'status',\n",
    "                    'country',\n",
    "                    'source_url']]\n"
   ]
  },
  {
   "cell_type": "markdown",
   "id": "c76a9a78",
   "metadata": {},
   "source": [
    "### Operator - NL"
   ]
  },
  {
   "cell_type": "code",
   "execution_count": null,
   "id": "443aa636",
   "metadata": {},
   "outputs": [],
   "source": [
    "#Operator: company_id, license_id, start_date, end_date, source"
   ]
  },
  {
   "cell_type": "code",
   "execution_count": 94,
   "id": "7df6e7a5",
   "metadata": {},
   "outputs": [],
   "source": [
    "df_nl = df_nl.dropna(subset=['operator'])"
   ]
  },
  {
   "cell_type": "code",
   "execution_count": 99,
   "id": "56e26f49",
   "metadata": {},
   "outputs": [],
   "source": [
    "operator_nl = df_nl[['operator',\n",
    "                     'code',\n",
    "                     'date',\n",
    "                     'source_url']]"
   ]
  },
  {
   "cell_type": "markdown",
   "id": "32c6e6ec",
   "metadata": {},
   "source": [
    "### Licensees - NL\n",
    "\n",
    "Licensees: company_id, license_id, share, start_date, end_date, source"
   ]
  },
  {
   "cell_type": "code",
   "execution_count": 100,
   "id": "e2a4044e",
   "metadata": {},
   "outputs": [
    {
     "data": {
      "text/plain": [
       "427"
      ]
     },
     "execution_count": 100,
     "metadata": {},
     "output_type": "execute_result"
    }
   ],
   "source": [
    "# import shapefiles with licensees\n",
    "\n",
    "nl_shape = gpd.read_file(PATH + 'shapes/nlog_licenses.shp')\n",
    "len(nl_shape)"
   ]
  },
  {
   "cell_type": "code",
   "execution_count": 102,
   "id": "b8b63d3e",
   "metadata": {},
   "outputs": [],
   "source": [
    "dedup = nl_shape[~nl_shape['LICENSEES'].isna()]"
   ]
  },
  {
   "cell_type": "code",
   "execution_count": 120,
   "id": "93151c4c",
   "metadata": {},
   "outputs": [
    {
     "data": {
      "text/html": [
       "<div>\n",
       "<style scoped>\n",
       "    .dataframe tbody tr th:only-of-type {\n",
       "        vertical-align: middle;\n",
       "    }\n",
       "\n",
       "    .dataframe tbody tr th {\n",
       "        vertical-align: top;\n",
       "    }\n",
       "\n",
       "    .dataframe thead th {\n",
       "        text-align: right;\n",
       "    }\n",
       "</style>\n",
       "<table border=\"1\" class=\"dataframe\">\n",
       "  <thead>\n",
       "    <tr style=\"text-align: right;\">\n",
       "      <th></th>\n",
       "      <th>LICENCE_DB</th>\n",
       "      <th>LICENCE_NM</th>\n",
       "      <th>LICENCE_TY</th>\n",
       "      <th>LICENSEES</th>\n",
       "      <th>OPERATOR</th>\n",
       "      <th>RESOURCE_N</th>\n",
       "      <th>ROUND</th>\n",
       "      <th>STATUS</th>\n",
       "      <th>SURFACE_AR</th>\n",
       "      <th>geometry</th>\n",
       "    </tr>\n",
       "  </thead>\n",
       "  <tbody>\n",
       "    <tr>\n",
       "      <th>0</th>\n",
       "      <td>1.838341e+09</td>\n",
       "      <td>F05</td>\n",
       "      <td>Opsporingsvergunning</td>\n",
       "      <td>EBN B.V., Nederlandse Aardolie Maatschappij B....</td>\n",
       "      <td>Neptune Energy Netherlands B.V.</td>\n",
       "      <td>Koolwaterstoffen (Gas, Olie, Condensaat)</td>\n",
       "      <td>9</td>\n",
       "      <td>Onherroepelijk van kracht</td>\n",
       "      <td>398.0</td>\n",
       "      <td>POLYGON ((585645.934 6077191.370, 607056.072 6...</td>\n",
       "    </tr>\n",
       "  </tbody>\n",
       "</table>\n",
       "</div>"
      ],
      "text/plain": [
       "     LICENCE_DB LICENCE_NM            LICENCE_TY  \\\n",
       "0  1.838341e+09        F05  Opsporingsvergunning   \n",
       "\n",
       "                                           LICENSEES  \\\n",
       "0  EBN B.V., Nederlandse Aardolie Maatschappij B....   \n",
       "\n",
       "                          OPERATOR                                RESOURCE_N  \\\n",
       "0  Neptune Energy Netherlands B.V.  Koolwaterstoffen (Gas, Olie, Condensaat)   \n",
       "\n",
       "  ROUND                     STATUS  SURFACE_AR  \\\n",
       "0     9  Onherroepelijk van kracht       398.0   \n",
       "\n",
       "                                            geometry  \n",
       "0  POLYGON ((585645.934 6077191.370, 607056.072 6...  "
      ]
     },
     "execution_count": 120,
     "metadata": {},
     "output_type": "execute_result"
    }
   ],
   "source": [
    "nl.head(1)"
   ]
  },
  {
   "cell_type": "code",
   "execution_count": 125,
   "id": "31cc8f18",
   "metadata": {},
   "outputs": [],
   "source": [
    "#Extract companies by exploding LICENCE_DB\n",
    "\n",
    "nl = dedup.set_index('LICENCE_DB')\\\n",
    "    .LICENSEES.str.split(', ', expand=True)\\\n",
    "    .stack()\\\n",
    "    .reset_index()\\\n",
    "    .rename(columns={0:'name', 'LICENCE_DB': 'license_db'})"
   ]
  },
  {
   "cell_type": "code",
   "execution_count": 126,
   "id": "925855bb",
   "metadata": {},
   "outputs": [
    {
     "ename": "KeyError",
     "evalue": "'license_db'",
     "output_type": "error",
     "traceback": [
      "\u001b[0;31m---------------------------------------------------------------------------\u001b[0m",
      "\u001b[0;31mKeyError\u001b[0m                                  Traceback (most recent call last)",
      "Input \u001b[0;32mIn [126]\u001b[0m, in \u001b[0;36m<module>\u001b[0;34m\u001b[0m\n\u001b[0;32m----> 1\u001b[0m nl2 \u001b[38;5;241m=\u001b[39m \u001b[43mpd\u001b[49m\u001b[38;5;241;43m.\u001b[39;49m\u001b[43mmerge\u001b[49m\u001b[43m(\u001b[49m\u001b[43mnl\u001b[49m\u001b[43m,\u001b[49m\u001b[43m \u001b[49m\u001b[43mdedup\u001b[49m\u001b[43m,\u001b[49m\u001b[43m \u001b[49m\u001b[43mleft_on\u001b[49m\u001b[38;5;241;43m=\u001b[39;49m\u001b[38;5;124;43m'\u001b[39;49m\u001b[38;5;124;43mLICENSE_DB\u001b[39;49m\u001b[38;5;124;43m'\u001b[39;49m\u001b[43m,\u001b[49m\u001b[43m \u001b[49m\u001b[43mright_on\u001b[49m\u001b[38;5;241;43m=\u001b[39;49m\u001b[38;5;124;43m'\u001b[39;49m\u001b[38;5;124;43mlicense_db\u001b[39;49m\u001b[38;5;124;43m'\u001b[39;49m\u001b[43m,\u001b[49m\u001b[43m \u001b[49m\u001b[43mhow\u001b[49m\u001b[38;5;241;43m=\u001b[39;49m\u001b[38;5;124;43m'\u001b[39;49m\u001b[38;5;124;43mleft\u001b[39;49m\u001b[38;5;124;43m'\u001b[39;49m\u001b[43m)\u001b[49m\n",
      "File \u001b[0;32m~/venv/general/lib/python3.9/site-packages/pandas/core/reshape/merge.py:106\u001b[0m, in \u001b[0;36mmerge\u001b[0;34m(left, right, how, on, left_on, right_on, left_index, right_index, sort, suffixes, copy, indicator, validate)\u001b[0m\n\u001b[1;32m     89\u001b[0m \u001b[38;5;129m@Substitution\u001b[39m(\u001b[38;5;124m\"\u001b[39m\u001b[38;5;130;01m\\n\u001b[39;00m\u001b[38;5;124mleft : DataFrame or named Series\u001b[39m\u001b[38;5;124m\"\u001b[39m)\n\u001b[1;32m     90\u001b[0m \u001b[38;5;129m@Appender\u001b[39m(_merge_doc, indents\u001b[38;5;241m=\u001b[39m\u001b[38;5;241m0\u001b[39m)\n\u001b[1;32m     91\u001b[0m \u001b[38;5;28;01mdef\u001b[39;00m \u001b[38;5;21mmerge\u001b[39m(\n\u001b[0;32m   (...)\u001b[0m\n\u001b[1;32m    104\u001b[0m     validate: \u001b[38;5;28mstr\u001b[39m \u001b[38;5;241m|\u001b[39m \u001b[38;5;28;01mNone\u001b[39;00m \u001b[38;5;241m=\u001b[39m \u001b[38;5;28;01mNone\u001b[39;00m,\n\u001b[1;32m    105\u001b[0m ) \u001b[38;5;241m-\u001b[39m\u001b[38;5;241m>\u001b[39m DataFrame:\n\u001b[0;32m--> 106\u001b[0m     op \u001b[38;5;241m=\u001b[39m \u001b[43m_MergeOperation\u001b[49m\u001b[43m(\u001b[49m\n\u001b[1;32m    107\u001b[0m \u001b[43m        \u001b[49m\u001b[43mleft\u001b[49m\u001b[43m,\u001b[49m\n\u001b[1;32m    108\u001b[0m \u001b[43m        \u001b[49m\u001b[43mright\u001b[49m\u001b[43m,\u001b[49m\n\u001b[1;32m    109\u001b[0m \u001b[43m        \u001b[49m\u001b[43mhow\u001b[49m\u001b[38;5;241;43m=\u001b[39;49m\u001b[43mhow\u001b[49m\u001b[43m,\u001b[49m\n\u001b[1;32m    110\u001b[0m \u001b[43m        \u001b[49m\u001b[43mon\u001b[49m\u001b[38;5;241;43m=\u001b[39;49m\u001b[43mon\u001b[49m\u001b[43m,\u001b[49m\n\u001b[1;32m    111\u001b[0m \u001b[43m        \u001b[49m\u001b[43mleft_on\u001b[49m\u001b[38;5;241;43m=\u001b[39;49m\u001b[43mleft_on\u001b[49m\u001b[43m,\u001b[49m\n\u001b[1;32m    112\u001b[0m \u001b[43m        \u001b[49m\u001b[43mright_on\u001b[49m\u001b[38;5;241;43m=\u001b[39;49m\u001b[43mright_on\u001b[49m\u001b[43m,\u001b[49m\n\u001b[1;32m    113\u001b[0m \u001b[43m        \u001b[49m\u001b[43mleft_index\u001b[49m\u001b[38;5;241;43m=\u001b[39;49m\u001b[43mleft_index\u001b[49m\u001b[43m,\u001b[49m\n\u001b[1;32m    114\u001b[0m \u001b[43m        \u001b[49m\u001b[43mright_index\u001b[49m\u001b[38;5;241;43m=\u001b[39;49m\u001b[43mright_index\u001b[49m\u001b[43m,\u001b[49m\n\u001b[1;32m    115\u001b[0m \u001b[43m        \u001b[49m\u001b[43msort\u001b[49m\u001b[38;5;241;43m=\u001b[39;49m\u001b[43msort\u001b[49m\u001b[43m,\u001b[49m\n\u001b[1;32m    116\u001b[0m \u001b[43m        \u001b[49m\u001b[43msuffixes\u001b[49m\u001b[38;5;241;43m=\u001b[39;49m\u001b[43msuffixes\u001b[49m\u001b[43m,\u001b[49m\n\u001b[1;32m    117\u001b[0m \u001b[43m        \u001b[49m\u001b[43mcopy\u001b[49m\u001b[38;5;241;43m=\u001b[39;49m\u001b[43mcopy\u001b[49m\u001b[43m,\u001b[49m\n\u001b[1;32m    118\u001b[0m \u001b[43m        \u001b[49m\u001b[43mindicator\u001b[49m\u001b[38;5;241;43m=\u001b[39;49m\u001b[43mindicator\u001b[49m\u001b[43m,\u001b[49m\n\u001b[1;32m    119\u001b[0m \u001b[43m        \u001b[49m\u001b[43mvalidate\u001b[49m\u001b[38;5;241;43m=\u001b[39;49m\u001b[43mvalidate\u001b[49m\u001b[43m,\u001b[49m\n\u001b[1;32m    120\u001b[0m \u001b[43m    \u001b[49m\u001b[43m)\u001b[49m\n\u001b[1;32m    121\u001b[0m     \u001b[38;5;28;01mreturn\u001b[39;00m op\u001b[38;5;241m.\u001b[39mget_result()\n",
      "File \u001b[0;32m~/venv/general/lib/python3.9/site-packages/pandas/core/reshape/merge.py:699\u001b[0m, in \u001b[0;36m_MergeOperation.__init__\u001b[0;34m(self, left, right, how, on, left_on, right_on, axis, left_index, right_index, sort, suffixes, copy, indicator, validate)\u001b[0m\n\u001b[1;32m    692\u001b[0m \u001b[38;5;28mself\u001b[39m\u001b[38;5;241m.\u001b[39m_cross \u001b[38;5;241m=\u001b[39m cross_col\n\u001b[1;32m    694\u001b[0m \u001b[38;5;66;03m# note this function has side effects\u001b[39;00m\n\u001b[1;32m    695\u001b[0m (\n\u001b[1;32m    696\u001b[0m     \u001b[38;5;28mself\u001b[39m\u001b[38;5;241m.\u001b[39mleft_join_keys,\n\u001b[1;32m    697\u001b[0m     \u001b[38;5;28mself\u001b[39m\u001b[38;5;241m.\u001b[39mright_join_keys,\n\u001b[1;32m    698\u001b[0m     \u001b[38;5;28mself\u001b[39m\u001b[38;5;241m.\u001b[39mjoin_names,\n\u001b[0;32m--> 699\u001b[0m ) \u001b[38;5;241m=\u001b[39m \u001b[38;5;28;43mself\u001b[39;49m\u001b[38;5;241;43m.\u001b[39;49m\u001b[43m_get_merge_keys\u001b[49m\u001b[43m(\u001b[49m\u001b[43m)\u001b[49m\n\u001b[1;32m    701\u001b[0m \u001b[38;5;66;03m# validate the merge keys dtypes. We may need to coerce\u001b[39;00m\n\u001b[1;32m    702\u001b[0m \u001b[38;5;66;03m# to avoid incompatible dtypes\u001b[39;00m\n\u001b[1;32m    703\u001b[0m \u001b[38;5;28mself\u001b[39m\u001b[38;5;241m.\u001b[39m_maybe_coerce_merge_keys()\n",
      "File \u001b[0;32m~/venv/general/lib/python3.9/site-packages/pandas/core/reshape/merge.py:1096\u001b[0m, in \u001b[0;36m_MergeOperation._get_merge_keys\u001b[0;34m(self)\u001b[0m\n\u001b[1;32m   1094\u001b[0m \u001b[38;5;28;01mif\u001b[39;00m \u001b[38;5;129;01mnot\u001b[39;00m is_rkey(rk):\n\u001b[1;32m   1095\u001b[0m     \u001b[38;5;28;01mif\u001b[39;00m rk \u001b[38;5;129;01mis\u001b[39;00m \u001b[38;5;129;01mnot\u001b[39;00m \u001b[38;5;28;01mNone\u001b[39;00m:\n\u001b[0;32m-> 1096\u001b[0m         right_keys\u001b[38;5;241m.\u001b[39mappend(\u001b[43mright\u001b[49m\u001b[38;5;241;43m.\u001b[39;49m\u001b[43m_get_label_or_level_values\u001b[49m\u001b[43m(\u001b[49m\u001b[43mrk\u001b[49m\u001b[43m)\u001b[49m)\n\u001b[1;32m   1097\u001b[0m     \u001b[38;5;28;01melse\u001b[39;00m:\n\u001b[1;32m   1098\u001b[0m         \u001b[38;5;66;03m# work-around for merge_asof(right_index=True)\u001b[39;00m\n\u001b[1;32m   1099\u001b[0m         right_keys\u001b[38;5;241m.\u001b[39mappend(right\u001b[38;5;241m.\u001b[39mindex)\n",
      "File \u001b[0;32m~/venv/general/lib/python3.9/site-packages/pandas/core/generic.py:1779\u001b[0m, in \u001b[0;36mNDFrame._get_label_or_level_values\u001b[0;34m(self, key, axis)\u001b[0m\n\u001b[1;32m   1777\u001b[0m     values \u001b[38;5;241m=\u001b[39m \u001b[38;5;28mself\u001b[39m\u001b[38;5;241m.\u001b[39maxes[axis]\u001b[38;5;241m.\u001b[39mget_level_values(key)\u001b[38;5;241m.\u001b[39m_values\n\u001b[1;32m   1778\u001b[0m \u001b[38;5;28;01melse\u001b[39;00m:\n\u001b[0;32m-> 1779\u001b[0m     \u001b[38;5;28;01mraise\u001b[39;00m \u001b[38;5;167;01mKeyError\u001b[39;00m(key)\n\u001b[1;32m   1781\u001b[0m \u001b[38;5;66;03m# Check for duplicates\u001b[39;00m\n\u001b[1;32m   1782\u001b[0m \u001b[38;5;28;01mif\u001b[39;00m values\u001b[38;5;241m.\u001b[39mndim \u001b[38;5;241m>\u001b[39m \u001b[38;5;241m1\u001b[39m:\n",
      "\u001b[0;31mKeyError\u001b[0m: 'license_db'"
     ]
    }
   ],
   "source": [
    "nl2 = pd.merge(nl, dedup, left_on='LICENSE_DB', right_on='license_db', how='left')"
   ]
  },
  {
   "cell_type": "code",
   "execution_count": 112,
   "id": "e34825b5",
   "metadata": {},
   "outputs": [
    {
     "data": {
      "text/plain": [
       "0"
      ]
     },
     "execution_count": 112,
     "metadata": {},
     "output_type": "execute_result"
    }
   ],
   "source": [
    "# Merge files to create file with shapes\n",
    "\n",
    "licensee_nl = pd.merge(df_nl[['name', 'date']], \n",
    "                nl[['name']], \n",
    "                on='name',  \n",
    "                how='inner')\n",
    "len(licensee_nl)\n"
   ]
  },
  {
   "cell_type": "code",
   "execution_count": 13,
   "id": "03796547",
   "metadata": {},
   "outputs": [
    {
     "data": {
      "text/plain": [
       "864"
      ]
     },
     "execution_count": 13,
     "metadata": {},
     "output_type": "execute_result"
    }
   ],
   "source": [
    "# Merge again to create complete nl file\n",
    "\n",
    "license_nl_licensees = pd.merge(dfnl[['license_db', \n",
    "                                      'licensee_name', \n",
    "                                      'LICENCE_NM',\n",
    "                                      'geometry']], \n",
    "              df[['license_name',\n",
    "                  'license_code',\n",
    "                  'license_start_date',\n",
    "                  'commodity',\n",
    "                  'license_status',\n",
    "                  'license_type']],\n",
    "              left_on='LICENCE_NM', \n",
    "              right_on='license_name', \n",
    "              how='left')\n",
    "\n",
    "len(license_nl_licensees)"
   ]
  },
  {
   "cell_type": "code",
   "execution_count": 14,
   "id": "50782ecd",
   "metadata": {},
   "outputs": [
    {
     "name": "stderr",
     "output_type": "stream",
     "text": [
      "/var/folders/7q/y68bnjks05d1j1jyn8myxvqw0000gn/T/ipykernel_8603/1589768911.py:3: FutureWarning: In a future version of pandas all arguments of DataFrame.drop except for the argument 'labels' will be keyword-only\n",
      "  license_nl_licensees = license_nl_licensees.drop('LICENCE_NM', 1)\n"
     ]
    },
    {
     "data": {
      "text/plain": [
       "864"
      ]
     },
     "execution_count": 14,
     "metadata": {},
     "output_type": "execute_result"
    }
   ],
   "source": [
    "# Clean it up and add country and source columns\n",
    "\n",
    "license_nl_licensees = license_nl_licensees.drop('LICENCE_NM', 1)\n",
    "license_nl_licensees['country'] = 'Netherlands'\n",
    "license_nl_licensees['source_url'] = 'https://www.nlog.nl/datacenter/prodfigures/licences'\n",
    "license_nl_licensees = license_nl_licensees.drop_duplicates()\n",
    "len(license_nl_licensees)"
   ]
  },
  {
   "cell_type": "code",
   "execution_count": null,
   "id": "83f2049e",
   "metadata": {},
   "outputs": [],
   "source": []
  },
  {
   "cell_type": "code",
   "execution_count": null,
   "id": "e3afc5c9",
   "metadata": {},
   "outputs": [],
   "source": [
    "license_nl_licensees.to_csv('/Users/dt/Downloads/nl_licensees.csv', index=False)"
   ]
  },
  {
   "cell_type": "code",
   "execution_count": null,
   "id": "bd61d43b",
   "metadata": {},
   "outputs": [],
   "source": [
    "\n",
    "\n",
    "# create licensee df\n",
    "\n",
    "license_no_licensees = df[['license_name',\n",
    "                         'license_code',\n",
    "                         'license_start_date',\n",
    "                         'license_end_date',\n",
    "                         'licensee_name',\n",
    "                         'licensee_interest',\n",
    "                         'licensee_registration_number',\n",
    "                         'country',\n",
    "                         'source_url']]\n",
    "\n",
    "\n",
    "len(license_no_licensees)"
   ]
  },
  {
   "cell_type": "code",
   "execution_count": null,
   "id": "cb308f72",
   "metadata": {},
   "outputs": [],
   "source": [
    "#read operator\n",
    "\n",
    "df = pd.read_csv(PATH + 'license_and_production/no_license_operator_hist.csv')\n",
    "len(df)"
   ]
  },
  {
   "cell_type": "code",
   "execution_count": null,
   "id": "f38652de",
   "metadata": {},
   "outputs": [],
   "source": [
    "# transform date columns\n",
    "\n",
    "df['prlOperDateValidFrom'] = pd.to_datetime(df['prlOperDateValidFrom']).dt.strftime('%Y-%m-%d')\n",
    "df['prlOperDateValidTo'] = pd.to_datetime(df['prlOperDateValidTo']).dt.strftime('%Y-%m-%d')"
   ]
  },
  {
   "cell_type": "code",
   "execution_count": null,
   "id": "ab8090dc",
   "metadata": {},
   "outputs": [],
   "source": [
    "# rename columns\n",
    "\n",
    "df = df.rename(columns={'prlName': 'license_name',\n",
    "                        'prlOperDateValidFrom': 'license_start_date',\n",
    "                        'prlOperDateValidTo': 'license_end_date',\n",
    "                        'prlNpdidLicence': 'license_code',\n",
    "                        'cmpLongName': 'operator_name'\n",
    "                        })\n",
    "\n",
    "# create country and source columns\n",
    "\n",
    "df['source_url'] = 'https://factpages.npd.no/en/licence'\n",
    "df['country'] = 'Norway'\n",
    "\n",
    "# create operator df\n",
    "\n",
    "license_no_operators = df[['license_name',\n",
    "                             'license_code',\n",
    "                             'license_start_date',\n",
    "                             'license_end_date',\n",
    "                             'operator_name',\n",
    "                           'source_url',\n",
    "                           'country']]\n",
    "\n",
    "len(license_no_operators)"
   ]
  },
  {
   "cell_type": "markdown",
   "id": "c8af25ed",
   "metadata": {},
   "source": [
    "## License - NO"
   ]
  },
  {
   "cell_type": "code",
   "execution_count": 37,
   "id": "567c359d",
   "metadata": {},
   "outputs": [
    {
     "data": {
      "text/plain": [
       "28903"
      ]
     },
     "execution_count": 37,
     "metadata": {},
     "output_type": "execute_result"
    }
   ],
   "source": [
    "#read licensees\n",
    "\n",
    "df_no = pd.read_csv(PATH + 'license_and_production/no_licence.csv')\n",
    "len(df)"
   ]
  },
  {
   "cell_type": "code",
   "execution_count": 38,
   "id": "e002c14a",
   "metadata": {},
   "outputs": [
    {
     "data": {
      "text/plain": [
       "Index(['prlName', 'prlLicenseeDateValidFrom', 'prlLicenseeDateValidTo',\n",
       "       'cmpLongName', 'prlLicenseeInterest', 'prlLicenseeSdfi',\n",
       "       'prlOperDateValidFrom', 'prlOperDateValidTo', 'prlNpdidLicence',\n",
       "       'cmpNpdidCompany', 'prlLicenseeDateUpdated', 'DatesyncNPD'],\n",
       "      dtype='object')"
      ]
     },
     "execution_count": 38,
     "metadata": {},
     "output_type": "execute_result"
    }
   ],
   "source": [
    "df_no.columns"
   ]
  },
  {
   "cell_type": "code",
   "execution_count": 40,
   "id": "4270bcc8",
   "metadata": {},
   "outputs": [
    {
     "data": {
      "text/html": [
       "<div>\n",
       "<style scoped>\n",
       "    .dataframe tbody tr th:only-of-type {\n",
       "        vertical-align: middle;\n",
       "    }\n",
       "\n",
       "    .dataframe tbody tr th {\n",
       "        vertical-align: top;\n",
       "    }\n",
       "\n",
       "    .dataframe thead th {\n",
       "        text-align: right;\n",
       "    }\n",
       "</style>\n",
       "<table border=\"1\" class=\"dataframe\">\n",
       "  <thead>\n",
       "    <tr style=\"text-align: right;\">\n",
       "      <th></th>\n",
       "      <th>prlName</th>\n",
       "      <th>prlLicenseeDateValidFrom</th>\n",
       "      <th>prlLicenseeDateValidTo</th>\n",
       "      <th>cmpLongName</th>\n",
       "      <th>prlLicenseeInterest</th>\n",
       "      <th>prlLicenseeSdfi</th>\n",
       "      <th>prlOperDateValidFrom</th>\n",
       "      <th>prlOperDateValidTo</th>\n",
       "      <th>prlNpdidLicence</th>\n",
       "      <th>cmpNpdidCompany</th>\n",
       "      <th>prlLicenseeDateUpdated</th>\n",
       "      <th>DatesyncNPD</th>\n",
       "    </tr>\n",
       "  </thead>\n",
       "  <tbody>\n",
       "    <tr>\n",
       "      <th>9182</th>\n",
       "      <td>110</td>\n",
       "      <td>01.03.1985</td>\n",
       "      <td>14.02.1993</td>\n",
       "      <td>Norsk Hydro Produksjon AS</td>\n",
       "      <td>10.0</td>\n",
       "      <td>NaN</td>\n",
       "      <td>NaN</td>\n",
       "      <td>NaN</td>\n",
       "      <td>21684</td>\n",
       "      <td>430</td>\n",
       "      <td>10.03.2022</td>\n",
       "      <td>29.03.2022</td>\n",
       "    </tr>\n",
       "    <tr>\n",
       "      <th>16580</th>\n",
       "      <td>286</td>\n",
       "      <td>02.01.2007</td>\n",
       "      <td>30.09.2007</td>\n",
       "      <td>Eni Norge AS</td>\n",
       "      <td>20.0</td>\n",
       "      <td>NaN</td>\n",
       "      <td>NaN</td>\n",
       "      <td>NaN</td>\n",
       "      <td>2073578</td>\n",
       "      <td>2388594</td>\n",
       "      <td>10.03.2022</td>\n",
       "      <td>29.03.2022</td>\n",
       "    </tr>\n",
       "    <tr>\n",
       "      <th>15740</th>\n",
       "      <td>262</td>\n",
       "      <td>18.05.2016</td>\n",
       "      <td>29.11.2016</td>\n",
       "      <td>PGNiG Upstream International AS</td>\n",
       "      <td>15.0</td>\n",
       "      <td>NaN</td>\n",
       "      <td>NaN</td>\n",
       "      <td>NaN</td>\n",
       "      <td>1033093</td>\n",
       "      <td>23412029</td>\n",
       "      <td>10.03.2022</td>\n",
       "      <td>29.03.2022</td>\n",
       "    </tr>\n",
       "    <tr>\n",
       "      <th>21036</th>\n",
       "      <td>496</td>\n",
       "      <td>23.01.2009</td>\n",
       "      <td>08.03.2011</td>\n",
       "      <td>Premier Oil Norge AS</td>\n",
       "      <td>70.0</td>\n",
       "      <td>NaN</td>\n",
       "      <td>23.01.2009</td>\n",
       "      <td>08.03.2011</td>\n",
       "      <td>5106035</td>\n",
       "      <td>3482067</td>\n",
       "      <td>10.03.2022</td>\n",
       "      <td>29.03.2022</td>\n",
       "    </tr>\n",
       "    <tr>\n",
       "      <th>4868</th>\n",
       "      <td>055 B</td>\n",
       "      <td>10.09.2003</td>\n",
       "      <td>30.12.2003</td>\n",
       "      <td>Norsk Agip AS</td>\n",
       "      <td>13.2</td>\n",
       "      <td>NaN</td>\n",
       "      <td>NaN</td>\n",
       "      <td>NaN</td>\n",
       "      <td>102499</td>\n",
       "      <td>45</td>\n",
       "      <td>10.03.2022</td>\n",
       "      <td>29.03.2022</td>\n",
       "    </tr>\n",
       "  </tbody>\n",
       "</table>\n",
       "</div>"
      ],
      "text/plain": [
       "      prlName prlLicenseeDateValidFrom prlLicenseeDateValidTo  \\\n",
       "9182      110               01.03.1985             14.02.1993   \n",
       "16580     286               02.01.2007             30.09.2007   \n",
       "15740     262               18.05.2016             29.11.2016   \n",
       "21036     496               23.01.2009             08.03.2011   \n",
       "4868    055 B               10.09.2003             30.12.2003   \n",
       "\n",
       "                           cmpLongName  prlLicenseeInterest  prlLicenseeSdfi  \\\n",
       "9182         Norsk Hydro Produksjon AS                 10.0              NaN   \n",
       "16580                     Eni Norge AS                 20.0              NaN   \n",
       "15740  PGNiG Upstream International AS                 15.0              NaN   \n",
       "21036             Premier Oil Norge AS                 70.0              NaN   \n",
       "4868                     Norsk Agip AS                 13.2              NaN   \n",
       "\n",
       "      prlOperDateValidFrom prlOperDateValidTo  prlNpdidLicence  \\\n",
       "9182                   NaN                NaN            21684   \n",
       "16580                  NaN                NaN          2073578   \n",
       "15740                  NaN                NaN          1033093   \n",
       "21036           23.01.2009         08.03.2011          5106035   \n",
       "4868                   NaN                NaN           102499   \n",
       "\n",
       "       cmpNpdidCompany prlLicenseeDateUpdated DatesyncNPD  \n",
       "9182               430             10.03.2022  29.03.2022  \n",
       "16580          2388594             10.03.2022  29.03.2022  \n",
       "15740         23412029             10.03.2022  29.03.2022  \n",
       "21036          3482067             10.03.2022  29.03.2022  \n",
       "4868                45             10.03.2022  29.03.2022  "
      ]
     },
     "execution_count": 40,
     "metadata": {},
     "output_type": "execute_result"
    }
   ],
   "source": [
    "df_no.sample(5)"
   ]
  },
  {
   "cell_type": "code",
   "execution_count": 20,
   "id": "b5f36973",
   "metadata": {},
   "outputs": [],
   "source": [
    "# transform dates\n",
    "\n",
    "df_no['prlLicenseeDateValidFrom'] = pd.to_datetime(df_no['prlLicenseeDateValidFrom']).dt.strftime('%Y-%m-%d')\n",
    "df_no['prlLicenseeDateValidTo'] = pd.to_datetime(df_no['prlLicenseeDateValidTo']).dt.strftime('%Y-%m-%d')"
   ]
  },
  {
   "cell_type": "code",
   "execution_count": 48,
   "id": "fac3965d",
   "metadata": {},
   "outputs": [],
   "source": [
    "#Rename columns\n",
    "\n",
    "df_no = df_no.rename(columns={'prlName': 'name',\n",
    "                              'prlNpdidLicence': 'code',\n",
    "                              })\n",
    "\n",
    "# add country and source columns\n",
    "\n",
    "df_no['country'] = 'Norway'\n",
    "df_no['source_url'] = 'https://factpages.npd.no/en/licence'"
   ]
  },
  {
   "cell_type": "code",
   "execution_count": 43,
   "id": "30e037bb",
   "metadata": {},
   "outputs": [],
   "source": [
    "df_no2 = pd.read_excel(PATH + 'license_and_production/no_fields.xlsx')"
   ]
  },
  {
   "cell_type": "code",
   "execution_count": 54,
   "id": "7955c468",
   "metadata": {},
   "outputs": [],
   "source": [
    "df_no2 = df_no2.rename(columns={'Owner name': 'name',\n",
    "                        'Owner kind': 'type',\n",
    "                        'NPDID owner': 'code',\n",
    "                        'Current activity status': 'status'})"
   ]
  },
  {
   "cell_type": "code",
   "execution_count": 82,
   "id": "5b1d8f23",
   "metadata": {},
   "outputs": [],
   "source": [
    "license_no = pd.merge(df_no[['name', 'code', 'country', 'source_url']],\n",
    "                      df_no2[['code', 'type', 'status']],\n",
    "                      on = 'code',\n",
    "                      how = 'right'\n",
    "                     \n",
    "                     )"
   ]
  },
  {
   "cell_type": "code",
   "execution_count": 83,
   "id": "13c064f9",
   "metadata": {},
   "outputs": [
    {
     "data": {
      "text/plain": [
       "5272"
      ]
     },
     "execution_count": 83,
     "metadata": {},
     "output_type": "execute_result"
    }
   ],
   "source": [
    "len(license_no.dropna(subset=['type']))"
   ]
  },
  {
   "cell_type": "code",
   "execution_count": 92,
   "id": "7d7a19c6",
   "metadata": {},
   "outputs": [
    {
     "data": {
      "text/plain": [
       "Shut down    772\n",
       "Producing    579\n",
       "Name: status, dtype: int64"
      ]
     },
     "execution_count": 92,
     "metadata": {},
     "output_type": "execute_result"
    }
   ],
   "source": [
    "license_no[license_no.code == 20900.0]"
   ]
  },
  {
   "cell_type": "code",
   "execution_count": 68,
   "id": "1b3e5016",
   "metadata": {},
   "outputs": [
    {
     "data": {
      "text/plain": [
       "Producing                  3591\n",
       "Shut down                  1247\n",
       "Approved for production     390\n",
       "Name: status, dtype: int64"
      ]
     },
     "execution_count": 68,
     "metadata": {},
     "output_type": "execute_result"
    }
   ],
   "source": [
    "license_no.status.value_counts()"
   ]
  },
  {
   "cell_type": "code",
   "execution_count": 87,
   "id": "2fc93381",
   "metadata": {},
   "outputs": [],
   "source": [
    "df = pd.read_excel(PATH + 'license_and_production/no_field_description.xlsx')"
   ]
  },
  {
   "cell_type": "code",
   "execution_count": 88,
   "id": "1fe16922",
   "metadata": {},
   "outputs": [
    {
     "data": {
      "text/html": [
       "<div>\n",
       "<style scoped>\n",
       "    .dataframe tbody tr th:only-of-type {\n",
       "        vertical-align: middle;\n",
       "    }\n",
       "\n",
       "    .dataframe tbody tr th {\n",
       "        vertical-align: top;\n",
       "    }\n",
       "\n",
       "    .dataframe thead th {\n",
       "        text-align: right;\n",
       "    }\n",
       "</style>\n",
       "<table border=\"1\" class=\"dataframe\">\n",
       "  <thead>\n",
       "    <tr style=\"text-align: right;\">\n",
       "      <th></th>\n",
       "      <th>Field name</th>\n",
       "      <th>Type</th>\n",
       "      <th>Text</th>\n",
       "      <th>NPDID field</th>\n",
       "      <th>Date updated</th>\n",
       "      <th>Date sync NPD</th>\n",
       "    </tr>\n",
       "  </thead>\n",
       "  <tbody>\n",
       "    <tr>\n",
       "      <th>0</th>\n",
       "      <td>ALBUSKJELL</td>\n",
       "      <td>Development</td>\n",
       "      <td>Albuskjell is a field in the southern part of ...</td>\n",
       "      <td>43437</td>\n",
       "      <td>2020-02-08</td>\n",
       "      <td>12.04.2022</td>\n",
       "    </tr>\n",
       "    <tr>\n",
       "      <th>1</th>\n",
       "      <td>ALBUSKJELL</td>\n",
       "      <td>Reservoir</td>\n",
       "      <td>Albuskjell produced gas and condensate from Ma...</td>\n",
       "      <td>43437</td>\n",
       "      <td>2018-03-16</td>\n",
       "      <td>12.04.2022</td>\n",
       "    </tr>\n",
       "    <tr>\n",
       "      <th>2</th>\n",
       "      <td>ALBUSKJELL</td>\n",
       "      <td>Recovery</td>\n",
       "      <td>The field was produced by pressure depletion.</td>\n",
       "      <td>43437</td>\n",
       "      <td>2017-04-11</td>\n",
       "      <td>12.04.2022</td>\n",
       "    </tr>\n",
       "    <tr>\n",
       "      <th>3</th>\n",
       "      <td>ALBUSKJELL</td>\n",
       "      <td>Transport</td>\n",
       "      <td>The well stream was transported via pipeline t...</td>\n",
       "      <td>43437</td>\n",
       "      <td>2018-03-16</td>\n",
       "      <td>12.04.2022</td>\n",
       "    </tr>\n",
       "    <tr>\n",
       "      <th>4</th>\n",
       "      <td>ALBUSKJELL</td>\n",
       "      <td>Status</td>\n",
       "      <td>The field was shut down in 1998 and the platfo...</td>\n",
       "      <td>43437</td>\n",
       "      <td>2021-02-02</td>\n",
       "      <td>12.04.2022</td>\n",
       "    </tr>\n",
       "  </tbody>\n",
       "</table>\n",
       "</div>"
      ],
      "text/plain": [
       "   Field name          Type  \\\n",
       "0  ALBUSKJELL  Development    \n",
       "1  ALBUSKJELL    Reservoir    \n",
       "2  ALBUSKJELL     Recovery    \n",
       "3  ALBUSKJELL    Transport    \n",
       "4  ALBUSKJELL       Status    \n",
       "\n",
       "                                                Text  NPDID field  \\\n",
       "0  Albuskjell is a field in the southern part of ...        43437   \n",
       "1  Albuskjell produced gas and condensate from Ma...        43437   \n",
       "2      The field was produced by pressure depletion.        43437   \n",
       "3  The well stream was transported via pipeline t...        43437   \n",
       "4  The field was shut down in 1998 and the platfo...        43437   \n",
       "\n",
       "  Date updated Date sync NPD  \n",
       "0   2020-02-08    12.04.2022  \n",
       "1   2018-03-16    12.04.2022  \n",
       "2   2017-04-11    12.04.2022  \n",
       "3   2018-03-16    12.04.2022  \n",
       "4   2021-02-02    12.04.2022  "
      ]
     },
     "execution_count": 88,
     "metadata": {},
     "output_type": "execute_result"
    }
   ],
   "source": [
    "df.head()"
   ]
  },
  {
   "cell_type": "code",
   "execution_count": 90,
   "id": "abbf8f6b",
   "metadata": {},
   "outputs": [
    {
     "data": {
      "text/plain": [
       "128"
      ]
     },
     "execution_count": 90,
     "metadata": {},
     "output_type": "execute_result"
    }
   ],
   "source": [
    "df['Field name'].nunique()"
   ]
  },
  {
   "cell_type": "markdown",
   "id": "7b5ccb40",
   "metadata": {},
   "source": [
    "## United Kingdom"
   ]
  },
  {
   "cell_type": "code",
   "execution_count": null,
   "id": "1d76255a",
   "metadata": {},
   "outputs": [],
   "source": [
    "# import file with current license information\n",
    "\n",
    "df = pd.read_excel(PATH + 'license_and_production/uk_license_companies.xlsx')\n",
    "len(df)"
   ]
  },
  {
   "cell_type": "code",
   "execution_count": null,
   "id": "0d622346",
   "metadata": {},
   "outputs": [],
   "source": [
    "#rename columns\n",
    "\n",
    "df = df.rename(columns={'group_name': 'licensee_parent',\n",
    "                      'company': 'licensee_name',\n",
    "                      'Block / Subarea': 'asset',\n",
    "                      'Interest': 'licensee_interest',\n",
    "                      'Operator': 'operator_name',\n",
    "                      'Licence': 'license_name'})\n",
    "\n",
    "# create country and source columns\n",
    "\n",
    "df['country'] = 'United Kingdom'\n",
    "df['source_url'] = 'https://www.nstauthority.co.uk/data-centre/data-downloads-and-publications/licence-data/'\n",
    "\n",
    "# clean up interest\n",
    "\n",
    "df['licensee_interest'] = df['licensee_interest'].str.replace('%', '', regex=False)\n",
    "len(df)"
   ]
  },
  {
   "cell_type": "code",
   "execution_count": null,
   "id": "f71e4545",
   "metadata": {},
   "outputs": [],
   "source": [
    "# create current licensee df\n",
    "\n",
    "license_uk_licensees_current = df[['licensee_name',\n",
    "                           'asset',\n",
    "                           'licensee_interest',\n",
    "                           'license_name',\n",
    "                           'country',\n",
    "                           'source_url']]\n",
    "\n",
    "# create df with parent companies\n",
    "\n",
    "license_uk_parent_current = df[['licensee_parent',\n",
    "                        'licensee_name']]\n",
    "\n",
    "# create df with current operators\n",
    "\n",
    "license_uk_operators_current = df[['operator_name',\n",
    "                                   'license_name',\n",
    "                                   'country',\n",
    "\n",
    "                                   'source_url']]"
   ]
  },
  {
   "cell_type": "code",
   "execution_count": null,
   "id": "355bcbc1",
   "metadata": {},
   "outputs": [],
   "source": [
    "# import historical license data\n",
    "\n",
    "df = pd.read_excel(PATH + 'license_and_production/uk_2014-2020-field-equity-shares-june-2021.xlsx', skiprows=2)\n",
    "len(df)"
   ]
  },
  {
   "cell_type": "code",
   "execution_count": null,
   "id": "9a0a9334",
   "metadata": {},
   "outputs": [],
   "source": [
    "# rename columns\n",
    "\n",
    "df = df.rename(columns={'Organisation Name': 'licensee_name',\n",
    "                      'Percentage Holding': 'licensee_interest',\n",
    "                      'Start Date': 'license_start_date',\n",
    "                      'End Date': 'license_end_date',\n",
    "                      'Field Name': 'license_name'})\n",
    "\n",
    "# create country and source columns\n",
    "\n",
    "df['country'] = 'United Kingdom'\n",
    "df['source_url'] = 'https://www.nstauthority.co.uk/data-centre/data-downloads-and-publications/licence-data/'\n",
    "\n",
    "len(df)"
   ]
  },
  {
   "cell_type": "code",
   "execution_count": null,
   "id": "aacfff59",
   "metadata": {},
   "outputs": [],
   "source": [
    "# create historical licensee df\n",
    "\n",
    "license_uk_licensees_hist = df[['licensee_name', \n",
    "                                   'license_name',\n",
    "                                   'license_start_date',\n",
    "                                   'license_end_date',\n",
    "                                   'country',\n",
    "                                   'source_url']]"
   ]
  },
  {
   "cell_type": "code",
   "execution_count": null,
   "id": "86f0f377",
   "metadata": {},
   "outputs": [],
   "source": [
    "# filter out operator info from df and change column name\n",
    "\n",
    "df_operator = df[df['Operator Flag'] == 'Y']\n",
    "df_operator = df_operator.rename(columns={'licensee_name': 'operator_name'})\n",
    "\n",
    "# create historical operator df\n",
    "\n",
    "license_uk_operators_hist = df_operator[['operator_name',\n",
    "                                         'license_start_date',\n",
    "                                         'license_end_date',\n",
    "                                         'country',\n",
    "                                         'source_url']]\n",
    "\n"
   ]
  },
  {
   "cell_type": "code",
   "execution_count": null,
   "id": "1bfc10b5",
   "metadata": {},
   "outputs": [],
   "source": [
    "# concat licensee dfs - uk might contain duplicates\n",
    "\n",
    "licensees = pd.concat([license_uk_licensees_current, \n",
    "                       license_uk_licensees_hist, \n",
    "                       license_no_licensees, \n",
    "                       license_nl_licensees])"
   ]
  },
  {
   "cell_type": "code",
   "execution_count": null,
   "id": "07dbc3e4",
   "metadata": {},
   "outputs": [],
   "source": [
    "# concat operators dfs - uk might contain duplicates\n",
    "\n",
    "operators = pd.concat([license_uk_operators_hist, \n",
    "                       license_uk_operators_current,\n",
    "                       license_no_operators, \n",
    "                       license_nl_operators])"
   ]
  },
  {
   "cell_type": "code",
   "execution_count": null,
   "id": "2c957d42",
   "metadata": {},
   "outputs": [],
   "source": [
    "# concat parent dfs\n",
    "\n",
    "parents = pd.concat([license_uk_parent_current])"
   ]
  },
  {
   "cell_type": "markdown",
   "id": "4173c869",
   "metadata": {},
   "source": [
    "### Clean companies - licensees and operators"
   ]
  },
  {
   "cell_type": "code",
   "execution_count": null,
   "id": "889cba5c",
   "metadata": {},
   "outputs": [],
   "source": [
    "licensees.licensee_name.value_counts()[40:60]"
   ]
  },
  {
   "cell_type": "code",
   "execution_count": null,
   "id": "de49ebcc",
   "metadata": {},
   "outputs": [],
   "source": [
    "licensees[licensees['licensee_name'].str.contains('Gazpr', na=False)]"
   ]
  },
  {
   "cell_type": "code",
   "execution_count": null,
   "id": "f91ba350",
   "metadata": {},
   "outputs": [],
   "source": []
  },
  {
   "cell_type": "code",
   "execution_count": null,
   "id": "4cb72e8a",
   "metadata": {},
   "outputs": [],
   "source": []
  },
  {
   "cell_type": "markdown",
   "id": "8470ec61",
   "metadata": {},
   "source": [
    "## Production - Netherlands"
   ]
  },
  {
   "cell_type": "code",
   "execution_count": null,
   "id": "8a7b1c00",
   "metadata": {},
   "outputs": [],
   "source": [
    "def parse_commodity(commodity):\n",
    "    dfs = []\n",
    "    for file in glob.glob(PATH + 'license_and_production/nl_' + commodity + '_produced_*.xlsx'):\n",
    "        df = pd.read_excel(file, skiprows=1, skipfooter=1)\n",
    "        df['total_1000_sm3'] = df.iloc[:, -12:].sum(axis=1)\n",
    "        if commodity == 'oil':\n",
    "            df['total_1000_sm3'] = df['total_1000_sm3'] / 1000\n",
    "        df['commodity'] = commodity\n",
    "        df = df.dropna(subset=['YEAR'])\n",
    "        df.YEAR = df.YEAR.astype('int')\n",
    "        df = df.rename(columns={'LICENCE': 'license_name',\n",
    "                                'FIELD': 'license_name',\n",
    "                            'OPERATOR': 'operator_name',\n",
    "                            'YEAR': 'production_year'\n",
    "                           })\n",
    "\n",
    "        nl_production = df[['license_name', \n",
    "                        'operator_name',\n",
    "                        'commodity',\n",
    "                        'production_year',\n",
    "                        'total_1000_sm3'\n",
    "                        ]]\n",
    "        dfs.append(nl_production)\n",
    "\n",
    "    df = pd.concat(dfs)\n",
    "    return df\n"
   ]
  },
  {
   "cell_type": "code",
   "execution_count": null,
   "id": "97bee181",
   "metadata": {},
   "outputs": [],
   "source": [
    "df = pd.concat([parse_commodity('gas'), parse_commodity('oil')])"
   ]
  },
  {
   "cell_type": "code",
   "execution_count": null,
   "id": "d133dd61",
   "metadata": {},
   "outputs": [],
   "source": [
    "df"
   ]
  },
  {
   "cell_type": "markdown",
   "id": "6679e370",
   "metadata": {},
   "source": [
    "## Production - Norway"
   ]
  },
  {
   "cell_type": "code",
   "execution_count": null,
   "id": "a8fe7c8a",
   "metadata": {},
   "outputs": [],
   "source": [
    "df_field_licensee = pd.read_excel(PATH + 'license_and_production/no_field_licensee_hst.xlsx')\n",
    "len(df_field_licensee)"
   ]
  },
  {
   "cell_type": "code",
   "execution_count": null,
   "id": "ffbe3a96",
   "metadata": {},
   "outputs": [],
   "source": [
    "df_field_licensee.head()"
   ]
  },
  {
   "cell_type": "code",
   "execution_count": null,
   "id": "d6c167c4",
   "metadata": {},
   "outputs": [],
   "source": [
    "df_field_licensee['Owner name'].value_counts()"
   ]
  },
  {
   "cell_type": "code",
   "execution_count": null,
   "id": "3631384f",
   "metadata": {},
   "outputs": [],
   "source": [
    "df_field_operator = pd.read_excel(PATH + 'license_and_production/no_field_operator_hst.xlsx')\n",
    "len(df_field_operator)"
   ]
  },
  {
   "cell_type": "code",
   "execution_count": null,
   "id": "f709417f",
   "metadata": {},
   "outputs": [],
   "source": [
    "df_field_operator.head()"
   ]
  },
  {
   "cell_type": "code",
   "execution_count": null,
   "id": "95da5d56",
   "metadata": {},
   "outputs": [],
   "source": [
    "df_field_owner = pd.read_excel(PATH + 'license_and_production/no_field_owner_hst.xlsx')\n",
    "len(df_field_owner)"
   ]
  },
  {
   "cell_type": "code",
   "execution_count": null,
   "id": "84fa15a8",
   "metadata": {},
   "outputs": [],
   "source": [
    "df_field_owner.head()"
   ]
  },
  {
   "cell_type": "code",
   "execution_count": null,
   "id": "a1563318",
   "metadata": {},
   "outputs": [],
   "source": [
    "df_field_owner[df_field_owner['NPDID owner'] == ]"
   ]
  },
  {
   "cell_type": "code",
   "execution_count": null,
   "id": "e7becc27",
   "metadata": {},
   "outputs": [],
   "source": [
    "df_field_owner[df_field_owner['Owner name'].str.contains('STATFJORD ØST UNIT')]"
   ]
  },
  {
   "cell_type": "code",
   "execution_count": null,
   "id": "b0d8887c",
   "metadata": {},
   "outputs": [],
   "source": [
    "df_field_production = pd.read_excel(PATH + 'license_and_production/no_field_production_yearly.xlsx')\n",
    "len(df_field_production)"
   ]
  },
  {
   "cell_type": "code",
   "execution_count": null,
   "id": "d963fb63",
   "metadata": {},
   "outputs": [],
   "source": [
    "df_field_production.tail()"
   ]
  },
  {
   "cell_type": "code",
   "execution_count": null,
   "id": "5c87fdd6",
   "metadata": {},
   "outputs": [],
   "source": [
    "df_field_production = df_field_production\\\n",
    "                        .rename(columns={'Field (Discovery)': 'license_name',\n",
    "                                         'Year': 'production_year',\n",
    "                                         'Net - oil \\n[mill Sm3]': 'total_oil_1000_sm3',\n",
    "                                         'Net - gas \\n[bill Sm3]': 'total_gas_1000_sm3'})\n",
    "df_field_production['total_oil_1000_sm3'] = df_field_production['total_oil_1000_sm3'] * 1000\n",
    "df_field_production['total_gas_1000_sm3'] = df_field_production['total_gas_1000_sm3'] * 1000000\n",
    "\n",
    "df_oil = df_field_production[['license_name',\n",
    "                              'production_year',\n",
    "                              'total_oil_1000_sm3']]\n",
    "\n",
    "df_oil['commodity'] = 'oil'\n",
    "df_oil = df_oil.rename(columns={'total_oil_1000_sm3': 'total_1000_sm3'})\n",
    "\n",
    "df_gas = df_field_production[['license_name',\n",
    "                              'production_year',\n",
    "                              'total_gas_1000_sm3']]\n",
    "\n",
    "df_gas['commodity'] = 'gas'\n",
    "df_gas = df_gas.rename(columns={'total_gas_1000_sm3': 'total_1000_sm3'})\n",
    "\n",
    "df = pd.concat([df_oil, df_gas])\n",
    "\n"
   ]
  },
  {
   "cell_type": "code",
   "execution_count": null,
   "id": "c8383342",
   "metadata": {},
   "outputs": [],
   "source": [
    "df.tail()"
   ]
  },
  {
   "cell_type": "code",
   "execution_count": null,
   "id": "f2d6930d",
   "metadata": {},
   "outputs": [],
   "source": []
  }
 ],
 "metadata": {
  "kernelspec": {
   "display_name": "general",
   "language": "python",
   "name": "general"
  },
  "language_info": {
   "codemirror_mode": {
    "name": "ipython",
    "version": 3
   },
   "file_extension": ".py",
   "mimetype": "text/x-python",
   "name": "python",
   "nbconvert_exporter": "python",
   "pygments_lexer": "ipython3",
   "version": "3.9.4"
  }
 },
 "nbformat": 4,
 "nbformat_minor": 5
}
