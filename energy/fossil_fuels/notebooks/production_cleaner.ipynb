{
 "cells": [
  {
   "cell_type": "code",
   "execution_count": 1,
   "id": "284f122d",
   "metadata": {},
   "outputs": [],
   "source": [
    "import pandas as pd\n",
    "import geopandas as gpd\n",
    "import glob"
   ]
  },
  {
   "cell_type": "code",
   "execution_count": 2,
   "id": "1ad6e711",
   "metadata": {},
   "outputs": [],
   "source": [
    "PATH = '/Users/dt/Documents/Projecten/northsea/data/'"
   ]
  },
  {
   "cell_type": "markdown",
   "id": "1adc3906",
   "metadata": {},
   "source": [
    "## TODO\n",
    "\n",
    "Create tables:\n",
    "\n",
    "1. License: id, name, code, date, product, type, status, round, country, source\n",
    "2. Operator: company_id, license_id, start_date, end_date, source\n",
    "3. Licensees: company_id, license_id, share, start_date, end_date, source\n",
    "4. Companies: id, name, address, country, registration, source\n",
    "5. Com_to_com: child_id, parent_id, parent_name, address, country, share_parent, source\n",
    "6. Field: id, license_id, name, source\n",
    "7. Location: field_id, geometry\n",
    "8. Production: field_id, year, commodity, production_1000_sm3\n",
    "9. Prices: year, commodity, avg_price_usd, avg_price_eur\n",
    "10. License_active_period: license_id, start_date, end_date\n",
    "11. Authority: id, name, url, country, license_id"
   ]
  },
  {
   "cell_type": "markdown",
   "id": "fe0defaa",
   "metadata": {},
   "source": [
    "### License - NL"
   ]
  },
  {
   "cell_type": "code",
   "execution_count": 5,
   "id": "1c9bbbc4",
   "metadata": {},
   "outputs": [
    {
     "ename": "FileNotFoundError",
     "evalue": "[Errno 2] No such file or directory: '/Users/dt/Documents/Projecten/northsea/data/licenses/nl_licences/nl_license_companies.xlsx'",
     "output_type": "error",
     "traceback": [
      "\u001b[0;31m---------------------------------------------------------------------------\u001b[0m",
      "\u001b[0;31mFileNotFoundError\u001b[0m                         Traceback (most recent call last)",
      "Input \u001b[0;32mIn [5]\u001b[0m, in \u001b[0;36m<module>\u001b[0;34m\u001b[0m\n\u001b[0;32m----> 1\u001b[0m df_nl \u001b[38;5;241m=\u001b[39m \u001b[43mpd\u001b[49m\u001b[38;5;241;43m.\u001b[39;49m\u001b[43mread_excel\u001b[49m\u001b[43m(\u001b[49m\u001b[43mPATH\u001b[49m\u001b[43m \u001b[49m\u001b[38;5;241;43m+\u001b[39;49m\u001b[43m \u001b[49m\u001b[38;5;124;43m'\u001b[39;49m\u001b[38;5;124;43mlicenses/nl_licences/nl_license_companies.xlsx\u001b[39;49m\u001b[38;5;124;43m'\u001b[39;49m\u001b[43m)\u001b[49m\n\u001b[1;32m      2\u001b[0m \u001b[38;5;28mlen\u001b[39m(df_nl)\n",
      "File \u001b[0;32m~/venv/general/lib/python3.9/site-packages/pandas/util/_decorators.py:311\u001b[0m, in \u001b[0;36mdeprecate_nonkeyword_arguments.<locals>.decorate.<locals>.wrapper\u001b[0;34m(*args, **kwargs)\u001b[0m\n\u001b[1;32m    305\u001b[0m \u001b[38;5;28;01mif\u001b[39;00m \u001b[38;5;28mlen\u001b[39m(args) \u001b[38;5;241m>\u001b[39m num_allow_args:\n\u001b[1;32m    306\u001b[0m     warnings\u001b[38;5;241m.\u001b[39mwarn(\n\u001b[1;32m    307\u001b[0m         msg\u001b[38;5;241m.\u001b[39mformat(arguments\u001b[38;5;241m=\u001b[39marguments),\n\u001b[1;32m    308\u001b[0m         \u001b[38;5;167;01mFutureWarning\u001b[39;00m,\n\u001b[1;32m    309\u001b[0m         stacklevel\u001b[38;5;241m=\u001b[39mstacklevel,\n\u001b[1;32m    310\u001b[0m     )\n\u001b[0;32m--> 311\u001b[0m \u001b[38;5;28;01mreturn\u001b[39;00m \u001b[43mfunc\u001b[49m\u001b[43m(\u001b[49m\u001b[38;5;241;43m*\u001b[39;49m\u001b[43margs\u001b[49m\u001b[43m,\u001b[49m\u001b[43m \u001b[49m\u001b[38;5;241;43m*\u001b[39;49m\u001b[38;5;241;43m*\u001b[39;49m\u001b[43mkwargs\u001b[49m\u001b[43m)\u001b[49m\n",
      "File \u001b[0;32m~/venv/general/lib/python3.9/site-packages/pandas/io/excel/_base.py:364\u001b[0m, in \u001b[0;36mread_excel\u001b[0;34m(io, sheet_name, header, names, index_col, usecols, squeeze, dtype, engine, converters, true_values, false_values, skiprows, nrows, na_values, keep_default_na, na_filter, verbose, parse_dates, date_parser, thousands, comment, skipfooter, convert_float, mangle_dupe_cols, storage_options)\u001b[0m\n\u001b[1;32m    362\u001b[0m \u001b[38;5;28;01mif\u001b[39;00m \u001b[38;5;129;01mnot\u001b[39;00m \u001b[38;5;28misinstance\u001b[39m(io, ExcelFile):\n\u001b[1;32m    363\u001b[0m     should_close \u001b[38;5;241m=\u001b[39m \u001b[38;5;28;01mTrue\u001b[39;00m\n\u001b[0;32m--> 364\u001b[0m     io \u001b[38;5;241m=\u001b[39m \u001b[43mExcelFile\u001b[49m\u001b[43m(\u001b[49m\u001b[43mio\u001b[49m\u001b[43m,\u001b[49m\u001b[43m \u001b[49m\u001b[43mstorage_options\u001b[49m\u001b[38;5;241;43m=\u001b[39;49m\u001b[43mstorage_options\u001b[49m\u001b[43m,\u001b[49m\u001b[43m \u001b[49m\u001b[43mengine\u001b[49m\u001b[38;5;241;43m=\u001b[39;49m\u001b[43mengine\u001b[49m\u001b[43m)\u001b[49m\n\u001b[1;32m    365\u001b[0m \u001b[38;5;28;01melif\u001b[39;00m engine \u001b[38;5;129;01mand\u001b[39;00m engine \u001b[38;5;241m!=\u001b[39m io\u001b[38;5;241m.\u001b[39mengine:\n\u001b[1;32m    366\u001b[0m     \u001b[38;5;28;01mraise\u001b[39;00m \u001b[38;5;167;01mValueError\u001b[39;00m(\n\u001b[1;32m    367\u001b[0m         \u001b[38;5;124m\"\u001b[39m\u001b[38;5;124mEngine should not be specified when passing \u001b[39m\u001b[38;5;124m\"\u001b[39m\n\u001b[1;32m    368\u001b[0m         \u001b[38;5;124m\"\u001b[39m\u001b[38;5;124man ExcelFile - ExcelFile already has the engine set\u001b[39m\u001b[38;5;124m\"\u001b[39m\n\u001b[1;32m    369\u001b[0m     )\n",
      "File \u001b[0;32m~/venv/general/lib/python3.9/site-packages/pandas/io/excel/_base.py:1191\u001b[0m, in \u001b[0;36mExcelFile.__init__\u001b[0;34m(self, path_or_buffer, engine, storage_options)\u001b[0m\n\u001b[1;32m   1189\u001b[0m     ext \u001b[38;5;241m=\u001b[39m \u001b[38;5;124m\"\u001b[39m\u001b[38;5;124mxls\u001b[39m\u001b[38;5;124m\"\u001b[39m\n\u001b[1;32m   1190\u001b[0m \u001b[38;5;28;01melse\u001b[39;00m:\n\u001b[0;32m-> 1191\u001b[0m     ext \u001b[38;5;241m=\u001b[39m \u001b[43minspect_excel_format\u001b[49m\u001b[43m(\u001b[49m\n\u001b[1;32m   1192\u001b[0m \u001b[43m        \u001b[49m\u001b[43mcontent_or_path\u001b[49m\u001b[38;5;241;43m=\u001b[39;49m\u001b[43mpath_or_buffer\u001b[49m\u001b[43m,\u001b[49m\u001b[43m \u001b[49m\u001b[43mstorage_options\u001b[49m\u001b[38;5;241;43m=\u001b[39;49m\u001b[43mstorage_options\u001b[49m\n\u001b[1;32m   1193\u001b[0m \u001b[43m    \u001b[49m\u001b[43m)\u001b[49m\n\u001b[1;32m   1194\u001b[0m     \u001b[38;5;28;01mif\u001b[39;00m ext \u001b[38;5;129;01mis\u001b[39;00m \u001b[38;5;28;01mNone\u001b[39;00m:\n\u001b[1;32m   1195\u001b[0m         \u001b[38;5;28;01mraise\u001b[39;00m \u001b[38;5;167;01mValueError\u001b[39;00m(\n\u001b[1;32m   1196\u001b[0m             \u001b[38;5;124m\"\u001b[39m\u001b[38;5;124mExcel file format cannot be determined, you must specify \u001b[39m\u001b[38;5;124m\"\u001b[39m\n\u001b[1;32m   1197\u001b[0m             \u001b[38;5;124m\"\u001b[39m\u001b[38;5;124man engine manually.\u001b[39m\u001b[38;5;124m\"\u001b[39m\n\u001b[1;32m   1198\u001b[0m         )\n",
      "File \u001b[0;32m~/venv/general/lib/python3.9/site-packages/pandas/io/excel/_base.py:1070\u001b[0m, in \u001b[0;36minspect_excel_format\u001b[0;34m(content_or_path, storage_options)\u001b[0m\n\u001b[1;32m   1067\u001b[0m \u001b[38;5;28;01mif\u001b[39;00m \u001b[38;5;28misinstance\u001b[39m(content_or_path, \u001b[38;5;28mbytes\u001b[39m):\n\u001b[1;32m   1068\u001b[0m     content_or_path \u001b[38;5;241m=\u001b[39m BytesIO(content_or_path)\n\u001b[0;32m-> 1070\u001b[0m \u001b[38;5;28;01mwith\u001b[39;00m \u001b[43mget_handle\u001b[49m\u001b[43m(\u001b[49m\n\u001b[1;32m   1071\u001b[0m \u001b[43m    \u001b[49m\u001b[43mcontent_or_path\u001b[49m\u001b[43m,\u001b[49m\u001b[43m \u001b[49m\u001b[38;5;124;43m\"\u001b[39;49m\u001b[38;5;124;43mrb\u001b[39;49m\u001b[38;5;124;43m\"\u001b[39;49m\u001b[43m,\u001b[49m\u001b[43m \u001b[49m\u001b[43mstorage_options\u001b[49m\u001b[38;5;241;43m=\u001b[39;49m\u001b[43mstorage_options\u001b[49m\u001b[43m,\u001b[49m\u001b[43m \u001b[49m\u001b[43mis_text\u001b[49m\u001b[38;5;241;43m=\u001b[39;49m\u001b[38;5;28;43;01mFalse\u001b[39;49;00m\n\u001b[1;32m   1072\u001b[0m \u001b[43m\u001b[49m\u001b[43m)\u001b[49m \u001b[38;5;28;01mas\u001b[39;00m handle:\n\u001b[1;32m   1073\u001b[0m     stream \u001b[38;5;241m=\u001b[39m handle\u001b[38;5;241m.\u001b[39mhandle\n\u001b[1;32m   1074\u001b[0m     stream\u001b[38;5;241m.\u001b[39mseek(\u001b[38;5;241m0\u001b[39m)\n",
      "File \u001b[0;32m~/venv/general/lib/python3.9/site-packages/pandas/io/common.py:711\u001b[0m, in \u001b[0;36mget_handle\u001b[0;34m(path_or_buf, mode, encoding, compression, memory_map, is_text, errors, storage_options)\u001b[0m\n\u001b[1;32m    702\u001b[0m         handle \u001b[38;5;241m=\u001b[39m \u001b[38;5;28mopen\u001b[39m(\n\u001b[1;32m    703\u001b[0m             handle,\n\u001b[1;32m    704\u001b[0m             ioargs\u001b[38;5;241m.\u001b[39mmode,\n\u001b[0;32m   (...)\u001b[0m\n\u001b[1;32m    707\u001b[0m             newline\u001b[38;5;241m=\u001b[39m\u001b[38;5;124m\"\u001b[39m\u001b[38;5;124m\"\u001b[39m,\n\u001b[1;32m    708\u001b[0m         )\n\u001b[1;32m    709\u001b[0m     \u001b[38;5;28;01melse\u001b[39;00m:\n\u001b[1;32m    710\u001b[0m         \u001b[38;5;66;03m# Binary mode\u001b[39;00m\n\u001b[0;32m--> 711\u001b[0m         handle \u001b[38;5;241m=\u001b[39m \u001b[38;5;28;43mopen\u001b[39;49m\u001b[43m(\u001b[49m\u001b[43mhandle\u001b[49m\u001b[43m,\u001b[49m\u001b[43m \u001b[49m\u001b[43mioargs\u001b[49m\u001b[38;5;241;43m.\u001b[39;49m\u001b[43mmode\u001b[49m\u001b[43m)\u001b[49m\n\u001b[1;32m    712\u001b[0m     handles\u001b[38;5;241m.\u001b[39mappend(handle)\n\u001b[1;32m    714\u001b[0m \u001b[38;5;66;03m# Convert BytesIO or file objects passed with an encoding\u001b[39;00m\n",
      "\u001b[0;31mFileNotFoundError\u001b[0m: [Errno 2] No such file or directory: '/Users/dt/Documents/Projecten/northsea/data/licenses/nl_licences/nl_license_companies.xlsx'"
     ]
    }
   ],
   "source": [
    "df_nl = pd.read_excel(PATH + 'licenses/nl_licences/nl_license_companies.xlsx')\n",
    "len(df_nl)"
   ]
  },
  {
   "cell_type": "code",
   "execution_count": null,
   "id": "befe7dc9",
   "metadata": {},
   "outputs": [],
   "source": [
    "# clean up column names\n",
    "\n",
    "df_nl = df_nl.rename(columns={'product': 'commodity',\n",
    "                              'status': 'status',\n",
    "                              'license_name': 'name',\n",
    "                              'license_code': 'code',\n",
    "                              'license_status': 'status',\n",
    "                              'license_type': 'type'\n",
    "                            })\n",
    "\n",
    "# add source and country\n",
    "\n",
    "df_nl['source_url'] = 'https://www.nlog.nl/datacenter/prodfigures/licences'\n",
    "df_nl['country'] = 'Netherlands'\n"
   ]
  },
  {
   "cell_type": "code",
   "execution_count": null,
   "id": "51c3062f",
   "metadata": {},
   "outputs": [],
   "source": [
    "df_nl.head(1)"
   ]
  },
  {
   "cell_type": "code",
   "execution_count": null,
   "id": "d8814c02",
   "metadata": {},
   "outputs": [],
   "source": [
    "#id, name, code, commodity, type, status, round, country, source\n",
    "\n",
    "license_nl = df_nl[['name',\n",
    "                    'code',\n",
    "                    'commodity',\n",
    "                    'type',\n",
    "                    'status',\n",
    "                    'country',\n",
    "                    'source_url']]\n"
   ]
  },
  {
   "cell_type": "markdown",
   "id": "c76a9a78",
   "metadata": {},
   "source": [
    "### Operator - NL"
   ]
  },
  {
   "cell_type": "code",
   "execution_count": null,
   "id": "443aa636",
   "metadata": {},
   "outputs": [],
   "source": [
    "#Operator: company_id, license_id, start_date, end_date, source"
   ]
  },
  {
   "cell_type": "code",
   "execution_count": null,
   "id": "7df6e7a5",
   "metadata": {},
   "outputs": [],
   "source": [
    "df_nl = df_nl.dropna(subset=['operator'])"
   ]
  },
  {
   "cell_type": "code",
   "execution_count": null,
   "id": "56e26f49",
   "metadata": {},
   "outputs": [],
   "source": [
    "operator_nl = df_nl[['operator',\n",
    "                     'code',\n",
    "                     'date',\n",
    "                     'source_url']]"
   ]
  },
  {
   "cell_type": "markdown",
   "id": "32c6e6ec",
   "metadata": {},
   "source": [
    "### Licensees - NL\n",
    "\n",
    "Licensees: company_id, license_id, share, start_date, end_date, source"
   ]
  },
  {
   "cell_type": "code",
   "execution_count": null,
   "id": "e2a4044e",
   "metadata": {},
   "outputs": [],
   "source": [
    "# import shapefiles with licensees\n",
    "\n",
    "nl_shape = gpd.read_file(PATH + 'shapes/nlog_licenses.shp')\n",
    "len(nl_shape)"
   ]
  },
  {
   "cell_type": "code",
   "execution_count": null,
   "id": "b8b63d3e",
   "metadata": {},
   "outputs": [],
   "source": [
    "dedup = nl_shape[~nl_shape['LICENSEES'].isna()]"
   ]
  },
  {
   "cell_type": "code",
   "execution_count": null,
   "id": "93151c4c",
   "metadata": {},
   "outputs": [],
   "source": [
    "nl.head(1)"
   ]
  },
  {
   "cell_type": "code",
   "execution_count": null,
   "id": "31cc8f18",
   "metadata": {},
   "outputs": [],
   "source": [
    "#Extract companies by exploding LICENCE_DB\n",
    "\n",
    "nl = dedup.set_index('LICENCE_DB')\\\n",
    "    .LICENSEES.str.split(', ', expand=True)\\\n",
    "    .stack()\\\n",
    "    .reset_index()\\\n",
    "    .rename(columns={0:'name', 'LICENCE_DB': 'license_db'})"
   ]
  },
  {
   "cell_type": "code",
   "execution_count": null,
   "id": "925855bb",
   "metadata": {},
   "outputs": [],
   "source": [
    "nl2 = pd.merge(nl, dedup, left_on='LICENSE_DB', right_on='license_db', how='left')"
   ]
  },
  {
   "cell_type": "code",
   "execution_count": null,
   "id": "e34825b5",
   "metadata": {},
   "outputs": [],
   "source": [
    "# Merge files to create file with shapes\n",
    "\n",
    "licensee_nl = pd.merge(df_nl[['name', 'date']], \n",
    "                nl[['name']], \n",
    "                on='name',  \n",
    "                how='inner')\n",
    "len(licensee_nl)\n"
   ]
  },
  {
   "cell_type": "code",
   "execution_count": null,
   "id": "03796547",
   "metadata": {},
   "outputs": [],
   "source": [
    "# Merge again to create complete nl file\n",
    "\n",
    "license_nl_licensees = pd.merge(dfnl[['license_db', \n",
    "                                      'licensee_name', \n",
    "                                      'LICENCE_NM',\n",
    "                                      'geometry']], \n",
    "              df[['license_name',\n",
    "                  'license_code',\n",
    "                  'license_start_date',\n",
    "                  'commodity',\n",
    "                  'license_status',\n",
    "                  'license_type']],\n",
    "              left_on='LICENCE_NM', \n",
    "              right_on='license_name', \n",
    "              how='left')\n",
    "\n",
    "len(license_nl_licensees)"
   ]
  },
  {
   "cell_type": "code",
   "execution_count": null,
   "id": "50782ecd",
   "metadata": {},
   "outputs": [],
   "source": [
    "# Clean it up and add country and source columns\n",
    "\n",
    "license_nl_licensees = license_nl_licensees.drop('LICENCE_NM', 1)\n",
    "license_nl_licensees['country'] = 'Netherlands'\n",
    "license_nl_licensees['source_url'] = 'https://www.nlog.nl/datacenter/prodfigures/licences'\n",
    "license_nl_licensees = license_nl_licensees.drop_duplicates()\n",
    "len(license_nl_licensees)"
   ]
  },
  {
   "cell_type": "code",
   "execution_count": null,
   "id": "83f2049e",
   "metadata": {},
   "outputs": [],
   "source": []
  },
  {
   "cell_type": "code",
   "execution_count": null,
   "id": "e3afc5c9",
   "metadata": {},
   "outputs": [],
   "source": [
    "license_nl_licensees.to_csv('/Users/dt/Downloads/nl_licensees.csv', index=False)"
   ]
  },
  {
   "cell_type": "code",
   "execution_count": null,
   "id": "bd61d43b",
   "metadata": {},
   "outputs": [],
   "source": [
    "\n",
    "\n",
    "# create licensee df\n",
    "\n",
    "license_no_licensees = df[['license_name',\n",
    "                         'license_code',\n",
    "                         'license_start_date',\n",
    "                         'license_end_date',\n",
    "                         'licensee_name',\n",
    "                         'licensee_interest',\n",
    "                         'licensee_registration_number',\n",
    "                         'country',\n",
    "                         'source_url']]\n",
    "\n",
    "\n",
    "len(license_no_licensees)"
   ]
  },
  {
   "cell_type": "code",
   "execution_count": null,
   "id": "cb308f72",
   "metadata": {},
   "outputs": [],
   "source": [
    "#read operator\n",
    "\n",
    "df = pd.read_csv(PATH + 'license_and_production/no_license_operator_hist.csv')\n",
    "len(df)"
   ]
  },
  {
   "cell_type": "code",
   "execution_count": null,
   "id": "f38652de",
   "metadata": {},
   "outputs": [],
   "source": [
    "# transform date columns\n",
    "\n",
    "df['prlOperDateValidFrom'] = pd.to_datetime(df['prlOperDateValidFrom']).dt.strftime('%Y-%m-%d')\n",
    "df['prlOperDateValidTo'] = pd.to_datetime(df['prlOperDateValidTo']).dt.strftime('%Y-%m-%d')"
   ]
  },
  {
   "cell_type": "code",
   "execution_count": null,
   "id": "ab8090dc",
   "metadata": {},
   "outputs": [],
   "source": [
    "# rename columns\n",
    "\n",
    "df = df.rename(columns={'prlName': 'license_name',\n",
    "                        'prlOperDateValidFrom': 'license_start_date',\n",
    "                        'prlOperDateValidTo': 'license_end_date',\n",
    "                        'prlNpdidLicence': 'license_code',\n",
    "                        'cmpLongName': 'operator_name'\n",
    "                        })\n",
    "\n",
    "# create country and source columns\n",
    "\n",
    "df['source_url'] = 'https://factpages.npd.no/en/licence'\n",
    "df['country'] = 'Norway'\n",
    "\n",
    "# create operator df\n",
    "\n",
    "license_no_operators = df[['license_name',\n",
    "                             'license_code',\n",
    "                             'license_start_date',\n",
    "                             'license_end_date',\n",
    "                             'operator_name',\n",
    "                           'source_url',\n",
    "                           'country']]\n",
    "\n",
    "len(license_no_operators)"
   ]
  },
  {
   "cell_type": "markdown",
   "id": "c8af25ed",
   "metadata": {},
   "source": [
    "## License - NO"
   ]
  },
  {
   "cell_type": "code",
   "execution_count": null,
   "id": "567c359d",
   "metadata": {},
   "outputs": [],
   "source": [
    "#read licensees\n",
    "\n",
    "df_no = pd.read_csv(PATH + 'license_and_production/no_licence.csv')\n",
    "len(df)"
   ]
  },
  {
   "cell_type": "code",
   "execution_count": null,
   "id": "e002c14a",
   "metadata": {},
   "outputs": [],
   "source": [
    "df_no.columns"
   ]
  },
  {
   "cell_type": "code",
   "execution_count": null,
   "id": "4270bcc8",
   "metadata": {},
   "outputs": [],
   "source": [
    "df_no.sample(5)"
   ]
  },
  {
   "cell_type": "code",
   "execution_count": null,
   "id": "b5f36973",
   "metadata": {},
   "outputs": [],
   "source": [
    "# transform dates\n",
    "\n",
    "df_no['prlLicenseeDateValidFrom'] = pd.to_datetime(df_no['prlLicenseeDateValidFrom']).dt.strftime('%Y-%m-%d')\n",
    "df_no['prlLicenseeDateValidTo'] = pd.to_datetime(df_no['prlLicenseeDateValidTo']).dt.strftime('%Y-%m-%d')"
   ]
  },
  {
   "cell_type": "code",
   "execution_count": null,
   "id": "fac3965d",
   "metadata": {},
   "outputs": [],
   "source": [
    "#Rename columns\n",
    "\n",
    "df_no = df_no.rename(columns={'prlName': 'name',\n",
    "                              'prlNpdidLicence': 'code',\n",
    "                              })\n",
    "\n",
    "# add country and source columns\n",
    "\n",
    "df_no['country'] = 'Norway'\n",
    "df_no['source_url'] = 'https://factpages.npd.no/en/licence'"
   ]
  },
  {
   "cell_type": "code",
   "execution_count": null,
   "id": "30e037bb",
   "metadata": {},
   "outputs": [],
   "source": [
    "df_no2 = pd.read_excel(PATH + 'license_and_production/no_fields.xlsx')"
   ]
  },
  {
   "cell_type": "code",
   "execution_count": null,
   "id": "7955c468",
   "metadata": {},
   "outputs": [],
   "source": [
    "df_no2 = df_no2.rename(columns={'Owner name': 'name',\n",
    "                        'Owner kind': 'type',\n",
    "                        'NPDID owner': 'code',\n",
    "                        'Current activity status': 'status'})"
   ]
  },
  {
   "cell_type": "code",
   "execution_count": null,
   "id": "5b1d8f23",
   "metadata": {},
   "outputs": [],
   "source": [
    "license_no = pd.merge(df_no[['name', 'code', 'country', 'source_url']],\n",
    "                      df_no2[['code', 'type', 'status']],\n",
    "                      on = 'code',\n",
    "                      how = 'right'\n",
    "                     \n",
    "                     )"
   ]
  },
  {
   "cell_type": "code",
   "execution_count": null,
   "id": "13c064f9",
   "metadata": {},
   "outputs": [],
   "source": [
    "len(license_no.dropna(subset=['type']))"
   ]
  },
  {
   "cell_type": "code",
   "execution_count": null,
   "id": "7d7a19c6",
   "metadata": {},
   "outputs": [],
   "source": [
    "license_no[license_no.code == 20900.0]"
   ]
  },
  {
   "cell_type": "code",
   "execution_count": null,
   "id": "1b3e5016",
   "metadata": {},
   "outputs": [],
   "source": [
    "license_no.status.value_counts()"
   ]
  },
  {
   "cell_type": "code",
   "execution_count": null,
   "id": "2fc93381",
   "metadata": {},
   "outputs": [],
   "source": [
    "df = pd.read_excel(PATH + 'license_and_production/no_field_description.xlsx')"
   ]
  },
  {
   "cell_type": "code",
   "execution_count": null,
   "id": "1fe16922",
   "metadata": {},
   "outputs": [],
   "source": [
    "df.head()"
   ]
  },
  {
   "cell_type": "code",
   "execution_count": null,
   "id": "abbf8f6b",
   "metadata": {},
   "outputs": [],
   "source": [
    "df['Field name'].nunique()"
   ]
  },
  {
   "cell_type": "markdown",
   "id": "7b5ccb40",
   "metadata": {},
   "source": [
    "## United Kingdom"
   ]
  },
  {
   "cell_type": "code",
   "execution_count": null,
   "id": "1d76255a",
   "metadata": {},
   "outputs": [],
   "source": [
    "# import file with current license information\n",
    "\n",
    "df = pd.read_excel(PATH + 'license_and_production/uk_license_companies.xlsx')\n",
    "len(df)"
   ]
  },
  {
   "cell_type": "code",
   "execution_count": null,
   "id": "0d622346",
   "metadata": {},
   "outputs": [],
   "source": [
    "#rename columns\n",
    "\n",
    "df = df.rename(columns={'group_name': 'licensee_parent',\n",
    "                      'company': 'licensee_name',\n",
    "                      'Block / Subarea': 'asset',\n",
    "                      'Interest': 'licensee_interest',\n",
    "                      'Operator': 'operator_name',\n",
    "                      'Licence': 'license_name'})\n",
    "\n",
    "# create country and source columns\n",
    "\n",
    "df['country'] = 'United Kingdom'\n",
    "df['source_url'] = 'https://www.nstauthority.co.uk/data-centre/data-downloads-and-publications/licence-data/'\n",
    "\n",
    "# clean up interest\n",
    "\n",
    "df['licensee_interest'] = df['licensee_interest'].str.replace('%', '', regex=False)\n",
    "len(df)"
   ]
  },
  {
   "cell_type": "code",
   "execution_count": null,
   "id": "f71e4545",
   "metadata": {},
   "outputs": [],
   "source": [
    "# create current licensee df\n",
    "\n",
    "license_uk_licensees_current = df[['licensee_name',\n",
    "                           'asset',\n",
    "                           'licensee_interest',\n",
    "                           'license_name',\n",
    "                           'country',\n",
    "                           'source_url']]\n",
    "\n",
    "# create df with parent companies\n",
    "\n",
    "license_uk_parent_current = df[['licensee_parent',\n",
    "                        'licensee_name']]\n",
    "\n",
    "# create df with current operators\n",
    "\n",
    "license_uk_operators_current = df[['operator_name',\n",
    "                                   'license_name',\n",
    "                                   'country',\n",
    "\n",
    "                                   'source_url']]"
   ]
  },
  {
   "cell_type": "code",
   "execution_count": null,
   "id": "355bcbc1",
   "metadata": {},
   "outputs": [],
   "source": [
    "# import historical license data\n",
    "\n",
    "df = pd.read_excel(PATH + 'license_and_production/uk_2014-2020-field-equity-shares-june-2021.xlsx', skiprows=2)\n",
    "len(df)"
   ]
  },
  {
   "cell_type": "code",
   "execution_count": null,
   "id": "9a0a9334",
   "metadata": {},
   "outputs": [],
   "source": [
    "# rename columns\n",
    "\n",
    "df = df.rename(columns={'Organisation Name': 'licensee_name',\n",
    "                      'Percentage Holding': 'licensee_interest',\n",
    "                      'Start Date': 'license_start_date',\n",
    "                      'End Date': 'license_end_date',\n",
    "                      'Field Name': 'license_name'})\n",
    "\n",
    "# create country and source columns\n",
    "\n",
    "df['country'] = 'United Kingdom'\n",
    "df['source_url'] = 'https://www.nstauthority.co.uk/data-centre/data-downloads-and-publications/licence-data/'\n",
    "\n",
    "len(df)"
   ]
  },
  {
   "cell_type": "code",
   "execution_count": null,
   "id": "aacfff59",
   "metadata": {},
   "outputs": [],
   "source": [
    "# create historical licensee df\n",
    "\n",
    "license_uk_licensees_hist = df[['licensee_name', \n",
    "                                   'license_name',\n",
    "                                   'license_start_date',\n",
    "                                   'license_end_date',\n",
    "                                   'country',\n",
    "                                   'source_url']]"
   ]
  },
  {
   "cell_type": "code",
   "execution_count": null,
   "id": "86f0f377",
   "metadata": {},
   "outputs": [],
   "source": [
    "# filter out operator info from df and change column name\n",
    "\n",
    "df_operator = df[df['Operator Flag'] == 'Y']\n",
    "df_operator = df_operator.rename(columns={'licensee_name': 'operator_name'})\n",
    "\n",
    "# create historical operator df\n",
    "\n",
    "license_uk_operators_hist = df_operator[['operator_name',\n",
    "                                         'license_start_date',\n",
    "                                         'license_end_date',\n",
    "                                         'country',\n",
    "                                         'source_url']]\n",
    "\n"
   ]
  },
  {
   "cell_type": "code",
   "execution_count": null,
   "id": "1bfc10b5",
   "metadata": {},
   "outputs": [],
   "source": [
    "# concat licensee dfs - uk might contain duplicates\n",
    "\n",
    "licensees = pd.concat([license_uk_licensees_current, \n",
    "                       license_uk_licensees_hist, \n",
    "                       license_no_licensees, \n",
    "                       license_nl_licensees])"
   ]
  },
  {
   "cell_type": "code",
   "execution_count": null,
   "id": "07dbc3e4",
   "metadata": {},
   "outputs": [],
   "source": [
    "# concat operators dfs - uk might contain duplicates\n",
    "\n",
    "operators = pd.concat([license_uk_operators_hist, \n",
    "                       license_uk_operators_current,\n",
    "                       license_no_operators, \n",
    "                       license_nl_operators])"
   ]
  },
  {
   "cell_type": "code",
   "execution_count": null,
   "id": "2c957d42",
   "metadata": {},
   "outputs": [],
   "source": [
    "# concat parent dfs\n",
    "\n",
    "parents = pd.concat([license_uk_parent_current])"
   ]
  },
  {
   "cell_type": "markdown",
   "id": "4173c869",
   "metadata": {},
   "source": [
    "### Clean companies - licensees and operators"
   ]
  },
  {
   "cell_type": "code",
   "execution_count": null,
   "id": "889cba5c",
   "metadata": {},
   "outputs": [],
   "source": [
    "licensees.licensee_name.value_counts()[40:60]"
   ]
  },
  {
   "cell_type": "code",
   "execution_count": null,
   "id": "de49ebcc",
   "metadata": {},
   "outputs": [],
   "source": [
    "licensees[licensees['licensee_name'].str.contains('Gazpr', na=False)]"
   ]
  },
  {
   "cell_type": "code",
   "execution_count": null,
   "id": "f91ba350",
   "metadata": {},
   "outputs": [],
   "source": []
  },
  {
   "cell_type": "code",
   "execution_count": null,
   "id": "4cb72e8a",
   "metadata": {},
   "outputs": [],
   "source": []
  },
  {
   "cell_type": "markdown",
   "id": "8470ec61",
   "metadata": {},
   "source": [
    "## Production - Netherlands"
   ]
  },
  {
   "cell_type": "code",
   "execution_count": null,
   "id": "8a7b1c00",
   "metadata": {},
   "outputs": [],
   "source": [
    "def parse_commodity(commodity):\n",
    "    dfs = []\n",
    "    for file in glob.glob(PATH + 'license_and_production/nl_' + commodity + '_produced_*.xlsx'):\n",
    "        df = pd.read_excel(file, skiprows=1, skipfooter=1)\n",
    "        df['total_1000_sm3'] = df.iloc[:, -12:].sum(axis=1)\n",
    "        if commodity == 'oil':\n",
    "            df['total_1000_sm3'] = df['total_1000_sm3'] / 1000\n",
    "        df['commodity'] = commodity\n",
    "        df = df.dropna(subset=['YEAR'])\n",
    "        df.YEAR = df.YEAR.astype('int')\n",
    "        df = df.rename(columns={'LICENCE': 'license_name',\n",
    "                                'FIELD': 'license_name',\n",
    "                            'OPERATOR': 'operator_name',\n",
    "                            'YEAR': 'production_year'\n",
    "                           })\n",
    "\n",
    "        nl_production = df[['license_name', \n",
    "                        'operator_name',\n",
    "                        'commodity',\n",
    "                        'production_year',\n",
    "                        'total_1000_sm3'\n",
    "                        ]]\n",
    "        dfs.append(nl_production)\n",
    "\n",
    "    df = pd.concat(dfs)\n",
    "    return df\n"
   ]
  },
  {
   "cell_type": "code",
   "execution_count": null,
   "id": "97bee181",
   "metadata": {},
   "outputs": [],
   "source": [
    "df = pd.concat([parse_commodity('gas'), parse_commodity('oil')])"
   ]
  },
  {
   "cell_type": "code",
   "execution_count": null,
   "id": "d133dd61",
   "metadata": {},
   "outputs": [],
   "source": [
    "df"
   ]
  },
  {
   "cell_type": "markdown",
   "id": "6679e370",
   "metadata": {},
   "source": [
    "## Production - Norway"
   ]
  },
  {
   "cell_type": "code",
   "execution_count": null,
   "id": "a8fe7c8a",
   "metadata": {},
   "outputs": [],
   "source": [
    "df_field_licensee = pd.read_excel(PATH + 'license_and_production/no_field_licensee_hst.xlsx')\n",
    "len(df_field_licensee)"
   ]
  },
  {
   "cell_type": "code",
   "execution_count": null,
   "id": "ffbe3a96",
   "metadata": {},
   "outputs": [],
   "source": [
    "df_field_licensee.head()"
   ]
  },
  {
   "cell_type": "code",
   "execution_count": null,
   "id": "d6c167c4",
   "metadata": {},
   "outputs": [],
   "source": [
    "df_field_licensee['Owner name'].value_counts()"
   ]
  },
  {
   "cell_type": "code",
   "execution_count": null,
   "id": "3631384f",
   "metadata": {},
   "outputs": [],
   "source": [
    "df_field_operator = pd.read_excel(PATH + 'license_and_production/no_field_operator_hst.xlsx')\n",
    "len(df_field_operator)"
   ]
  },
  {
   "cell_type": "code",
   "execution_count": null,
   "id": "f709417f",
   "metadata": {},
   "outputs": [],
   "source": [
    "df_field_operator.head()"
   ]
  },
  {
   "cell_type": "code",
   "execution_count": null,
   "id": "95da5d56",
   "metadata": {},
   "outputs": [],
   "source": [
    "df_field_owner = pd.read_excel(PATH + 'license_and_production/no_field_owner_hst.xlsx')\n",
    "len(df_field_owner)"
   ]
  },
  {
   "cell_type": "code",
   "execution_count": null,
   "id": "84fa15a8",
   "metadata": {},
   "outputs": [],
   "source": [
    "df_field_owner.head()"
   ]
  },
  {
   "cell_type": "code",
   "execution_count": null,
   "id": "a1563318",
   "metadata": {},
   "outputs": [],
   "source": [
    "df_field_owner[df_field_owner['NPDID owner'] == ]"
   ]
  },
  {
   "cell_type": "code",
   "execution_count": null,
   "id": "e7becc27",
   "metadata": {},
   "outputs": [],
   "source": [
    "df_field_owner[df_field_owner['Owner name'].str.contains('STATFJORD ØST UNIT')]"
   ]
  },
  {
   "cell_type": "code",
   "execution_count": null,
   "id": "b0d8887c",
   "metadata": {},
   "outputs": [],
   "source": [
    "df_field_production = pd.read_excel(PATH + 'license_and_production/no_field_production_yearly.xlsx')\n",
    "len(df_field_production)"
   ]
  },
  {
   "cell_type": "code",
   "execution_count": null,
   "id": "d963fb63",
   "metadata": {},
   "outputs": [],
   "source": [
    "df_field_production.tail()"
   ]
  },
  {
   "cell_type": "code",
   "execution_count": null,
   "id": "5c87fdd6",
   "metadata": {},
   "outputs": [],
   "source": [
    "df_field_production = df_field_production\\\n",
    "                        .rename(columns={'Field (Discovery)': 'license_name',\n",
    "                                         'Year': 'production_year',\n",
    "                                         'Net - oil \\n[mill Sm3]': 'total_oil_1000_sm3',\n",
    "                                         'Net - gas \\n[bill Sm3]': 'total_gas_1000_sm3'})\n",
    "df_field_production['total_oil_1000_sm3'] = df_field_production['total_oil_1000_sm3'] * 1000\n",
    "df_field_production['total_gas_1000_sm3'] = df_field_production['total_gas_1000_sm3'] * 1000000\n",
    "\n",
    "df_oil = df_field_production[['license_name',\n",
    "                              'production_year',\n",
    "                              'total_oil_1000_sm3']]\n",
    "\n",
    "df_oil['commodity'] = 'oil'\n",
    "df_oil = df_oil.rename(columns={'total_oil_1000_sm3': 'total_1000_sm3'})\n",
    "\n",
    "df_gas = df_field_production[['license_name',\n",
    "                              'production_year',\n",
    "                              'total_gas_1000_sm3']]\n",
    "\n",
    "df_gas['commodity'] = 'gas'\n",
    "df_gas = df_gas.rename(columns={'total_gas_1000_sm3': 'total_1000_sm3'})\n",
    "\n",
    "df = pd.concat([df_oil, df_gas])\n",
    "\n"
   ]
  },
  {
   "cell_type": "code",
   "execution_count": null,
   "id": "c8383342",
   "metadata": {},
   "outputs": [],
   "source": [
    "df.tail()"
   ]
  },
  {
   "cell_type": "code",
   "execution_count": null,
   "id": "f2d6930d",
   "metadata": {},
   "outputs": [],
   "source": []
  }
 ],
 "metadata": {
  "kernelspec": {
   "display_name": "general",
   "language": "python",
   "name": "general"
  },
  "language_info": {
   "codemirror_mode": {
    "name": "ipython",
    "version": 3
   },
   "file_extension": ".py",
   "mimetype": "text/x-python",
   "name": "python",
   "nbconvert_exporter": "python",
   "pygments_lexer": "ipython3",
   "version": "3.9.4"
  }
 },
 "nbformat": 4,
 "nbformat_minor": 5
}
