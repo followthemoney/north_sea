{
 "cells": [
  {
   "cell_type": "code",
   "execution_count": 59,
   "id": "356120c5-70b6-4258-b232-4e86b88076d8",
   "metadata": {
    "tags": []
   },
   "outputs": [
    {
     "data": {
      "text/plain": [
       "True"
      ]
     },
     "execution_count": 59,
     "metadata": {},
     "output_type": "execute_result"
    }
   ],
   "source": [
    "import geopandas as gpd\n",
    "import os \n",
    "import pandas as pd\n",
    "from sqlalchemy import create_engine, text\n",
    "from pathlib import Path\n",
    "from dotenv import load_dotenv\n",
    "import fiona\n",
    "\n",
    "env_path = Path('.') / '.env'\n",
    "load_dotenv(dotenv_path=env_path)\n",
    "#os.environ['PROJ_LIB'] = '/opt/conda/share/proj'"
   ]
  },
  {
   "cell_type": "code",
   "execution_count": 60,
   "id": "1145e2c0-a863-4f77-8bc0-1ee69692f3c5",
   "metadata": {
    "tags": []
   },
   "outputs": [],
   "source": [
    "PATH_RAW = os.environ.get('PATH_RAW')\n",
    "POSTGRES = os.environ.get('POSTGRES_DB')"
   ]
  },
  {
   "cell_type": "code",
   "execution_count": 61,
   "id": "b4e3e695-9884-463f-8fbc-aa6fdb3ff518",
   "metadata": {
    "tags": []
   },
   "outputs": [],
   "source": [
    "# Instantiate connection\n",
    "\n",
    "engine = create_engine(POSTGRES, connect_args={'options': '-csearch_path={}'.format('dt')})\n",
    "connection = engine.connect()"
   ]
  },
  {
   "cell_type": "markdown",
   "id": "b015bd97-1c3f-4e2f-9b42-a0d6cfedaf66",
   "metadata": {},
   "source": [
    "The goal of this notebook is to create a dataset with oil and gas platforms and their infrstructure. The output should be several geojson files for use in Flourish.\n",
    "\n",
    "For platforms there multiple datasets:\n",
    "1. EMODnet - contains all platforms, alsow wit decommissioned ones, but is not fully up to date. \n",
    "2. National datasets, that have a very different structure, but has been normalised by me earlier, except for wellbores. This dataset is the most current one.\n",
    "\n",
    "Data should be current up to 2023-03-01.\n",
    "\n",
    "Some warnings:\n",
    "- Altough the data is from official sources, it's quite messy and the datasets contain different kinds of data. Some normalization was necessary so I had to make some choices. These choices are made explicit in the code.\n",
    "- The company data (operators, licence holders) have been normalized as well, where different sources were used, like the national gas and oil agencies, but also manually linking daughter and parent companies, using company registries and news articles. That process might lead to some errors, so if you use this data, you might need to check, for instance at [Mapstand](https://app.mapstand.com/). Up until now, I haven't found any mismatches with the data from Mapstand (we largely use the same sources), but just be careful. "
   ]
  },
  {
   "cell_type": "markdown",
   "id": "657ce871-682a-441e-b4ce-3466a4a59bb1",
   "metadata": {},
   "source": [
    "## Overviews\n",
    "\n",
    "We probably need some overviews of infrastructure, like all platforms, pipelines, structures, cables, etc."
   ]
  },
  {
   "cell_type": "code",
   "execution_count": 62,
   "id": "b2d7f19e-cec9-486c-b3c0-ac03276304a6",
   "metadata": {
    "tags": []
   },
   "outputs": [],
   "source": [
    "# Import data\n",
    "\n",
    "infra_emod = gpd.GeoDataFrame.from_postgis(text('SELECT * FROM int_infra_emodnet'), connection, geom_col='geometry')\n",
    "infra = gpd.GeoDataFrame.from_postgis(text('SELECT * FROM int_infra'), connection, geom_col='geometry')\n",
    "pipes = gpd.GeoDataFrame.from_postgis(text('SELECT * FROM int_pipes'), connection, geom_col='geometry')"
   ]
  },
  {
   "cell_type": "markdown",
   "id": "58e2b14a-a1f2-4056-90a4-4253281df795",
   "metadata": {},
   "source": [
    "### Clean infrastructure emodnet"
   ]
  },
  {
   "cell_type": "code",
   "execution_count": 5,
   "id": "c02de43f-a0f7-45f3-a985-470d058a22c5",
   "metadata": {
    "tags": []
   },
   "outputs": [],
   "source": [
    "# Clean emod data \n",
    "\n",
    "new_cols = {'platformid': 'feature_id',\n",
    "            'current_status': 'status',\n",
    "            'category': 'type',\n",
    "            'country': 'source_country'}\n",
    "\n",
    "status = {'Operational': 'ACTIVE',\n",
    "          'Closed down': 'INACTIVE',\n",
    "          'Decommissioned': 'REMOVED',\n",
    "          'Under construction': 'PLANNED',\n",
    "          'Removed': 'REMOVED'}\n",
    "\n",
    "country = {'Denmark': 'DK',\n",
    "           'Germany': 'DE',\n",
    "           'Belgium': 'BE'}"
   ]
  },
  {
   "cell_type": "code",
   "execution_count": 6,
   "id": "c50f1f48-f608-488a-8838-e4a5c15600c4",
   "metadata": {
    "tags": []
   },
   "outputs": [],
   "source": [
    "infra_emod['status_normalised'] = infra_emod.current_status.map(status)\n",
    "infra_emod.country = infra_emod.country.map(country)\n",
    "infra_emod = infra_emod.rename(columns=new_cols)\n",
    "infra_emod = infra_emod[infra_emod.source_country.isin(['BE', 'DK', 'DE'])].copy()\n",
    "\n",
    "# Drop columns\n",
    "\n",
    "to_drop = ['index', 'id', 'function', 'location_blocks', 'weight_sub', \n",
    "           'weight_top', 'water_depth', 'coast_dist', 'name_db']\n",
    "\n",
    "infra_emod = infra_emod.drop(to_drop, axis=1)"
   ]
  },
  {
   "cell_type": "code",
   "execution_count": 7,
   "id": "19027456-1e93-491e-a8ed-16b50351c604",
   "metadata": {
    "tags": []
   },
   "outputs": [
    {
     "data": {
      "text/plain": [
       "68"
      ]
     },
     "execution_count": 7,
     "metadata": {},
     "output_type": "execute_result"
    }
   ],
   "source": [
    "# Select relevant platforms\n",
    "\n",
    "infra_emod['type'] = infra_emod['type'].fillna('UNKNOWN')\n",
    "\n",
    "to_keep = ['SUBSEA STEEL', 'PLATFORM', 'FIXED STEEL', 'FLOATING STEEL', 'GRAVITY-BASED CONCRETE', 'FPSO', 'FLOATING-CONCRETE'] # FPSO is certainly debatable\n",
    "\n",
    "infra_emod = infra_emod[infra_emod['type'].isin(to_keep)].copy()\n",
    "\n",
    "infra_emod['type_normalised'] = 'PLATFORM'\n",
    "\n",
    "len(infra_emod)"
   ]
  },
  {
   "cell_type": "code",
   "execution_count": 8,
   "id": "12c06ae2-6b3f-4b1e-9411-ae2060c24245",
   "metadata": {
    "tags": []
   },
   "outputs": [
    {
     "data": {
      "text/plain": [
       "ACTIVE      63\n",
       "INACTIVE     3\n",
       "PLANNED      2\n",
       "Name: status_normalised, dtype: int64"
      ]
     },
     "execution_count": 8,
     "metadata": {},
     "output_type": "execute_result"
    }
   ],
   "source": [
    "infra_emod.status_normalised.value_counts()"
   ]
  },
  {
   "cell_type": "markdown",
   "id": "3f08b1ba-def4-4518-ac2c-6be633b7ac01",
   "metadata": {},
   "source": [
    "### Clean infrastructure national sources\n",
    "\n",
    "We have to make some choices on what to include, because there are many more structures in the datasets, like buoys. We don't want those. "
   ]
  },
  {
   "cell_type": "code",
   "execution_count": 9,
   "id": "02d93445-7724-4d6c-82cf-b6df434de49b",
   "metadata": {
    "tags": []
   },
   "outputs": [
    {
     "data": {
      "text/plain": [
       "721"
      ]
     },
     "execution_count": 9,
     "metadata": {},
     "output_type": "execute_result"
    }
   ],
   "source": [
    "# Drop columns for infra\n",
    "\n",
    "infra = infra.drop(['level_0', 'index'], axis=1)\n",
    "\n",
    "# Filter out platforms \n",
    "\n",
    "keep = ['PLATFORM', 'MONOTOWER', 'FPSO', 'FSO', 'CONDEEP 4 SHAFTS', 'CONDEEP 3 SHAFTS', 'JACKET 12 LEGS', 'JACKET 8 LEGS', 'JACKET 4 LEGS', 'JACKET 6 LEGS',\n",
    "       'CONDEEP MONOSHAFT', 'TLP STEEL', 'DORIS', 'TLP CONCRETE', 'JACKET TRIPOD', 'SEMISUB STEEL', 'SEMISUB CONCRETE', 'JACK-UP 3 LEGS', 'MOPUSTOR', 'FSU', 'SPAR']\n",
    "\n",
    "infra_platforms = infra[infra.type_normalised.isin(keep)].copy()\n",
    "\n",
    "len(infra_platforms)"
   ]
  },
  {
   "cell_type": "code",
   "execution_count": 10,
   "id": "ed168647-621f-4701-8699-4c916bd97556",
   "metadata": {
    "tags": []
   },
   "outputs": [
    {
     "data": {
      "text/plain": [
       "ACTIVE            553\n",
       "REMOVED           105\n",
       "NOT IN USE         41\n",
       "ABANDONED          14\n",
       "PARTLY REMOVED      5\n",
       "INACTIVE            2\n",
       "PLANNED             1\n",
       "Name: status_normalised, dtype: int64"
      ]
     },
     "execution_count": 10,
     "metadata": {},
     "output_type": "execute_result"
    }
   ],
   "source": [
    "infra_platforms.status_normalised.value_counts()"
   ]
  },
  {
   "cell_type": "markdown",
   "id": "52b6a537-a647-46cf-9971-c92408a0a2a8",
   "metadata": {
    "tags": []
   },
   "source": [
    "### Merge dataset\n",
    "\n",
    "Add German, Belgian and Danish platforms"
   ]
  },
  {
   "cell_type": "code",
   "execution_count": 11,
   "id": "15577a52-6afb-4b71-9558-4b29208df7da",
   "metadata": {
    "tags": []
   },
   "outputs": [],
   "source": [
    "# Set to the same CRS\n",
    "\n",
    "infra_emod = infra_emod.to_crs(25831)"
   ]
  },
  {
   "cell_type": "code",
   "execution_count": 12,
   "id": "3bd0abc1-d634-4327-93cf-a55ca87b495e",
   "metadata": {
    "tags": []
   },
   "outputs": [
    {
     "data": {
      "text/plain": [
       "789"
      ]
     },
     "execution_count": 12,
     "metadata": {},
     "output_type": "execute_result"
    }
   ],
   "source": [
    "platforms = pd.concat([infra_emod, infra_platforms])\n",
    "len(platforms)"
   ]
  },
  {
   "cell_type": "code",
   "execution_count": 13,
   "id": "65341cfb-5b4d-4831-98fe-0293ebfcc9ae",
   "metadata": {
    "tags": []
   },
   "outputs": [
    {
     "data": {
      "text/plain": [
       "67"
      ]
     },
     "execution_count": 13,
     "metadata": {},
     "output_type": "execute_result"
    }
   ],
   "source": [
    "# How many duplicates? \n",
    "\n",
    "len(platforms[platforms.name.duplicated()])"
   ]
  },
  {
   "cell_type": "code",
   "execution_count": 72,
   "id": "b29d8774-7d45-4148-bb8e-fafb82a79f7b",
   "metadata": {
    "tags": []
   },
   "outputs": [
    {
     "data": {
      "text/plain": [
       "722"
      ]
     },
     "execution_count": 72,
     "metadata": {},
     "output_type": "execute_result"
    }
   ],
   "source": [
    "# Drop them\n",
    "\n",
    "platforms = platforms.drop_duplicates(subset='name', keep='first')\n",
    "len(platforms)"
   ]
  },
  {
   "cell_type": "markdown",
   "id": "bdda32f8-db8c-493f-a1d4-6eed69da959e",
   "metadata": {},
   "source": [
    "### Get EEZ data\n",
    "\n",
    "Some data on countries is incomplete and we have some platforms in the Irish Sea that should be excluded"
   ]
  },
  {
   "cell_type": "code",
   "execution_count": 15,
   "id": "87a2cf83-ac32-45e4-9036-03c7e5dec934",
   "metadata": {
    "tags": []
   },
   "outputs": [
    {
     "data": {
      "text/plain": [
       "['eez_v11']"
      ]
     },
     "execution_count": 15,
     "metadata": {},
     "output_type": "execute_result"
    }
   ],
   "source": [
    "# Get layer name\n",
    "\n",
    "fiona.listlayers('../../data/Spatial/INT/World_EEZ_v11_20191118_gpkg/eez_v11.gpkg')"
   ]
  },
  {
   "cell_type": "code",
   "execution_count": 16,
   "id": "86ef043c-71f8-450a-a6d8-a87f34010240",
   "metadata": {
    "tags": []
   },
   "outputs": [],
   "source": [
    "eez = gpd.read_file('../../data/Spatial/INT/World_EEZ_v11_20191118_gpkg/eez_v11.gpkg', layer='eez_v11')"
   ]
  },
  {
   "cell_type": "code",
   "execution_count": 17,
   "id": "a9f6baed-0598-4ca5-85d6-264ac8ecc9b2",
   "metadata": {
    "tags": []
   },
   "outputs": [],
   "source": [
    "# Select relevant countries by id\n",
    "\n",
    "countries = [5668.0, 5696.0, 5686.0, 5674.0, 5669.0, 3293.0]\n",
    "\n",
    "eez = eez[eez.MRGID.isin(countries)][['ISO_TER1', 'geometry']].copy()"
   ]
  },
  {
   "cell_type": "code",
   "execution_count": 18,
   "id": "4d69c9fd-8f74-4ad1-90dd-1d790a93bd86",
   "metadata": {
    "tags": []
   },
   "outputs": [],
   "source": [
    "countries = {'BEL': 'BE', \n",
    "             'NLD': 'NL',\n",
    "             'DEU': 'DE',\n",
    "             'DNK': 'DK',\n",
    "             'GBR': 'UK',\n",
    "             'NOR': 'NO'}\n",
    "\n",
    "eez = eez.rename(columns={'ISO_TER1': 'country'})\n",
    "\n",
    "eez.country = eez.country.map(countries)\n",
    "eez = eez.reset_index()\n"
   ]
  },
  {
   "cell_type": "code",
   "execution_count": 19,
   "id": "e247e26d-433b-4b2f-bf9f-d555271396ba",
   "metadata": {
    "tags": []
   },
   "outputs": [],
   "source": [
    "eez.to_file('../data/visuals/eez.geojson', driver='GeoJSON')"
   ]
  },
  {
   "cell_type": "code",
   "execution_count": 20,
   "id": "456f23e3-cb7f-42cd-a302-98c2dee43be1",
   "metadata": {
    "tags": []
   },
   "outputs": [],
   "source": [
    "# Set new crs for platforms for joining\n",
    "\n",
    "eez = eez.to_crs(25831)\n",
    "\n",
    "# Spatial join\n",
    "\n",
    "platforms = gpd.sjoin(platforms, eez, predicate='intersects', how='left')\n",
    "\n",
    "# Drop columns\n",
    "\n",
    "platforms = platforms.drop(['index', 'index_right', 'source_country'], axis=1)"
   ]
  },
  {
   "cell_type": "code",
   "execution_count": 21,
   "id": "5a9b39f5-f555-4c00-be36-981f49b7751e",
   "metadata": {
    "tags": []
   },
   "outputs": [],
   "source": [
    "platforms.status_normalised = platforms.status_normalised.str.replace('NOT IN USE', 'INACTIVE')"
   ]
  },
  {
   "cell_type": "code",
   "execution_count": 22,
   "id": "bf5a3180-c98a-4944-92a6-cf9ac451d352",
   "metadata": {
    "tags": []
   },
   "outputs": [],
   "source": [
    "# Create radius geometry\n",
    "\n",
    "platforms['radius'] = platforms.geometry.buffer(500)"
   ]
  },
  {
   "cell_type": "code",
   "execution_count": 23,
   "id": "a008a31c-5271-47dd-bb88-2616f77f48c7",
   "metadata": {
    "tags": []
   },
   "outputs": [],
   "source": [
    "# Write radius to file\n",
    "radius = platforms.drop('geometry', axis=1)"
   ]
  },
  {
   "cell_type": "code",
   "execution_count": 24,
   "id": "4860243a-2f82-4afc-b522-804e113ca9a4",
   "metadata": {
    "tags": []
   },
   "outputs": [],
   "source": [
    "radius = radius.set_geometry('radius')"
   ]
  },
  {
   "cell_type": "code",
   "execution_count": 25,
   "id": "a279332d-e4fa-4983-865d-be1dbd289cbf",
   "metadata": {
    "tags": []
   },
   "outputs": [],
   "source": [
    "# Write to geojson\n",
    "radius = radius.to_crs(4326)\n",
    "radius.to_file('../data/visuals/radius.geojson', driver='GeoJSON')"
   ]
  },
  {
   "cell_type": "markdown",
   "id": "74c480f3-9235-4489-9d2f-2b7cc1ec104a",
   "metadata": {},
   "source": [
    "### Get wellbores"
   ]
  },
  {
   "cell_type": "code",
   "execution_count": 68,
   "id": "d90c10ba-82ea-4155-866b-bd7604e7a78a",
   "metadata": {
    "tags": []
   },
   "outputs": [],
   "source": [
    "engine = create_engine(POSTGRES, connect_args={'options': '-csearch_path={}'.format('public')})\n",
    "connection = engine.connect()"
   ]
  },
  {
   "cell_type": "code",
   "execution_count": 69,
   "id": "085fe772-478e-40c9-9bd6-9540d26b7bb8",
   "metadata": {
    "tags": []
   },
   "outputs": [
    {
     "data": {
      "text/plain": [
       "27267"
      ]
     },
     "execution_count": 69,
     "metadata": {},
     "output_type": "execute_result"
    }
   ],
   "source": [
    "# Import data\n",
    "\n",
    "wellbores_int = gpd.read_file('../data/shapes/EMODnet_HA_OG_Wells_20230222/EMODnet_HA_OG_Wells_20230222.shp')\n",
    "len(wellbores_int)"
   ]
  },
  {
   "cell_type": "code",
   "execution_count": 70,
   "id": "47475953-180d-4736-816f-5bbefbbd9ae4",
   "metadata": {
    "tags": []
   },
   "outputs": [
    {
     "data": {
      "text/plain": [
       "1012"
      ]
     },
     "execution_count": 70,
     "metadata": {},
     "output_type": "execute_result"
    }
   ],
   "source": [
    "# Filter countries to get Denmark, Germany and Belgium\n",
    "\n",
    "countries = ['Denmark', 'Germany', 'Belgium']\n",
    "int_selection = wellbores_int[wellbores_int.COUNTRY.isin(countries)].copy()\n",
    "int_selection.columns = int_selection.columns.str.lower()\n",
    "len(int_selection)"
   ]
  },
  {
   "cell_type": "code",
   "execution_count": 71,
   "id": "ea33d92f-14f9-489a-afbb-6f747b37d73e",
   "metadata": {
    "tags": []
   },
   "outputs": [],
   "source": [
    "int_selection.to_postgis('int_wellbores', connection)"
   ]
  },
  {
   "cell_type": "code",
   "execution_count": 29,
   "id": "69ec1296-7533-49f0-a30d-a6af0609f14e",
   "metadata": {
    "tags": []
   },
   "outputs": [],
   "source": [
    "no = gpd.read_file('../../data/Spatial/NO/NPD_FactMapsData_v3_0.gdb/', layer='WELLBORE')"
   ]
  },
  {
   "cell_type": "code",
   "execution_count": 30,
   "id": "dcff9948-5885-41dc-a906-64bda8089fe1",
   "metadata": {
    "tags": []
   },
   "outputs": [],
   "source": [
    "cols = {'wlbWellboreName': 'name', \n",
    "        'wlbEntryDate': 'start_date',\n",
    "        'wlbWellType': 'type', \n",
    "        'wlbDrillingOperator': 'operator', \n",
    "        'wlbCompletionDate': 'end_date', \n",
    "        'wlbContent': 'content', \n",
    "        'wlbPurpose': 'purpose', \n",
    "        'wlbStatus': 'status', \n",
    "        'wlbPluggedDate': 'plugged_date', \n",
    "        'wlbPluggedAbandonDate': 'plugged_abandoned_date', \n",
    "        'geometry': 'geometry'}\n",
    "\n",
    "no = no.rename(columns=cols)\n",
    "\n",
    "no_selection = no[cols.values()].copy()"
   ]
  },
  {
   "cell_type": "code",
   "execution_count": 31,
   "id": "58d3ad6f-16b5-432c-8d5f-5872d2af12e5",
   "metadata": {
    "tags": []
   },
   "outputs": [],
   "source": [
    "no_selection.start_date = pd.to_datetime(no_selection.start_date).dt.year.astype('Int64')\n",
    "no_selection.end_date = pd.to_datetime(no_selection.end_date).dt.year.astype('Int64')\n",
    "no_selection.plugged_date = pd.to_datetime(no_selection.plugged_date).dt.year.astype('Int64')"
   ]
  },
  {
   "cell_type": "code",
   "execution_count": 32,
   "id": "658f58a3-8750-4f28-aa5d-393a7ed5f03c",
   "metadata": {
    "tags": []
   },
   "outputs": [],
   "source": [
    "wellbore_uk = gpd.read_file('../../data/Spatial/UK/Well_Bottom_Holes_ED50.shp')"
   ]
  },
  {
   "cell_type": "code",
   "execution_count": 33,
   "id": "d2c24f14-474b-4a06-994a-84a7f3d9f497",
   "metadata": {
    "tags": []
   },
   "outputs": [],
   "source": [
    "cols = {'SUBOPGRP': 'operator',\n",
    "        'COMPLEDATE': 'end_date',\n",
    "        'CURRWELLIN': 'purpose',\n",
    "        'WELLOPSTAT': 'status',\n",
    "        'FLUIDTYPES': 'content',\n",
    "        'COMPLESTAT': 'content_details',\n",
    "        'NAME': 'name',\n",
    "        'SPUDDATE': 'start_date',\n",
    "        'geometry': 'geometry'}\n",
    "\n",
    "uk_selection = wellbore_uk.rename(columns=cols)[cols.values()]"
   ]
  },
  {
   "cell_type": "code",
   "execution_count": 34,
   "id": "2cdf0e5e-c139-46c2-95c3-bbb1fe56f125",
   "metadata": {
    "tags": []
   },
   "outputs": [],
   "source": [
    "uk_selection.start_date = uk_selection.start_date.apply(lambda x: x[0:4]).astype('Int64')\n",
    "uk_selection.end_date = uk_selection.end_date.apply(lambda x: x[0:4]).astype('Int64')"
   ]
  },
  {
   "cell_type": "code",
   "execution_count": 35,
   "id": "5c65574c-52f7-43aa-82e7-7151841a069b",
   "metadata": {
    "tags": []
   },
   "outputs": [],
   "source": [
    "nl = gpd.GeoDataFrame.from_postgis(text('SELECT * FROM nl_wellbores'), connection, geom_col='geometry')"
   ]
  },
  {
   "cell_type": "code",
   "execution_count": 36,
   "id": "1f886224-c572-44df-a2b4-0b785d8cf65a",
   "metadata": {
    "tags": []
   },
   "outputs": [],
   "source": [
    "cols = {'well_type': 'purpose',\n",
    "        'well_result': 'content',\n",
    "        'operator':'operator',\n",
    "        'start_date_drilling': 'start_date',\n",
    "        'end_date_drilling': 'end_date',\n",
    "        'geometry': 'geometry', \n",
    "        'status': 'status', \n",
    "        'well_result': 'content', \n",
    "        'identification': 'name'}\n",
    "\n",
    "nl_selection = nl.rename(columns=cols)[cols.values()]"
   ]
  },
  {
   "cell_type": "code",
   "execution_count": 37,
   "id": "ccfa5457-2e3b-46ec-a8a2-94861090188b",
   "metadata": {
    "tags": []
   },
   "outputs": [],
   "source": [
    "nl_selection = nl_selection[(nl_selection['content'] != 'Zout') & (nl_selection['content'] != 'Steenkool')].copy()"
   ]
  },
  {
   "cell_type": "code",
   "execution_count": 38,
   "id": "6acdb8a7-ad0b-4d2e-9818-820424638d47",
   "metadata": {
    "tags": []
   },
   "outputs": [],
   "source": [
    "nl_selection.start_date = pd.to_datetime(nl_selection.start_date).dt.year.astype('Int64')\n",
    "nl_selection.end_date = pd.to_datetime(nl_selection.end_date).dt.year.astype('Int64')"
   ]
  },
  {
   "cell_type": "code",
   "execution_count": 39,
   "id": "bb28a729-d987-4501-89c5-430d543e879d",
   "metadata": {
    "tags": []
   },
   "outputs": [],
   "source": [
    "# Set new crs\n",
    "\n",
    "no_selection = no_selection.to_crs(25831)\n",
    "uk_selection = uk_selection.to_crs(25831)\n",
    "nl_selection = nl_selection.to_crs(25831)\n",
    "int_selection = int_selection.to_crs(25831)"
   ]
  },
  {
   "cell_type": "code",
   "execution_count": 40,
   "id": "d1e199fe-f72c-4ffd-bc13-b5451db36692",
   "metadata": {
    "tags": []
   },
   "outputs": [],
   "source": [
    "wellbores = pd.concat([no_selection, uk_selection, nl_selection, int_selection])\n",
    "wellbores = wellbores.set_crs(25831)"
   ]
  },
  {
   "cell_type": "code",
   "execution_count": 41,
   "id": "9dd51b00-f11b-480d-b915-e12a6a375830",
   "metadata": {
    "tags": []
   },
   "outputs": [
    {
     "data": {
      "text/plain": [
       "26972"
      ]
     },
     "execution_count": 41,
     "metadata": {},
     "output_type": "execute_result"
    }
   ],
   "source": [
    "len(wellbores)"
   ]
  },
  {
   "cell_type": "code",
   "execution_count": 42,
   "id": "ce2df38a-9e05-4d61-b82a-cd9931eaad99",
   "metadata": {
    "tags": []
   },
   "outputs": [],
   "source": [
    "wellbores = wellbores.drop(['code', 'year', 'drilling_c', 'coast_dist', 'water_dept'], axis=1)"
   ]
  },
  {
   "cell_type": "code",
   "execution_count": 43,
   "id": "e0823874-409d-4bc3-ac35-96c99372c0ab",
   "metadata": {
    "tags": []
   },
   "outputs": [
    {
     "data": {
      "text/plain": [
       "DEVELOPMENT    5713\n",
       "EXPLORATION    2054\n",
       "OTHER          1240\n",
       "Name: type, dtype: int64"
      ]
     },
     "execution_count": 43,
     "metadata": {},
     "output_type": "execute_result"
    }
   ],
   "source": [
    "wellbores['type'].value_counts()"
   ]
  },
  {
   "cell_type": "code",
   "execution_count": 44,
   "id": "6cf48f10-a758-4c86-b362-9fd35fe319d2",
   "metadata": {
    "tags": []
   },
   "outputs": [],
   "source": [
    "content = {'Dry': 'dry',\n",
    "           'Condensate, , Oil': 'condensate,oil',\n",
    "           'Condensate, Gas': 'condensate,gas', \n",
    "           'Condensate, Gas, Oil': 'condensate,gas,oil', \n",
    "           'Technisch mislukt': 'failed', \n",
    "           'Bronwater': 'water', \n",
    "           'OIL SHOWS': 'oil', \n",
    "           'Oil, Water': 'oil,water', \n",
    "           'CUTTINGS': 'cuttings', \n",
    "           'Olie shows': 'oil', \n",
    "           'GAS SHOWS': 'gas', \n",
    "           'Olie met gas shows': 'gas,oil', \n",
    "           'Gas en olie shows': 'gas,oil', \n",
    "           'Other': 'unknown', \n",
    "           'Gas shows': 'gas', \n",
    "           'GAS/CONDENSATE': 'condensate,gas', \n",
    "           'CO2': 'co2', \n",
    "           'OIL': 'oil', \n",
    "           'OIL/GAS SHOWS': 'gas,oil', \n",
    "           'Gas met olie shows': 'gas,oil', \n",
    "           'OIL/GAS': 'gas,oil', \n",
    "           'nan': 'unknown', \n",
    "           'DRY': 'dry', \n",
    "           'Condensate': 'condensate', \n",
    "           'Olie': 'oil', \n",
    "           'GAS': 'gas', \n",
    "           'SHOWS': 'unknown', \n",
    "           'Gas': 'gas', \n",
    "           'NOT AVAILABLE': 'unknown', \n",
    "           'WATER/GAS': 'gas,water', \n",
    "           'Condensate, Gas, , Water': 'condensate,gas,water', \n",
    "           'Onbekend': 'unknown', \n",
    "           'Natural Gas': 'gas', \n",
    "           'Water': 'water', \n",
    "           'Droog': 'dry', \n",
    "           'Olie en gas': 'gas,oil', \n",
    "           'Gas, Oil': 'gas,oil', \n",
    "           'OIL/GAS/CONDENSATE': 'condensate,gas,oil', \n",
    "           'NOT APPLICABLE': 'unknown', \n",
    "           'WATER': 'water', \n",
    "           'Oil': 'oil', \n",
    "           'Crude Oil': 'oil'}\n",
    "\n",
    "well_type = {'OTHER': 'unknown',\n",
    "             'DEVElOPMENT': 'development',\n",
    "             'EXPLORATION': 'exploration'}\n",
    "\n",
    "status = {'BLOWOUT': 'suspended', \n",
    "          'RE-CLASS TO DEV': 'unknown', \n",
    "          'PREDRILLED': 'active', \n",
    "          'Decomissioned': 'decommissoned', \n",
    "          'N/A': 'unknown', \n",
    "          'PLUGGED': 'suspended or abandoned', \n",
    "          'Closed-in': 'suspended or abandoned', \n",
    "          'CLOSED': 'suspended or abandoned', \n",
    "          'Suspended': 'suspended or abandoned', \n",
    "          'DRILLING': 'active', \n",
    "          'INJECTING': 'active', \n",
    "          'Plugged back and sidetracked': 'suspended or abandoned', \n",
    "          'Plugged': 'suspended or abandoned', \n",
    "          'Active': 'active', \n",
    "          'Completed to well': 'active',\n",
    "          'WILL NEVER BE DRILLED': 'suspended or abandoned', \n",
    "          'Constructed': 'active', \n",
    "          'Abandoned': 'suspended or abandoned',\n",
    "          'Constructing': 'planned', \n",
    "          'JUNKED': 'abandonsuspended or abandoneded', \n",
    "          'SUSPENDED': 'suspended or abandoned', \n",
    "          'PRODUCING': 'active', \n",
    "          'Producing/Injecting': 'active', \n",
    "          'RE-CLASS TO TEST': 'unknown', \n",
    "          'Observing': 'unknown', \n",
    "          'P&A': 'active'}\n",
    "\n"
   ]
  },
  {
   "cell_type": "code",
   "execution_count": 45,
   "id": "8be3d049-79de-4a8e-942a-50f9f312945a",
   "metadata": {
    "tags": []
   },
   "outputs": [],
   "source": [
    "wellbores['status_normalised'] = wellbores.status.map(status)\n",
    "wellbores['type_normalised'] = wellbores['type'].map(well_type)\n",
    "wellbores['content_normalised'] = wellbores.content.map(content)\n",
    "wellbores.status_normalised = wellbores.status_normalised.str.replace('abandonsuspended or abandoneded', 'abandoned or suspended')"
   ]
  },
  {
   "cell_type": "code",
   "execution_count": 46,
   "id": "ad1e61ce-2085-4e81-85a7-f189a895ab94",
   "metadata": {
    "tags": []
   },
   "outputs": [],
   "source": [
    "# Join with eez for countries\n",
    "\n",
    "wellbores = gpd.sjoin(wellbores, eez, predicate='intersects', how='left')"
   ]
  },
  {
   "cell_type": "code",
   "execution_count": 47,
   "id": "06be0da1-811e-4952-ba48-81ec9ed64661",
   "metadata": {
    "tags": []
   },
   "outputs": [],
   "source": [
    "wellbores = wellbores.drop(['index_right', 'index', 'country_left'], axis=1)\n",
    "wellbores = wellbores.rename(columns={'country_right': 'country'})"
   ]
  },
  {
   "cell_type": "code",
   "execution_count": 48,
   "id": "5336d731-d721-4e31-aea3-3a796f546371",
   "metadata": {
    "tags": []
   },
   "outputs": [],
   "source": [
    "# Write all wellbores to geojson\n",
    "\n",
    "wellbores = wellbores.to_crs(4326)\n",
    "wellbores.to_file('../data/visuals/wellbores_all.geojson', driver='GeoJSON')"
   ]
  },
  {
   "cell_type": "code",
   "execution_count": 49,
   "id": "41fbbb34-c1b9-492d-87db-fe9e2a07fff2",
   "metadata": {
    "tags": []
   },
   "outputs": [],
   "source": [
    "# And change crs back\n",
    "\n",
    "wellbores = wellbores.to_crs(25831)"
   ]
  },
  {
   "cell_type": "markdown",
   "id": "04cedc6c-d6fb-4d23-b201-6d4eef42afcb",
   "metadata": {},
   "source": [
    "### Clip and write to file"
   ]
  },
  {
   "cell_type": "code",
   "execution_count": 52,
   "id": "e66f03ca-58d7-49c9-b00b-98f84fec4827",
   "metadata": {
    "tags": []
   },
   "outputs": [],
   "source": [
    "# Clip infrastructure and pipeline datasets\n",
    "\n",
    "platform_infra = gpd.clip(infra, platforms['radius'])\n",
    "pipes_infra = gpd.clip(pipes, platforms['radius'])\n",
    "wellbores_infra = gpd.clip(wellbores, platforms['radius'])"
   ]
  },
  {
   "cell_type": "code",
   "execution_count": 54,
   "id": "3439c652-d3c5-47b6-9cf9-defb1aaf30b1",
   "metadata": {
    "tags": []
   },
   "outputs": [],
   "source": [
    "# Write to file\n",
    "\n",
    "platforms = platforms.to_crs(4326)\n",
    "platforms['longitude'] = platforms.geometry.x\n",
    "platforms['latitude'] = platforms.geometry.y\n",
    "platforms = platforms.drop('radius', axis=1)\n",
    "platforms.to_file('../data/visuals/platforms.geojson', driver='GeoJSON')\n",
    "\n",
    "platform_infra = platform_infra.to_crs(4326)\n",
    "platform_infra['longitude'] = platform_infra.geometry.x\n",
    "platform_infra['latitude'] = platform_infra.geometry.y\n",
    "platform_infra.to_file('../data/visuals/platforms_infra.geojson', driver='GeoJSON')\n",
    "\n",
    "platforms_total = pd.concat([platforms, platform_infra])\n",
    "platforms_total.to_file('../data/visuals/platforms_total.geojson', driver='GeoJSON')\n",
    "\n",
    "pipes_infra = pipes_infra.to_crs(4326)\n",
    "pipes_infra.to_file('../data/visuals/pipes.geojson', driver='GeoJSON')\n",
    "\n",
    "wellbores_infra = wellbores_infra.to_crs(4326)\n",
    "wellbores_infra['longitude'] = wellbores_infra.geometry.x\n",
    "wellbores_infra['latitude'] = wellbores_infra.geometry.y\n",
    "wellbores_infra.to_file('../data/visuals/wellbores_infra.geojson', driver='GeoJSON')"
   ]
  },
  {
   "cell_type": "code",
   "execution_count": 55,
   "id": "ae7e6b5b-5c52-4e32-98f7-2674229860ab",
   "metadata": {
    "tags": []
   },
   "outputs": [],
   "source": [
    "infra_total = pd.concat([platform_infra, wellbores_infra])\n",
    "infra_total.to_file('../data/visuals/infra_total.geojson', driver='GeoJSON')"
   ]
  },
  {
   "cell_type": "markdown",
   "id": "63fbd570-c3e6-45ab-880c-eee712f2b2d2",
   "metadata": {},
   "source": [
    "### Merge platforms/infra with licences and normalized company names\n",
    "\n",
    "So now we have 4 dataframes:\n",
    "1. Platforms\n",
    "2. The infrastructure surrounding the platforms\n",
    "3. The pipelines surrounding the platforms\n",
    "4. The wellbores\n",
    "\n",
    "We can't get all current company data, but we can normalize the company names as much as possible and add licence owner data to the platforms, so we get a sense of who is responsible for that licence area."
   ]
  },
  {
   "cell_type": "code",
   "execution_count": null,
   "id": "c68e2af5-e42b-44b8-a578-5eb2653ccc7e",
   "metadata": {
    "tags": []
   },
   "outputs": [],
   "source": [
    "# Add normalised company names as lists\n",
    "\n",
    "com = pd.read_sql(text('SELECT * FROM current_licences_companies'), connection)\n",
    "com_norm = pd.read_sql(text('SELECT * FROM company_names'), connection)\n",
    "\n",
    "com = pd.merge(com, com_norm, left_on='name', right_on='name_db', how='left')\n",
    "\n",
    "com_to_merge = com.groupby(['licence_id'])[['name_international',  'name_local', 'country_local','country_international', 'group_name_from_source']].agg(lambda x: list(set(list(x)))).reset_index()"
   ]
  },
  {
   "cell_type": "code",
   "execution_count": null,
   "id": "29017a67-f4da-43e9-b2a1-6c3701eabafc",
   "metadata": {
    "tags": []
   },
   "outputs": [],
   "source": [
    "def get_licence_and_company(df, coms):\n",
    "    \n",
    "    engine = create_engine(POSTGRES, connect_args={'options': '-csearch_path={}'.format('public')})\n",
    "    connection = engine.connect()\n",
    "    \n",
    "    # Get licence data\n",
    "    licence = gpd.GeoDataFrame.from_postgis(text('SELECT * FROM all_current_licences'), connection, geom_col='geometry')\n",
    "    licence = licence.to_crs(4326)\n",
    "    \n",
    "    # Perform spatial join on licences\n",
    "    \n",
    "    df = gpd.sjoin(df,\n",
    "            licence,\n",
    "            how='left',\n",
    "            predicate='intersects')\n",
    "    \n",
    "    # Perform spatial join on companies\n",
    "    \n",
    "    df = pd.merge(df, \n",
    "                coms,\n",
    "                left_on = 'licence_name',\n",
    "                right_on = 'licence_id',\n",
    "                how='left')\n",
    "\n",
    "    # Clean it up\n",
    "    \n",
    "    df = df.drop(['status_right', 'index_right'], axis=1).rename(columns={'status_left': 'status'})\n",
    "    \n",
    "    print(f'Merged {len(df)}, but could not merge {len(df[df.name_international.isna()])} because of missing company names')\n",
    "    \n",
    "    return df"
   ]
  },
  {
   "cell_type": "code",
   "execution_count": null,
   "id": "72d8941a-9ebb-4b3e-9db1-cf67053c5a8f",
   "metadata": {
    "tags": []
   },
   "outputs": [],
   "source": [
    "platforms_com = get_licence_and_company(platforms, com_to_merge)"
   ]
  },
  {
   "cell_type": "code",
   "execution_count": null,
   "id": "ceb80a79-64cc-44d6-a5e7-f27aa59e9ac0",
   "metadata": {
    "tags": []
   },
   "outputs": [],
   "source": [
    "# What are we missing? A lot of Denmark. Maybe add these manually.\n",
    "\n",
    "platforms_com[['status_normalised', 'country']][platforms_com.name_international.isna()].value_counts()"
   ]
  },
  {
   "cell_type": "markdown",
   "id": "86067ee7-bf2f-4ee7-9181-625b04f1f6a1",
   "metadata": {},
   "source": [
    "## Analysis"
   ]
  },
  {
   "cell_type": "markdown",
   "id": "87566237-e784-49f9-abd1-7096a7104c53",
   "metadata": {
    "tags": []
   },
   "source": [
    "### Platforms"
   ]
  },
  {
   "cell_type": "code",
   "execution_count": null,
   "id": "b23d62a1-ff57-48d0-9adb-76a58908ddc7",
   "metadata": {
    "tags": []
   },
   "outputs": [],
   "source": [
    "# Let's see what we have\n",
    "\n",
    "platforms_com.columns"
   ]
  },
  {
   "cell_type": "code",
   "execution_count": null,
   "id": "01840931-bd0f-4196-86e9-a0fd323d5f2a",
   "metadata": {
    "tags": []
   },
   "outputs": [],
   "source": [
    "platforms_com.status_normalised.value_counts()"
   ]
  },
  {
   "cell_type": "markdown",
   "id": "4df3223f-2e21-4144-94c7-3bbaf1c87a4b",
   "metadata": {},
   "source": [
    "#### Inactive platforms"
   ]
  },
  {
   "cell_type": "code",
   "execution_count": null,
   "id": "f47f083a-8fdc-4534-bda7-8c04f1bd0d2d",
   "metadata": {
    "tags": []
   },
   "outputs": [],
   "source": [
    "# Filter out inactive platforms\n",
    "\n",
    "inactive = ['INACTIVE', 'ABANDONED', 'PARTLY REMOVED']\n",
    "\n",
    "inactive = platforms_com[platforms_com.status_normalised.isin(inactive)].copy()\n",
    "\n",
    "print(f'There are {len(inactive)} inactive platforms')"
   ]
  },
  {
   "cell_type": "code",
   "execution_count": null,
   "id": "b2688f26-24b9-4c37-8106-7c7c4ca132e7",
   "metadata": {
    "tags": []
   },
   "outputs": [],
   "source": [
    "# Inactive platforms by country\n",
    "\n",
    "inactive.country.value_counts()"
   ]
  },
  {
   "cell_type": "code",
   "execution_count": null,
   "id": "d43171bc-69b3-4017-a12e-26a544607d50",
   "metadata": {
    "tags": []
   },
   "outputs": [],
   "source": [
    "# Create function for plotting ownership\n",
    "\n",
    "def plot_ownership(df, col):\n",
    "    return df.assign(count=df[col].str.split(', '))\\\n",
    "    .explode(col)\\\n",
    "    .groupby([col]).size()\\\n",
    "    .reset_index(name='count').sort_values(by='count', ascending=False).nlargest(columns='count', n=10).plot(kind='bar', x=col)"
   ]
  },
  {
   "cell_type": "code",
   "execution_count": null,
   "id": "2a74682b-7974-4b51-a8b3-bf89a0538d89",
   "metadata": {
    "tags": []
   },
   "outputs": [],
   "source": [
    "plot_ownership(inactive, 'name_international')"
   ]
  },
  {
   "cell_type": "code",
   "execution_count": null,
   "id": "9fa8be52-9bbb-47f6-88ff-3bdac5b00b17",
   "metadata": {
    "tags": []
   },
   "outputs": [],
   "source": [
    "plot_ownership(inactive, 'name_local')"
   ]
  },
  {
   "cell_type": "code",
   "execution_count": null,
   "id": "32fdc2bf-1be4-4e65-b753-bc6fca16d4c2",
   "metadata": {
    "tags": []
   },
   "outputs": [],
   "source": [
    "# Aggregate operators (shows companies with most inactive properties\n",
    "\n",
    "plot_ownership(inactive, 'name_normalised')"
   ]
  },
  {
   "cell_type": "code",
   "execution_count": null,
   "id": "531af4ea-7bcb-4e48-9527-25ffe2fae000",
   "metadata": {
    "tags": []
   },
   "outputs": [],
   "source": [
    "# Where are the licence holders of inactive platforms located (parent company)\n",
    "\n",
    "plot_ownership(inactive, 'country_international')"
   ]
  },
  {
   "cell_type": "markdown",
   "id": "6b6784ca-5b31-485a-a6ff-9eb3c66c13b3",
   "metadata": {},
   "source": [
    "#### Removed"
   ]
  },
  {
   "cell_type": "code",
   "execution_count": null,
   "id": "4695f90f-4663-43e0-8f51-cbf7e2c9b287",
   "metadata": {
    "tags": []
   },
   "outputs": [],
   "source": [
    "removed = platforms_com[platforms_com.status_normalised == 'REMOVED'].copy()\n",
    "len(removed)"
   ]
  },
  {
   "cell_type": "code",
   "execution_count": null,
   "id": "d87be19c-700a-4207-bdd1-59f9035c9bab",
   "metadata": {
    "tags": []
   },
   "outputs": [],
   "source": [
    "removed.country.value_counts()"
   ]
  },
  {
   "cell_type": "code",
   "execution_count": null,
   "id": "b515f932-f594-4098-80b2-7edaf575a107",
   "metadata": {
    "tags": []
   },
   "outputs": [],
   "source": [
    "# Licence holders parent companies\n",
    "\n",
    "plot_ownership(removed, 'name_international')"
   ]
  },
  {
   "cell_type": "code",
   "execution_count": null,
   "id": "18cf9255-c5c3-4de4-a26c-f3701088e412",
   "metadata": {
    "tags": []
   },
   "outputs": [],
   "source": [
    "# Licence holders local name\n",
    "\n",
    "plot_ownership(removed, 'name_local')"
   ]
  },
  {
   "cell_type": "code",
   "execution_count": null,
   "id": "d859f5f5-460f-400c-ae3c-4b6512658c3b",
   "metadata": {},
   "outputs": [],
   "source": [
    "# Aggregate operators (shows companies with most inactive properties\n",
    "\n",
    "plot_ownership(removed, 'name_normalised')"
   ]
  },
  {
   "cell_type": "code",
   "execution_count": null,
   "id": "15f873be-07c8-4e53-9f38-cc6f08d9ed24",
   "metadata": {},
   "outputs": [],
   "source": [
    "# Where are the licence holders of inactive platforms located (parent company)\n",
    "\n",
    "plot_ownership(removed, 'country_international')"
   ]
  },
  {
   "cell_type": "markdown",
   "id": "882b945a-b61f-443b-9bd1-f4d75ad2cd33",
   "metadata": {},
   "source": [
    "#### All platforms"
   ]
  },
  {
   "cell_type": "code",
   "execution_count": null,
   "id": "f3550469-9d27-4c1c-aa0f-7aac0e8f364a",
   "metadata": {
    "tags": []
   },
   "outputs": [],
   "source": [
    "# Distribution over countries\n",
    "\n",
    "platforms_com.country.value_counts()"
   ]
  },
  {
   "cell_type": "code",
   "execution_count": null,
   "id": "fe9daf88-2f06-413a-977b-244f00970964",
   "metadata": {
    "tags": []
   },
   "outputs": [],
   "source": [
    "# What about all platforms - licence holders parent companies?\n",
    "\n",
    "plot_ownership(platforms_com, 'name_international')"
   ]
  },
  {
   "cell_type": "code",
   "execution_count": null,
   "id": "4d340578-1c0a-4c9e-b7c2-56615fefacde",
   "metadata": {
    "tags": []
   },
   "outputs": [],
   "source": [
    "# All platforms, licence holders local companies\n",
    "\n",
    "plot_ownership(platforms_com, 'name_local')"
   ]
  },
  {
   "cell_type": "code",
   "execution_count": null,
   "id": "7a861200-de48-44ff-86fd-d7b3c76db0d2",
   "metadata": {
    "tags": []
   },
   "outputs": [],
   "source": [
    "# Platforms, operators\n",
    "\n",
    "plot_ownership(platforms_com, 'name_normalised')"
   ]
  },
  {
   "cell_type": "code",
   "execution_count": null,
   "id": "e4a307a2-de17-4818-bcc1-66506c145835",
   "metadata": {
    "tags": []
   },
   "outputs": [],
   "source": [
    "# Platforms, country parent companies (licence holders)\n",
    "\n",
    "plot_ownership(platforms_com, 'country_international')"
   ]
  },
  {
   "cell_type": "markdown",
   "id": "9d264a0c-1223-4070-bc33-b0715e82b41c",
   "metadata": {},
   "source": [
    "### Pipes"
   ]
  },
  {
   "cell_type": "code",
   "execution_count": null,
   "id": "9fe36212-5c29-4bc8-b59c-f7e2d32c91d0",
   "metadata": {},
   "outputs": [],
   "source": [
    "### All pipes\n",
    "pipes = pipes.to_crs(4326)\n",
    "pipes_com = get_licence_and_company(pipes, com_to_merge)"
   ]
  },
  {
   "cell_type": "code",
   "execution_count": null,
   "id": "a90f0b17-ea2c-4970-8f15-c647d3aedfd3",
   "metadata": {},
   "outputs": [],
   "source": [
    "plot_ownership(pipes_com, 'name_international')"
   ]
  },
  {
   "cell_type": "code",
   "execution_count": null,
   "id": "dcf533e2-6696-4183-8757-103da9335f17",
   "metadata": {
    "tags": []
   },
   "outputs": [],
   "source": [
    "plot_ownership(pipes_com, 'name_normalised')"
   ]
  },
  {
   "cell_type": "code",
   "execution_count": null,
   "id": "27ee0499-2b1e-4115-b91c-9a62989d2168",
   "metadata": {
    "tags": []
   },
   "outputs": [],
   "source": [
    "plot_ownership(pipes_com, 'country_international')"
   ]
  },
  {
   "cell_type": "code",
   "execution_count": null,
   "id": "53147606-0fd4-43ff-ad4c-09a977d00688",
   "metadata": {
    "tags": []
   },
   "outputs": [],
   "source": [
    "pipes['type'].value_counts()"
   ]
  },
  {
   "cell_type": "markdown",
   "id": "7dc0a23f-04e8-4e78-8bff-53078d31bedd",
   "metadata": {},
   "source": [
    "### Pipes in radius"
   ]
  },
  {
   "cell_type": "code",
   "execution_count": null,
   "id": "6fb7d8a4-48a8-4cdd-9189-e5dbcf70759f",
   "metadata": {
    "tags": []
   },
   "outputs": [],
   "source": [
    "pipes_infra_com = get_licence_and_company(pipes_infra, com_to_merge)"
   ]
  },
  {
   "cell_type": "code",
   "execution_count": null,
   "id": "7f312595-b954-4574-aab6-5b8e6191ef46",
   "metadata": {
    "tags": []
   },
   "outputs": [],
   "source": [
    "plot_ownership(pipes_infra_com, 'name_international')"
   ]
  },
  {
   "cell_type": "code",
   "execution_count": null,
   "id": "46e326e9-6c42-4d65-99e3-86dfe07651f4",
   "metadata": {
    "tags": []
   },
   "outputs": [],
   "source": [
    "plot_ownership(pipes_infra_com, 'name_local')"
   ]
  },
  {
   "cell_type": "code",
   "execution_count": null,
   "id": "c347bd71-e93c-470a-ab0e-411a554a9108",
   "metadata": {
    "tags": []
   },
   "outputs": [],
   "source": [
    "# Operators\n",
    "\n",
    "plot_ownership(pipes_infra_com, 'name_normalised')"
   ]
  },
  {
   "cell_type": "markdown",
   "id": "480a01c4-a937-41bf-b7eb-cb835e41aa3b",
   "metadata": {},
   "source": [
    "### Wellbores"
   ]
  },
  {
   "cell_type": "code",
   "execution_count": null,
   "id": "2725b95e-23f3-45d8-a565-660a911f678d",
   "metadata": {
    "tags": []
   },
   "outputs": [],
   "source": [
    "wellbores = wellbores.to_crs(4326)"
   ]
  },
  {
   "cell_type": "code",
   "execution_count": null,
   "id": "3d29997e-8573-4371-a3b3-6c7998e982a2",
   "metadata": {
    "tags": []
   },
   "outputs": [],
   "source": [
    "wellbores_com = get_licence_and_company(wellbores, com_to_merge)"
   ]
  },
  {
   "cell_type": "code",
   "execution_count": null,
   "id": "6d2e7f40-4e1e-4e8b-ba4e-80318f8f1cc2",
   "metadata": {
    "tags": []
   },
   "outputs": [],
   "source": [
    "plot_ownership(wellbores_com, 'name_international')"
   ]
  },
  {
   "cell_type": "code",
   "execution_count": null,
   "id": "45ed02b8-0e5f-42f9-8280-d81e3903a016",
   "metadata": {
    "tags": []
   },
   "outputs": [],
   "source": [
    "plot_ownership(wellbores_com, 'operator')"
   ]
  },
  {
   "cell_type": "code",
   "execution_count": null,
   "id": "404de1db-0468-4c51-bf1f-fa8d41c81e32",
   "metadata": {},
   "outputs": [],
   "source": []
  }
 ],
 "metadata": {
  "kernelspec": {
   "display_name": "Python 3 (ipykernel)",
   "language": "python",
   "name": "python3"
  },
  "language_info": {
   "codemirror_mode": {
    "name": "ipython",
    "version": 3
   },
   "file_extension": ".py",
   "mimetype": "text/x-python",
   "name": "python",
   "nbconvert_exporter": "python",
   "pygments_lexer": "ipython3",
   "version": "3.10.9"
  }
 },
 "nbformat": 4,
 "nbformat_minor": 5
}
