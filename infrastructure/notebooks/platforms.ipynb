{
 "cells": [
  {
   "cell_type": "code",
   "execution_count": null,
   "id": "356120c5-70b6-4258-b232-4e86b88076d8",
   "metadata": {
    "tags": []
   },
   "outputs": [],
   "source": [
    "from sqlalchemy import create_engine, text\n",
    "import geopandas as gpd\n",
    "import os\n",
    "import pandas as pd\n",
    "from dotenv import load_dotenv\n",
    "import infrastructure as infra\n",
    "import numpy as np\n",
    "\n",
    "load_dotenv('.env')\n",
    "POSTGRES = os.environ.get('POSTGRES_DB')"
   ]
  },
  {
   "cell_type": "markdown",
   "id": "b015bd97-1c3f-4e2f-9b42-a0d6cfedaf66",
   "metadata": {},
   "source": [
    "The goal of this notebook is to create a dataset with oil and gas platforms and their infrstructure. The output should be several geojson files for use in Flourish.\n",
    "\n",
    "For platforms there multiple datasets:\n",
    "1. EMODnet - contains all platforms, alsow wit decommissioned ones, but is not fully up to date. \n",
    "2. National datasets, that have a very different structure, but has been normalised by me earlier, except for wellbores. This dataset is the most current one.\n",
    "\n",
    "Data should be current up to 2023-03-01.\n",
    "\n",
    "Some warnings:\n",
    "- Altough the data is from official sources, it's quite messy and the datasets contain different kinds of data. Some normalization was necessary so I had to make some choices. These choices are made explicit in the code.\n",
    "- The company data (operators, licence holders) have been normalized as well, where different sources were used, like the national gas and oil agencies, but also manually linking daughter and parent companies, using company registries and news articles. That process might lead to some errors, so if you use this data, you might need to check, for instance at [Mapstand](https://app.mapstand.com/). Up until now, I haven't found any mismatches with the data from Mapstand (we largely use the same sources), but just be careful. "
   ]
  },
  {
   "cell_type": "markdown",
   "id": "657ce871-682a-441e-b4ce-3466a4a59bb1",
   "metadata": {},
   "source": [
    "## Overviews\n",
    "\n",
    "We probably need some overviews of infrastructure, like all platforms, pipelines, structures, cables, etc."
   ]
  },
  {
   "cell_type": "code",
   "execution_count": null,
   "id": "c2e6acac-3337-44f1-8e24-269ce48259ed",
   "metadata": {
    "tags": []
   },
   "outputs": [],
   "source": [
    "platforms = infra.get_platforms(['all'], eez=True, only_platforms=False)"
   ]
  },
  {
   "cell_type": "code",
   "execution_count": null,
   "id": "7b62eddc-5979-4eab-8555-94edd91258c8",
   "metadata": {
    "tags": []
   },
   "outputs": [],
   "source": [
    "infrastructure = platforms[platforms.type_normalised != 'Platform'].copy()\n",
    "len(infrastructure)"
   ]
  },
  {
   "cell_type": "code",
   "execution_count": null,
   "id": "aa750cd1-fbdd-44db-a715-fb8ff61bf823",
   "metadata": {
    "tags": []
   },
   "outputs": [],
   "source": [
    "platforms = platforms[platforms.type_normalised == 'Platform'].drop_duplicates(subset='infra_name').copy()\n",
    "len(platforms)"
   ]
  },
  {
   "cell_type": "code",
   "execution_count": null,
   "id": "e3afbb99-0828-4b38-97b9-cf4076aa8b43",
   "metadata": {
    "tags": []
   },
   "outputs": [],
   "source": [
    "pipes = infra.get_pipelines(['all'], eez=True)"
   ]
  },
  {
   "cell_type": "code",
   "execution_count": null,
   "id": "80f1dbb6-5ba0-456c-a724-8f3664397417",
   "metadata": {
    "tags": []
   },
   "outputs": [],
   "source": [
    "wellbores = infra.get_wellbores(['all'], eez=True)"
   ]
  },
  {
   "cell_type": "code",
   "execution_count": null,
   "id": "f2b40f93-dd1e-473a-ac50-6ce14b0641ac",
   "metadata": {
    "tags": []
   },
   "outputs": [],
   "source": [
    "# Geopandas doesn't like datetimes, so let's convert it to string.\n",
    "\n",
    "wellbores[['start_date', 'end_date']] = wellbores[['start_date', 'end_date']].astype(str)"
   ]
  },
  {
   "cell_type": "markdown",
   "id": "5ba2164c-d41b-4642-82b0-e6ac531353ac",
   "metadata": {},
   "source": [
    "### Add ownership data from licences"
   ]
  },
  {
   "cell_type": "code",
   "execution_count": null,
   "id": "5b0be9db-a397-4a85-8167-5dafd7a578da",
   "metadata": {
    "tags": []
   },
   "outputs": [],
   "source": [
    "engine = create_engine(POSTGRES, connect_args={'options': '-csearch_path={}'.format('public')})\n",
    "connection = engine.connect()\n",
    "\n",
    "# Add normalised company names as lists\n",
    "\n",
    "com = pd.read_sql(text('SELECT * FROM current_licences_companies'), connection)\n",
    "com_norm = pd.read_sql(text('SELECT * FROM companies'), connection)\n",
    "\n",
    "com = pd.merge(com, com_norm, left_on='name', right_on='name_db', how='left')\n",
    "\n",
    "com_to_merge = com.groupby(['licence_id'])[['name_international', 'name_local','country_international']].agg(lambda x: list(set(list(x)))).reset_index()\n",
    "\n",
    "com_to_merge = com_to_merge.rename(columns={'name_international': 'owner_name_normalised', \n",
    "                                            'name_local': 'owner_name',\n",
    "                                            'country_international': 'owner_country'})"
   ]
  },
  {
   "cell_type": "code",
   "execution_count": null,
   "id": "868fee0a-dc73-4525-adb6-80347189d305",
   "metadata": {
    "tags": []
   },
   "outputs": [],
   "source": [
    "com_to_merge.head()"
   ]
  },
  {
   "cell_type": "code",
   "execution_count": null,
   "id": "71d8b645-d847-4d18-b0a9-7c34a51f734c",
   "metadata": {
    "tags": []
   },
   "outputs": [],
   "source": [
    "def get_licence_and_company(df, coms):\n",
    "    \n",
    "    engine = create_engine(POSTGRES, connect_args={'options': '-csearch_path={}'.format('public')})\n",
    "    connection = engine.connect()\n",
    "    \n",
    "    # Get licence data\n",
    "    licence = gpd.GeoDataFrame.from_postgis(text('SELECT * FROM all_current_licences'), connection, geom_col='geometry')\n",
    "    \n",
    "    # Perform spatial join on licences\n",
    "    \n",
    "    df = gpd.sjoin(df,\n",
    "                licence[['geometry', 'licence_name']],\n",
    "                how='left',\n",
    "                predicate='intersects')\n",
    "    df = df.drop(['index_right'], axis=1)\n",
    "    \n",
    "    # Perform spatial join on companies\n",
    "    \n",
    "    df = pd.merge(df, \n",
    "                coms,\n",
    "                left_on = 'licence_name',\n",
    "                right_on = 'licence_id',\n",
    "                how='left')\n",
    "\n",
    "    # Clean it up\n",
    "    \n",
    "    df = df.drop_duplicates(subset=['feature_id', 'country', 'infra_name'], keep='first').copy()\n",
    "    \n",
    "    print(f'Merged {len(df)}, but could not merge {len(df[df.owner_name_normalised.isna()])} because of missing company names')\n",
    "    \n",
    "    return df"
   ]
  },
  {
   "cell_type": "code",
   "execution_count": null,
   "id": "68b8a1f0-30bd-46e7-a06e-6068084388a5",
   "metadata": {
    "tags": []
   },
   "outputs": [],
   "source": [
    "platforms = get_licence_and_company(platforms, com_to_merge)"
   ]
  },
  {
   "cell_type": "code",
   "execution_count": null,
   "id": "d758ed55-d0b2-4d1c-98cb-744cceb4e763",
   "metadata": {
    "tags": []
   },
   "outputs": [],
   "source": [
    "platform_infra = get_licence_and_company(infrastructure, com_to_merge)"
   ]
  },
  {
   "cell_type": "code",
   "execution_count": null,
   "id": "e39b840d-cb02-46c1-95e6-abc7adc4df74",
   "metadata": {
    "tags": []
   },
   "outputs": [],
   "source": [
    "pipes_infra = get_licence_and_company(pipes, com_to_merge)"
   ]
  },
  {
   "cell_type": "code",
   "execution_count": null,
   "id": "04c43902-c728-4bb0-b937-923a8f5d4283",
   "metadata": {
    "tags": []
   },
   "outputs": [],
   "source": [
    "wellbores_infra = get_licence_and_company(wellbores, com_to_merge)"
   ]
  },
  {
   "cell_type": "code",
   "execution_count": null,
   "id": "6ab07d89-2c84-448d-9f8e-e1a0fa323ddf",
   "metadata": {
    "tags": []
   },
   "outputs": [],
   "source": [
    "platforms.to_csv('../data/inactive/no_platforms.csv', index=False)"
   ]
  },
  {
   "cell_type": "code",
   "execution_count": null,
   "id": "a1d4a83e-6f03-41d9-8aa6-00b53cc10e75",
   "metadata": {
    "tags": []
   },
   "outputs": [],
   "source": [
    "platform_infra.to_csv('../data/inactive/no_infra.csv', index=False)"
   ]
  },
  {
   "cell_type": "code",
   "execution_count": null,
   "id": "dc4c9c7e-620d-4ad5-b5ee-ec7947cad0e1",
   "metadata": {
    "tags": []
   },
   "outputs": [],
   "source": [
    "pipes_infra.to_csv('../data/inactive/no_pipes.csv', index=False)"
   ]
  },
  {
   "cell_type": "code",
   "execution_count": null,
   "id": "7ffc6499-d672-4cb4-b5ea-4a13251e87aa",
   "metadata": {
    "tags": []
   },
   "outputs": [],
   "source": [
    "wellbores_infra.to_csv('../data/inactive/no_wellbores.csv', index=False)"
   ]
  },
  {
   "cell_type": "markdown",
   "id": "df653e2f-0962-4932-9988-a7b20940b771",
   "metadata": {},
   "source": [
    "### Add radius to platforms"
   ]
  },
  {
   "cell_type": "code",
   "execution_count": null,
   "id": "67c835a4-9c3f-4075-8c5a-14d2b51d63f4",
   "metadata": {
    "tags": []
   },
   "outputs": [],
   "source": [
    "# Create radius geometry\n",
    "\n",
    "platforms['radius'] = platforms.geometry.buffer(500)\n",
    "\n",
    "# Write radius to file\n",
    "\n",
    "radius = platforms.drop('geometry', axis=1)\n",
    "radius = radius.set_geometry('radius')\n",
    "radius = radius.to_crs(4326)\n",
    "#radius[['owner_name_normalised', 'owner_name', 'owner_country']] = radius[['owner_name_normalised', 'owner_name', 'owner_country']].astype(str)\n",
    "#radius.to_file('../data/visuals/radius.geojson', driver='GeoJSON')"
   ]
  },
  {
   "cell_type": "markdown",
   "id": "04cedc6c-d6fb-4d23-b201-6d4eef42afcb",
   "metadata": {},
   "source": [
    "### Clip and write to file"
   ]
  },
  {
   "cell_type": "code",
   "execution_count": null,
   "id": "e66f03ca-58d7-49c9-b00b-98f84fec4827",
   "metadata": {
    "tags": []
   },
   "outputs": [],
   "source": [
    "# Clip infrastructure and pipeline datasets\n",
    "\n",
    "platform_infra = gpd.clip(infrastructure, platforms['radius'])\n",
    "pipes_infra = gpd.clip(pipes, platforms['radius'])\n",
    "wellbores_infra = gpd.clip(wellbores, platforms['radius'])\n",
    "#infra_total_infra = gpd.clip(infra_total, platforms['radius'])"
   ]
  },
  {
   "cell_type": "code",
   "execution_count": null,
   "id": "1f3d8633-d4de-4018-b4f4-2c28d47454c5",
   "metadata": {
    "tags": []
   },
   "outputs": [],
   "source": [
    "def write_radius_to_geojson(df, name):\n",
    "    df = df.to_crs(4326)\n",
    "    if name != 'pipes':\n",
    "        df['longitude'] = df.geometry.x\n",
    "        df['latitude'] = df.geometry.y\n",
    "    if 'radius' in df.columns:\n",
    "        df = df.drop('radius', axis=1)\n",
    "    df['dataset'] = name\n",
    "    #df[['owner_name_normalised', 'owner_name', 'owner_country', 'name_normalised']] = df[['owner_name_normalised', 'owner_name', 'owner_country', 'name_normalised']].astype(str)\n",
    "    if 'owner' in df.columns:\n",
    "        df.owner = df.owner.astype(str)\n",
    "    if 'purpose' in df.columns:\n",
    "        df.purpose = df.purpose.astype(str)\n",
    "    df.to_file(f'../data/visuals/{name}_radius.geojson', driver='GeoJSON')"
   ]
  },
  {
   "cell_type": "code",
   "execution_count": null,
   "id": "4403e275-846b-43af-9f45-873d30976311",
   "metadata": {
    "tags": []
   },
   "outputs": [],
   "source": [
    "def write_all_to_geojson(df,name):\n",
    "    df = df.to_crs(4326)\n",
    "    df['dataset'] = name\n",
    "    if name != 'pipes':\n",
    "        df['longitude'] = df.geometry.x\n",
    "        df['latitude'] = df.geometry.y\n",
    "    else:\n",
    "        pass\n",
    "    df['dataset'] = name\n",
    "    #df = df.drop('radius', axis=1)\n",
    "    #df[['owner_name_normalised', 'owner_name', 'owner_country', 'name_normalised']] = df[['owner_name_normalised', 'owner_name', 'owner_country', 'name_normalised']].astype(str)\n",
    "    df.to_file(f'../data/visuals/{name}_all.geojson', driver='GeoJSON')\n",
    "    return df"
   ]
  },
  {
   "cell_type": "code",
   "execution_count": null,
   "id": "3439c652-d3c5-47b6-9cf9-defb1aaf30b1",
   "metadata": {
    "tags": []
   },
   "outputs": [],
   "source": [
    "# Write to file\n",
    "\n",
    "dfs = [platforms, platform_infra, pipes_infra, wellbores_infra]\n",
    "names = ['platforms', 'infrastructure', 'pipes', 'wellbores']\n",
    "\n",
    "for df, name in zip(dfs, names):\n",
    "    write_radius_to_geojson(df, name)\n"
   ]
  },
  {
   "cell_type": "code",
   "execution_count": null,
   "id": "49b53ea7-2d3f-4d2f-871c-088e606ac92c",
   "metadata": {
    "tags": []
   },
   "outputs": [],
   "source": [
    "well = gpd.read_file('../data/visuals/wellbores_radius.geojson')\n",
    "plat = gpd.read_file('../data/visuals/platforms_radius.geojson')\n",
    "infr = gpd.read_file('../data/visuals/infrastructure_radius.geojson')\n",
    "\n",
    "df = pd.concat([well, plat, infr])\n",
    "df.to_file('../data/visuals/infra_points_total_radius.geojson', driver='GeoJSON')"
   ]
  },
  {
   "cell_type": "code",
   "execution_count": null,
   "id": "7d290b23-a512-46f2-861e-a7f09edeb030",
   "metadata": {
    "tags": []
   },
   "outputs": [],
   "source": [
    "df = df[~df.infra_type.isin(['MATTRESS', 'PROTECTION'])]\n",
    "df.to_file('../data/visuals/infra_points_selected_radius.geojson', driver='GeoJSON')"
   ]
  },
  {
   "cell_type": "markdown",
   "id": "86067ee7-bf2f-4ee7-9181-625b04f1f6a1",
   "metadata": {},
   "source": [
    "## Analysis"
   ]
  },
  {
   "cell_type": "markdown",
   "id": "87566237-e784-49f9-abd1-7096a7104c53",
   "metadata": {
    "tags": []
   },
   "source": [
    "### Platforms"
   ]
  },
  {
   "cell_type": "code",
   "execution_count": null,
   "id": "01840931-bd0f-4196-86e9-a0fd323d5f2a",
   "metadata": {
    "tags": []
   },
   "outputs": [],
   "source": [
    "platforms.status_normalised.value_counts()"
   ]
  },
  {
   "cell_type": "markdown",
   "id": "4df3223f-2e21-4144-94c7-3bbaf1c87a4b",
   "metadata": {},
   "source": [
    "#### Inactive platforms"
   ]
  },
  {
   "cell_type": "code",
   "execution_count": null,
   "id": "f47f083a-8fdc-4534-bda7-8c04f1bd0d2d",
   "metadata": {
    "tags": []
   },
   "outputs": [],
   "source": [
    "# Filter out inactive platforms\n",
    "\n",
    "inactive = ['Partly removed', 'Not in use', 'Abandoned']\n",
    "\n",
    "inactive = platforms[platforms.status_normalised.isin(inactive)].copy()\n",
    "\n",
    "print(f'There are {len(inactive)} inactive platforms')"
   ]
  },
  {
   "cell_type": "code",
   "execution_count": null,
   "id": "b2688f26-24b9-4c37-8106-7c7c4ca132e7",
   "metadata": {
    "tags": []
   },
   "outputs": [],
   "source": [
    "# Inactive platforms by country\n",
    "\n",
    "inactive.country.value_counts()"
   ]
  },
  {
   "cell_type": "code",
   "execution_count": null,
   "id": "56327828-5788-4be1-a2e8-3436bd9dbb14",
   "metadata": {
    "tags": []
   },
   "outputs": [],
   "source": [
    "#for i, row in inactive.iterrows():\n",
    "#    print(f'{row.country.upper()}: {row.infra_name}')"
   ]
  },
  {
   "cell_type": "code",
   "execution_count": null,
   "id": "efd811c6-4d09-4d89-8fac-564d026b8ced",
   "metadata": {
    "tags": []
   },
   "outputs": [],
   "source": [
    "# Filter out removed platforms\n",
    "\n",
    "removed = platforms[platforms.status_normalised=='Removed']\n",
    "\n",
    "len(removed)"
   ]
  },
  {
   "cell_type": "code",
   "execution_count": null,
   "id": "26178847-b71b-4e18-87b0-273b8fb448d1",
   "metadata": {
    "tags": []
   },
   "outputs": [],
   "source": [
    "removed.country.value_counts()"
   ]
  },
  {
   "cell_type": "code",
   "execution_count": null,
   "id": "ba04425b-11e8-40c5-9034-c2ac333f016c",
   "metadata": {
    "tags": []
   },
   "outputs": [],
   "source": [
    "#for i, row in removed.iterrows():\n",
    "#    print(f'{row.country.upper()}: {row.infra_name}')"
   ]
  },
  {
   "cell_type": "code",
   "execution_count": null,
   "id": "57ef4943-73d9-4448-9dd5-6a8d671d693c",
   "metadata": {
    "tags": []
   },
   "outputs": [],
   "source": [
    "def get_ownership(df, col):\n",
    "    return df.assign(count=df[col].str.split(', '))\\\n",
    "    .explode(col)\\\n",
    "    .groupby([col]).size()\\\n",
    "    .reset_index(name='count').sort_values(by='count', ascending=False)"
   ]
  },
  {
   "cell_type": "code",
   "execution_count": null,
   "id": "e3bd7173-b1dc-4d49-ac91-da019c13d8ac",
   "metadata": {
    "tags": []
   },
   "outputs": [],
   "source": [
    "dfs = [platforms, platform_infra, pipes_infra, wellbores_infra]\n",
    "names = ['platforms', 'platform_infra', 'pipes_infra', 'wellbores_infra']\n",
    "cols = ['owner_name_normalised', 'owner_country', 'name_normalised']\n",
    "colnames = ['owner', 'owner_country', 'operator_name']\n",
    "\n",
    "to_merge = []\n",
    "for col, colname in zip(cols, colnames):\n",
    "    for df, name in zip(dfs, names):\n",
    "        owner = get_ownership(df, col)\n",
    "        owner['dataset'] = name\n",
    "        owner.to_csv(f'../data/visuals/{name}_{colname}_status.csv', index=False)\n",
    "        to_merge.append(owner)\n",
    "    \n",
    "        "
   ]
  },
  {
   "cell_type": "code",
   "execution_count": null,
   "id": "bb42dbc9-3e14-4737-88c1-055e8360762e",
   "metadata": {
    "tags": []
   },
   "outputs": [],
   "source": [
    "import glob"
   ]
  },
  {
   "cell_type": "code",
   "execution_count": null,
   "id": "abc0f2cd-08a8-4510-9a6e-4f37a5ac52ac",
   "metadata": {
    "tags": []
   },
   "outputs": [],
   "source": [
    "dfs = []\n",
    "for file in glob.glob('../data/visuals/*_operator_name_status.csv'):\n",
    "    df = pd.read_csv(file)\n",
    "    dfs.append(df)\n",
    "df = pd.concat(dfs)\n",
    "df.to_csv('../data/visuals/operator_name_total.csv', index=False)"
   ]
  },
  {
   "cell_type": "raw",
   "id": "192ecb03-bd69-40d7-b3da-6c5359b4315f",
   "metadata": {
    "tags": []
   },
   "source": [
    "df = pd.concat(to_merge)"
   ]
  },
  {
   "cell_type": "code",
   "execution_count": null,
   "id": "3f6d3d4d-30af-4f49-8304-ca0c41ff600e",
   "metadata": {
    "tags": []
   },
   "outputs": [],
   "source": [
    "df.to_csv('../data/visuals/total_status.csv', index=False)"
   ]
  },
  {
   "cell_type": "code",
   "execution_count": null,
   "id": "02c44bb6-087f-44d0-8d23-5061f2dbfbcf",
   "metadata": {
    "tags": []
   },
   "outputs": [],
   "source": [
    "owner = get_ownership(platforms, 'owner_name_normalised')"
   ]
  },
  {
   "cell_type": "code",
   "execution_count": null,
   "id": "3558445b-c092-4a41-943d-75ff04c52424",
   "metadata": {
    "tags": []
   },
   "outputs": [],
   "source": [
    "owner.to_csv('../data/visuals/platforms_infra_owner_status.csv', index=False)"
   ]
  },
  {
   "cell_type": "code",
   "execution_count": null,
   "id": "5e7e5c22-2bf8-4484-b0cf-ad471d899bf7",
   "metadata": {
    "tags": []
   },
   "outputs": [],
   "source": [
    "for i, row in owner.iterrows():\n",
    "    print(f'{row.country}: {row[\"count\"]}')"
   ]
  },
  {
   "cell_type": "code",
   "execution_count": null,
   "id": "d43171bc-69b3-4017-a12e-26a544607d50",
   "metadata": {
    "tags": []
   },
   "outputs": [],
   "source": [
    "# Create function for plotting ownership\n",
    "\n",
    "def plot_ownership(df, col):\n",
    "    return df.assign(count=df[col].str.split(', '))\\\n",
    "    .explode(col)\\\n",
    "    .groupby([col]).size()\\\n",
    "    .reset_index(name='count').sort_values(by='count', ascending=False).nlargest(columns='count', n=10).plot(kind='bar', x=col)"
   ]
  },
  {
   "cell_type": "code",
   "execution_count": null,
   "id": "620df42b-ecbe-480d-877b-9145cc27b296",
   "metadata": {
    "tags": []
   },
   "outputs": [],
   "source": [
    "infra = get_licence_and_company(wellbores, com_to_merge)"
   ]
  },
  {
   "cell_type": "code",
   "execution_count": null,
   "id": "3c3ad6d7-40f4-4159-8364-ad7df082dac4",
   "metadata": {
    "tags": []
   },
   "outputs": [],
   "source": [
    "infra.country.value_counts()"
   ]
  },
  {
   "cell_type": "code",
   "execution_count": null,
   "id": "4b5711c9-17cf-4899-af2a-e10e61439711",
   "metadata": {
    "tags": []
   },
   "outputs": [],
   "source": [
    "inactive = infra[infra.status_normalised.isin(['Not in use', 'Abandoned'])]"
   ]
  },
  {
   "cell_type": "code",
   "execution_count": null,
   "id": "fefada20-1303-4dd4-91cf-b2647af1a763",
   "metadata": {
    "tags": []
   },
   "outputs": [],
   "source": [
    "removed = infra[infra.status_normalised == 'Removed']"
   ]
  },
  {
   "cell_type": "code",
   "execution_count": null,
   "id": "b13164be-0a33-4a7e-b888-d4e828239ee3",
   "metadata": {
    "tags": []
   },
   "outputs": [],
   "source": [
    "owner = get_ownership(inactive, 'owner_country')"
   ]
  },
  {
   "cell_type": "code",
   "execution_count": null,
   "id": "ae585d0f-6732-4cbc-9f95-94ee061d9265",
   "metadata": {
    "tags": []
   },
   "outputs": [],
   "source": [
    "for i, row in owner.iterrows():\n",
    "    print(f'{row.owner_country}: {row[\"count\"]}')"
   ]
  },
  {
   "cell_type": "markdown",
   "id": "9d264a0c-1223-4070-bc33-b0715e82b41c",
   "metadata": {},
   "source": [
    "### Pipes"
   ]
  },
  {
   "cell_type": "code",
   "execution_count": null,
   "id": "9fe36212-5c29-4bc8-b59c-f7e2d32c91d0",
   "metadata": {
    "tags": []
   },
   "outputs": [],
   "source": [
    "# All pipes\n",
    "#pipes = pipes.to_crs(4326)\n",
    "pipes_com = get_licence_and_company(pipes, com_to_merge)"
   ]
  },
  {
   "cell_type": "code",
   "execution_count": null,
   "id": "a90f0b17-ea2c-4970-8f15-c647d3aedfd3",
   "metadata": {
    "tags": []
   },
   "outputs": [],
   "source": [
    "# Owners (licence holders)\n",
    "\n",
    "plot_ownership(pipes_com, 'owner_name_normalised')"
   ]
  },
  {
   "cell_type": "code",
   "execution_count": null,
   "id": "dcf533e2-6696-4183-8757-103da9335f17",
   "metadata": {
    "tags": []
   },
   "outputs": [],
   "source": [
    "# Operators\n",
    "\n",
    "plot_ownership(pipes_com, 'name_normalised')"
   ]
  },
  {
   "cell_type": "code",
   "execution_count": null,
   "id": "27ee0499-2b1e-4115-b91c-9a62989d2168",
   "metadata": {
    "tags": []
   },
   "outputs": [],
   "source": [
    "# Owner country\n",
    "\n",
    "plot_ownership(pipes_com, 'owner_country')"
   ]
  },
  {
   "cell_type": "code",
   "execution_count": null,
   "id": "53147606-0fd4-43ff-ad4c-09a977d00688",
   "metadata": {
    "tags": []
   },
   "outputs": [],
   "source": [
    "pipes_com['type_normalised'].value_counts()"
   ]
  },
  {
   "cell_type": "markdown",
   "id": "7dc0a23f-04e8-4e78-8bff-53078d31bedd",
   "metadata": {},
   "source": [
    "### Pipes in radius"
   ]
  },
  {
   "cell_type": "code",
   "execution_count": null,
   "id": "6fb7d8a4-48a8-4cdd-9189-e5dbcf70759f",
   "metadata": {
    "tags": []
   },
   "outputs": [],
   "source": [
    "pipes_infra_com = get_licence_and_company(pipes_infra, com_to_merge)"
   ]
  },
  {
   "cell_type": "code",
   "execution_count": null,
   "id": "7f312595-b954-4574-aab6-5b8e6191ef46",
   "metadata": {
    "tags": []
   },
   "outputs": [],
   "source": [
    "plot_ownership(pipes_infra_com, 'owner_name_normalised')"
   ]
  },
  {
   "cell_type": "code",
   "execution_count": null,
   "id": "46e326e9-6c42-4d65-99e3-86dfe07651f4",
   "metadata": {
    "tags": []
   },
   "outputs": [],
   "source": [
    "plot_ownership(pipes_infra_com, 'name_local')"
   ]
  },
  {
   "cell_type": "code",
   "execution_count": null,
   "id": "c347bd71-e93c-470a-ab0e-411a554a9108",
   "metadata": {
    "tags": []
   },
   "outputs": [],
   "source": [
    "# Operators\n",
    "\n",
    "plot_ownership(pipes_infra_com, 'name_normalised')"
   ]
  },
  {
   "cell_type": "markdown",
   "id": "480a01c4-a937-41bf-b7eb-cb835e41aa3b",
   "metadata": {},
   "source": [
    "### Wellbores"
   ]
  },
  {
   "cell_type": "code",
   "execution_count": null,
   "id": "2725b95e-23f3-45d8-a565-660a911f678d",
   "metadata": {
    "tags": []
   },
   "outputs": [],
   "source": [
    "#wellbores = wellbores.to_crs(4326)"
   ]
  },
  {
   "cell_type": "code",
   "execution_count": null,
   "id": "3d29997e-8573-4371-a3b3-6c7998e982a2",
   "metadata": {
    "tags": []
   },
   "outputs": [],
   "source": [
    "wellbores_com = get_licence_and_company(wellbores, com_to_merge)"
   ]
  },
  {
   "cell_type": "code",
   "execution_count": null,
   "id": "6d2e7f40-4e1e-4e8b-ba4e-80318f8f1cc2",
   "metadata": {
    "tags": []
   },
   "outputs": [],
   "source": [
    "# Owner (by licence)\n",
    "\n",
    "plot_ownership(wellbores_com, 'owner_name_normalised')"
   ]
  },
  {
   "cell_type": "code",
   "execution_count": null,
   "id": "45ed02b8-0e5f-42f9-8280-d81e3903a016",
   "metadata": {
    "tags": []
   },
   "outputs": [],
   "source": [
    "# Operators\n",
    "\n",
    "plot_ownership(wellbores_com, 'name_normalised')"
   ]
  },
  {
   "cell_type": "markdown",
   "id": "f52e7e93-4a57-40d5-add1-4bc48e089aa3",
   "metadata": {},
   "source": [
    "### Total infra in radius"
   ]
  },
  {
   "cell_type": "code",
   "execution_count": null,
   "id": "e2467c58-6608-4811-933b-6d5a3e33aee1",
   "metadata": {
    "tags": []
   },
   "outputs": [],
   "source": [
    "# Licence holder\n",
    "\n",
    "plot_ownership(infra_total_infra, 'owner_name_normalised')"
   ]
  },
  {
   "cell_type": "code",
   "execution_count": null,
   "id": "f9e3ea51-afb7-4d4c-8421-0e133ce49555",
   "metadata": {
    "tags": []
   },
   "outputs": [],
   "source": [
    "# Operator\n",
    "\n",
    "plot_ownership(infra_total_infra, 'name_normalised')"
   ]
  },
  {
   "cell_type": "code",
   "execution_count": null,
   "id": "f9bd9c87-c0e9-4ee8-bc5f-2d5ce1efdc7d",
   "metadata": {
    "tags": []
   },
   "outputs": [],
   "source": [
    "plot_ownership(infra_total_infra, 'owner_country')"
   ]
  },
  {
   "cell_type": "markdown",
   "id": "7764b0b0-e219-4bdb-88a3-16f15815c182",
   "metadata": {},
   "source": [
    "## Deep dive into platforms"
   ]
  },
  {
   "cell_type": "code",
   "execution_count": null,
   "id": "2f69def7-2402-48b0-b803-be68c8ab3f5f",
   "metadata": {
    "tags": []
   },
   "outputs": [],
   "source": [
    "df_platforms = platforms.to_crs(4326)\n",
    "df_platform_infra = platform_infra.to_crs(4326)\n",
    "df_pipes = pipes_infra.to_crs(4326)\n",
    "df_wellbores = wellbores_infra.to_crs(4326)"
   ]
  },
  {
   "cell_type": "code",
   "execution_count": null,
   "id": "579aa9b5-5fff-48d1-888c-587b3ed963fd",
   "metadata": {
    "tags": []
   },
   "outputs": [],
   "source": [
    "# Look for interesting platforms\n",
    "\n",
    "df = pd.concat([df_platforms, df_platform_infra, df_pipes, df_wellbores])"
   ]
  },
  {
   "cell_type": "code",
   "execution_count": null,
   "id": "a2ea80eb-1034-49eb-88f1-a40d8ce6e9a9",
   "metadata": {
    "tags": []
   },
   "outputs": [],
   "source": [
    "df = df.to_crs(4326)"
   ]
  },
  {
   "cell_type": "code",
   "execution_count": null,
   "id": "d2b4c547-7c2e-41b3-b46b-a0c2b047ce98",
   "metadata": {
    "tags": []
   },
   "outputs": [],
   "source": [
    "# Create subset of inactive \n",
    "\n",
    "inactive = ['Not in use', 'Abandoned']"
   ]
  },
  {
   "cell_type": "code",
   "execution_count": null,
   "id": "ae2eca98-bf2d-46e1-899a-e6b94c4fe132",
   "metadata": {
    "tags": []
   },
   "outputs": [],
   "source": [
    "inactive[(inactive.licence_name.str.contains('P18')) & (inactive.licence_name.notna()) & (inactive.country=='nl')]"
   ]
  },
  {
   "cell_type": "code",
   "execution_count": null,
   "id": "912ca587-a1f7-422b-9b8a-3e829627a439",
   "metadata": {
    "tags": []
   },
   "outputs": [],
   "source": [
    "df.type_normalised.value_counts()"
   ]
  },
  {
   "cell_type": "code",
   "execution_count": null,
   "id": "c6bd2977-e940-41f7-94db-cb9a4fa49499",
   "metadata": {
    "tags": []
   },
   "outputs": [],
   "source": [
    "# Groupby licence area and get overview of properties with many structures\n",
    "\n",
    "inactive = df[(df.type_normalised == 'Platform') & (df.status_normalised.isin(inactive))]\n",
    "inactive.groupby(['licence_name'])['feature_id'].agg(count = np.size).nlargest(20, 'count')"
   ]
  },
  {
   "cell_type": "code",
   "execution_count": null,
   "id": "0e58aa3b-6ec5-4f49-9333-157add68e3df",
   "metadata": {
    "tags": []
   },
   "outputs": [],
   "source": [
    "inactive.type_normalised.value_counts()"
   ]
  },
  {
   "cell_type": "markdown",
   "id": "4b162f99-4201-4d87-b651-b0b43ce7ffd6",
   "metadata": {},
   "source": [
    "# Interesting projects:\n",
    "1. 018: ekofisk ([wiki](https://nl.wikipedia.org/wiki/Ekofisk))\n",
    "2. P117: brent ([shell decommissioning page](https://www.shell.co.uk/sustainability/decommissioning/brent-field-decommissioning/the-brent-story.html))\n",
    "3. Q01c-diep \n",
    "4. Forties ([wiki](https://en.wikipedia.org/wiki/Forties_Oil_Field))\n",
    "5. P18a might be interesting: close to the Porthos project. Abandoned ([wiki](https://nl.wikipedia.org/wiki/P18-veld))"
   ]
  },
  {
   "cell_type": "code",
   "execution_count": null,
   "id": "8fb08202-75d9-4c47-b7f1-bdb54e225310",
   "metadata": {
    "tags": []
   },
   "outputs": [],
   "source": [
    "inactive[(inactive.type_normalised=='Other') & (inactive.infra_type.isin(['MANIFOLD', 'LOADING SYSTEM', 'TEE PIECE', 'STORAGE TANK']))].licence_name.value_counts()"
   ]
  },
  {
   "cell_type": "code",
   "execution_count": null,
   "id": "9ce5255d-e996-418f-b648-dc591cc60fde",
   "metadata": {
    "tags": []
   },
   "outputs": [],
   "source": [
    "# Select platform of interest (poi)\n",
    "\n",
    "poi = df[df.licence_name=='F16a & F16b']\n",
    "poi[['type_normalised', 'name_normalised']].value_counts()"
   ]
  },
  {
   "cell_type": "code",
   "execution_count": null,
   "id": "4940120e-32fc-4eea-b608-92ac51415994",
   "metadata": {
    "tags": []
   },
   "outputs": [],
   "source": [
    "poi.owner_name_normalised.value_counts()"
   ]
  },
  {
   "cell_type": "code",
   "execution_count": null,
   "id": "75bc7ee0-ae54-492a-9d06-a0316f44dd70",
   "metadata": {
    "tags": []
   },
   "outputs": [],
   "source": [
    "poi_to_file.head()"
   ]
  },
  {
   "cell_type": "code",
   "execution_count": null,
   "id": "f1181554-9b64-4dba-aab5-52a8f3d211dc",
   "metadata": {
    "tags": []
   },
   "outputs": [],
   "source": [
    "poi_to_file = poi.copy()\n",
    "poi_to_file = poi_to_file.drop('radius', axis=1)\n",
    "poi_to_file[['name_normalised', 'owner_country', 'owner_name_normalised', 'owner_name']] = poi_to_file[['name_normalised', 'owner_country', 'owner_name_normalised', 'owner_name']].astype(str)\n",
    "poi_to_file.to_file('../data/visuals/f16a_f16b.geojson', driver='GeoJSON')"
   ]
  },
  {
   "cell_type": "code",
   "execution_count": null,
   "id": "9103fc3f-edf3-48c2-a768-88fd9710e1f9",
   "metadata": {
    "tags": []
   },
   "outputs": [],
   "source": [
    "poi.explore()"
   ]
  },
  {
   "cell_type": "code",
   "execution_count": null,
   "id": "210e26d4-8d54-498b-8dcf-8f2420010feb",
   "metadata": {},
   "outputs": [],
   "source": []
  }
 ],
 "metadata": {
  "kernelspec": {
   "display_name": "Python 3 (ipykernel)",
   "language": "python",
   "name": "python3"
  },
  "language_info": {
   "codemirror_mode": {
    "name": "ipython",
    "version": 3
   },
   "file_extension": ".py",
   "mimetype": "text/x-python",
   "name": "python",
   "nbconvert_exporter": "python",
   "pygments_lexer": "ipython3",
   "version": "3.10.10"
  }
 },
 "nbformat": 4,
 "nbformat_minor": 5
}
