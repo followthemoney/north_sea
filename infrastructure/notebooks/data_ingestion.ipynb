{
 "cells": [
  {
   "cell_type": "code",
   "execution_count": 11,
   "id": "75318075-a5be-4cd5-a1a4-1b4d6c1f1216",
   "metadata": {
    "tags": []
   },
   "outputs": [],
   "source": [
    "import geopandas as gpd\n",
    "import logging\n",
    "import pandas as pd\n",
    "from sqlalchemy import create_engine, text\n",
    "from dotenv import load_dotenv\n",
    "import config\n",
    "import os\n",
    "import glob\n",
    "import datetime\n",
    "from dateutil.relativedelta import relativedelta\n",
    "import zipfile\n",
    "import fiona\n",
    "import shutil\n",
    "\n",
    "load_dotenv('.env')\n",
    "os.environ['PROJ_LIB'] = '/opt/conda/share/proj'"
   ]
  },
  {
   "cell_type": "markdown",
   "id": "e44a97ce-43f2-47d6-86be-396a75fc6bb9",
   "metadata": {},
   "source": [
    "## Config"
   ]
  },
  {
   "cell_type": "code",
   "execution_count": 2,
   "id": "4cbc1cca-cc9b-4a9a-a2a9-f7e065af0b00",
   "metadata": {
    "tags": []
   },
   "outputs": [],
   "source": [
    "def create_nl_zipfiles():\n",
    "    \n",
    "    today = datetime.date.today()# - relativedelta(months=1) #(uncomment if current month hasn't been uploaded yet\n",
    "    year = today.year\n",
    "    month_name = today.strftime('%b').lower()\n",
    "    month_number = today.strftime('%m')\n",
    "    \n",
    "    nl_dict = {'platforms': f'https://www.nlog.nl/sites/default/files/{year}-{month_number}/{month_name}-{year}-nlog-facility_utm.zip',\n",
    "               'licences': f'https://www.nlog.nl/sites/default/files/{year}-{month_number}/{month_name}-{year}-nlog-licences_utm.zip',\n",
    "               'fields': f'https://www.nlog.nl/sites/default/files/{year}-{month_number}/{month_name}-{year}-nlog-fields_utm.zip',\n",
    "               'wellbores': f'https://www.nlog.nl/sites/default/files/{year}-{month_number}/{month_name}-{year}-nlog-boreholes_utm.zip'}\n",
    "    \n",
    "    \n",
    "    return dict(nl_dict)"
   ]
  },
  {
   "cell_type": "code",
   "execution_count": 3,
   "id": "b32d1954-40d9-454b-a71e-8d3aa68715e3",
   "metadata": {
    "tags": []
   },
   "outputs": [],
   "source": [
    "# download urls\n",
    "\n",
    "zip_dict = {'no': 'https://factpages.npd.no/downloads/fgdb/NPD_FactMapsData_v3_0.zip',\n",
    "            'uk': 'https://datanstauthority.blob.core.windows.net/external/OpenDataZips/UKCS_OFF_WGS84.zip',\n",
    "            'nl': create_nl_zipfiles()}"
   ]
  },
  {
   "cell_type": "code",
   "execution_count": 4,
   "id": "33a6a032-f2aa-4116-87b2-b0436a925cc1",
   "metadata": {
    "tags": []
   },
   "outputs": [],
   "source": [
    "wfs_dict = {'nl': 'https://geo.rijkswaterstaat.nl/services/ogc/gdr/kabels_en_leidingen_noordzee/ows?',\n",
    "            'int': 'https://ows.emodnet-humanactivities.eu/wfs?SERVICE%3DWFS&REQUEST%3DGetCapabilities&VERSION=2.0.0'\n",
    "                    }"
   ]
  },
  {
   "cell_type": "code",
   "execution_count": 22,
   "id": "366445de-7f3a-4c93-941b-f87e059434a9",
   "metadata": {
    "tags": []
   },
   "outputs": [],
   "source": [
    "crs_dict = {'no': 23032,\n",
    "           'uk': 4326,\n",
    "           'be': 4326,\n",
    "           'de': 4326,\n",
    "           'dk': 4326,\n",
    "           'int': 4326}"
   ]
  },
  {
   "cell_type": "code",
   "execution_count": 6,
   "id": "774196d0-3450-4d82-9f78-4cf3ee809db0",
   "metadata": {
    "tags": []
   },
   "outputs": [],
   "source": [
    "country_dict = {'be': 'Belgium',\n",
    "                'dk': 'Denmark',\n",
    "                'uk': 'United Kingdom',\n",
    "                'no': 'Norway',\n",
    "                'de': 'Germany',\n",
    "                'nl': 'Netherlands'}"
   ]
  },
  {
   "cell_type": "markdown",
   "id": "2abc1755-da36-4eb4-9857-293584fb582b",
   "metadata": {},
   "source": [
    "## Checks"
   ]
  },
  {
   "cell_type": "code",
   "execution_count": 49,
   "id": "a374219f-6ea4-41de-9ae7-d3f3ce1fc3aa",
   "metadata": {
    "tags": []
   },
   "outputs": [],
   "source": [
    "# General functions\n",
    "\n",
    "def check_countries(countries):\n",
    "    '''\n",
    "    Parameters\n",
    "    ----------\n",
    "    countries : list\n",
    "    List of iso-2 country codes, use 'all' for all countries\n",
    "    '''\n",
    "    if not isinstance(countries, list):\n",
    "        raise TypeError(f'List of countries is needed, not {type(countries)}')\n",
    "    \n",
    "    # create list if all countries are requested\n",
    "    if 'all' in countries:\n",
    "        countries = ['no', 'nl', 'uk', 'be', 'dk', 'de']\n",
    "    else:\n",
    "        pass\n",
    "    return countries\n",
    "\n",
    "def set_crs(gdf, country):\n",
    "    '''\n",
    "    Parameters:\n",
    "    -----------\n",
    "    gdf : geodataframe\n",
    "        Geodataframe to check\n",
    "    country: string\n",
    "        Country to set crs'''\n",
    "    \n",
    "    gdf = gdf.set_crs(crs_dict.get(country))\n",
    "    gdf = gdf.to_crs(23032)\n",
    "        \n",
    "    return logging.info(f'CRS is changed to {gdf.crs}')\n",
    "\n",
    "\n",
    "def export_to_geopackage(gdf, country, name, path):\n",
    "\n",
    "    path = f'../data/{country}/'\n",
    "\n",
    "    if not os.path.exists(path):\n",
    "        os.makedirs(path)\n",
    "\n",
    "    if len(gdf) > 0:\n",
    "        gdf.to_file(f'{path}{country}_geopackage.gpkg', layer=name, driver='GPKG')\n",
    "\n",
    "    return print(f'exported {country} -- {name} -- to: {path}')\n",
    "\n",
    "def export_to_postgres(file, layer, country, engine):\n",
    "    \n",
    "    gdf = gpd.read_file(file, layer=layer)\n",
    "    set_crs(gdf, country)\n",
    "    gdf.columns = gdf.columns.str.lower()\n",
    "    \n",
    "    try:\n",
    "        gdf.to_postgis(f'{country}_{layer.lower()}', engine, if_exists='append', index=False)\n",
    "    except ValueError:\n",
    "        df = pd.DataFrame(gdf)\n",
    "        df.to_sql(f'{country}_{layer.lower()}', engine, if_exists='append', index=False)\n",
    "    except AttributeError:\n",
    "        gdf = gdf[gdf['geometry'] != None]\n",
    "        gdf.to_postgis(f'{country}_{layer.lower()}', engine, if_exists='append', index=False)\n"
   ]
  },
  {
   "cell_type": "markdown",
   "id": "9e03d5e7-9ebc-49ea-87b0-f589ffe74397",
   "metadata": {},
   "source": [
    "## Get WFS"
   ]
  },
  {
   "cell_type": "code",
   "execution_count": 8,
   "id": "e9a0629b-ac20-4b94-93cb-37b28f573427",
   "metadata": {
    "tags": []
   },
   "outputs": [],
   "source": [
    "def get_wfs_layers(url):\n",
    "    '''Get list of available layers\n",
    "    and their index'''\n",
    "    wfs = WebFeatureService(url, version='2.0.0')\n",
    "    for i, layer in enumerate(wfs.contents):\n",
    "        print(i, layer)\n",
    "        \n",
    "def select_wfs_layer(url, index):\n",
    "    '''Select a wfs layer by index'''\n",
    "    wfs = WebFeatureService(url, version='2.0.0')\n",
    "    layer = list(wfs.contents)[index]\n",
    "    return layer\n",
    "\n",
    "\n",
    "def wfs2gdf(layer, url, output_format, wfs_version=\"2.0.0\"):\n",
    "    '''Needs layer, wfs_url and output_format\n",
    "    as input and creates a geodataframe\n",
    "    '''\n",
    "    \n",
    "    params = dict(service='WFS', \n",
    "                  version=wfs_version, \n",
    "                  request='GetFeature', \n",
    "                  typeName=layer, \n",
    "                  outputFormat=output_format)\n",
    "    \n",
    "    if 'xml' in output_format:\n",
    "        with BytesCollection(requests.get(url, params=params).content) as f:\n",
    "            gdf = gpd.GeoDataFrame.from_features(f)\n",
    "    \n",
    "    elif 'json' in output_format:\n",
    "            r = requests.get(url, params=params)\n",
    "            gdf = gpd.read_file(r.text)\n",
    "        \n",
    "    return gdf"
   ]
  },
  {
   "cell_type": "markdown",
   "id": "1ad17790-ccaa-450a-a5a1-0a8f802a2f67",
   "metadata": {
    "tags": []
   },
   "source": [
    "## Import functions"
   ]
  },
  {
   "cell_type": "code",
   "execution_count": 9,
   "id": "005d2a4c-771b-48f0-9fc8-838b64002c40",
   "metadata": {
    "tags": []
   },
   "outputs": [],
   "source": [
    "# For now, only nl, no and uk have zipfiles to download\n",
    "\n",
    "def download_zipfiles(countries):\n",
    "    '''Downloads zipfiles\n",
    "    Parameters:\n",
    "    -----------\n",
    "    countries : list\n",
    "        List of countries'''\n",
    "    \n",
    "    for country in check_countries(countries):\n",
    "        print(f'working on {country}')\n",
    "        if country not in ['nl', 'uk', 'no']: # change this if zipfiles for other countries are available\n",
    "            raise ValueError(f'No zipfiles available for {country}, please use function download_wfs')\n",
    "\n",
    "        if isinstance(zip_dict.get(country), dict):\n",
    "            names = [key for key in zip_dict.get(country).keys()] # get names for logging purposes\n",
    "            urls = [value for value in zip_dict.get(country).values()]\n",
    "            \n",
    "        else:\n",
    "            names = country.split()\n",
    "            urls = zip_dict[country].split()\n",
    "        \n",
    "        path = f'../data/{country}/'\n",
    "\n",
    "        if not os.path.exists(path):\n",
    "            os.makedirs(path)\n",
    "\n",
    "        for name, url in zip(names, urls):\n",
    "            r = requests.get(url)\n",
    "            z = zipfile.ZipFile(io.BytesIO(r.content))\n",
    "            z.extractall(path)\n",
    "        \n",
    "        # Write files to geopackage, this is not necessary per se, but makes life a little bit easier later on\n",
    "        if country in ['nl', 'uk']:\n",
    "            for file in glob.glob(f'{path}/*.shp'):\n",
    "                if country == 'uk':\n",
    "                    name = os.path.basename(file)[5:-9].lower()\n",
    "                elif country == 'nl':\n",
    "                    name = os.path.basename(file)[14:-8].lower()\n",
    "                \n",
    "                gdf = gpd.read_file(file)\n",
    "                gdf = gdf[~gdf.geometry.isna()]\n",
    "                \n",
    "                export_to_geopackage(gdf, country, name)\n",
    "        \n",
    "        "
   ]
  },
  {
   "cell_type": "code",
   "execution_count": null,
   "id": "7fbba3dc-5547-4660-92a5-1155b6fc13fe",
   "metadata": {
    "tags": []
   },
   "outputs": [],
   "source": [
    "def download_wfs(countries):\n",
    "    \n",
    "    for country in check_countries(countries):\n",
    "        \n",
    "        if country in ['uk', 'no']:\n",
    "            raise ValueError(f'No wfs available for {country}, please use function download_zipfiles')\n",
    "        \n",
    "        elif country in ['be', 'dk', 'de', 'int']:\n",
    "            _country = 'int'\n",
    "            \n",
    "            names = ['licences', 'platforms', 'pipes', 'wellbores']\n",
    "            emod_layers = [0, 78, 79, 24]\n",
    "            \n",
    "            url = wfs_dict.get(_country)\n",
    "            \n",
    "            for name, layer in zip(names, emod_layers):\n",
    "                gdf = wfs2gdf(select_wfs_layer(url, layer), url, 'json')\n",
    "                gdf = gdf[gdf.country == country_dict.get(country)]\n",
    "                \n",
    "                export_to_geopackage(gdf, country, name)\n",
    "        \n",
    "        elif country == 'nl':\n",
    "            pipes_url = wfs_dict.get('nl') # change config\n",
    "            gdf = wfs2gdf(select_wfs_layer(pipes_url, 2), pipes_url, 'json')\n",
    "            export_to_geopackage(gdf, country, 'pipes')"
   ]
  },
  {
   "cell_type": "code",
   "execution_count": null,
   "id": "42c27661-2a48-48d7-a244-bf48d269b8c0",
   "metadata": {},
   "outputs": [],
   "source": [
    "def download_production(countries):\n",
    "    \n",
    "    "
   ]
  },
  {
   "cell_type": "code",
   "execution_count": null,
   "id": "59e14905-b0de-40df-84e4-d078a55fefa2",
   "metadata": {},
   "outputs": [],
   "source": [
    "def write_to_pg(countries):\n",
    "    \n",
    "    for country in check_countries(countries):\n",
    "        path = f'../data/{country}/'\n",
    "        \n",
    "        if country == 'no':\n",
    "            file = f'{path}NPD_FactMapsData_v3_0.gdb/'\n",
    "        \n",
    "        else:\n",
    "            file = f'{path}{country}_geopackage.gpkg'\n",
    "            \n",
    "        layers = fiona.listlayers(file)\n",
    "        for layer in layers:\n",
    "            export_to_postgres(file, layer, country, engine)\n"
   ]
  },
  {
   "cell_type": "code",
   "execution_count": null,
   "id": "811f6e2c-311f-442d-9444-83996ebafa6a",
   "metadata": {},
   "outputs": [],
   "source": []
  }
 ],
 "metadata": {
  "kernelspec": {
   "display_name": "Python 3 (ipykernel)",
   "language": "python",
   "name": "python3"
  },
  "language_info": {
   "codemirror_mode": {
    "name": "ipython",
    "version": 3
   },
   "file_extension": ".py",
   "mimetype": "text/x-python",
   "name": "python",
   "nbconvert_exporter": "python",
   "pygments_lexer": "ipython3",
   "version": "3.10.10"
  }
 },
 "nbformat": 4,
 "nbformat_minor": 5
}
