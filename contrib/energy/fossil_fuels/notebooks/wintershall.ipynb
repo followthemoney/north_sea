{
 "cells": [
  {
   "cell_type": "code",
   "execution_count": 1,
   "metadata": {
    "scrolled": true
   },
   "outputs": [],
   "source": [
    "from IPython.display import display, HTML\n",
    "import plotly.graph_objects as go\n",
    "from plotly import express as px\n",
    "import pandas as pd\n",
    "import datetime as dt\n",
    "import numpy as np\n",
    "import glob\n",
    "import os\n",
    "import re\n",
    "import warnings\n",
    "\n",
    "warnings.simplefilter(\"ignore\")"
   ]
  },
  {
   "cell_type": "markdown",
   "metadata": {},
   "source": [
    "### Goal\n",
    "\n",
    "Get an overview of Wintershall Noordzee B.V. assets in the North Sea, looking at:\n",
    "1. Fields and licenses owned by Wintershall since 2015\n",
    "2. Production of gas, oil and condensates since 2015\n",
    "3. Share of gas, oil and condensate production in the Dutch North Sea\n",
    "4. Share of Gazprom\n",
    "\n",
    "### Data sets\n",
    "\n",
    "1. License history Netherlands\n",
    "2. License history with shares UK 2012-2020\n",
    "3. License history UK\n",
    "4. Production data Netherlands per field / license\n",
    "\n",
    "### Steps\n",
    "\n",
    "1. Get all fields and licenses\n",
    "2. Compare production data set with historical licenses NL\n",
    "3. Query UK data for Wintershall Noordzee B.V.\n",
    "4. Get share of Wintershall in fields, so look for co-use\n",
    "5. Get share of production in Dutch North Sea production"
   ]
  },
  {
   "cell_type": "markdown",
   "metadata": {},
   "source": [
    "## Historical licenses"
   ]
  },
  {
   "cell_type": "code",
   "execution_count": 2,
   "metadata": {},
   "outputs": [],
   "source": [
    "PATH = '/Volumes/GoogleDrive-113330074508532941534/My Drive/Projecten/North Sea data/energy/fossil_fuels/'"
   ]
  },
  {
   "cell_type": "code",
   "execution_count": 3,
   "metadata": {
    "scrolled": true
   },
   "outputs": [
    {
     "data": {
      "text/html": [
       "<div>\n",
       "<style scoped>\n",
       "    .dataframe tbody tr th:only-of-type {\n",
       "        vertical-align: middle;\n",
       "    }\n",
       "\n",
       "    .dataframe tbody tr th {\n",
       "        vertical-align: top;\n",
       "    }\n",
       "\n",
       "    .dataframe thead th {\n",
       "        text-align: right;\n",
       "    }\n",
       "</style>\n",
       "<table border=\"1\" class=\"dataframe\">\n",
       "  <thead>\n",
       "    <tr style=\"text-align: right;\">\n",
       "      <th></th>\n",
       "      <th>observation_date</th>\n",
       "      <th>mutation_start</th>\n",
       "      <th>mutation_end</th>\n",
       "      <th>mutation_type</th>\n",
       "      <th>nr</th>\n",
       "      <th>licensee</th>\n",
       "      <th>licensee_normalized</th>\n",
       "      <th>license</th>\n",
       "      <th>license_normalized</th>\n",
       "    </tr>\n",
       "  </thead>\n",
       "  <tbody>\n",
       "    <tr>\n",
       "      <th>831</th>\n",
       "      <td>2022-01-01</td>\n",
       "      <td>NaT</td>\n",
       "      <td>NaT</td>\n",
       "      <td>NaN</td>\n",
       "      <td>88</td>\n",
       "      <td>Neptune Energy Participation Netherlands B.V.</td>\n",
       "      <td>Neptune Energy Group</td>\n",
       "      <td>D12a</td>\n",
       "      <td>D12a</td>\n",
       "    </tr>\n",
       "    <tr>\n",
       "      <th>1425</th>\n",
       "      <td>2022-01-01</td>\n",
       "      <td>NaT</td>\n",
       "      <td>NaT</td>\n",
       "      <td>NaN</td>\n",
       "      <td>72</td>\n",
       "      <td>TAQA Offshore B.V.</td>\n",
       "      <td>TAQA</td>\n",
       "      <td>P18c</td>\n",
       "      <td>P18c</td>\n",
       "    </tr>\n",
       "    <tr>\n",
       "      <th>869</th>\n",
       "      <td>2022-01-01</td>\n",
       "      <td>NaT</td>\n",
       "      <td>NaT</td>\n",
       "      <td>NaN</td>\n",
       "      <td>45</td>\n",
       "      <td>ONE-Dyas B.V.</td>\n",
       "      <td>ONE-Dyas</td>\n",
       "      <td>L11c</td>\n",
       "      <td>L11c</td>\n",
       "    </tr>\n",
       "    <tr>\n",
       "      <th>1409</th>\n",
       "      <td>2022-01-01</td>\n",
       "      <td>NaT</td>\n",
       "      <td>NaT</td>\n",
       "      <td>NaN</td>\n",
       "      <td>70</td>\n",
       "      <td>TAQA Offshore B.V.</td>\n",
       "      <td>TAQA</td>\n",
       "      <td>P15c, P15g, P15h, P15i &amp; P15j</td>\n",
       "      <td>P15c, P15g, P15h, P15i &amp; P15j</td>\n",
       "    </tr>\n",
       "    <tr>\n",
       "      <th>1411</th>\n",
       "      <td>2022-01-01</td>\n",
       "      <td>NaT</td>\n",
       "      <td>NaT</td>\n",
       "      <td>NaN</td>\n",
       "      <td>71</td>\n",
       "      <td>TAQA Offshore B.V.</td>\n",
       "      <td>TAQA</td>\n",
       "      <td>P18a</td>\n",
       "      <td>P18a</td>\n",
       "    </tr>\n",
       "  </tbody>\n",
       "</table>\n",
       "</div>"
      ],
      "text/plain": [
       "     observation_date mutation_start mutation_end mutation_type  nr  \\\n",
       "831        2022-01-01            NaT          NaT           NaN  88   \n",
       "1425       2022-01-01            NaT          NaT           NaN  72   \n",
       "869        2022-01-01            NaT          NaT           NaN  45   \n",
       "1409       2022-01-01            NaT          NaT           NaN  70   \n",
       "1411       2022-01-01            NaT          NaT           NaN  71   \n",
       "\n",
       "                                           licensee   licensee_normalized  \\\n",
       "831   Neptune Energy Participation Netherlands B.V.  Neptune Energy Group   \n",
       "1425                             TAQA Offshore B.V.                  TAQA   \n",
       "869                                   ONE-Dyas B.V.              ONE-Dyas   \n",
       "1409                             TAQA Offshore B.V.                  TAQA   \n",
       "1411                             TAQA Offshore B.V.                  TAQA   \n",
       "\n",
       "                            license             license_normalized  \n",
       "831                            D12a                           D12a  \n",
       "1425                           P18c                           P18c  \n",
       "869                            L11c                           L11c  \n",
       "1409  P15c, P15g, P15h, P15i & P15j  P15c, P15g, P15h, P15i & P15j  \n",
       "1411                           P18a                           P18a  "
      ]
     },
     "execution_count": 3,
     "metadata": {},
     "output_type": "execute_result"
    }
   ],
   "source": [
    "# Import historical licenses from Netherlands\n",
    "\n",
    "df_license = pd.read_excel(PATH + 'licenses/nl_licenses/nl_production_licenses.xlsx', \n",
    "                           sheet_name='license_raw', \n",
    "                           usecols=['observation_date',\n",
    "                                    'mutation_start',\n",
    "                                    'mutation_end',\n",
    "                                    'mutation_type',\n",
    "                                    'licensee',\n",
    "                                    'licensee_normalized',\n",
    "                                    'license',\n",
    "                                    'license_normalized',\n",
    "                                    'nr'])\n",
    "\n",
    "df_license.sort_values(by='observation_date', ascending=False).head()"
   ]
  },
  {
   "cell_type": "code",
   "execution_count": 4,
   "metadata": {},
   "outputs": [
    {
     "data": {
      "text/html": [
       "<div>\n",
       "<style scoped>\n",
       "    .dataframe tbody tr th:only-of-type {\n",
       "        vertical-align: middle;\n",
       "    }\n",
       "\n",
       "    .dataframe tbody tr th {\n",
       "        vertical-align: top;\n",
       "    }\n",
       "\n",
       "    .dataframe thead th {\n",
       "        text-align: right;\n",
       "    }\n",
       "</style>\n",
       "<table border=\"1\" class=\"dataframe\">\n",
       "  <thead>\n",
       "    <tr style=\"text-align: right;\">\n",
       "      <th></th>\n",
       "      <th>observation_date</th>\n",
       "      <th>mutation_start</th>\n",
       "      <th>mutation_end</th>\n",
       "      <th>mutation_type</th>\n",
       "      <th>nr</th>\n",
       "      <th>licensee</th>\n",
       "      <th>licensee_normalized</th>\n",
       "      <th>license</th>\n",
       "      <th>license_normalized</th>\n",
       "      <th>start_date</th>\n",
       "      <th>end_date</th>\n",
       "    </tr>\n",
       "  </thead>\n",
       "  <tbody>\n",
       "    <tr>\n",
       "      <th>0</th>\n",
       "      <td>2021-01-01</td>\n",
       "      <td>2019-12-20</td>\n",
       "      <td>NaT</td>\n",
       "      <td>Acquired</td>\n",
       "      <td>63</td>\n",
       "      <td>Aceiro Energy B.V.</td>\n",
       "      <td>Aceiro Energy B.V.</td>\n",
       "      <td>P08a</td>\n",
       "      <td>P08a</td>\n",
       "      <td>2019-12-20</td>\n",
       "      <td>2022-01-01</td>\n",
       "    </tr>\n",
       "    <tr>\n",
       "      <th>1</th>\n",
       "      <td>2022-01-01</td>\n",
       "      <td>NaT</td>\n",
       "      <td>NaT</td>\n",
       "      <td>NaN</td>\n",
       "      <td>64</td>\n",
       "      <td>Aceiro Energy B.V.</td>\n",
       "      <td>Aceiro Energy B.V.</td>\n",
       "      <td>P09a</td>\n",
       "      <td>P09a</td>\n",
       "      <td>2022-01-01</td>\n",
       "      <td>2023-01-01</td>\n",
       "    </tr>\n",
       "    <tr>\n",
       "      <th>2</th>\n",
       "      <td>2017-01-01</td>\n",
       "      <td>NaT</td>\n",
       "      <td>NaT</td>\n",
       "      <td>NaN</td>\n",
       "      <td>65</td>\n",
       "      <td>Aceiro Energy B.V.</td>\n",
       "      <td>Aceiro Energy B.V.</td>\n",
       "      <td>P09a &amp; P09b</td>\n",
       "      <td>P09a</td>\n",
       "      <td>2017-01-01</td>\n",
       "      <td>2018-01-01</td>\n",
       "    </tr>\n",
       "    <tr>\n",
       "      <th>3</th>\n",
       "      <td>2016-01-01</td>\n",
       "      <td>NaT</td>\n",
       "      <td>NaT</td>\n",
       "      <td>NaN</td>\n",
       "      <td>65</td>\n",
       "      <td>Aceiro Energy B.V.</td>\n",
       "      <td>Aceiro Energy B.V.</td>\n",
       "      <td>P09a &amp; P09b</td>\n",
       "      <td>P09a</td>\n",
       "      <td>2016-01-01</td>\n",
       "      <td>2017-01-01</td>\n",
       "    </tr>\n",
       "    <tr>\n",
       "      <th>4</th>\n",
       "      <td>2015-01-01</td>\n",
       "      <td>NaT</td>\n",
       "      <td>NaT</td>\n",
       "      <td>NaN</td>\n",
       "      <td>59</td>\n",
       "      <td>Aceiro Energy B.V.</td>\n",
       "      <td>Aceiro Energy B.V.</td>\n",
       "      <td>P09a &amp; P09b</td>\n",
       "      <td>P09a</td>\n",
       "      <td>2015-01-01</td>\n",
       "      <td>2016-01-01</td>\n",
       "    </tr>\n",
       "  </tbody>\n",
       "</table>\n",
       "</div>"
      ],
      "text/plain": [
       "  observation_date mutation_start mutation_end mutation_type  nr  \\\n",
       "0       2021-01-01     2019-12-20          NaT      Acquired  63   \n",
       "1       2022-01-01            NaT          NaT           NaN  64   \n",
       "2       2017-01-01            NaT          NaT           NaN  65   \n",
       "3       2016-01-01            NaT          NaT           NaN  65   \n",
       "4       2015-01-01            NaT          NaT           NaN  59   \n",
       "\n",
       "             licensee licensee_normalized      license license_normalized  \\\n",
       "0  Aceiro Energy B.V.  Aceiro Energy B.V.         P08a               P08a   \n",
       "1  Aceiro Energy B.V.  Aceiro Energy B.V.         P09a               P09a   \n",
       "2  Aceiro Energy B.V.  Aceiro Energy B.V.  P09a & P09b               P09a   \n",
       "3  Aceiro Energy B.V.  Aceiro Energy B.V.  P09a & P09b               P09a   \n",
       "4  Aceiro Energy B.V.  Aceiro Energy B.V.  P09a & P09b               P09a   \n",
       "\n",
       "  start_date   end_date  \n",
       "0 2019-12-20 2022-01-01  \n",
       "1 2022-01-01 2023-01-01  \n",
       "2 2017-01-01 2018-01-01  \n",
       "3 2016-01-01 2017-01-01  \n",
       "4 2015-01-01 2016-01-01  "
      ]
     },
     "execution_count": 4,
     "metadata": {},
     "output_type": "execute_result"
    }
   ],
   "source": [
    "def assign_start_date(row):\n",
    "    if row['mutation_start'] is pd.NaT:\n",
    "        value = row['observation_date']\n",
    "    else:\n",
    "        value = row['mutation_start']\n",
    "    return value\n",
    "\n",
    "def assign_end_date(row):\n",
    "    if row['mutation_end'] is pd.NaT:\n",
    "        value = row['observation_date'] + pd.offsets.DateOffset(years=1)\n",
    "    else:\n",
    "        value = row['mutation_end']\n",
    "    return value\n",
    "\n",
    "df_license['start_date'] = df_license.apply(assign_start_date, axis=1)\n",
    "df_license['end_date'] = df_license.apply(assign_end_date, axis=1)\n",
    "df_license.head()"
   ]
  },
  {
   "cell_type": "code",
   "execution_count": 5,
   "metadata": {
    "scrolled": true
   },
   "outputs": [
    {
     "data": {
      "text/html": [
       "<div>\n",
       "<style scoped>\n",
       "    .dataframe tbody tr th:only-of-type {\n",
       "        vertical-align: middle;\n",
       "    }\n",
       "\n",
       "    .dataframe tbody tr th {\n",
       "        vertical-align: top;\n",
       "    }\n",
       "\n",
       "    .dataframe thead th {\n",
       "        text-align: right;\n",
       "    }\n",
       "</style>\n",
       "<table border=\"1\" class=\"dataframe\">\n",
       "  <thead>\n",
       "    <tr style=\"text-align: right;\">\n",
       "      <th></th>\n",
       "      <th>index</th>\n",
       "      <th>observation_date</th>\n",
       "      <th>mutation_start</th>\n",
       "      <th>mutation_end</th>\n",
       "      <th>mutation_type</th>\n",
       "      <th>nr</th>\n",
       "      <th>licensee</th>\n",
       "      <th>licensee_normalized</th>\n",
       "      <th>license</th>\n",
       "      <th>license_normalized</th>\n",
       "      <th>start_date</th>\n",
       "      <th>end_date</th>\n",
       "    </tr>\n",
       "  </thead>\n",
       "  <tbody>\n",
       "    <tr>\n",
       "      <th>0</th>\n",
       "      <td>0</td>\n",
       "      <td>2021-01-01</td>\n",
       "      <td>2019-12-20</td>\n",
       "      <td>NaT</td>\n",
       "      <td>Acquired</td>\n",
       "      <td>63</td>\n",
       "      <td>Aceiro Energy B.V.</td>\n",
       "      <td>Aceiro Energy B.V.</td>\n",
       "      <td>P08a</td>\n",
       "      <td>P08a</td>\n",
       "      <td>2019-12-20</td>\n",
       "      <td>2022-01-01</td>\n",
       "    </tr>\n",
       "    <tr>\n",
       "      <th>1</th>\n",
       "      <td>1</td>\n",
       "      <td>2022-01-01</td>\n",
       "      <td>NaT</td>\n",
       "      <td>NaT</td>\n",
       "      <td>NaN</td>\n",
       "      <td>64</td>\n",
       "      <td>Aceiro Energy B.V.</td>\n",
       "      <td>Aceiro Energy B.V.</td>\n",
       "      <td>P09a</td>\n",
       "      <td>P09a</td>\n",
       "      <td>2022-01-01</td>\n",
       "      <td>2023-01-01</td>\n",
       "    </tr>\n",
       "    <tr>\n",
       "      <th>2</th>\n",
       "      <td>2</td>\n",
       "      <td>2017-01-01</td>\n",
       "      <td>NaT</td>\n",
       "      <td>NaT</td>\n",
       "      <td>NaN</td>\n",
       "      <td>65</td>\n",
       "      <td>Aceiro Energy B.V.</td>\n",
       "      <td>Aceiro Energy B.V.</td>\n",
       "      <td>P09a &amp; P09b</td>\n",
       "      <td>P09a</td>\n",
       "      <td>2017-01-01</td>\n",
       "      <td>2018-01-01</td>\n",
       "    </tr>\n",
       "    <tr>\n",
       "      <th>3</th>\n",
       "      <td>3</td>\n",
       "      <td>2016-01-01</td>\n",
       "      <td>NaT</td>\n",
       "      <td>NaT</td>\n",
       "      <td>NaN</td>\n",
       "      <td>65</td>\n",
       "      <td>Aceiro Energy B.V.</td>\n",
       "      <td>Aceiro Energy B.V.</td>\n",
       "      <td>P09a &amp; P09b</td>\n",
       "      <td>P09a</td>\n",
       "      <td>2016-01-01</td>\n",
       "      <td>2017-01-01</td>\n",
       "    </tr>\n",
       "    <tr>\n",
       "      <th>4</th>\n",
       "      <td>4</td>\n",
       "      <td>2015-01-01</td>\n",
       "      <td>NaT</td>\n",
       "      <td>NaT</td>\n",
       "      <td>NaN</td>\n",
       "      <td>59</td>\n",
       "      <td>Aceiro Energy B.V.</td>\n",
       "      <td>Aceiro Energy B.V.</td>\n",
       "      <td>P09a &amp; P09b</td>\n",
       "      <td>P09a</td>\n",
       "      <td>2015-01-01</td>\n",
       "      <td>2016-01-01</td>\n",
       "    </tr>\n",
       "  </tbody>\n",
       "</table>\n",
       "</div>"
      ],
      "text/plain": [
       "   index observation_date mutation_start mutation_end mutation_type  nr  \\\n",
       "0      0       2021-01-01     2019-12-20          NaT      Acquired  63   \n",
       "1      1       2022-01-01            NaT          NaT           NaN  64   \n",
       "2      2       2017-01-01            NaT          NaT           NaN  65   \n",
       "3      3       2016-01-01            NaT          NaT           NaN  65   \n",
       "4      4       2015-01-01            NaT          NaT           NaN  59   \n",
       "\n",
       "             licensee licensee_normalized      license license_normalized  \\\n",
       "0  Aceiro Energy B.V.  Aceiro Energy B.V.         P08a               P08a   \n",
       "1  Aceiro Energy B.V.  Aceiro Energy B.V.         P09a               P09a   \n",
       "2  Aceiro Energy B.V.  Aceiro Energy B.V.  P09a & P09b               P09a   \n",
       "3  Aceiro Energy B.V.  Aceiro Energy B.V.  P09a & P09b               P09a   \n",
       "4  Aceiro Energy B.V.  Aceiro Energy B.V.  P09a & P09b               P09a   \n",
       "\n",
       "  start_date   end_date  \n",
       "0 2019-12-20 2022-01-01  \n",
       "1 2022-01-01 2023-01-01  \n",
       "2 2017-01-01 2018-01-01  \n",
       "3 2016-01-01 2017-01-01  \n",
       "4 2015-01-01 2016-01-01  "
      ]
     },
     "execution_count": 5,
     "metadata": {},
     "output_type": "execute_result"
    }
   ],
   "source": [
    "# Get min and max observation dates\n",
    "\n",
    "dfg_license = df_license.groupby(['licensee_normalized', 'license_normalized'])\n",
    "dfg_license = df_license.agg(start_date=('start_date', np.min), end_date=('end_date', np.max))\n",
    "\n",
    "# Re-index the dataframe\n",
    "\n",
    "dfg_license = df_license.reset_index()\n",
    "\n",
    "# And see the result\n",
    "\n",
    "dfg_license.head()"
   ]
  },
  {
   "cell_type": "markdown",
   "metadata": {},
   "source": [
    "## Historical Production data"
   ]
  },
  {
   "cell_type": "code",
   "execution_count": 3,
   "metadata": {},
   "outputs": [
    {
     "data": {
      "text/plain": [
       "2497"
      ]
     },
     "execution_count": 3,
     "metadata": {},
     "output_type": "execute_result"
    }
   ],
   "source": [
    "# Import production license data\n",
    "\n",
    "dfs= []\n",
    "for file in glob.glob(PATH + 'production/nl_production/per_license/lice*.xlsx'):\n",
    "    commodity = os.path.basename(file)[7:-18]\n",
    "    df = pd.read_excel(file, skiprows=1, engine='openpyxl')\n",
    "    df['type'] = commodity\n",
    "    dfs.append(df)\n",
    "    \n",
    "df_production = pd.concat(dfs)\n",
    "len(df_production)"
   ]
  },
  {
   "cell_type": "code",
   "execution_count": 4,
   "metadata": {},
   "outputs": [],
   "source": [
    "df_production = df_production.drop(['LAND/SEA'], axis=1)"
   ]
  },
  {
   "cell_type": "code",
   "execution_count": 6,
   "metadata": {
    "scrolled": true
   },
   "outputs": [
    {
     "data": {
      "text/plain": [
       "29244"
      ]
     },
     "execution_count": 6,
     "metadata": {},
     "output_type": "execute_result"
    }
   ],
   "source": [
    "# Melt month columns into one colum\n",
    "\n",
    "df_production = df_production.melt(id_vars = ['LICENCE', 'OPERATOR', 'YEAR', 'type'], var_name='month', value_name='1000_sm3')\n",
    "\n",
    "# Clean NaNs\n",
    "df_production = df_production.dropna(subset=['YEAR'])\n",
    "\n",
    "# Convert month name and year to date column\n",
    "\n",
    "df_production['YEAR'] = df_production['YEAR'].astype('int')\n",
    "\n",
    "df_production['date'] = pd.to_datetime(df_production['YEAR'].astype(str) + '-' + df_production['month'], format='%Y-%b')\n",
    "\n",
    "# Drop columns and rename\n",
    "\n",
    "df_production = df_production.rename(columns={'LICENCE': 'license',\n",
    "                                              'OPERATOR': 'operator_name'})\n",
    "\n",
    "df_production = df_production.drop(['YEAR', 'month'], axis=1)\n",
    "\n",
    "df_production['country'] = 'Netherlands'\n",
    "\n",
    "df_production['year'] = pd.to_datetime(df_production['date']).dt.to_period('Y')\n",
    "\n",
    "# See the result\n",
    "\n",
    "len(df_production)"
   ]
  },
  {
   "cell_type": "code",
   "execution_count": 7,
   "metadata": {},
   "outputs": [],
   "source": [
    "df_production.to_csv(PATH + 'production/production_total.csv')"
   ]
  },
  {
   "cell_type": "code",
   "execution_count": 21,
   "metadata": {},
   "outputs": [
    {
     "data": {
      "text/plain": [
       "53"
      ]
     },
     "execution_count": 21,
     "metadata": {},
     "output_type": "execute_result"
    }
   ],
   "source": [
    "# Some licenses are missing from the production per license data set, but they are present in the production per field\n",
    "# data, so let's add those as well.\n",
    "# The fields are ['A15-A', 'A18-FA', 'B18-FA', 'J03-C', 'L08-A', 'N07-FA']\n",
    "\n",
    "fields = ['A15-A', 'A18-FA', 'B18-FA', 'J03-C', 'L08-A', 'N07-FA']\n",
    "\n",
    "dfs= []\n",
    "for file in glob.glob(PATH + 'production/nl_production/per_field/field*.xlsx'):\n",
    "    commodity = os.path.basename(file)[5:-18]\n",
    "    df = pd.read_excel(file, skiprows=1, engine='openpyxl')\n",
    "    df['type'] = commodity\n",
    "    df = df[df['FIELD'].isin(fields)]\n",
    "    dfs.append(df)\n",
    "    \n",
    "df_fields = pd.concat(dfs)\n",
    "\n",
    "len(df_fields)"
   ]
  },
  {
   "cell_type": "code",
   "execution_count": null,
   "metadata": {},
   "outputs": [],
   "source": [
    "# Melt month columns into one colum\n",
    "\n",
    "df_fields = df_fields.melt(id_vars = ['FIELD', 'OPERATOR', 'YEAR', 'type'], var_name='month', value_name='1000_sm3')\n",
    "\n",
    "# Clean NaNs\n",
    "df_fields = df_fields.dropna(subset=['YEAR'])\n",
    "\n",
    "# Convert month name and year to date column\n",
    "\n",
    "df_fields['YEAR'] = df_fields['YEAR'].astype('int')\n",
    "\n",
    "df_fields['date'] = pd.to_datetime(df_fields['YEAR'].astype(str) + '-' + df_fields['month'], format='%Y-%b')\n",
    "\n",
    "# Drop columns and rename\n",
    "\n",
    "df_fields = df_fields.rename(columns={'FIELD': 'license',\n",
    "                                      'OPERATOR': 'operator_name'})\n",
    "\n",
    "df_fields = df_fields.drop(['YEAR', 'month'], axis=1)\n",
    "\n",
    "df_fields['country'] = 'Netherlands'\n",
    "\n",
    "df_fields['year'] = pd.to_datetime(df_fields['date']).dt.to_period('Y')\n",
    "\n",
    "# See the result\n",
    "\n",
    "len(df_fields)"
   ]
  },
  {
   "cell_type": "code",
   "execution_count": null,
   "metadata": {},
   "outputs": [],
   "source": [
    "df_fields.head()"
   ]
  },
  {
   "cell_type": "code",
   "execution_count": null,
   "metadata": {},
   "outputs": [],
   "source": [
    "# Bring it all together\n",
    "\n",
    "df_production = pd.concat([df_production, df_fields])\n",
    "len(df_production)"
   ]
  },
  {
   "cell_type": "markdown",
   "metadata": {},
   "source": [
    "## Try filtering out Wintershall"
   ]
  },
  {
   "cell_type": "code",
   "execution_count": 22,
   "metadata": {},
   "outputs": [],
   "source": [
    "com = list(set(df_license[df_license['licensee_normalized'].str.contains('Gaz')]['license_normalized']))"
   ]
  },
  {
   "cell_type": "code",
   "execution_count": 23,
   "metadata": {},
   "outputs": [
    {
     "data": {
      "text/plain": [
       "['D12a',\n",
       " 'D12b',\n",
       " 'D15a',\n",
       " 'D18a',\n",
       " 'E15a',\n",
       " 'E15b',\n",
       " 'E18a',\n",
       " 'F13a',\n",
       " 'F16a & F16b',\n",
       " 'F17a-diep',\n",
       " 'G17c & G17d',\n",
       " 'K08 & K11a',\n",
       " 'K18b',\n",
       " 'L05b',\n",
       " 'L05c',\n",
       " 'L06a',\n",
       " 'L06b',\n",
       " 'L08-A',\n",
       " 'L08b, L08d & L08e',\n",
       " 'L12a',\n",
       " 'L12b & L15b',\n",
       " 'L12b & L15d',\n",
       " 'L12c',\n",
       " 'L12d',\n",
       " 'L13',\n",
       " 'L15d',\n",
       " 'L16a',\n",
       " 'P06a',\n",
       " 'P09a',\n",
       " 'P09a, P09b & P09d',\n",
       " 'P09c',\n",
       " 'P12a',\n",
       " 'P15a, P15b, P15d, P15e & P15f',\n",
       " 'P15c, P15g, P15h, P15i & P15j',\n",
       " 'Q01c-diep',\n",
       " 'Q04a',\n",
       " 'Q05d']"
      ]
     },
     "execution_count": 23,
     "metadata": {},
     "output_type": "execute_result"
    }
   ],
   "source": [
    "com.sort()\n",
    "com"
   ]
  },
  {
   "cell_type": "code",
   "execution_count": 24,
   "metadata": {},
   "outputs": [
    {
     "data": {
      "text/plain": [
       "3684"
      ]
     },
     "execution_count": 24,
     "metadata": {},
     "output_type": "execute_result"
    }
   ],
   "source": [
    "df_production = df_production[df_production['date'] >= '2015-01-01']\n",
    "com_prod = df_production[df_production['license'].isin(com)]\n",
    "len(com_prod)"
   ]
  },
  {
   "cell_type": "code",
   "execution_count": 27,
   "metadata": {},
   "outputs": [
    {
     "data": {
      "text/html": [
       "<div>\n",
       "<style scoped>\n",
       "    .dataframe tbody tr th:only-of-type {\n",
       "        vertical-align: middle;\n",
       "    }\n",
       "\n",
       "    .dataframe tbody tr th {\n",
       "        vertical-align: top;\n",
       "    }\n",
       "\n",
       "    .dataframe thead th {\n",
       "        text-align: right;\n",
       "    }\n",
       "</style>\n",
       "<table border=\"1\" class=\"dataframe\">\n",
       "  <thead>\n",
       "    <tr style=\"text-align: right;\">\n",
       "      <th></th>\n",
       "      <th>license</th>\n",
       "      <th>operator_name</th>\n",
       "      <th>type</th>\n",
       "      <th>1000_sm3</th>\n",
       "      <th>date</th>\n",
       "      <th>country</th>\n",
       "      <th>year</th>\n",
       "    </tr>\n",
       "  </thead>\n",
       "  <tbody>\n",
       "    <tr>\n",
       "      <th>3</th>\n",
       "      <td>D12a</td>\n",
       "      <td>Wintershall Noordzee B.V.</td>\n",
       "      <td>Gas</td>\n",
       "      <td>98753.074310</td>\n",
       "      <td>2021-01-01</td>\n",
       "      <td>Netherlands</td>\n",
       "      <td>2021</td>\n",
       "    </tr>\n",
       "    <tr>\n",
       "      <th>4</th>\n",
       "      <td>D15a</td>\n",
       "      <td>Neptune Energy Netherlands B.V.</td>\n",
       "      <td>Gas</td>\n",
       "      <td>0.000000</td>\n",
       "      <td>2021-01-01</td>\n",
       "      <td>Netherlands</td>\n",
       "      <td>2021</td>\n",
       "    </tr>\n",
       "    <tr>\n",
       "      <th>5</th>\n",
       "      <td>D18a</td>\n",
       "      <td>Neptune Energy Netherlands B.V.</td>\n",
       "      <td>Gas</td>\n",
       "      <td>0.000000</td>\n",
       "      <td>2021-01-01</td>\n",
       "      <td>Netherlands</td>\n",
       "      <td>2021</td>\n",
       "    </tr>\n",
       "    <tr>\n",
       "      <th>11</th>\n",
       "      <td>F16a &amp; F16b</td>\n",
       "      <td>Wintershall Noordzee B.V.</td>\n",
       "      <td>Gas</td>\n",
       "      <td>0.000000</td>\n",
       "      <td>2021-01-01</td>\n",
       "      <td>Netherlands</td>\n",
       "      <td>2021</td>\n",
       "    </tr>\n",
       "    <tr>\n",
       "      <th>14</th>\n",
       "      <td>G17c &amp; G17d</td>\n",
       "      <td>Neptune Energy Netherlands B.V.</td>\n",
       "      <td>Gas</td>\n",
       "      <td>7510.426201</td>\n",
       "      <td>2021-01-01</td>\n",
       "      <td>Netherlands</td>\n",
       "      <td>2021</td>\n",
       "    </tr>\n",
       "  </tbody>\n",
       "</table>\n",
       "</div>"
      ],
      "text/plain": [
       "        license                    operator_name type      1000_sm3  \\\n",
       "3          D12a        Wintershall Noordzee B.V.  Gas  98753.074310   \n",
       "4          D15a  Neptune Energy Netherlands B.V.  Gas      0.000000   \n",
       "5          D18a  Neptune Energy Netherlands B.V.  Gas      0.000000   \n",
       "11  F16a & F16b        Wintershall Noordzee B.V.  Gas      0.000000   \n",
       "14  G17c & G17d  Neptune Energy Netherlands B.V.  Gas   7510.426201   \n",
       "\n",
       "         date      country  year  \n",
       "3  2021-01-01  Netherlands  2021  \n",
       "4  2021-01-01  Netherlands  2021  \n",
       "5  2021-01-01  Netherlands  2021  \n",
       "11 2021-01-01  Netherlands  2021  \n",
       "14 2021-01-01  Netherlands  2021  "
      ]
     },
     "execution_count": 27,
     "metadata": {},
     "output_type": "execute_result"
    }
   ],
   "source": [
    "com_prod.head()"
   ]
  },
  {
   "cell_type": "code",
   "execution_count": 28,
   "metadata": {},
   "outputs": [],
   "source": [
    "com_prod = com_prod[com_prod['type'] == 'Gas']\n",
    "\n",
    "prod_win = pd.DataFrame(com_prod.groupby('license')['1000_sm3'].sum())"
   ]
  },
  {
   "cell_type": "code",
   "execution_count": 29,
   "metadata": {},
   "outputs": [],
   "source": [
    "prod_win['1000_sm3'] = prod_win['1000_sm3'] / 1000000"
   ]
  },
  {
   "cell_type": "code",
   "execution_count": 30,
   "metadata": {},
   "outputs": [
    {
     "data": {
      "text/html": [
       "<div>\n",
       "<style scoped>\n",
       "    .dataframe tbody tr th:only-of-type {\n",
       "        vertical-align: middle;\n",
       "    }\n",
       "\n",
       "    .dataframe tbody tr th {\n",
       "        vertical-align: top;\n",
       "    }\n",
       "\n",
       "    .dataframe thead th {\n",
       "        text-align: right;\n",
       "    }\n",
       "</style>\n",
       "<table border=\"1\" class=\"dataframe\">\n",
       "  <thead>\n",
       "    <tr style=\"text-align: right;\">\n",
       "      <th></th>\n",
       "      <th>1000_sm3</th>\n",
       "    </tr>\n",
       "    <tr>\n",
       "      <th>license</th>\n",
       "      <th></th>\n",
       "    </tr>\n",
       "  </thead>\n",
       "  <tbody>\n",
       "    <tr>\n",
       "      <th>D12a</th>\n",
       "      <td>1.879926</td>\n",
       "    </tr>\n",
       "    <tr>\n",
       "      <th>D15a</th>\n",
       "      <td>0.022851</td>\n",
       "    </tr>\n",
       "    <tr>\n",
       "      <th>D18a</th>\n",
       "      <td>0.158088</td>\n",
       "    </tr>\n",
       "    <tr>\n",
       "      <th>E18a</th>\n",
       "      <td>0.164300</td>\n",
       "    </tr>\n",
       "    <tr>\n",
       "      <th>F16a &amp; F16b</th>\n",
       "      <td>0.688225</td>\n",
       "    </tr>\n",
       "    <tr>\n",
       "      <th>G17c &amp; G17d</th>\n",
       "      <td>0.734572</td>\n",
       "    </tr>\n",
       "    <tr>\n",
       "      <th>K08 &amp; K11a</th>\n",
       "      <td>2.283953</td>\n",
       "    </tr>\n",
       "    <tr>\n",
       "      <th>K18b</th>\n",
       "      <td>2.449609</td>\n",
       "    </tr>\n",
       "    <tr>\n",
       "      <th>L05b</th>\n",
       "      <td>0.885985</td>\n",
       "    </tr>\n",
       "    <tr>\n",
       "      <th>L06a</th>\n",
       "      <td>0.878917</td>\n",
       "    </tr>\n",
       "    <tr>\n",
       "      <th>L08b, L08d &amp; L08e</th>\n",
       "      <td>0.631405</td>\n",
       "    </tr>\n",
       "    <tr>\n",
       "      <th>L12b &amp; L15b</th>\n",
       "      <td>2.258851</td>\n",
       "    </tr>\n",
       "    <tr>\n",
       "      <th>L13</th>\n",
       "      <td>1.832674</td>\n",
       "    </tr>\n",
       "    <tr>\n",
       "      <th>P06a</th>\n",
       "      <td>0.715018</td>\n",
       "    </tr>\n",
       "    <tr>\n",
       "      <th>P09a</th>\n",
       "      <td>0.036686</td>\n",
       "    </tr>\n",
       "    <tr>\n",
       "      <th>P09c</th>\n",
       "      <td>0.012980</td>\n",
       "    </tr>\n",
       "    <tr>\n",
       "      <th>P12a</th>\n",
       "      <td>0.000000</td>\n",
       "    </tr>\n",
       "    <tr>\n",
       "      <th>P15a, P15b, P15d, P15e &amp; P15f</th>\n",
       "      <td>0.248841</td>\n",
       "    </tr>\n",
       "    <tr>\n",
       "      <th>P15c, P15g, P15h, P15i &amp; P15j</th>\n",
       "      <td>0.000000</td>\n",
       "    </tr>\n",
       "    <tr>\n",
       "      <th>Q01c-diep</th>\n",
       "      <td>1.163905</td>\n",
       "    </tr>\n",
       "    <tr>\n",
       "      <th>Q04a</th>\n",
       "      <td>1.480631</td>\n",
       "    </tr>\n",
       "  </tbody>\n",
       "</table>\n",
       "</div>"
      ],
      "text/plain": [
       "                               1000_sm3\n",
       "license                                \n",
       "D12a                           1.879926\n",
       "D15a                           0.022851\n",
       "D18a                           0.158088\n",
       "E18a                           0.164300\n",
       "F16a & F16b                    0.688225\n",
       "G17c & G17d                    0.734572\n",
       "K08 & K11a                     2.283953\n",
       "K18b                           2.449609\n",
       "L05b                           0.885985\n",
       "L06a                           0.878917\n",
       "L08b, L08d & L08e              0.631405\n",
       "L12b & L15b                    2.258851\n",
       "L13                            1.832674\n",
       "P06a                           0.715018\n",
       "P09a                           0.036686\n",
       "P09c                           0.012980\n",
       "P12a                           0.000000\n",
       "P15a, P15b, P15d, P15e & P15f  0.248841\n",
       "P15c, P15g, P15h, P15i & P15j  0.000000\n",
       "Q01c-diep                      1.163905\n",
       "Q04a                           1.480631"
      ]
     },
     "execution_count": 30,
     "metadata": {},
     "output_type": "execute_result"
    }
   ],
   "source": [
    "prod_win"
   ]
  },
  {
   "cell_type": "code",
   "execution_count": null,
   "metadata": {},
   "outputs": [],
   "source": [
    "prod_win.to_csv(PATH + 'licenses/nl_licenses/production_wintershall.csv')"
   ]
  },
  {
   "cell_type": "code",
   "execution_count": 31,
   "metadata": {},
   "outputs": [
    {
     "data": {
      "text/html": [
       "<div>\n",
       "<style scoped>\n",
       "    .dataframe tbody tr th:only-of-type {\n",
       "        vertical-align: middle;\n",
       "    }\n",
       "\n",
       "    .dataframe tbody tr th {\n",
       "        vertical-align: top;\n",
       "    }\n",
       "\n",
       "    .dataframe thead th {\n",
       "        text-align: right;\n",
       "    }\n",
       "</style>\n",
       "<table border=\"1\" class=\"dataframe\">\n",
       "  <thead>\n",
       "    <tr style=\"text-align: right;\">\n",
       "      <th></th>\n",
       "      <th>prod_wintershall_1b_sm3</th>\n",
       "      <th>prod_total_1b_sm3</th>\n",
       "      <th>percentage_wintershall</th>\n",
       "    </tr>\n",
       "    <tr>\n",
       "      <th>year</th>\n",
       "      <th></th>\n",
       "      <th></th>\n",
       "      <th></th>\n",
       "    </tr>\n",
       "  </thead>\n",
       "  <tbody>\n",
       "    <tr>\n",
       "      <th>2015</th>\n",
       "      <td>3.04</td>\n",
       "      <td>16.33</td>\n",
       "      <td>18.63</td>\n",
       "    </tr>\n",
       "    <tr>\n",
       "      <th>2016</th>\n",
       "      <td>2.77</td>\n",
       "      <td>15.19</td>\n",
       "      <td>18.25</td>\n",
       "    </tr>\n",
       "    <tr>\n",
       "      <th>2017</th>\n",
       "      <td>2.53</td>\n",
       "      <td>13.72</td>\n",
       "      <td>18.48</td>\n",
       "    </tr>\n",
       "    <tr>\n",
       "      <th>2018</th>\n",
       "      <td>2.45</td>\n",
       "      <td>12.24</td>\n",
       "      <td>19.99</td>\n",
       "    </tr>\n",
       "    <tr>\n",
       "      <th>2019</th>\n",
       "      <td>2.18</td>\n",
       "      <td>10.89</td>\n",
       "      <td>19.99</td>\n",
       "    </tr>\n",
       "    <tr>\n",
       "      <th>2020</th>\n",
       "      <td>2.40</td>\n",
       "      <td>10.39</td>\n",
       "      <td>23.08</td>\n",
       "    </tr>\n",
       "    <tr>\n",
       "      <th>2021</th>\n",
       "      <td>2.29</td>\n",
       "      <td>9.83</td>\n",
       "      <td>23.32</td>\n",
       "    </tr>\n",
       "    <tr>\n",
       "      <th>2022</th>\n",
       "      <td>0.87</td>\n",
       "      <td>10.00</td>\n",
       "      <td>8.65</td>\n",
       "    </tr>\n",
       "  </tbody>\n",
       "</table>\n",
       "</div>"
      ],
      "text/plain": [
       "      prod_wintershall_1b_sm3  prod_total_1b_sm3  percentage_wintershall\n",
       "year                                                                    \n",
       "2015                     3.04              16.33                   18.63\n",
       "2016                     2.77              15.19                   18.25\n",
       "2017                     2.53              13.72                   18.48\n",
       "2018                     2.45              12.24                   19.99\n",
       "2019                     2.18              10.89                   19.99\n",
       "2020                     2.40              10.39                   23.08\n",
       "2021                     2.29               9.83                   23.32\n",
       "2022                     0.87              10.00                    8.65"
      ]
     },
     "execution_count": 31,
     "metadata": {},
     "output_type": "execute_result"
    }
   ],
   "source": [
    "df = pd.merge(pd.DataFrame(com_prod.groupby('year')['1000_sm3'].sum()), \n",
    "         pd.DataFrame(df_production.groupby('year')['1000_sm3'].sum()),\n",
    "         on='year',\n",
    "         how='left')\n",
    "\n",
    "\n",
    "\n",
    "df['perc'] = df['1000_sm3_x'] / df['1000_sm3_y'] * 100\n",
    "\n",
    "df['1000_sm3_x'] = df['1000_sm3_x'] / 1000000\n",
    "df['1000_sm3_y'] = df['1000_sm3_y'] / 1000000\n",
    "\n",
    "df = df.rename(columns={'1000_sm3_x': 'prod_wintershall_1b_sm3',\n",
    "                        '1000_sm3_y': 'prod_total_1b_sm3',\n",
    "                        'perc': 'percentage_wintershall'\n",
    "                       })\n",
    "\n",
    "df.round({'prod_wintershall_1b_sm3': 2,\n",
    "          'prod_total_1b_sm3': 2,\n",
    "          'percentage_wintershall':2})"
   ]
  },
  {
   "cell_type": "code",
   "execution_count": null,
   "metadata": {},
   "outputs": [],
   "source": [
    "df"
   ]
  },
  {
   "cell_type": "code",
   "execution_count": null,
   "metadata": {},
   "outputs": [],
   "source": [
    "# Add other companies\n",
    "\n",
    "df = pd.merge(pd.DataFrame(com_prod.groupby('year')['1000_sm3'].sum()),\n",
    "              df,\n",
    "              on='year',\n",
    "              how='left')\n",
    "df"
   ]
  },
  {
   "cell_type": "code",
   "execution_count": null,
   "metadata": {},
   "outputs": [],
   "source": [
    "df['1000_sm3'] = df['1000_sm3'] / 1000000\n",
    "\n",
    "df['perc'] = df['1000_sm3'] / df['prod_total_1b_sm3'] * 100\n",
    "\n",
    "\n",
    "df = df.rename(columns={'1000_sm3': 'prod_totalenergies_1b_sm3',\n",
    "                        '1000_sm3_y': 'prod_nam_sm3',\n",
    "                        'perc': 'percentage_totalenergies'\n",
    "                       })\n",
    "\n",
    "df.round({'prod_totalenergies_1b_sm3': 2,\n",
    "          'prod_total_1b_sm3': 2,\n",
    "          'percentage_totalenergies':2})"
   ]
  },
  {
   "cell_type": "markdown",
   "metadata": {},
   "source": [
    "## Infrastructure"
   ]
  },
  {
   "cell_type": "code",
   "execution_count": null,
   "metadata": {},
   "outputs": [],
   "source": [
    "# Import platforms\n",
    "\n",
    "df_infra = pd.read_excel(PATH + 'licenses/nl_licenses/nl_production_licenses.xlsx', \n",
    "                         sheet_name='platforms')\n",
    "\n",
    "df_infra.head()"
   ]
  },
  {
   "cell_type": "code",
   "execution_count": null,
   "metadata": {},
   "outputs": [],
   "source": [
    "df_infra = df_infra.dropna(subset=['operator'])"
   ]
  },
  {
   "cell_type": "code",
   "execution_count": null,
   "metadata": {},
   "outputs": [],
   "source": [
    "winfra = df_infra[df_infra['operator'].str.contains('Wintersh')]"
   ]
  },
  {
   "cell_type": "code",
   "execution_count": null,
   "metadata": {},
   "outputs": [],
   "source": [
    "winfra[winfra['year_end'].isna()]['platform'].nunique()"
   ]
  },
  {
   "cell_type": "code",
   "execution_count": null,
   "metadata": {},
   "outputs": [],
   "source": [
    "df_pijpleidingen = pd.read_excel(PATH + 'licenses/nl_licenses/nl_production_licenses.xlsx',\n",
    "                                sheet_name='pipelines')\n",
    "\n",
    "df_pijpleidingen.head()"
   ]
  },
  {
   "cell_type": "code",
   "execution_count": null,
   "metadata": {},
   "outputs": [],
   "source": [
    "df_pijpleidingen = df_pijpleidingen.dropna(subset=['operator'])\n",
    "wpijp = df_pijpleidingen[df_pijpleidingen['operator'].str.contains('Wint')]\n",
    "wpijp.head()"
   ]
  },
  {
   "cell_type": "code",
   "execution_count": null,
   "metadata": {},
   "outputs": [],
   "source": [
    "wpijp = wpijp.drop_duplicates(subset=['from'])\n",
    "wpijp['to'].unique()"
   ]
  },
  {
   "cell_type": "markdown",
   "metadata": {},
   "source": [
    "## All companies\n",
    "\n",
    "So now compare these dataframes:\n",
    "1. df_license (historical licenses)\n",
    "2. nl_production_licenses (license production)"
   ]
  },
  {
   "cell_type": "code",
   "execution_count": null,
   "metadata": {},
   "outputs": [],
   "source": [
    "merge = pd.merge(df_license, \n",
    "                 df_production, \n",
    "                 left_on='license_normalized', \n",
    "                 right_on='license',\n",
    "                 how='outer')\n",
    "\n",
    "merge.head()"
   ]
  },
  {
   "cell_type": "code",
   "execution_count": null,
   "metadata": {},
   "outputs": [],
   "source": [
    "merge = pd.merge(df_license,\n",
    "                df_production,\n",
    "                 how='outer',\n",
    "                 left_on='license_normalized',\n",
    "                 right_on='license'\n",
    "                )\n",
    "\n",
    "len(merge)"
   ]
  },
  {
   "cell_type": "code",
   "execution_count": null,
   "metadata": {},
   "outputs": [],
   "source": [
    "# Filter on start_date, end_date and license_name\n",
    "\n",
    "merge = merge.query('start_date <= date and end_date >= date and license_y == license_normalized' )\n",
    "len(merge)"
   ]
  },
  {
   "cell_type": "code",
   "execution_count": null,
   "metadata": {
    "scrolled": true
   },
   "outputs": [],
   "source": [
    "# first explore the differences between historical licenses and production licenses\n",
    "\n",
    "diff = list(set(dfg_license.license) - set(merge.license_normalized))\n",
    "diff.sort()\n",
    "diff"
   ]
  },
  {
   "cell_type": "code",
   "execution_count": null,
   "metadata": {},
   "outputs": [],
   "source": [
    "# Clean it up\n",
    "\n",
    "# Select relevant columns\n",
    "\n",
    "df_total = merge[['license_normalized', \n",
    "                  'operator_name', \n",
    "                  'type', '1000_sm3', \n",
    "                  'date', \n",
    "                  'country',\n",
    "                  'licensee',\n",
    "                  'licensee_normalized', \n",
    "                  'start_date', \n",
    "                  'end_date', \n",
    "                  'year']]\n",
    "\n",
    "# Rename columns\n",
    "\n",
    "df_total = df_total.rename(columns={'license_normalized': 'license', \n",
    "                                    'date': 'production_date', \n",
    "                                    'start_date': 'license_start_date', \n",
    "                                    'end_date': 'license_end_date'})\n",
    "\n",
    "# Filter date range\n",
    "\n",
    "df_total = df_total[df_total['production_date'] >= '2015-01-01']\n",
    "\n",
    "df_total.head()"
   ]
  },
  {
   "cell_type": "code",
   "execution_count": null,
   "metadata": {},
   "outputs": [],
   "source": [
    "# Write to file (be aware of date filter!)\n",
    "\n",
    "df_total.to_csv(PATH + 'licenses/nl_licenses/matched_production.csv', index=False)\n",
    "\n",
    "# Write total production df to file\n",
    "\n",
    "df_production.to_csv(PATH + 'licenses/nl_licenses/nl_production_licenses.csv', index=False)"
   ]
  },
  {
   "cell_type": "markdown",
   "metadata": {},
   "source": [
    "## Analysis"
   ]
  },
  {
   "cell_type": "markdown",
   "metadata": {},
   "source": [
    "### Datasets\n",
    "\n",
    "1. df_license: historical licenses EEZ NL from 2015-01-01 onwards\n",
    "2. dfg_license: grouped by license and licensee (normalized)\n",
    "3. df_total: production grouped by company\n",
    "3. df_production: historical production EEZ NL from 2003-01-01 onwards\n",
    "\n",
    "### Questions\n",
    "\n",
    "- How much gas is yearly produced since 2015?\n",
    "- How much gas is yearly produced by each company?\n",
    "- What are the main trends? \n",
    "- How does the gas production of 2022 compare to previous years?\n",
    "- What is the relative market share of each company (ignoring license shares)?\n",
    "- What infrastructure do these companies have? \n",
    "- Where is this infrastructure located? \n",
    "- Which infrastructure can we assume to be decommissioned in the near future (yes, it's fuzzy)?"
   ]
  },
  {
   "cell_type": "code",
   "execution_count": null,
   "metadata": {},
   "outputs": [],
   "source": [
    "# Production per year - table\n",
    "\n",
    "yearly_production = df_production.groupby('year', as_index=False)['1000_sm3'].sum()\n",
    "yearly_production['1b_sm3'] = yearly_production['1000_sm3'] / 1000000\n",
    "yearly_production"
   ]
  },
  {
   "cell_type": "code",
   "execution_count": null,
   "metadata": {},
   "outputs": [],
   "source": [
    "# Production per year - graph\n",
    "yearly_production = df_production.groupby('date', as_index=False)['1000_sm3'].sum()\n",
    "yearly_production['1b_sm3'] = yearly_production['1000_sm3'] / 1000000\n",
    "fig = px.line(yearly_production, x='date', y='1b_sm3')\n",
    "fig.show()"
   ]
  },
  {
   "cell_type": "code",
   "execution_count": null,
   "metadata": {},
   "outputs": [],
   "source": [
    "# Production per company (not normalized)\n",
    "\n",
    "production_company = pd.pivot_table(df_total, index=['license', 'year', 'licensee'], values='1000_sm3', aggfunc='sum')\n",
    "production_company = production_company.reset_index()\n",
    "production_company.head()"
   ]
  },
  {
   "cell_type": "code",
   "execution_count": null,
   "metadata": {},
   "outputs": [],
   "source": [
    "production_company.columns"
   ]
  },
  {
   "cell_type": "code",
   "execution_count": null,
   "metadata": {},
   "outputs": [],
   "source": [
    "test = production_company.groupby(['license','year', '1000_sm3'])['licensee'].count()\n",
    "test = pd.DataFrame(test).reset_index()\n",
    "test.head()"
   ]
  },
  {
   "cell_type": "code",
   "execution_count": null,
   "metadata": {},
   "outputs": [],
   "source": [
    "test['prod_1000_sm3'] = test['1000_sm3'] / test['licensee']\n",
    "len(test)"
   ]
  },
  {
   "cell_type": "code",
   "execution_count": null,
   "metadata": {},
   "outputs": [],
   "source": [
    "test.head()"
   ]
  },
  {
   "cell_type": "code",
   "execution_count": null,
   "metadata": {},
   "outputs": [],
   "source": [
    "#df_total['year'] = df_total['year'].astype('int64')\n",
    "#test['year'] = test['year'].astype('int64')\n",
    "\n",
    "production_company = pd.merge(df_total[['license', 'year', 'licensee']],\n",
    "                             test[['license', 'year', 'prod_1000_sm3']],\n",
    "                              on=['license', 'year'],\n",
    "                              how='left')\n",
    "len(production_company)"
   ]
  },
  {
   "cell_type": "code",
   "execution_count": null,
   "metadata": {},
   "outputs": [],
   "source": [
    "production_company.head()"
   ]
  },
  {
   "cell_type": "code",
   "execution_count": null,
   "metadata": {},
   "outputs": [],
   "source": [
    "production_company = production_company.drop_duplicates(subset=['license', 'year', 'licensee'])"
   ]
  },
  {
   "cell_type": "code",
   "execution_count": null,
   "metadata": {},
   "outputs": [],
   "source": [
    "production_company.head(20)"
   ]
  },
  {
   "cell_type": "code",
   "execution_count": null,
   "metadata": {},
   "outputs": [],
   "source": [
    "p = production_company.groupby(['licensee', 'year'])['prod_1000_sm3'].sum()\n",
    "p = p.reset_index()\n",
    "fig = px.bar(p,\n",
    "              x=p['year'].dt.strftime('%Y'),\n",
    "              y='prod_1000_sm3',\n",
    "              color='licensee')\n",
    "fig.show()"
   ]
  },
  {
   "cell_type": "code",
   "execution_count": null,
   "metadata": {},
   "outputs": [],
   "source": [
    "p.head(20)"
   ]
  },
  {
   "cell_type": "code",
   "execution_count": null,
   "metadata": {},
   "outputs": [],
   "source": []
  },
  {
   "cell_type": "code",
   "execution_count": null,
   "metadata": {},
   "outputs": [],
   "source": []
  },
  {
   "cell_type": "code",
   "execution_count": null,
   "metadata": {},
   "outputs": [],
   "source": []
  },
  {
   "cell_type": "code",
   "execution_count": null,
   "metadata": {},
   "outputs": [],
   "source": []
  },
  {
   "cell_type": "code",
   "execution_count": null,
   "metadata": {},
   "outputs": [],
   "source": []
  },
  {
   "cell_type": "code",
   "execution_count": null,
   "metadata": {
    "scrolled": true
   },
   "outputs": [],
   "source": [
    "## Flotsam and jetsam\n",
    "\n",
    "# License names are different when there is only one digit, e.g. P9 in historical license set is P09 in production license set. Modify by regex in historical license\n",
    "\n",
    "def pad_license(d):\n",
    "    digit = re.match('[A-Z](\\d{1,2})*', d).group(1)\n",
    "    result = d.replace(digit, digit.zfill(2))\n",
    "    return result \n",
    "\n",
    "df_license['license'] = df_license['license'].apply(lambda x: pad_license(x))"
   ]
  }
 ],
 "metadata": {
  "kernelspec": {
   "display_name": "geo",
   "language": "python",
   "name": "geo"
  },
  "language_info": {
   "codemirror_mode": {
    "name": "ipython",
    "version": 3
   },
   "file_extension": ".py",
   "mimetype": "text/x-python",
   "name": "python",
   "nbconvert_exporter": "python",
   "pygments_lexer": "ipython3",
   "version": "3.9.4"
  }
 },
 "nbformat": 4,
 "nbformat_minor": 2
}
