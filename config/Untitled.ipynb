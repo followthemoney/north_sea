{
 "cells": [
  {
   "cell_type": "code",
   "execution_count": 26,
   "id": "01989897-1f84-49ea-8b0d-03c82b550fbd",
   "metadata": {
    "tags": []
   },
   "outputs": [],
   "source": [
    "import json\n",
    "import requests\n",
    "import datetime\n",
    "import pandas as pd\n",
    "import geo_utils as gu\n",
    "from north_sea.src.utils import check_countries"
   ]
  },
  {
   "cell_type": "code",
   "execution_count": 27,
   "id": "d233ad0f-66c0-4f36-9f08-451de22393a4",
   "metadata": {
    "tags": []
   },
   "outputs": [],
   "source": [
    "def get_nl_production(url, start_year):\n",
    "\n",
    "    headers = {'Accept': 'application/json', 'Content-Type': 'application/json'}\n",
    "    dfs = []\n",
    "    for year in range(start_year, (datetime.date.today().year + 1)):\n",
    "        params = {\"product\": \"Gas\", \"production\": \"Produced\",\"year\": f\"{year}\"}\n",
    "        r = requests.post(url, headers=headers, data = json.dumps(params))\n",
    "        df = pd.DataFrame.from_records(r.json())\n",
    "        dfs.append(df)\n",
    "    df = pd.concat(dfs)\n",
    "\n",
    "    return df\n",
    "\n",
    "def get_production(countries, year=2003):\n",
    "    \n",
    "    with open('sources.json') as f:\n",
    "        sources = json.load(f)\n",
    "    \n",
    "    nl_urls = []\n",
    "    names = []\n",
    "\n",
    "    for source in sources:\n",
    "        if 'production' in source.get('tags'):\n",
    "            if 'no' in source.get('countries'):\n",
    "                no_url = source.get('url')\n",
    "            elif 'nl' in source.get('countries'):\n",
    "                nl_urls.append(source.get('url'))\n",
    "                names.append(source.get('url')[52:])\n",
    "            elif 'uk' in source.get('countries'):\n",
    "                uk_url = source.get('url')\n",
    "\n",
    "    for country in check_countries(countries):\n",
    "        \n",
    "        name = 'production'\n",
    "        if country == 'no':\n",
    "            df = pd.read_csv(no_url) \n",
    "        elif country == 'uk':\n",
    "            pass # TODO: fix wfs import \n",
    "        gu.gdf_to_postgres(df, name , country, 'replace')\n",
    "        elif country == 'nl':\n",
    "            for name, url in zip(names, nl_urls):\n",
    "                df = get_production(url, 2003)\n",
    "                name = f'production_{name}'                \n",
    "                gu.gdf_to_postgres(df, name , country, 'replace')\n",
    "                  "
   ]
  },
  {
   "cell_type": "code",
   "execution_count": null,
   "id": "c5922686-5bec-4c91-a56f-a7220fdc9d24",
   "metadata": {},
   "outputs": [],
   "source": []
  }
 ],
 "metadata": {
  "kernelspec": {
   "display_name": "Python 3 (ipykernel)",
   "language": "python",
   "name": "python3"
  },
  "language_info": {
   "codemirror_mode": {
    "name": "ipython",
    "version": 3
   },
   "file_extension": ".py",
   "mimetype": "text/x-python",
   "name": "python",
   "nbconvert_exporter": "python",
   "pygments_lexer": "ipython3",
   "version": "3.10.10"
  }
 },
 "nbformat": 4,
 "nbformat_minor": 5
}
